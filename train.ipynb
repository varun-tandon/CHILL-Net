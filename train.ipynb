{
<<<<<<< HEAD
 "cells": [
  {
   "cell_type": "code",
   "execution_count": 2,
   "metadata": {},
   "outputs": [
    {
     "name": "stdout",
     "output_type": "stream",
     "text": [
      "Requirement already satisfied: torch_geometric in /usr/local/lib/python3.10/site-packages (2.2.0)\n",
      "Requirement already satisfied: requests in /usr/local/lib/python3.10/site-packages (from torch_geometric) (2.28.2)\n",
      "Requirement already satisfied: scipy in /usr/local/lib/python3.10/site-packages (from torch_geometric) (1.10.1)\n",
      "Requirement already satisfied: tqdm in /usr/local/lib/python3.10/site-packages (from torch_geometric) (4.64.1)\n",
      "Requirement already satisfied: jinja2 in /usr/local/lib/python3.10/site-packages (from torch_geometric) (3.1.2)\n",
      "Requirement already satisfied: scikit-learn in /usr/local/lib/python3.10/site-packages (from torch_geometric) (1.2.1)\n",
      "Requirement already satisfied: numpy in /usr/local/lib/python3.10/site-packages (from torch_geometric) (1.24.2)\n",
      "Requirement already satisfied: psutil>=5.8.0 in /usr/local/lib/python3.10/site-packages (from torch_geometric) (5.9.4)\n",
      "Requirement already satisfied: pyparsing in /usr/local/lib/python3.10/site-packages (from torch_geometric) (3.0.9)\n",
      "Requirement already satisfied: MarkupSafe>=2.0 in /usr/local/lib/python3.10/site-packages (from jinja2->torch_geometric) (2.1.2)\n",
      "Requirement already satisfied: certifi>=2017.4.17 in /usr/local/lib/python3.10/site-packages (from requests->torch_geometric) (2022.12.7)\n",
      "Requirement already satisfied: charset-normalizer<4,>=2 in /usr/local/lib/python3.10/site-packages (from requests->torch_geometric) (3.0.1)\n",
      "Requirement already satisfied: idna<4,>=2.5 in /usr/local/lib/python3.10/site-packages (from requests->torch_geometric) (3.4)\n",
      "Requirement already satisfied: urllib3<1.27,>=1.21.1 in /usr/local/lib/python3.10/site-packages (from requests->torch_geometric) (1.26.14)\n",
      "Requirement already satisfied: joblib>=1.1.1 in /usr/local/lib/python3.10/site-packages (from scikit-learn->torch_geometric) (1.2.0)\n",
      "Requirement already satisfied: threadpoolctl>=2.0.0 in /usr/local/lib/python3.10/site-packages (from scikit-learn->torch_geometric) (3.1.0)\n"
     ]
    }
   ],
   "source": [
    "!pip install torch_geometric"
   ]
  },
  {
   "cell_type": "code",
   "execution_count": 82,
   "metadata": {},
   "outputs": [],
   "source": [
    "from torch_geometric.nn.models.lightgcn import LightGCN\n",
    "import pandas as pd\n",
    "import os\n",
    "from tqdm import tqdm\n",
    "import torch\n",
    "import numpy as np"
   ]
  },
  {
   "cell_type": "markdown",
   "metadata": {},
   "source": [
    "## Load Data\n",
    "We can begin by loading in the user review data. For each user, we have a subset of the movies that they reviewed. We'll load each of the CSVs as dataframes, and store a dict of user IDs corresponding to their dataframes."
   ]
  },
  {
   "cell_type": "code",
   "execution_count": 83,
   "metadata": {},
   "outputs": [],
   "source": [
    "# for now we will use the first 10k rows of the data, set to None to use all data\n",
    "AMOUNT_TO_LOAD = 1000"
   ]
  },
  {
   "cell_type": "code",
   "execution_count": 84,
   "metadata": {},
   "outputs": [
    {
     "name": "stderr",
     "output_type": "stream",
     "text": [
      "  2%|▏         | 1000/63111 [00:02<02:59, 345.62it/s]\n"
     ]
    }
   ],
   "source": [
    "user_reviews_dir = 'user_reviews'\n",
    "user_review_data = dict()\n",
    "\n",
    "for filename in tqdm(os.listdir(user_reviews_dir)):\n",
    "    if AMOUNT_TO_LOAD is not None and len(user_review_data) >= AMOUNT_TO_LOAD:\n",
    "        break\n",
    "    try:\n",
    "        user_review_data[filename] = pd.read_csv(os.path.join(user_reviews_dir, filename), encoding='unicode_escape')\n",
    "    except pd.errors.EmptyDataError:\n",
    "        print(f'Empty file: {filename}')\n",
    "        pass"
   ]
  },
  {
   "cell_type": "markdown",
   "metadata": {},
   "source": [
    "Now let's split the data into training, validation, and test sets. Since this is a recommender, we're gonna split by removing some of the user's reviews.\n",
    "\n",
    "For every user, so long as the user has more than 5 reviews, remove one review for the validation set and one review for the test set."
   ]
  },
  {
   "cell_type": "code",
   "execution_count": 85,
   "metadata": {},
   "outputs": [
    {
     "name": "stdout",
     "output_type": "stream",
     "text": [
      "asel82_reviews.csv\n"
     ]
    }
   ],
   "source": [
    "print(list(user_review_data.keys())[0])"
   ]
  },
  {
   "cell_type": "code",
   "execution_count": 86,
   "metadata": {},
   "outputs": [
    {
     "name": "stderr",
     "output_type": "stream",
     "text": [
      "100%|██████████| 1000/1000 [00:01<00:00, 884.26it/s]\n"
     ]
    }
   ],
   "source": [
    "# remove all values with nan in the review column\n",
    "for key in tqdm(user_review_data.keys()):\n",
    "    user_review_data[key] = user_review_data[key].dropna(subset=['movie_rating'])"
   ]
  },
  {
   "cell_type": "code",
   "execution_count": 87,
   "metadata": {},
   "outputs": [
    {
     "name": "stderr",
     "output_type": "stream",
     "text": [
      "100%|██████████| 1000/1000 [00:02<00:00, 340.22it/s]"
     ]
    },
    {
     "name": "stdout",
     "output_type": "stream",
     "text": [
      "Train reviews: 396059\n",
      "Validation reviews: 12300\n",
      "Test reviews: 12300\n"
     ]
    },
    {
     "name": "stderr",
     "output_type": "stream",
     "text": [
      "\n"
     ]
    }
   ],
   "source": [
    "train_reviews = []\n",
    "validation_reviews = []\n",
    "test_reviews = []\n",
    "for user_id, reviews in tqdm(user_review_data.items()):\n",
    "    if len(reviews) > 50:\n",
    "        validation_review_data_df = reviews.sample(15, replace=False)\n",
    "        validation_review_data = validation_review_data_df.to_dict('records')\n",
    "        for review in validation_review_data:\n",
    "            review['user_id'] = user_id\n",
    "        validation_reviews.extend(validation_review_data)\n",
    "        # remove the validation reviews from the training data\n",
    "        reviews = reviews.drop(validation_review_data_df.index)\n",
    "        test_review_data_df = reviews.sample(15, replace=False)\n",
    "        test_review_data = test_review_data_df.to_dict('records')\n",
    "        for review in test_review_data:\n",
    "            review['user_id'] = user_id\n",
    "        test_reviews.extend(test_review_data)\n",
    "        # remove the test reviews from the training data\n",
    "        reviews = reviews.drop(test_review_data_df.index)\n",
    "        train_review_data = reviews.to_dict('records')\n",
    "        for review in train_review_data:\n",
    "            review['user_id'] = user_id\n",
    "        train_reviews.extend(train_review_data)\n",
    "    else:\n",
    "        # if the user has less than 5 reviews, we will use all of them for training\n",
    "        train_review_data = reviews.to_dict('records')\n",
    "        for review in train_review_data:\n",
    "            review['user_id'] = user_id\n",
    "        train_reviews.extend(train_review_data)\n",
    "\n",
    "print(f'Train reviews: {len(train_reviews)}')\n",
    "print(f'Validation reviews: {len(validation_reviews)}')\n",
    "print(f'Test reviews: {len(test_reviews)}')"
   ]
  },
  {
   "cell_type": "markdown",
   "metadata": {},
   "source": [
    "## Build the Model\n",
    "Now that we have the training data, let's construct the model to train."
   ]
  },
  {
   "cell_type": "code",
   "execution_count": 104,
   "metadata": {},
   "outputs": [
    {
     "name": "stdout",
     "output_type": "stream",
     "text": [
      "Number of train users: 1000\n",
      "Number of train items: 43225\n",
      "Number of nodes: 45001\n"
     ]
    }
   ],
   "source": [
    "num_train_users = len(set([review['user_id'] for review in train_reviews]))\n",
    "num_train_items = len(set([review['movie_id'] for review in train_reviews]))\n",
    "num_total_items = len(set([review['movie_id'] for review in train_reviews + validation_reviews + test_reviews]))\n",
    "num_nodes = num_train_users + num_total_items\n",
    "print(f'Number of train users: {num_train_users}')\n",
    "print(f'Number of train items: {num_train_items}')\n",
    "print(f'Number of nodes: {num_nodes}')"
   ]
  },
  {
   "cell_type": "code",
   "execution_count": 105,
   "metadata": {},
   "outputs": [],
   "source": [
    "num_val_users = len(set([review['user_id'] for review in validation_reviews]))\n",
    "num_val_items = len(set([review['movie_id'] for review in validation_reviews]))\n",
    "num_val_nodes = num_val_users + num_val_items"
   ]
  },
  {
   "cell_type": "code",
   "execution_count": 106,
   "metadata": {},
   "outputs": [],
   "source": [
    "# Let's map users to ids\n",
    "movie_id_to_movie_name = dict()\n",
    "for review in train_reviews + validation_reviews + test_reviews:\n",
    "    movie_id_to_movie_name[review['movie_id']] = review['movie_title']\n",
    "\n",
    "user_to_id = dict()\n",
    "for i, user_id in enumerate(set([review['user_id'] for review in train_reviews + validation_reviews + test_reviews])):\n",
    "    user_to_id[user_id] = i\n",
    "\n",
    "# Let's map movies to ids\n",
    "movie_to_id = dict()\n",
    "for i, movie_id in enumerate(set([review['movie_id'] for review in train_reviews + validation_reviews + test_reviews])):\n",
    "    movie_to_id[movie_id] = i + num_train_users\n",
    "\n",
    "# Let's map ids to users\n",
    "id_to_user = dict()\n",
    "for user_id, index in user_to_id.items():\n",
    "    id_to_user[index] = user_id\n",
    "\n",
    "# Let's map ids to movies\n",
    "id_to_movie = dict()\n",
    "for movie_id, index in movie_to_id.items():\n",
    "    id_to_movie[index] = movie_id\n",
    "\n",
    "# Let's map movie names to movie ids\n",
    "movie_name_to_movie_id = dict()\n",
    "for movie_id, movie_name in movie_id_to_movie_name.items():\n",
    "    movie_name_to_movie_id[movie_name] = movie_id"
   ]
  },
  {
   "cell_type": "code",
   "execution_count": 107,
   "metadata": {},
   "outputs": [],
   "source": [
    "import random\n",
    "\n",
    "def convert_review_to_edge(review):\n",
    "    user_id = user_to_id[review['user_id']]\n",
    "    movie_id = movie_to_id[review['movie_id']]\n",
    "    edge_weight = review['movie_rating']\n",
    "    if (edge_weight < 3.5 and edge_weight > 2.5):\n",
    "        return None, None\n",
    "    edge = (user_id, movie_id)\n",
    "    edge_weight = review['movie_rating']\n",
    "    return edge, edge_weight\n",
    "\n",
    "def shuffle_edges_and_edge_weights(edges, edge_weights):\n",
    "    c = list(zip(edges, edge_weights))\n",
    "    random.shuffle(c)\n",
    "    return zip(*c)\n",
    "\n",
    "def convert_reviews_to_edges(reviews):\n",
    "    edges = []\n",
    "    edge_weights = []\n",
    "    for review in tqdm(reviews):\n",
    "        edge, edge_weight = convert_review_to_edge(review)\n",
    "        if edge is not None:\n",
    "            edges.append(edge)\n",
    "            edge_weights.append(edge_weight)\n",
    "    \n",
    "    # Reformat the edges to be a tensor\n",
    "    edges = torch.tensor(edges, dtype=torch.long).t().contiguous()\n",
    "    return edges, edge_weights"
   ]
  },
  {
   "cell_type": "code",
   "execution_count": 108,
   "metadata": {},
   "outputs": [
    {
     "name": "stderr",
     "output_type": "stream",
     "text": [
      "100%|██████████| 396059/396059 [00:00<00:00, 704428.25it/s]\n",
      "100%|██████████| 12300/12300 [00:00<00:00, 605224.47it/s]"
     ]
    },
    {
     "name": "stdout",
     "output_type": "stream",
     "text": [
      "Train edges: 318166\n",
      "Validation edges: 10260\n"
     ]
    },
    {
     "name": "stderr",
     "output_type": "stream",
     "text": [
      "\n"
     ]
    }
   ],
   "source": [
    "# Now let's create the edges between users and movies.\n",
    "# The id of the user will be the index of the user in the user_to_id dict\n",
    "# The id of the movie will be the index of the movie in the movie_to_id dict + the number of users\n",
    "\n",
    "train_edges, train_edge_weights = convert_reviews_to_edges(train_reviews)\n",
    "validation_edges, validation_edge_weights = convert_reviews_to_edges(validation_reviews)\n",
    "\n",
    "print(f'Train edges: {train_edges.shape[1]}')\n",
    "print(f'Validation edges: {validation_edges.shape[1]}')"
   ]
  },
  {
   "cell_type": "code",
   "execution_count": 109,
   "metadata": {},
   "outputs": [],
   "source": [
    "import torch_geometric.data as data\n",
    "\n",
    "# create the graph\n",
    "train_graph = data.Data(\n",
    "    edge_index=train_edges,\n",
    "    edge_attr=torch.tensor(train_edge_weights),\n",
    "    num_nodes=num_nodes\n",
    ")\n",
    "\n",
    "validation_graph = data.Data(\n",
    "    edge_index=validation_edges,\n",
    "    edge_attr=torch.tensor(validation_edge_weights),\n",
    "    num_nodes=num_nodes\n",
    ")"
   ]
  },
  {
   "cell_type": "code",
   "execution_count": 110,
   "metadata": {},
   "outputs": [
    {
     "data": {
      "text/plain": [
       "True"
      ]
     },
     "execution_count": 110,
     "metadata": {},
     "output_type": "execute_result"
    }
   ],
   "source": [
    "train_graph.validate(raise_on_error=True)\n",
    "validation_graph.validate(raise_on_error=True)"
   ]
  },
  {
   "cell_type": "code",
   "execution_count": 81,
   "metadata": {},
   "outputs": [],
   "source": [
    "# Let's create some negative edges\n",
    "def resample_edges_for_user(user_positive_edges, user_negative_edges):\n",
    "    num_negative_edges_to_add = user_positive_edges.shape[1] * 3 - user_negative_edges.shape[1]\n",
    "    if (num_negative_edges_to_add <= 0):\n",
    "        num_negative_edges_to_remove = -num_negative_edges_to_add\n",
    "        # choose the negative edges to keep\n",
    "        negative_edges_to_keep = torch.randint(user_negative_edges.shape[1], (user_negative_edges.shape[1] - num_negative_edges_to_remove,))\n",
    "        # remove all the negative edges for this user\n",
    "        user_negative_edges = user_negative_edges[:, negative_edges_to_keep]\n",
    "    else:\n",
    "        # Create new negative edges\n",
    "        negative_edges_to_add = torch.tensor([[user_id] * num_negative_edges_to_add, torch.randint(num_train_users, num_train_items, (num_negative_edges_to_add,))], dtype=torch.long)\n",
    "        # Add the negative edges to the negative edges for this user\n",
    "        user_negative_edges = torch.cat([user_negative_edges, negative_edges_to_add], dim=1)\n",
    "    return user_positive_edges, user_negative_edges\n",
    "        "
   ]
  },
  {
   "cell_type": "code",
   "execution_count": 43,
   "metadata": {},
   "outputs": [],
   "source": [
    "# let's compute ndcg\n",
    "def compute_ndcg_at_k(relevances, k=5):\n",
    "    relevances = relevances[:k]\n",
    "    dcg = 0\n",
    "    for i, relevance in enumerate(relevances):\n",
    "        dcg += (2 ** relevance - 1) / np.log2(i + 2)\n",
    "    idcg = 0\n",
    "    for i, relevance in enumerate(sorted(relevances, reverse=True)):\n",
    "        idcg += (2 ** relevance - 1) / np.log2(i + 2)\n",
    "    return dcg / idcg"
   ]
  },
  {
   "cell_type": "code",
   "execution_count": 44,
   "metadata": {},
   "outputs": [],
   "source": [
    "def get_user_positive_items(edge_index):\n",
    "    \"\"\"Generates dictionary of positive items for each user\n",
    "\n",
    "    Args:\n",
    "        edge_index (torch.Tensor): 2 by N list of edges\n",
    "\n",
    "    Returns:\n",
    "        dict: dictionary of positive items for each user\n",
    "    \"\"\"\n",
    "    user_pos_items = {}\n",
    "    for i in range(edge_index.shape[1]):\n",
    "        user = edge_index[0][i].item()\n",
    "        item = edge_index[1][i].item()\n",
    "        if user not in user_pos_items:\n",
    "            user_pos_items[user] = []\n",
    "        user_pos_items[user].append(item)\n",
    "    return user_pos_items"
   ]
  },
  {
   "cell_type": "code",
   "execution_count": 45,
   "metadata": {
    "tags": []
   },
   "outputs": [],
   "source": [
    "import time\n",
    "def compute_recall_at_k(validation_graph, model, K):\n",
    "    # get positive edges in validation set\n",
    "    positive_edges = validation_graph.edge_index[:, validation_graph.edge_attr > 3.5]\n",
    "\n",
    "    # map users to positive edges\n",
    "    user_pos_items = get_user_positive_items(positive_edges)\n",
    "\n",
    "    # get users\n",
    "    users = positive_edges[0].unique()\n",
    "\n",
    "    users = users[torch.randint(users.shape[0], (min(200, len(users)),))]\n",
    "    # filter the validation edges to only the users we want to evaluate\n",
    "    user_validation_edges = []\n",
    "    for user in users:\n",
    "        user_validation_edges.append(validation_graph.edge_index[:, validation_graph.edge_index[0] == user])\n",
    "    user_validation_edges = torch.cat(user_validation_edges, dim=1)\n",
    "    print(user_validation_edges.shape)\n",
    "\n",
    "    first_user_id = users[0].item()\n",
    "    user_name = id_to_user[first_user_id]\n",
    "    print(f'User: {user_name}')\n",
    "\n",
    "    # get movies\n",
    "    movie_indices = torch.LongTensor([_ for _ in range(len(users) + 1, validation_graph.num_nodes)]).to(device)\n",
    "\n",
    "    # Get positive items for each user in validation set\n",
    "    truth_items = [set(user_pos_items[user.item()]) for user in users]\n",
    "\n",
    "    first_user_truth_items = truth_items[0]\n",
    "    first_user_truth_items = [id_to_movie[item] for item in first_user_truth_items]\n",
    "    first_user_truth_items = [movie_id_to_movie_name[item] for item in first_user_truth_items]\n",
    "    print(first_user_truth_items)\n",
    "\n",
    "    training_edges = train_graph.edge_index\n",
    "\n",
    "    # Get top-K recommended items for each user in validation set\n",
    "    total_recall = 0\n",
    "    print(\"Computing recommendations for {} users\".format(len(users)))\n",
    "    for user_index, user_id in tqdm(enumerate(users), total=len(users)):\n",
    "        tick = time.time()\n",
    "        all_edges = torch.tensor([(user_id, item_id) for item_id in range(num_train_users, num_train_items)], dtype=torch.long).t().contiguous()\n",
    "        recommendations = model.recommend(all_edges.to(device), src_index=torch.tensor([user_id]), dst_index=torch.tensor([x for x in range(num_train_users + 1, num_train_items)]), k=3 * K)[0]\n",
    "        tock = time.time()\n",
    "        train_edges_for_user = training_edges[:, training_edges[0] == user_id]\n",
    "        # remove all the recommendations that are in the training set\n",
    "        recommendations = recommendations[~torch.isin(recommendations, train_edges_for_user[1])][:K]\n",
    "        if (len(recommendations) < K):\n",
    "            print(\"Not enough recommendations for user {}\".format(user_id))\n",
    "        if (user_id == first_user_id):\n",
    "            first_user_recommended_items = recommendations\n",
    "            first_user_recommended_items = [id_to_movie[item.item()] for item in first_user_recommended_items if item.item() > num_train_users]\n",
    "            first_user_recommended_items = [movie_id_to_movie_name[item] for item in first_user_recommended_items if item in movie_id_to_movie_name]\n",
    "            print(first_user_recommended_items)\n",
    "        # num_intersect = 0\n",
    "        truth_items_for_user = truth_items[user_index]\n",
    "        # for item in recommendations:\n",
    "        #     item = item.item()\n",
    "        #     if item in truth_items_for_user:\n",
    "        #         num_intersect += 1\n",
    "        # print(num_intersect)\n",
    "        num_intersect = len(set([item.item() for item in recommendations]).intersection(truth_items[user_index]))\n",
    "        recall = num_intersect / len(truth_items_for_user)\n",
    "        total_recall += recall\n",
    "    return total_recall / len(users)\n",
    "\n"
   ]
  },
  {
   "cell_type": "code",
   "execution_count": 46,
   "metadata": {},
   "outputs": [],
   "source": [
    "from typing import Optional, Union\n",
    "\n",
    "import torch\n",
    "import torch.nn.functional as F\n",
    "from torch import Tensor\n",
    "from torch.nn import Embedding, ModuleList\n",
    "from torch.nn.modules.loss import _Loss\n",
    "\n",
    "from torch_geometric.nn.conv import LGConv\n",
    "from torch_geometric.typing import Adj, OptTensor, SparseTensor"
   ]
  },
  {
   "cell_type": "code",
   "execution_count": 47,
   "metadata": {},
   "outputs": [],
   "source": [
    "\"\"\"Adapted from https://pytorch-geometric.readthedocs.io/en/latest/_modules/torch_geometric/nn/models/lightgcn.html\"\"\"\n",
    "class CustomLightGCN(torch.nn.Module):\n",
    "    \"\"\"From the <https://arxiv.org/abs/2002.02126>` paper.\n",
    "\n",
    "    Args:\n",
    "        num_nodes (int): The number of nodes in the graph.\n",
    "        embedding_dim (int): The dimensionality of node embeddings.\n",
    "        num_layers (int): The number of layers.\n",
    "    \"\"\"\n",
    "    def __init__(\n",
    "        self,\n",
    "        num_nodes: int,\n",
    "        embedding_dim: int,\n",
    "        num_layers: int\n",
    "    ):\n",
    "        super().__init__()\n",
    "\n",
    "        self.num_nodes = num_nodes\n",
    "        self.embedding_dim = embedding_dim\n",
    "        self.num_layers = num_layers\n",
    "        self.embedding = Embedding(num_nodes, embedding_dim)\n",
    "        self.alpha = torch.tensor([1. / (num_layers + 1)] * (num_layers + 1))\n",
    "        self.convs = ModuleList([GATConv(embedding_dim, embedding_dim, heads=8, dropout=0.6) for _ in range(num_layers)])\n",
    "        self.linears = ModuleList([Linear(embedding_dim * 8, embedding_dim) for _ in range(num_layers)])\n",
    "        torch.nn.init.xavier_uniform_(self.embedding.weight)\n",
    "\n",
    "    def get_embedding(self, edge_index):\n",
    "        x = self.embedding.weight\n",
    "        out = x * self.alpha[0]\n",
    "\n",
    "        for i in range(self.num_layers):\n",
    "            x = self.convs[i](x, edge_index)\n",
    "            x = self.linears[i](x.view(-1, self.embedding_dim * 8))\n",
    "            out = out + x * self.alpha[i + 1]\n",
    "\n",
    "        return out\n",
    "\n",
    "\n",
    "    def forward(self, edge_index):\n",
    "        edge_label_index = edge_index\n",
    "        out = self.get_embedding(edge_index)\n",
    "        user = out[edge_label_index[0]]\n",
    "        movie = out[edge_label_index[1]]\n",
    "        return (user * movie).sum(dim=-1)\n",
    "\n",
    "\n",
    "    def predict_link(self, edge_index, edge_label_index):\n",
    "        \"Predict links between nodes specified in edge_label_index.\"\"\"\n",
    "        pred = self(edge_index, edge_label_index).sigmoid()\n",
    "        return pred.round()\n",
    "\n",
    "\n",
    "    def recommend(self, edge_index, k):\n",
    "        \"\"\"Get top-k recommendations for nodes in src_index.\"\"\"\n",
    "        out_user = self.get_embedding(edge_index)\n",
    "        out_movie = self.get_embedding(edge_index)\n",
    "        pred = out_user @ out_movie.t()\n",
    "        top_index = pred.topk(k, dim=-1).indices\n",
    "        return top_index\n",
    "\n",
    "\n",
    "    def link_pred_loss(self, pred, edge_label):\n",
    "        \"\"\"Computes the model loss for a link prediction using torch.nn.BCEWithLogitsLoss.\n",
    "        \n",
    "        Args:\n",
    "            pred (torch.Tensor): The predictions.\n",
    "            edge_label (torch.Tensor): The ground-truth edge labels.\n",
    "        \"\"\"\n",
    "        loss_fn = torch.nn.BCEWithLogitsLoss()\n",
    "        return loss_fn(pred, edge_label.to(pred.dtype))\n",
    "\n",
    "\n",
    "    def recommendation_loss(self, pos_edge_rank, neg_edge_rank,\n",
    "                            lambda_reg: float = 1e-4):\n",
    "        \"\"\"Computes the model loss for a ranking objective via the Bayesian\n",
    "        Personalized Ranking (BPR) loss.\n",
    "\n",
    "        Args:\n",
    "            pos_edge_rank (torch.Tensor): Positive edge rankings.\n",
    "            neg_edge_rank (torch.Tensor): Negative edge rankings.\n",
    "            lambda_reg (int, optional): The L2 regularization strength\n",
    "                of the Bayesian Personalized Ranking (BPR) loss.\n",
    "        \"\"\"\n",
    "        loss_fn = BPRLoss(lambda_reg)\n",
    "        return loss_fn(pos_edge_rank, neg_edge_rank, self.embedding.weight)"
   ]
  },
  {
   "cell_type": "code",
   "execution_count": 48,
   "metadata": {},
   "outputs": [],
   "source": [
    "\"\"\" This is verbatim from https://pytorch-geometric.readthedocs.io/en/latest/_modules/torch_geometric/nn/models/lightgcn.html. \"\"\"\n",
    "class BPRLoss(_Loss):\n",
    "    \"\"\"The Bayesian Personalized Ranking (BPR) loss.\"\"\"\n",
    "    __constants__ = ['lambda_reg']\n",
    "    lambda_reg: float\n",
    "\n",
    "    def __init__(self, lambda_reg: float = 0, **kwargs):\n",
    "        super().__init__(None, None, \"sum\", **kwargs)\n",
    "        self.lambda_reg = 0\n",
    "\n",
    "    def forward(self, positives: Tensor, negatives: Tensor,\n",
    "                parameters: Tensor = None) -> Tensor:\n",
    "        \"\"\"Compute the mean Bayesian Personalized Ranking (BPR) loss.\n",
    "\n",
    "        Args:\n",
    "            positives (Tensor): The vector of positive-pair rankings.\n",
    "            negatives (Tensor): The vector of negative-pair rankings.\n",
    "            parameters (Tensor, optional): The tensor of parameters which\n",
    "                should be used for :math:`L_2` regularization\n",
    "                (default: :obj:`None`).\n",
    "        \"\"\"\n",
    "        n_pairs = positives.size(0)\n",
    "        log_prob = F.logsigmoid(positives - negatives).mean()\n",
    "        regularization = 0\n",
    "\n",
    "        if self.lambda_reg != 0:\n",
    "            regularization = self.lambda_reg * parameters.norm(p=2).pow(2)\n",
    "\n",
    "        return (-log_prob + regularization) / n_pairs"
   ]
  },
  {
   "cell_type": "code",
   "execution_count": 165,
   "metadata": {},
   "outputs": [],
   "source": [
    "def resample_hard_negative_edges_for_user(user_positive_edges, user_negative_edges, model, num_train_items, epoch):\n",
    "    # Select hard negative edges based on current model parameters\n",
    "    user_positive_items = user_positive_edges[1, :]\n",
    "    \n",
    "    # get the rankings for this user\n",
    "    all_edges = torch.tensor([(user_id, item_id) for item_id in range(num_train_users, num_train_items)], dtype=torch.long).t().contiguous()\n",
    "    with torch.no_grad():\n",
    "        user_rankings = model.forward(all_edges) # this is of shape (42263) -- each index is the prediction for that index's movie\n",
    "    mask = torch.ones(num_train_items - num_train_users, dtype=torch.bool) # gets indices of all the movies\n",
    "    pos_items_mask = user_positive_items < num_train_items - num_train_users\n",
    "    filtered_pos_items = user_positive_items[pos_items_mask]\n",
    "    mask[filtered_pos_items] = True\n",
    "\n",
    "    # get the rankings for negative items\n",
    "    negative_rankings = user_rankings[mask]\n",
    "    \n",
    "    # select the top k negative items for this user\n",
    "    if epoch != 0:\n",
    "        k = min(epoch - 1, negative_rankings.shape[0])\n",
    "    else:\n",
    "        k = 0\n",
    "\n",
    "    _, topk_items = torch.topk(negative_rankings, k)\n",
    "    negative_items = torch.nonzero(mask).flatten()[topk_items]\n",
    "\n",
    "    # create the new negative edges\n",
    "    negative_edges_to_add = torch.tensor([[user_id] * k, negative_items], dtype=torch.long)\n",
    "    new_negative_edges = torch.cat([user_negative_edges, negative_edges_to_add], dim=1)\n",
    "\n",
    "    return user_positive_edges, new_negative_edges"
   ]
  },
  {
   "cell_type": "code",
   "execution_count": 168,
   "metadata": {},
   "outputs": [
    {
     "name": "stdout",
     "output_type": "stream",
     "text": [
      "Running on device: cpu\n",
      "64\n"
     ]
    },
    {
     "name": "stderr",
     "output_type": "stream",
     "text": [
      "  0%|          | 0/8 [00:05<?, ?it/s]\n"
     ]
    },
    {
     "ename": "KeyboardInterrupt",
     "evalue": "",
     "output_type": "error",
     "traceback": [
      "\u001b[0;31m---------------------------------------------------------------------------\u001b[0m",
      "\u001b[0;31mKeyboardInterrupt\u001b[0m                         Traceback (most recent call last)",
      "Cell \u001b[0;32mIn[168], line 51\u001b[0m\n\u001b[1;32m     49\u001b[0m     user_negative_edges \u001b[39m=\u001b[39m user_negative_edges[:, :\u001b[39m15000\u001b[39m]\n\u001b[1;32m     50\u001b[0m \u001b[39m# sample hard negative edges\u001b[39;00m\n\u001b[0;32m---> 51\u001b[0m user_positive_edges, user_negative_edges \u001b[39m=\u001b[39m resample_hard_negative_edges_for_user(user_positive_edges, user_negative_edges, model, num_train_items, epoch)\n\u001b[1;32m     52\u001b[0m \u001b[39m# resample negative edges to make sure we have enough\u001b[39;00m\n\u001b[1;32m     53\u001b[0m user_positive_edges, user_negative_edges \u001b[39m=\u001b[39m resample_edges_for_user(user_positive_edges, user_negative_edges)\n",
      "Cell \u001b[0;32mIn[165], line 7\u001b[0m, in \u001b[0;36mresample_hard_negative_edges_for_user\u001b[0;34m(user_positive_edges, user_negative_edges, model, num_train_items, epoch)\u001b[0m\n\u001b[1;32m      4\u001b[0m user_positive_items \u001b[39m=\u001b[39m user_positive_edges[\u001b[39m1\u001b[39m, :]\n\u001b[1;32m      6\u001b[0m \u001b[39m# get the rankings for this user\u001b[39;00m\n\u001b[0;32m----> 7\u001b[0m all_edges \u001b[39m=\u001b[39m torch\u001b[39m.\u001b[39;49mtensor([(user_id, item_id) \u001b[39mfor\u001b[39;49;00m item_id \u001b[39min\u001b[39;49;00m \u001b[39mrange\u001b[39;49m(num_train_users, num_train_items)], dtype\u001b[39m=\u001b[39;49mtorch\u001b[39m.\u001b[39;49mlong)\u001b[39m.\u001b[39mt()\u001b[39m.\u001b[39mcontiguous()\n\u001b[1;32m      8\u001b[0m \u001b[39mwith\u001b[39;00m torch\u001b[39m.\u001b[39mno_grad():\n\u001b[1;32m      9\u001b[0m     user_rankings \u001b[39m=\u001b[39m model\u001b[39m.\u001b[39mforward(all_edges) \u001b[39m# this is of shape (42263) -- each index is the prediction for that index's movie\u001b[39;00m\n",
      "\u001b[0;31mKeyboardInterrupt\u001b[0m: "
     ]
    }
   ],
   "source": [
    "import numpy as np\n",
    "import math\n",
    "import matplotlib.pyplot as plt\n",
    "\n",
    "NUM_LAYERS = 1\n",
    "LR = 5e-5\n",
    "BATCH_SIZE = min(128, len(user_review_data))\n",
    "EMBEDDING_DIM = 64\n",
    "K = 10\n",
    "model = LightGCN(num_nodes=num_nodes, embedding_dim=EMBEDDING_DIM, num_layers=NUM_LAYERS)\n",
    "device = torch.device('cuda' if torch.cuda.is_available() else 'cpu')\n",
    "model = model.to(device)\n",
    "\n",
    "print(\"Running on device: {}\".format(device))\n",
    "print(EMBEDDING_DIM)\n",
    "\n",
    "optim = torch.optim.Adam(model.parameters(), lr=LR)\n",
    "scheduler = torch.optim.lr_scheduler.ExponentialLR(optim, gamma=0.95)\n",
    "# scheduler = torch.optim.lr_scheduler.MultiStepLR(optim, milestones=[100, 200, 300, 400], gamma=0.5)\n",
    "# scheduler = torch.optim.lr_scheduler.CosineAnnealingWarmRestarts(optim, T_0=100)\n",
    "\n",
    "train_positive_edges = train_graph.edge_index[:, train_graph.edge_attr >= 3.5]\n",
    "train_negative_edges = train_graph.edge_index[:, train_graph.edge_attr <= 2.5]\n",
    "\n",
    "validation_df = pd.DataFrame.from_dict(validation_reviews)\n",
    "from torch.utils.tensorboard import SummaryWriter\n",
    "writer = SummaryWriter(comment=f'LightGCN_{EMBEDDING_DIM}_layers_{NUM_LAYERS}_batch_size_{BATCH_SIZE}_lr_{LR}_num_train_users_{num_train_users}_num_train_items_{num_train_items}_recall_{K}')\n",
    "\n",
    "for epoch in range(10):\n",
    "    # we are using BPR so we go by user\n",
    "    average_loss = 0\n",
    "    # We'll proceed in batches of users\n",
    "    for start_idx in tqdm(range(0, num_train_users, BATCH_SIZE)):\n",
    "        model.train()\n",
    "        loss = torch.tensor(0.0, requires_grad=True)\n",
    "        # randomly select a batch of users\n",
    "        users_in_batch = torch.randperm(num_train_users)[start_idx:start_idx + BATCH_SIZE]\n",
    "        for user_id in users_in_batch:\n",
    "            # get all the edges specific to this user\n",
    "            user_positive_edges = train_positive_edges[:, train_positive_edges[0] == user_id]\n",
    "            user_negative_edges = train_negative_edges[:, train_negative_edges[0] == user_id]\n",
    "            if (user_positive_edges.shape[1] == 0 or user_negative_edges.shape[1] == 0):\n",
    "                continue\n",
    "            # limit the number of positive edges to 5000\n",
    "            if (user_positive_edges.shape[1] > 5000):\n",
    "                user_positive_edges = user_positive_edges[:, :5000]\n",
    "            # Get at most 15000 negative edges\n",
    "            if (user_negative_edges.shape[1] > 15000):\n",
    "                user_negative_edges = user_negative_edges[:, :15000]\n",
    "            # sample hard negative edges\n",
    "            user_positive_edges, user_negative_edges = resample_hard_negative_edges_for_user(user_positive_edges, user_negative_edges, model, num_train_items, epoch)\n",
    "            # resample negative edges to make sure we have enough\n",
    "            user_positive_edges, user_negative_edges = resample_edges_for_user(user_positive_edges, user_negative_edges)\n",
    "            # concatenate the positive and negative edges\n",
    "            user_edges = torch.cat([user_positive_edges, user_negative_edges], dim=1)\n",
    "            # get the rankings for this user\n",
    "            user_edges = user_edges.to(device)\n",
    "            user_rankings = model(user_edges)\n",
    "            # divide the rankings into positive and negative rankings\n",
    "            user_positive_rankings = user_rankings[:user_positive_edges.shape[1]]\n",
    "            user_negative_rankings = user_rankings[user_positive_edges.shape[1]:]\n",
    "            # create all pairs of positive and negative rankings\n",
    "            user_positive_rankings = user_positive_rankings.unsqueeze(1).repeat(1, user_negative_rankings.shape[0])\n",
    "            user_negative_rankings = user_negative_rankings.unsqueeze(0).repeat(user_positive_rankings.shape[0], 1)\n",
    "            # get the user loss\n",
    "            user_loss = model.recommendation_loss(user_positive_rankings, user_negative_rankings, 1e-4)\n",
    "            # add the user loss to the total loss\n",
    "            loss = loss + user_loss\n",
    "        # divide the loss by the number of users\n",
    "        loss = loss / BATCH_SIZE\n",
    "        # log the loss\n",
    "        # backprop\n",
    "        optim.zero_grad()\n",
    "        loss.backward()\n",
    "        optim.step()\n",
    "        writer.add_scalar(\"Loss/train\", loss, epoch * (num_train_users // BATCH_SIZE) + start_idx // BATCH_SIZE)\n",
    "        print(epoch * BATCH_SIZE + start_idx // BATCH_SIZE)\n",
    "        average_loss = 0\n",
    "        if (epoch * BATCH_SIZE + start_idx // BATCH_SIZE) % 100 == 0:\n",
    "            # evaluate the model\n",
    "            model.eval()\n",
    "            # iterate over all users in the validation set\n",
    "            validation_users = list(set([int(x) for x in validation_edges[0, :]]))\n",
    "            # randomly select 1000 of the users\n",
    "            validation_users = random.sample(validation_users, min(len(validation_users), 500))\n",
    "            mean_ndcg = 0\n",
    "            ndcg_scores = []\n",
    "            for user in tqdm(validation_users):\n",
    "                user_id = id_to_user[user]\n",
    "                relevant_reviews = validation_df[validation_df['user_id'] == user_id]\n",
    "                user_validation_edges = validation_edges[:, validation_edges[0] == user]\n",
    "                user_validation_edges = user_validation_edges.to(device)\n",
    "                user_rankings = model(user_validation_edges)\n",
    "                edges_sorted = list(user_validation_edges[1, user_rankings.argsort(descending=True)])\n",
    "                # use validation_df to get the relevances via the movie_id column and the movie_rating column\n",
    "                relevances = []\n",
    "                for edge in edges_sorted:\n",
    "                    movie_id = id_to_movie[int(edge)]\n",
    "                    if (movie_id in relevant_reviews['movie_id'].values):\n",
    "                        relevances.append(relevant_reviews[relevant_reviews['movie_id'] == movie_id]['movie_rating'].values[0])\n",
    "                    else:\n",
    "                        relevances.append(0)\n",
    "                # calculate the ndcg\n",
    "                ndcg = compute_ndcg_at_k(relevances)\n",
    "                if (math.isnan(ndcg)):\n",
    "                    print(relevant_reviews)\n",
    "                    input()\n",
    "                mean_ndcg += ndcg\n",
    "                ndcg_scores.append(ndcg)\n",
    "            mean_ndcg = mean_ndcg / len(validation_users)\n",
    "            print(\"Standard Deviation: {}\".format(np.std(ndcg_scores)))\n",
    "            # create a histogram of the ndcg scores, make bins for each 0.1\n",
    "            ndcg_scores = np.array(ndcg_scores).squeeze()\n",
    "            writer.add_histogram(\"hist_NDCG/val\", ndcg_scores, epoch)\n",
    "            # also make a histogram in matplotlib and save as png\n",
    "            plt.hist(ndcg_scores, bins=np.arange(0, 1.1, 0.1))\n",
    "            plt.suptitle(\"Validation NDCG Histogram\")\n",
    "            # write information about the model to the histogram\n",
    "            plt.title(f\"Model: LightGCN, Embedding Dim: {EMBEDDING_DIM}, Num Layers: {NUM_LAYERS}, Batch Size: {BATCH_SIZE}, LR: {LR}, Num Train Users: {num_train_users}, Num Train Items: {num_train_items}\", fontsize=8, wrap=True)\n",
    "            plt.xlabel(\"NDCG\")\n",
    "            plt.ylabel(\"Frequency\")\n",
    "            # save the figure in the hist_NDCG folder, with the title having the model information and the epoch number\n",
    "            plt.savefig(f\"hist_NDCG/val_{EMBEDDING_DIM}_{NUM_LAYERS}_{BATCH_SIZE}_{LR}_{num_train_users}_{num_train_items}_{epoch}.png\")\n",
    "            plt.close()\n",
    "            # Also save the raw NDCG scores to a csv file, with the model information in the title, and the epoch number\n",
    "            np.savetxt(f\"hist_NDCG/val_{EMBEDDING_DIM}_{NUM_LAYERS}_{BATCH_SIZE}_{LR}_{num_train_users}_{num_train_items}_{epoch}.csv\", ndcg_scores, delimiter=\",\")\n",
    "            print(mean_ndcg)\n",
    "            writer.add_scalar(\"NDCG/val\", mean_ndcg, epoch * (num_train_users // BATCH_SIZE) + start_idx // BATCH_SIZE)\n",
    "            recall_at_k = compute_recall_at_k(validation_graph, model, K)\n",
    "            writer.add_scalar(\"Recall@K/val\", recall_at_k, epoch * (num_train_users // BATCH_SIZE) + start_idx // BATCH_SIZE)\n",
    "            print(\"Epoch: {}, NDCG: {}, Recall@{}: {}\".format(epoch, mean_ndcg, K, recall_at_k))\n",
    "            average_number_of_matches = 0\n",
    "            for user_id in validation_users:\n",
    "                all_edges = torch.tensor([(user_id, item_id) for item_id in range(num_train_users, num_train_items)], dtype=torch.long).t().contiguous()\n",
    "                recommendations = model.recommend(all_edges.to(device), src_index=torch.tensor([user_id]), dst_index=torch.tensor([x for x in range(num_train_users + 1, num_train_items)]), k=10)[0]\n",
    "                movie_names = [movie_id_to_movie_name[id_to_movie[int(recommendation)]] for recommendation in recommendations]\n",
    "                true_user_reviews = user_review_data[id_to_user[user_id]]\n",
    "                matches = 0\n",
    "                for movie_name in movie_names:\n",
    "                    if movie_name in true_user_reviews['movie_title'].values:\n",
    "                        matches += 1\n",
    "                average_number_of_matches += matches\n",
    "            average_number_of_matches = average_number_of_matches / len(validation_users)\n",
    "            print(\"Average number of matches: {}\".format(average_number_of_matches))\n",
    "            writer.add_scalar(\"Average number of matches\", average_number_of_matches, epoch * (num_train_users // BATCH_SIZE) + start_idx // BATCH_SIZE)\n",
    "            print(\"=====================================\")"
   ]
  },
  {
   "cell_type": "code",
   "execution_count": null,
   "metadata": {},
   "outputs": [],
   "source": [
    "validation_users = list(set([int(x) for x in validation_edges[0, :]]))\n",
    "validation_df[validation_df.user_id == id_to_user[0]]"
   ]
  },
  {
   "cell_type": "code",
   "execution_count": null,
   "metadata": {},
   "outputs": [],
   "source": [
    "validation_edges[:, validation_edges[0] == 0]"
   ]
  },
  {
   "cell_type": "code",
   "execution_count": null,
   "metadata": {},
   "outputs": [],
   "source": [
    "def get_user_positive_items(edge_index):\n",
    "    \"\"\"Generates dictionary of positive items for each user\n",
    "\n",
    "    Args:\n",
    "        edge_index (torch.Tensor): 2 by N list of edges\n",
    "\n",
    "    Returns:\n",
    "        dict: dictionary of positive items for each user\n",
    "    \"\"\"\n",
    "    user_pos_items = {}\n",
    "    for i in range(edge_index.shape[1]):\n",
    "        user = edge_index[0][i].item()\n",
    "        item = edge_index[1][i].item()\n",
    "        if user not in user_pos_items:\n",
    "            user_pos_items[user] = []\n",
    "        user_pos_items[user].append(item)\n",
    "    return user_pos_items"
   ]
  },
  {
   "cell_type": "code",
   "execution_count": null,
   "metadata": {},
   "outputs": [],
   "source": [
    "print()"
   ]
  },
  {
   "cell_type": "code",
   "execution_count": null,
   "metadata": {},
   "outputs": [],
   "source": []
  }
 ],
 "metadata": {
  "kernelspec": {
   "display_name": "Python 3",
   "language": "python",
   "name": "python3"
  },
  "language_info": {
   "codemirror_mode": {
    "name": "ipython",
    "version": 3
   },
   "file_extension": ".py",
   "mimetype": "text/x-python",
   "name": "python",
   "nbconvert_exporter": "python",
   "pygments_lexer": "ipython3",
   "version": "3.10.10"
  }
 },
 "nbformat": 4,
 "nbformat_minor": 2
=======
  "cells": [
    {
      "cell_type": "code",
      "execution_count": 2,
      "metadata": {
        "colab": {
          "base_uri": "https://localhost:8080/",
          "height": 1000
        },
        "id": "UQK_3l0ugoHn",
        "outputId": "06185120-bd6e-4284-bf8b-81260d240b6b"
      },
      "outputs": [
        {
          "name": "stdout",
          "output_type": "stream",
          "text": [
            "Requirement already satisfied: torch_geometric in /Users/sumersao/miniconda3/envs/chill/lib/python3.10/site-packages (2.2.0)\n",
            "Requirement already satisfied: jinja2 in /Users/sumersao/miniconda3/envs/chill/lib/python3.10/site-packages (from torch_geometric) (3.1.2)\n",
            "Requirement already satisfied: pyparsing in /Users/sumersao/miniconda3/envs/chill/lib/python3.10/site-packages (from torch_geometric) (3.0.9)\n",
            "Requirement already satisfied: tqdm in /Users/sumersao/miniconda3/envs/chill/lib/python3.10/site-packages (from torch_geometric) (4.65.0)\n",
            "Requirement already satisfied: psutil>=5.8.0 in /Users/sumersao/miniconda3/envs/chill/lib/python3.10/site-packages (from torch_geometric) (5.9.4)\n",
            "Requirement already satisfied: numpy in /Users/sumersao/miniconda3/envs/chill/lib/python3.10/site-packages (from torch_geometric) (1.24.2)\n",
            "Requirement already satisfied: scipy in /Users/sumersao/miniconda3/envs/chill/lib/python3.10/site-packages (from torch_geometric) (1.10.1)\n",
            "Requirement already satisfied: requests in /Users/sumersao/miniconda3/envs/chill/lib/python3.10/site-packages (from torch_geometric) (2.28.2)\n",
            "Requirement already satisfied: scikit-learn in /Users/sumersao/miniconda3/envs/chill/lib/python3.10/site-packages (from torch_geometric) (1.2.2)\n",
            "Requirement already satisfied: MarkupSafe>=2.0 in /Users/sumersao/miniconda3/envs/chill/lib/python3.10/site-packages (from jinja2->torch_geometric) (2.1.2)\n",
            "Requirement already satisfied: urllib3<1.27,>=1.21.1 in /Users/sumersao/miniconda3/envs/chill/lib/python3.10/site-packages (from requests->torch_geometric) (1.26.15)\n",
            "Requirement already satisfied: charset-normalizer<4,>=2 in /Users/sumersao/miniconda3/envs/chill/lib/python3.10/site-packages (from requests->torch_geometric) (3.1.0)\n",
            "Requirement already satisfied: idna<4,>=2.5 in /Users/sumersao/miniconda3/envs/chill/lib/python3.10/site-packages (from requests->torch_geometric) (3.4)\n",
            "Requirement already satisfied: certifi>=2017.4.17 in /Users/sumersao/miniconda3/envs/chill/lib/python3.10/site-packages (from requests->torch_geometric) (2022.12.7)\n",
            "Requirement already satisfied: threadpoolctl>=2.0.0 in /Users/sumersao/miniconda3/envs/chill/lib/python3.10/site-packages (from scikit-learn->torch_geometric) (3.1.0)\n",
            "Requirement already satisfied: joblib>=1.1.1 in /Users/sumersao/miniconda3/envs/chill/lib/python3.10/site-packages (from scikit-learn->torch_geometric) (1.2.0)\n",
            "Note: you may need to restart the kernel to use updated packages.\n",
            "Looking in links: https://data.pyg.org/whl/torch-1.13.1+cu116.html\n",
            "Requirement already satisfied: torch-scatter in /Users/sumersao/miniconda3/envs/chill/lib/python3.10/site-packages (2.1.0)\n",
            "Note: you may need to restart the kernel to use updated packages.\n",
            "Looking in links: https://data.pyg.org/whl/torch-1.13.1+cu116.html\n",
            "Requirement already satisfied: torch-sparse in /Users/sumersao/miniconda3/envs/chill/lib/python3.10/site-packages (0.6.16)\n",
            "Requirement already satisfied: scipy in /Users/sumersao/miniconda3/envs/chill/lib/python3.10/site-packages (from torch-sparse) (1.10.1)\n",
            "Requirement already satisfied: numpy<1.27.0,>=1.19.5 in /Users/sumersao/miniconda3/envs/chill/lib/python3.10/site-packages (from scipy->torch-sparse) (1.24.2)\n",
            "Note: you may need to restart the kernel to use updated packages.\n",
            "Requirement already satisfied: torch in /Users/sumersao/miniconda3/envs/chill/lib/python3.10/site-packages (1.13.1)\n",
            "Requirement already satisfied: typing-extensions in /Users/sumersao/miniconda3/envs/chill/lib/python3.10/site-packages (from torch) (4.5.0)\n",
            "Note: you may need to restart the kernel to use updated packages.\n",
            "Requirement already satisfied: pandas in /Users/sumersao/miniconda3/envs/chill/lib/python3.10/site-packages (1.5.3)\n",
            "Requirement already satisfied: pytz>=2020.1 in /Users/sumersao/miniconda3/envs/chill/lib/python3.10/site-packages (from pandas) (2022.7.1)\n",
            "Requirement already satisfied: numpy>=1.21.0 in /Users/sumersao/miniconda3/envs/chill/lib/python3.10/site-packages (from pandas) (1.24.2)\n",
            "Requirement already satisfied: python-dateutil>=2.8.1 in /Users/sumersao/miniconda3/envs/chill/lib/python3.10/site-packages (from pandas) (2.8.2)\n",
            "Requirement already satisfied: six>=1.5 in /Users/sumersao/miniconda3/envs/chill/lib/python3.10/site-packages (from python-dateutil>=2.8.1->pandas) (1.16.0)\n",
            "Note: you may need to restart the kernel to use updated packages.\n"
          ]
        }
      ],
      "source": [
        "%pip install torch_geometric\n",
        "%pip install torch-scatter -f https://data.pyg.org/whl/torch-1.13.1+cu116.html\n",
        "%pip install torch-sparse -f https://data.pyg.org/whl/torch-1.13.1+cu116.html\n",
        "%pip install torch\n",
        "%pip install pandas"
      ]
    },
    {
      "cell_type": "code",
      "execution_count": 2,
      "metadata": {
        "id": "A5yY1RZQgoHn"
      },
      "outputs": [
        {
          "name": "stderr",
          "output_type": "stream",
          "text": [
            "/Users/sumersao/miniconda3/envs/chill/lib/python3.10/site-packages/tqdm/auto.py:21: TqdmWarning: IProgress not found. Please update jupyter and ipywidgets. See https://ipywidgets.readthedocs.io/en/stable/user_install.html\n",
            "  from .autonotebook import tqdm as notebook_tqdm\n"
          ]
        }
      ],
      "source": [
        "from torch_geometric.nn.models.lightgcn import LightGCN\n",
        "import pandas as pd\n",
        "import os\n",
        "from tqdm import tqdm\n",
        "import torch\n",
        "\n",
        "device = torch.device('cuda' if torch.cuda.is_available() else 'cpu')"
      ]
    },
    {
      "cell_type": "markdown",
      "metadata": {
        "id": "UJ3JhgijgoHo"
      },
      "source": [
        "## Load Data\n",
        "We can begin by loading in the user review data. For each user, we have a subset of the movies that they reviewed. We'll load each of the CSVs as dataframes, and store a dict of user IDs corresponding to their dataframes."
      ]
    },
    {
      "cell_type": "code",
      "execution_count": 3,
      "metadata": {
        "id": "CFhM-0EJgoHp"
      },
      "outputs": [],
      "source": [
        "# for now we will use the first 10k rows of the data, set to None to use all data\n",
        "AMOUNT_TO_LOAD = 40"
      ]
    },
    {
      "cell_type": "code",
      "execution_count": 3,
      "metadata": {
        "colab": {
          "base_uri": "https://localhost:8080/"
        },
        "id": "jy5HrpxfgoHp",
        "outputId": "c8810b49-1ccd-4cd5-f9dd-44bd867f97c0"
      },
      "outputs": [
        {
          "name": "stdout",
          "output_type": "stream",
          "text": [
            "Mounted at /content/gdrive\n"
          ]
        }
      ],
      "source": [
        "# We also need to mount in a google drive \n",
        "from google.colab import drive\n",
        "drive.mount(\"/content/gdrive\")"
      ]
    },
    {
      "cell_type": "code",
      "execution_count": 4,
      "metadata": {
        "colab": {
          "base_uri": "https://localhost:8080/"
        },
        "id": "hSZsmDIBgoHp",
        "outputId": "c182227e-9a73-4fe9-9c4a-71cf8dcac613"
      },
      "outputs": [
        {
          "name": "stderr",
          "output_type": "stream",
          "text": [
            "  0%|          | 40/63111 [00:00<01:42, 617.39it/s]\n"
          ]
        }
      ],
      "source": [
        "user_reviews_dir = 'user_reviews'\n",
        "\n",
        "# We are in the google drive setting then\n",
        "if not os.path.exists(user_reviews_dir):\n",
        "  user_reviews_dir = 'gdrive/MyDrive/user_reviews'\n",
        "\n",
        "user_review_data = dict()\n",
        "\n",
        "for filename in tqdm(os.listdir(user_reviews_dir)):\n",
        "    if AMOUNT_TO_LOAD is not None and len(user_review_data) >= AMOUNT_TO_LOAD:\n",
        "        break\n",
        "    try:\n",
        "        user_review_data[filename] = pd.read_csv(os.path.join(user_reviews_dir, filename), encoding='unicode_escape')\n",
        "    except pd.errors.EmptyDataError:\n",
        "        print(f'Empty file: {filename}')\n",
        "        pass"
      ]
    },
    {
      "cell_type": "markdown",
      "metadata": {
        "id": "4-4dNzbKgoHp"
      },
      "source": [
        "Now let's split the data into training, validation, and test sets. Since this is a recommender, we're gonna split by removing some of the user's reviews.\n",
        "\n",
        "For every user, so long as the user has more than 5 reviews, remove one review for the validation set and one review for the test set."
      ]
    },
    {
      "cell_type": "code",
      "execution_count": 5,
      "metadata": {
        "colab": {
          "base_uri": "https://localhost:8080/"
        },
        "id": "AXjbPr6rgoHp",
        "outputId": "769b1df5-edd2-4996-a708-e1753ba323ec"
      },
      "outputs": [
        {
          "name": "stdout",
          "output_type": "stream",
          "text": [
            "asel82_reviews.csv\n"
          ]
        }
      ],
      "source": [
        "print(list(user_review_data.keys())[0])"
      ]
    },
    {
      "cell_type": "code",
      "execution_count": 5,
      "metadata": {
        "colab": {
          "base_uri": "https://localhost:8080/"
        },
        "id": "QfsfB1AcgoHp",
        "outputId": "5e70fe39-0a8a-4bef-d5aa-a2a2191ea00c"
      },
      "outputs": [
        {
          "name": "stderr",
          "output_type": "stream",
          "text": [
            "100%|██████████| 40/40 [00:00<00:00, 1609.02it/s]\n"
          ]
        }
      ],
      "source": [
        "# remove all values with nan in the review column\n",
        "for key in tqdm(user_review_data.keys()):\n",
        "    user_review_data[key] = user_review_data[key].dropna(subset=['movie_rating'])"
      ]
    },
    {
      "cell_type": "code",
      "execution_count": 6,
      "metadata": {
        "colab": {
          "base_uri": "https://localhost:8080/"
        },
        "id": "IMoYYcHNgoHp",
        "outputId": "4386c5f6-8ca3-48b4-f1b6-b15c1b54910a"
      },
      "outputs": [
        {
          "name": "stderr",
          "output_type": "stream",
          "text": [
            "100%|██████████| 40/40 [00:00<00:00, 713.62it/s]"
          ]
        },
        {
          "name": "stdout",
          "output_type": "stream",
          "text": [
            "Train reviews: 12575\n",
            "Validation reviews: 465\n",
            "Test reviews: 465\n"
          ]
        },
        {
          "name": "stderr",
          "output_type": "stream",
          "text": [
            "\n"
          ]
        }
      ],
      "source": [
        "train_reviews = []\n",
        "validation_reviews = []\n",
        "test_reviews = []\n",
        "for user_id, reviews in tqdm(user_review_data.items()):\n",
        "    if len(reviews) > 50:\n",
        "        validation_review_data_df = reviews.sample(15, replace=False)\n",
        "        validation_review_data = validation_review_data_df.to_dict('records')\n",
        "        for review in validation_review_data:\n",
        "            review['user_id'] = user_id\n",
        "        validation_reviews.extend(validation_review_data)\n",
        "        # remove the validation reviews from the training data\n",
        "        reviews = reviews.drop(validation_review_data_df.index)\n",
        "        test_review_data_df = reviews.sample(15, replace=False)\n",
        "        test_review_data = test_review_data_df.to_dict('records')\n",
        "        for review in test_review_data:\n",
        "            review['user_id'] = user_id\n",
        "        test_reviews.extend(test_review_data)\n",
        "        # remove the test reviews from the training data\n",
        "        reviews = reviews.drop(test_review_data_df.index)\n",
        "        train_review_data = reviews.to_dict('records')\n",
        "        for review in train_review_data:\n",
        "            review['user_id'] = user_id\n",
        "        train_reviews.extend(train_review_data)\n",
        "    else:\n",
        "        # if the user has less than 5 reviews, we will use all of them for training\n",
        "        train_review_data = reviews.to_dict('records')\n",
        "        for review in train_review_data:\n",
        "            review['user_id'] = user_id\n",
        "        train_reviews.extend(train_review_data)\n",
        "\n",
        "print(f'Train reviews: {len(train_reviews)}')\n",
        "print(f'Validation reviews: {len(validation_reviews)}')\n",
        "print(f'Test reviews: {len(test_reviews)}')"
      ]
    },
    {
      "cell_type": "markdown",
      "metadata": {
        "id": "c9njzZIogoHq"
      },
      "source": [
        "## Build the Model\n",
        "Now that we have the training data, let's construct the model to train."
      ]
    },
    {
      "cell_type": "code",
      "execution_count": 7,
      "metadata": {
        "colab": {
          "base_uri": "https://localhost:8080/"
        },
        "id": "NvJEs2EigoHq",
        "outputId": "16471754-a6c5-44a7-dac7-7f1e546d5bc1"
      },
      "outputs": [
        {
          "name": "stdout",
          "output_type": "stream",
          "text": [
            "Number of train users: 40\n",
            "Number of train items: 5970\n",
            "Number of nodes: 6208\n"
          ]
        }
      ],
      "source": [
        "num_train_users = len(set([review['user_id'] for review in train_reviews]))\n",
        "num_train_items = len(set([review['movie_id'] for review in train_reviews]))\n",
        "num_total_items = len(set([review['movie_id'] for review in train_reviews + validation_reviews + test_reviews]))\n",
        "num_nodes = num_train_users + num_total_items\n",
        "print(f'Number of train users: {num_train_users}')\n",
        "print(f'Number of train items: {num_train_items}')\n",
        "print(f'Number of nodes: {num_nodes}')"
      ]
    },
    {
      "cell_type": "code",
      "execution_count": 8,
      "metadata": {
        "id": "VvhZUsTYgoHq"
      },
      "outputs": [],
      "source": [
        "num_val_users = len(set([review['user_id'] for review in validation_reviews]))\n",
        "num_val_items = len(set([review['movie_id'] for review in validation_reviews]))\n",
        "num_val_nodes = num_val_users + num_val_items"
      ]
    },
    {
      "cell_type": "code",
      "execution_count": 9,
      "metadata": {
        "id": "Om2OylcjgoHq"
      },
      "outputs": [],
      "source": [
        "# Let's map users to ids\n",
        "movie_id_to_movie_name = dict()\n",
        "for review in train_reviews + validation_reviews + test_reviews:\n",
        "    movie_id_to_movie_name[review['movie_id']] = review['movie_title']\n",
        "\n",
        "user_to_id = dict()\n",
        "for i, user_id in enumerate(set([review['user_id'] for review in train_reviews + validation_reviews + test_reviews])):\n",
        "    user_to_id[user_id] = i\n",
        "\n",
        "# Let's map movies to ids\n",
        "movie_to_id = dict()\n",
        "for i, movie_id in enumerate(set([review['movie_id'] for review in train_reviews + validation_reviews + test_reviews])):\n",
        "    movie_to_id[movie_id] = i + num_train_users\n",
        "\n",
        "# Let's map ids to users\n",
        "id_to_user = dict()\n",
        "for user_id, index in user_to_id.items():\n",
        "    id_to_user[index] = user_id\n",
        "\n",
        "# Let's map ids to movies\n",
        "id_to_movie = dict()\n",
        "for movie_id, index in movie_to_id.items():\n",
        "    id_to_movie[index] = movie_id\n",
        "\n",
        "# Let's map movie names to movie ids\n",
        "movie_name_to_movie_id = dict()\n",
        "for movie_id, movie_name in movie_id_to_movie_name.items():\n",
        "    movie_name_to_movie_id[movie_name] = movie_id"
      ]
    },
    {
      "cell_type": "code",
      "execution_count": 10,
      "metadata": {
        "id": "dlhAlhSGgoHq"
      },
      "outputs": [],
      "source": [
        "# Let's add nodes that are in our validation and test sets but not in our training set\n",
        "for review in validation_reviews:\n",
        "    if review['user_id'] not in user_to_id:\n",
        "        user_to_id[review['user_id']] = len(user_to_id)\n",
        "    if review['movie_id'] not in movie_to_id:\n",
        "        movie_to_id[review['movie_id']] = len(movie_to_id) + num_train_users\n"
      ]
    },
    {
      "cell_type": "code",
      "execution_count": 11,
      "metadata": {
        "id": "OOH3cvkqgoHq"
      },
      "outputs": [],
      "source": [
        "import random\n",
        "\n",
        "def convert_review_to_edge(review):\n",
        "    user_id = user_to_id[review['user_id']]\n",
        "    movie_id = movie_to_id[review['movie_id']]\n",
        "    edge_weight = review['movie_rating']\n",
        "    if (edge_weight < 3.5 and edge_weight > 2.5):\n",
        "        return None, None\n",
        "    edge = (user_id, movie_id)\n",
        "    edge_weight = review['movie_rating']\n",
        "    return edge, edge_weight\n",
        "\n",
        "def shuffle_edges_and_edge_weights(edges, edge_weights):\n",
        "    c = list(zip(edges, edge_weights))\n",
        "    random.shuffle(c)\n",
        "    return zip(*c)\n",
        "\n",
        "def convert_reviews_to_edges(reviews):\n",
        "    edges = []\n",
        "    edge_weights = []\n",
        "    for review in tqdm(reviews):\n",
        "        edge, edge_weight = convert_review_to_edge(review)\n",
        "        if edge is not None:\n",
        "            edges.append(edge)\n",
        "            edge_weights.append(edge_weight)\n",
        "    \n",
        "    # Reformat the edges to be a tensor\n",
        "    edges = torch.tensor(edges, dtype=torch.long).t().contiguous()\n",
        "    return edges, edge_weights"
      ]
    },
    {
      "cell_type": "code",
      "execution_count": 12,
      "metadata": {
        "colab": {
          "base_uri": "https://localhost:8080/"
        },
        "id": "vQvDO7zAgoHq",
        "outputId": "ad3410df-2200-4c3d-f70f-3ec8c616972b"
      },
      "outputs": [
        {
          "name": "stderr",
          "output_type": "stream",
          "text": [
            "100%|██████████| 12575/12575 [00:00<00:00, 1775871.14it/s]\n",
            "100%|██████████| 465/465 [00:00<00:00, 1078734.16it/s]"
          ]
        },
        {
          "name": "stdout",
          "output_type": "stream",
          "text": [
            "Train edges: 10488\n",
            "Validation edges: 402\n"
          ]
        },
        {
          "name": "stderr",
          "output_type": "stream",
          "text": [
            "\n"
          ]
        }
      ],
      "source": [
        "# Now let's create the edges between users and movies.\n",
        "# The id of the user will be the index of the user in the user_to_id dict\n",
        "# The id of the movie will be the index of the movie in the movie_to_id dict + the number of users\n",
        "\n",
        "train_edges, train_edge_weights = convert_reviews_to_edges(train_reviews)\n",
        "validation_edges, validation_edge_weights = convert_reviews_to_edges(validation_reviews)\n",
        "\n",
        "print(f'Train edges: {train_edges.shape[1]}')\n",
        "print(f'Validation edges: {validation_edges.shape[1]}')"
      ]
    },
    {
      "cell_type": "code",
      "execution_count": 13,
      "metadata": {
        "id": "4LZaF28AgoHq"
      },
      "outputs": [],
      "source": [
        "import torch_geometric.data as data\n",
        "\n",
        "# create the graph\n",
        "train_graph = data.Data(\n",
        "    edge_index=train_edges,\n",
        "    edge_attr=torch.tensor(train_edge_weights),\n",
        "    num_nodes=num_nodes\n",
        ").to(torch.device(device))\n",
        "\n",
        "validation_graph = data.Data(\n",
        "    edge_index=validation_edges,\n",
        "    edge_attr=torch.tensor(validation_edge_weights),\n",
        "    num_nodes=num_nodes\n",
        ").to(torch.device(device))"
      ]
    },
    {
      "cell_type": "code",
      "execution_count": 14,
      "metadata": {
        "colab": {
          "base_uri": "https://localhost:8080/"
        },
        "id": "MDaHcSLVgoHq",
        "outputId": "b00c9953-3f83-474a-afa9-70ccf740af18"
      },
      "outputs": [
        {
          "data": {
            "text/plain": [
              "True"
            ]
          },
          "execution_count": 14,
          "metadata": {},
          "output_type": "execute_result"
        }
      ],
      "source": [
        "train_graph.validate(raise_on_error=True)\n",
        "validation_graph.validate(raise_on_error=True)"
      ]
    },
    {
      "cell_type": "code",
      "execution_count": 15,
      "metadata": {
        "id": "IyZJ4UTKgoHr"
      },
      "outputs": [],
      "source": [
        "# Let's create some negative edges\n",
        "def resample_edges_for_user(user_positive_edges, user_negative_edges):\n",
        "    num_negative_edges_to_add = user_positive_edges.shape[1] * 3 - user_negative_edges.shape[1]\n",
        "    if (num_negative_edges_to_add <= 0):\n",
        "        num_negative_edges_to_remove = -num_negative_edges_to_add\n",
        "        # choose the negative edges to keep\n",
        "        negative_edges_to_keep = torch.randint(user_negative_edges.shape[1], (user_negative_edges.shape[1] - num_negative_edges_to_remove,))\n",
        "        # remove all the negative edges for this user\n",
        "        user_negative_edges = user_negative_edges[:, negative_edges_to_keep]\n",
        "    else:\n",
        "        # Create new negative edges\n",
        "        negative_edges_to_add = torch.tensor([[user_id] * num_negative_edges_to_add, torch.randint(num_train_users, num_train_items, (num_negative_edges_to_add,))], dtype=torch.long)\n",
        "        # Add the negative edges to the negative edges for this user\n",
        "        user_negative_edges = torch.cat([user_negative_edges, negative_edges_to_add], dim=1)\n",
        "    return user_positive_edges, user_negative_edges\n",
        "        "
      ]
    },
    {
      "cell_type": "code",
      "execution_count": 16,
      "metadata": {
        "id": "__Dp5M-TgoHr"
      },
      "outputs": [],
      "source": [
        "# let's compute ndcg\n",
        "def compute_ndcg_at_k(relevances, k=5):\n",
        "    relevances = relevances[:k]\n",
        "    dcg = 0\n",
        "    for i, relevance in enumerate(relevances):\n",
        "        dcg += (2 ** relevance - 1) / np.log2(i + 2)\n",
        "    idcg = 0\n",
        "    for i, relevance in enumerate(sorted(relevances, reverse=True)):\n",
        "        idcg += (2 ** relevance - 1) / np.log2(i + 2)\n",
        "    return dcg / idcg\n"
      ]
    },
    {
      "cell_type": "code",
      "execution_count": 17,
      "metadata": {
        "id": "YuG0pr4qgoHr"
      },
      "outputs": [],
      "source": [
        "from typing import Optional, Union\n",
        "\n",
        "import torch\n",
        "import torch.nn.functional as F\n",
        "from torch import Tensor\n",
        "from torch.nn import Embedding, ModuleList\n",
        "from torch.nn.modules.loss import _Loss\n",
        "\n",
        "from torch_geometric.nn.conv import LGConv\n",
        "from torch_geometric.typing import Adj, OptTensor, SparseTensor"
      ]
    },
    {
      "cell_type": "code",
      "execution_count": 18,
      "metadata": {
        "id": "p0YFj4l3goHr"
      },
      "outputs": [],
      "source": [
        "def generate_negative_edges(user_negative_edges, minibatch_size):\n",
        "    num_negative_edges_to_add = minibatch_size - user_negative_edges.shape[1]\n",
        "    # Create new negative edges\n",
        "    negative_edges_to_add = torch.tensor([[user_id] * num_negative_edges_to_add, torch.randint(num_train_users, num_train_items, (num_negative_edges_to_add,))], dtype=torch.long).to(torch.device(device))\n",
        "    # Add the negative edges to the negative edges for this user\n",
        "    user_negative_edges = torch.cat([user_negative_edges, negative_edges_to_add], dim=1)\n",
        "    return user_negative_edges"
      ]
    },
    {
      "cell_type": "code",
      "execution_count": 19,
      "metadata": {
        "id": "ZkrQRQuSgoHr"
      },
      "outputs": [],
      "source": [
        "import time\n",
        "\n",
        "def get_user_positive_items(edge_index):\n",
        "    \"\"\"Generates dictionary of positive items for each user\n",
        "\n",
        "    Args:\n",
        "        edge_index (torch.Tensor): 2 by N list of edges\n",
        "\n",
        "    Returns:\n",
        "        dict: dictionary of positive items for each user\n",
        "    \"\"\"\n",
        "    user_pos_items = {}\n",
        "    for i in range(edge_index.shape[1]):\n",
        "        user = edge_index[0][i].item()\n",
        "        item = edge_index[1][i].item()\n",
        "        if user not in user_pos_items:\n",
        "            user_pos_items[user] = []\n",
        "        user_pos_items[user].append(item)\n",
        "    return user_pos_items\n",
        "\n",
        "\n",
        "def compute_recall_at_k(validation_graph, model, K):\n",
        "    # get positive edges in validation set\n",
        "    positive_edges = validation_graph.edge_index[:, validation_graph.edge_attr > 3.5]\n",
        "\n",
        "    # map users to positive edges\n",
        "    user_pos_items = get_user_positive_items(positive_edges)\n",
        "\n",
        "    # get users\n",
        "    users = positive_edges[0].unique()\n",
        "\n",
        "    users = users[torch.randint(users.shape[0], (min(100, len(users)),))]\n",
        "    # filter the validation edges to only the users we want to evaluate\n",
        "    user_validation_edges = []\n",
        "    for user in users:\n",
        "        user_validation_edges.append(validation_graph.edge_index[:, validation_graph.edge_index[0] == user])\n",
        "    user_validation_edges = torch.cat(user_validation_edges, dim=1)\n",
        "    # print(user_validation_edges.shape)\n",
        "\n",
        "    first_user_id = users[0].item()\n",
        "    user_name = id_to_user[first_user_id]\n",
        "    # print(f'User: {user_name}')\n",
        "\n",
        "    # get movies\n",
        "    movie_indices = torch.LongTensor([_ for _ in range(len(users) + 1, validation_graph.num_nodes)]).to(device)\n",
        "\n",
        "    # Get positive items for each user in validation set\n",
        "    truth_items = [set(user_pos_items[user.item()]) for user in users]\n",
        "\n",
        "    first_user_truth_items = truth_items[0]\n",
        "    first_user_truth_items = [id_to_movie[item] for item in first_user_truth_items]\n",
        "    first_user_truth_items = [movie_id_to_movie_name[item] for item in first_user_truth_items]\n",
        "    # print(first_user_truth_items)\n",
        "\n",
        "    training_edges = train_graph.edge_index\n",
        "\n",
        "    # Get top-K recommended items for each user in validation set\n",
        "    total_recall = 0\n",
        "    # print(\"Computing recommendations for {} users\".format(len(users)))\n",
        "    for user_index, user_id in tqdm(enumerate(users), total=len(users)):\n",
        "        all_edges = torch.tensor([(user_id, item_id) for item_id in range(num_train_users, num_train_items)], dtype=torch.long).t().contiguous()\n",
        "        recommendations = model.recommend(all_edges.to(device), src_index=torch.tensor([user_id]), dst_index=torch.tensor([x for x in range(num_train_users + 1, num_train_items)]).to(device), k=3 * K)[0]\n",
        "\n",
        "        train_edges_for_user = training_edges[:, training_edges[0] == user_id]\n",
        "        # remove all the recommendations that are in the training set\n",
        "        recommendations = recommendations[~torch.isin(recommendations, train_edges_for_user[1])][:K]\n",
        "        if (len(recommendations) < K):\n",
        "            pass\n",
        "            # print(\"Not enough recommendations for user {}\".format(user_id))\n",
        "        if (user_id == first_user_id):\n",
        "            first_user_recommended_items = recommendations\n",
        "            first_user_recommended_items = [id_to_movie[item.item()] for item in first_user_recommended_items if item.item() > num_train_users]\n",
        "            first_user_recommended_items = [movie_id_to_movie_name[item] for item in first_user_recommended_items if item in movie_id_to_movie_name]\n",
        "            # print(first_user_recommended_items)\n",
        "        # num_intersect = 0\n",
        "        truth_items_for_user = truth_items[user_index]\n",
        "        # for item in recommendations:\n",
        "        #     item = item.item()\n",
        "        #     if item in truth_items_for_user:\n",
        "        #         num_intersect += 1\n",
        "        # print(num_intersect)\n",
        "        num_intersect = len(set([item.item() for item in recommendations]).intersection(truth_items[user_index]))\n",
        "        recall = num_intersect / len(truth_items_for_user)\n",
        "        total_recall += recall\n",
        "    return total_recall / len(users)"
      ]
    },
    {
      "cell_type": "code",
      "execution_count": 20,
      "metadata": {
        "id": "e1wf4zwJk5Dn"
      },
      "outputs": [],
      "source": [
        "# these functions taken from https://github.com/NegatioN/WARP-Pytorch\n",
        "def num_tries_gt_zero(scores, batch_size, max_trials, max_num, device):\n",
        "    '''\n",
        "    scores: [batch_size x N] float scores\n",
        "    returns: [batch_size x 1] the lowest indice per row where scores were first greater than 0. plus 1\n",
        "    '''\n",
        "    tmp = scores.gt(0).nonzero().t()\n",
        "    # We offset these values by 1 to look for unset values (zeros) later\n",
        "    values = tmp[1] + 1\n",
        "    # Sparse tensors can't be moved with .to() or .cuda() if you want to send in cuda variables first\n",
        "    if device.type == 'cuda':\n",
        "        t = torch.cuda.sparse.LongTensor(tmp, values, torch.Size((batch_size, max_trials+1))).to_dense()\n",
        "    else:\n",
        "        t = torch.sparse.LongTensor(tmp, values, torch.Size((batch_size, max_trials+1))).to_dense()\n",
        "    t[(t == 0)] += max_num # set all unused indices to be max possible number so its not picked by min() call\n",
        "\n",
        "    tries = torch.min(t, dim=1)[0]\n",
        "    return tries\n",
        "\n",
        "\n",
        "def warp_loss(positive_predictions, negative_predictions, num_labels, device):\n",
        "    '''\n",
        "    positive_predictions: [batch_size x 1] floats between -1 to 1\n",
        "    negative_predictions: [batch_size x N] floats between -1 to 1\n",
        "    num_labels: int total number of labels in dataset (not just the subset you're using for the batch)\n",
        "    device: pytorch.device\n",
        "    '''\n",
        "    batch_size, max_trials = negative_predictions.size(0), negative_predictions.size(1)\n",
        "\n",
        "    offsets, ones, max_num = (torch.arange(0, batch_size, 1).long().to(device) * (max_trials + 1),\n",
        "                              torch.ones(batch_size, 1).float().to(device),\n",
        "                              batch_size * (max_trials + 1) )\n",
        "\n",
        "    sample_scores = (1 + negative_predictions - positive_predictions)\n",
        "    # Add column of ones so we know when we used all our attempts, This is used for indexing and computing should_count_loss if no real value is above 0\n",
        "    sample_scores, negative_predictions = (torch.cat([sample_scores, ones], dim=1),\n",
        "                                           torch.cat([negative_predictions, ones], dim=1))\n",
        "\n",
        "    tries = num_tries_gt_zero(sample_scores, batch_size, max_trials, max_num, device)\n",
        "    attempts, trial_offset = tries.float(), (tries - 1) + offsets\n",
        "    loss_weights, should_count_loss = ( torch.log(torch.floor((num_labels - 1) / attempts)),\n",
        "                                        (attempts <= max_trials).float()) #Don't count loss if we used max number of attempts\n",
        "\n",
        "    losses = loss_weights * ((1 - positive_predictions.view(-1)) + negative_predictions.view(-1)[trial_offset]) * should_count_loss\n",
        "\n",
        "    return losses.sum()"
      ]
    },
    {
      "cell_type": "code",
      "execution_count": 23,
      "metadata": {
        "colab": {
          "base_uri": "https://localhost:8080/",
          "height": 1000
        },
        "id": "DxgB1IGVgoHr",
        "outputId": "58bd6e91-9fbf-4c99-f61a-1588135958a1"
      },
      "outputs": [
        {
          "name": "stdout",
          "output_type": "stream",
          "text": [
            "Running on device: cpu\n",
            "0.09022291604196653\n"
          ]
        },
        {
          "name": "stderr",
          "output_type": "stream",
          "text": [
            "100%|██████████| 31/31 [00:01<00:00, 22.08it/s]\n"
          ]
        },
        {
          "name": "stdout",
          "output_type": "stream",
          "text": [
            "get_train ndcg time 1.405813625024166\n"
          ]
        },
        {
          "name": "stderr",
          "output_type": "stream",
          "text": [
            "100%|██████████| 31/31 [00:00<00:00, 341.59it/s]\n"
          ]
        },
        {
          "name": "stdout",
          "output_type": "stream",
          "text": [
            "get_test ndcg time 0.09210633399197832\n"
          ]
        },
        {
          "name": "stderr",
          "output_type": "stream",
          "text": [
            "100%|██████████| 40/40 [00:00<00:00, 188.29it/s]\n"
          ]
        },
        {
          "name": "stdout",
          "output_type": "stream",
          "text": [
            "compute_train_recall ndcg time 0.2354625419829972\n"
          ]
        },
        {
          "name": "stderr",
          "output_type": "stream",
          "text": [
            "100%|██████████| 31/31 [00:00<00:00, 174.76it/s]\n"
          ]
        },
        {
          "name": "stdout",
          "output_type": "stream",
          "text": [
            "compute test recall ndcg time 0.18098750000353903\n",
            "Epoch: 0, Loss: 8.845827102661133\n"
          ]
        },
        {
          "data": {
            "image/png": "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",
            "text/plain": [
              "<Figure size 640x480 with 1 Axes>"
            ]
          },
          "metadata": {},
          "output_type": "display_data"
        },
        {
          "data": {
            "image/png": "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",
            "text/plain": [
              "<Figure size 640x480 with 1 Axes>"
            ]
          },
          "metadata": {},
          "output_type": "display_data"
        },
        {
          "data": {
            "image/png": "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",
            "text/plain": [
              "<Figure size 640x480 with 1 Axes>"
            ]
          },
          "metadata": {},
          "output_type": "display_data"
        },
        {
          "name": "stdout",
          "output_type": "stream",
          "text": [
            "0.09385033301077783\n",
            "0.08927412499906495\n",
            "0.08866183302598074\n",
            "0.09418562502833083\n"
          ]
        },
        {
          "name": "stderr",
          "output_type": "stream",
          "text": [
            "100%|██████████| 31/31 [00:01<00:00, 22.18it/s]\n"
          ]
        },
        {
          "name": "stdout",
          "output_type": "stream",
          "text": [
            "get_train ndcg time 1.4001560420147143\n"
          ]
        },
        {
          "name": "stderr",
          "output_type": "stream",
          "text": [
            "100%|██████████| 31/31 [00:00<00:00, 265.23it/s]\n"
          ]
        },
        {
          "name": "stdout",
          "output_type": "stream",
          "text": [
            "get_test ndcg time 0.12141174997668713\n"
          ]
        },
        {
          "name": "stderr",
          "output_type": "stream",
          "text": [
            "100%|██████████| 40/40 [00:00<00:00, 183.50it/s]\n"
          ]
        },
        {
          "name": "stdout",
          "output_type": "stream",
          "text": [
            "compute_train_recall ndcg time 0.2426743340329267\n"
          ]
        },
        {
          "name": "stderr",
          "output_type": "stream",
          "text": [
            "100%|██████████| 31/31 [00:00<00:00, 169.09it/s]\n"
          ]
        },
        {
          "name": "stdout",
          "output_type": "stream",
          "text": [
            "compute test recall ndcg time 0.18695220799418166\n",
            "0.10112729202955961\n",
            "0.09223245800239965\n",
            "0.09391841699834913\n",
            "0.09456179197877645\n"
          ]
        },
        {
          "name": "stderr",
          "output_type": "stream",
          "text": [
            "100%|██████████| 31/31 [00:01<00:00, 22.46it/s]\n"
          ]
        },
        {
          "name": "stdout",
          "output_type": "stream",
          "text": [
            "get_train ndcg time 1.3821056660381146\n"
          ]
        },
        {
          "name": "stderr",
          "output_type": "stream",
          "text": [
            "100%|██████████| 31/31 [00:00<00:00, 348.14it/s]\n"
          ]
        },
        {
          "name": "stdout",
          "output_type": "stream",
          "text": [
            "get_test ndcg time 0.09041524998610839\n"
          ]
        },
        {
          "name": "stderr",
          "output_type": "stream",
          "text": [
            "100%|██████████| 40/40 [00:00<00:00, 189.36it/s]\n"
          ]
        },
        {
          "name": "stdout",
          "output_type": "stream",
          "text": [
            "compute_train_recall ndcg time 0.23432833299739286\n"
          ]
        },
        {
          "name": "stderr",
          "output_type": "stream",
          "text": [
            "100%|██████████| 31/31 [00:00<00:00, 242.92it/s]\n"
          ]
        },
        {
          "name": "stdout",
          "output_type": "stream",
          "text": [
            "compute test recall ndcg time 0.1315258339745924\n",
            "0.09122679202118888\n",
            "0.08764354098821059\n",
            "Epoch: 10, Loss: 8.843287467956543\n"
          ]
        },
        {
          "data": {
            "image/png": "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",
            "text/plain": [
              "<Figure size 640x480 with 1 Axes>"
            ]
          },
          "metadata": {},
          "output_type": "display_data"
        },
        {
          "data": {
            "image/png": "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",
            "text/plain": [
              "<Figure size 640x480 with 1 Axes>"
            ]
          },
          "metadata": {},
          "output_type": "display_data"
        },
        {
          "data": {
            "image/png": "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",
            "text/plain": [
              "<Figure size 640x480 with 1 Axes>"
            ]
          },
          "metadata": {},
          "output_type": "display_data"
        },
        {
          "name": "stdout",
          "output_type": "stream",
          "text": [
            "0.09228016599081457\n",
            "0.08904499997152016\n"
          ]
        },
        {
          "name": "stderr",
          "output_type": "stream",
          "text": [
            "100%|██████████| 31/31 [00:01<00:00, 22.64it/s]\n"
          ]
        },
        {
          "name": "stdout",
          "output_type": "stream",
          "text": [
            "get_train ndcg time 1.3714572499739006\n"
          ]
        },
        {
          "name": "stderr",
          "output_type": "stream",
          "text": [
            "100%|██████████| 31/31 [00:00<00:00, 353.80it/s]\n"
          ]
        },
        {
          "name": "stdout",
          "output_type": "stream",
          "text": [
            "get_test ndcg time 0.08883737499127164\n"
          ]
        },
        {
          "name": "stderr",
          "output_type": "stream",
          "text": [
            "100%|██████████| 40/40 [00:00<00:00, 188.61it/s]\n"
          ]
        },
        {
          "name": "stdout",
          "output_type": "stream",
          "text": [
            "compute_train_recall ndcg time 0.23557462502503768\n"
          ]
        },
        {
          "name": "stderr",
          "output_type": "stream",
          "text": [
            "100%|██████████| 31/31 [00:00<00:00, 241.67it/s]\n"
          ]
        },
        {
          "name": "stdout",
          "output_type": "stream",
          "text": [
            "compute test recall ndcg time 0.13250804203562438\n",
            "0.0887316659791395\n",
            "0.08971129200654104\n",
            "0.08987337502185255\n",
            "0.08970999997109175\n"
          ]
        },
        {
          "name": "stderr",
          "output_type": "stream",
          "text": [
            "100%|██████████| 31/31 [00:01<00:00, 22.93it/s]\n"
          ]
        },
        {
          "name": "stdout",
          "output_type": "stream",
          "text": [
            "get_train ndcg time 1.3537753330310807\n"
          ]
        },
        {
          "name": "stderr",
          "output_type": "stream",
          "text": [
            "100%|██████████| 31/31 [00:00<00:00, 339.05it/s]\n"
          ]
        },
        {
          "name": "stdout",
          "output_type": "stream",
          "text": [
            "get_test ndcg time 0.09293395897839218\n"
          ]
        },
        {
          "name": "stderr",
          "output_type": "stream",
          "text": [
            "100%|██████████| 40/40 [00:00<00:00, 178.64it/s]\n"
          ]
        },
        {
          "name": "stdout",
          "output_type": "stream",
          "text": [
            "compute_train_recall ndcg time 0.24761462496826425\n"
          ]
        },
        {
          "name": "stderr",
          "output_type": "stream",
          "text": [
            "100%|██████████| 31/31 [00:00<00:00, 168.79it/s]\n"
          ]
        },
        {
          "name": "stdout",
          "output_type": "stream",
          "text": [
            "compute test recall ndcg time 0.1873352499678731\n",
            "0.09790162497665733\n",
            "0.09297987498575822\n",
            "0.09240620804484934\n",
            "0.09287104202667251\n"
          ]
        },
        {
          "name": "stderr",
          "output_type": "stream",
          "text": [
            "100%|██████████| 31/31 [00:01<00:00, 22.66it/s]\n"
          ]
        },
        {
          "name": "stdout",
          "output_type": "stream",
          "text": [
            "get_train ndcg time 1.3703871250036173\n"
          ]
        },
        {
          "name": "stderr",
          "output_type": "stream",
          "text": [
            "100%|██████████| 31/31 [00:00<00:00, 334.53it/s]\n"
          ]
        },
        {
          "name": "stdout",
          "output_type": "stream",
          "text": [
            "get_test ndcg time 0.09423237497685477\n"
          ]
        },
        {
          "name": "stderr",
          "output_type": "stream",
          "text": [
            "100%|██████████| 40/40 [00:00<00:00, 168.04it/s]\n"
          ]
        },
        {
          "name": "stdout",
          "output_type": "stream",
          "text": [
            "compute_train_recall ndcg time 0.2620600000373088\n"
          ]
        },
        {
          "name": "stderr",
          "output_type": "stream",
          "text": [
            "100%|██████████| 31/31 [00:00<00:00, 150.42it/s]\n"
          ]
        },
        {
          "name": "stdout",
          "output_type": "stream",
          "text": [
            "compute test recall ndcg time 0.21030829200753942\n",
            "Epoch: 20, Loss: 8.84176254272461\n"
          ]
        },
        {
          "data": {
            "image/png": "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",
            "text/plain": [
              "<Figure size 640x480 with 1 Axes>"
            ]
          },
          "metadata": {},
          "output_type": "display_data"
        },
        {
          "data": {
            "image/png": "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",
            "text/plain": [
              "<Figure size 640x480 with 1 Axes>"
            ]
          },
          "metadata": {},
          "output_type": "display_data"
        },
        {
          "data": {
            "image/png": "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",
            "text/plain": [
              "<Figure size 640x480 with 1 Axes>"
            ]
          },
          "metadata": {},
          "output_type": "display_data"
        },
        {
          "name": "stdout",
          "output_type": "stream",
          "text": [
            "0.09746512497076765\n",
            "0.09832866600481793\n",
            "0.09561766602564603\n",
            "0.09421479102456942\n"
          ]
        },
        {
          "name": "stderr",
          "output_type": "stream",
          "text": [
            "100%|██████████| 31/31 [00:01<00:00, 21.97it/s]\n"
          ]
        },
        {
          "name": "stdout",
          "output_type": "stream",
          "text": [
            "get_train ndcg time 1.4129095840035006\n"
          ]
        },
        {
          "name": "stderr",
          "output_type": "stream",
          "text": [
            "100%|██████████| 31/31 [00:00<00:00, 334.35it/s]\n"
          ]
        },
        {
          "name": "stdout",
          "output_type": "stream",
          "text": [
            "get_test ndcg time 0.09392679203301668\n"
          ]
        },
        {
          "name": "stderr",
          "output_type": "stream",
          "text": [
            "100%|██████████| 40/40 [00:00<00:00, 181.29it/s]\n"
          ]
        },
        {
          "name": "stdout",
          "output_type": "stream",
          "text": [
            "compute_train_recall ndcg time 0.2443313749972731\n"
          ]
        },
        {
          "name": "stderr",
          "output_type": "stream",
          "text": [
            "100%|██████████| 31/31 [00:00<00:00, 172.44it/s]\n"
          ]
        },
        {
          "name": "stdout",
          "output_type": "stream",
          "text": [
            "compute test recall ndcg time 0.18340141599765047\n",
            "0.0953674580086954\n",
            "0.09037416597129777\n",
            "0.08989229204598814\n",
            "0.09416858298936859\n"
          ]
        },
        {
          "name": "stderr",
          "output_type": "stream",
          "text": [
            "100%|██████████| 31/31 [00:01<00:00, 22.45it/s]\n"
          ]
        },
        {
          "name": "stdout",
          "output_type": "stream",
          "text": [
            "get_train ndcg time 1.3832549169892445\n"
          ]
        },
        {
          "name": "stderr",
          "output_type": "stream",
          "text": [
            "100%|██████████| 31/31 [00:00<00:00, 355.77it/s]\n"
          ]
        },
        {
          "name": "stdout",
          "output_type": "stream",
          "text": [
            "get_test ndcg time 0.08843137498479337\n"
          ]
        },
        {
          "name": "stderr",
          "output_type": "stream",
          "text": [
            "100%|██████████| 40/40 [00:00<00:00, 241.90it/s]\n"
          ]
        },
        {
          "name": "stdout",
          "output_type": "stream",
          "text": [
            "compute_train_recall ndcg time 0.18855720799183473\n"
          ]
        },
        {
          "name": "stderr",
          "output_type": "stream",
          "text": [
            "100%|██████████| 31/31 [00:00<00:00, 176.64it/s]\n"
          ]
        },
        {
          "name": "stdout",
          "output_type": "stream",
          "text": [
            "compute test recall ndcg time 0.17929562501376495\n",
            "0.0919073749682866\n",
            "0.08779116597725078\n",
            "Epoch: 30, Loss: 8.840845108032227\n"
          ]
        },
        {
          "data": {
            "image/png": "iVBORw0KGgoAAAANSUhEUgAAAjUAAAGzCAYAAADXFObAAAAAOXRFWHRTb2Z0d2FyZQBNYXRwbG90bGliIHZlcnNpb24zLjcuMSwgaHR0cHM6Ly9tYXRwbG90bGliLm9yZy/bCgiHAAAACXBIWXMAAA9hAAAPYQGoP6dpAABPQ0lEQVR4nO3deXRMd+MG8GdmMllJIolsJLJYQkLEEoKopUXsLYpqLNFUipIWbdK31PpqVLUa3mjRigoqim7qLYqKLbIiSGyRSCIhZCGyzdzfH2r6y2tSmUpyJ5Pnc86cw517Z557zz3mMfO99ysRBEEAERERUQMnFTsAERERUW1gqSEiIiKdwFJDREREOoGlhoiIiHQCSw0RERHpBJYaIiIi0gksNURERKQTWGqIiIhIJ7DUEBERkU5gqSEiIiKdwFJDRFphy5YtkEgkiIuLEzsKETVQLDVERESkE1hqiIiISCew1BBRg5GYmAg/Pz+YmpqiSZMmGDhwIE6fPl1lnYqKCixZsgRt2rSBoaEhLC0t0adPHxw8eFC1zu3btzFt2jS0bNkSBgYGsLOzw6hRo5Cenl7Pe0REtUlP7ABERDWRkpICX19fmJqa4r333oNcLseXX36Jfv364dixY+jRowcAYPHixVi5ciXeeOMNeHt7o6ioCHFxcUhISMBLL70EABgzZgxSUlLw9ttvw8nJCXl5eTh48CAyMjLg5OQk4l4S0fOQCIIgiB2CiGjLli2YNm0azp49i27duj31/Msvv4z9+/fj0qVLcHFxAQDk5OSgXbt28PLywrFjxwAAnTt3RsuWLfHzzz+rfZ+CggI0a9YMn3zyCebPn193O0RE9Y4/PxGR1lMoFPjtt98wevRoVaEBADs7O7z22muIiYlBUVERAMDc3BwpKSm4cuWK2tcyMjKCvr4+jh49ivv379dLfiKqHyw1RKT17ty5g5KSErRr1+6p59q3bw+lUonMzEwAwNKlS1FQUIC2bduiY8eOWLBgAc6dO6da38DAAGFhYfj1119hY2ODvn37YtWqVbh9+3a97Q8R1Q2WGiLSKX379sW1a9fw9ddfw8PDA5s2bUKXLl2wadMm1TrBwcFIS0vDypUrYWhoiIULF6J9+/ZITEwUMTkRPS+WGiLSes2bN4exsTFSU1Ofeu7y5cuQSqVwcHBQLbOwsMC0adOwY8cOZGZmolOnTli8eHGV7VxdXTFv3jz89ttvuHDhAsrLy/Hpp5/W9a4QUR1iqSEirSeTyTBo0CD88MMPVS67zs3Nxfbt29GnTx+YmpoCAPLz86ts26RJE7Ru3RplZWUAgJKSEpSWllZZx9XVFU2bNlWtQ0QNEy/pJiKt8vXXX+PAgQNPLV+8eDEOHjyIPn36YObMmdDT08OXX36JsrIyrFq1SrVehw4d0K9fP3Tt2hUWFhaIi4vD7t27MXv2bABAWloaBg4ciFdffRUdOnSAnp4e9u7di9zcXEyYMKHe9pOIah8v6SYirfDkku7qZGZm4s6dOwgNDcWJEyegVCrRo0cPrFixAj4+Pqr1VqxYgR9//BFpaWkoKytDq1at4O/vjwULFkAulyM/Px8fffQRDh8+jMzMTOjp6cHNzQ3z5s3DuHHj6mNXiaiOsNQQERGRTuCYGiIiItIJLDVERESkE1hqiIiISCew1BAREZFOYKkhIiIincBSQ0RERDqh0dx8T6lUIjs7G02bNoVEIhE7DhEREdWAIAgoLi6Gvb09pNK//y6m0ZSa7OzsKnPDEBERUcORmZmJli1b/u06GpUahUKBxYsXY9u2bbh9+zbs7e0xdepUfPjhh3/77UdUVBRWrVqFK1euwMzMDH5+fvjkk09gaWn51Lo7d+7ExIkTMWrUKOzbt6/Kc5cuXcL777+PY8eOobKyEh06dMD3338PR0fHZ2Zv2rQpgMcH5ckcMURERKTdioqK4ODgoPoc/zsalZqwsDBEREQgMjIS7u7uiIuLw7Rp02BmZoY5c+ao3ebEiROYPHkyPvvsM4wYMQJZWVkICgpCYGAg9uzZU2Xd9PR0zJ8/H76+vk+9zrVr19CnTx9Mnz4dS5YsgampKVJSUmBoaFij7E9Kl6mpKUsNERFRA1OToSMalZqTJ09i1KhRGDZsGADAyckJO3bsQGxsbLXbnDp1Ck5OTqrS4+zsjBkzZiAsLKzKegqFApMmTcKSJUtw/PhxFBQUVHn+X//6F4YOHVpl4jpXV1dN4hMREZEO0+jqp169euHw4cNIS0sDACQnJyMmJgZ+fn7VbuPj44PMzEzs378fgiAgNzcXu3fvxtChQ6ust3TpUlhbW2P69OlPvYZSqcQvv/yCtm3bYvDgwbC2tkaPHj2e+nnq/ysrK0NRUVGVBxEREekujUpNSEgIJkyYADc3N8jlcnh5eSE4OBiTJk2qdpvevXsjKioK48ePh76+PmxtbWFmZob169er1omJicHmzZuxceNGta+Rl5eHBw8e4OOPP8aQIUPw22+/4eWXX8Yrr7yCY8eOqd1m5cqVMDMzUz04SJiIiEi3aVRqdu3ahaioKGzfvh0JCQmIjIzE6tWrERkZWe02Fy9exNy5c7Fo0SLEx8fjwIEDSE9PR1BQEACguLgY/v7+2LhxI6ysrNS+hlKpBACMGjUK77zzDjp37oyQkBAMHz4cGzZsULtNaGgoCgsLVY/MzExNdpWIiIgaGI3G1CxYsED1bQ0AdOzYETdv3sTKlSsxZcoUtdusXLkSvXv3xoIFCwAAnTp1gomJCXx9fbF8+XLk5uYiPT0dI0aMUG3zpMTo6ekhNTUVDg4O0NPTQ4cOHaq8dvv27RETE6P2fQ0MDGBgYKDJ7hEREVEDplGpKSkpeerGNzKZTFVCqttGT6/q28hkMgCPb6jj5uaG8+fPV3n+ww8/RHFxMdauXQsHBwfo6+uje/fuSE1NrbJeWloaWrVqpckuEBERkY7SqNSMGDECK1asgKOjI9zd3ZGYmIg1a9YgICBAtU5oaCiysrKwdetW1TaBgYGIiIjA4MGDkZOTg+DgYHh7e8Pe3h4A4OHhUeV9zM3Nn1q+YMECjB8/Hn379kX//v1x4MAB/PTTTzh69Og/2W8iIiLSMRqVmvDwcCxcuBAzZ85EXl4e7O3tMWPGDCxatEi1Tk5ODjIyMlR/nzp1KoqLi7Fu3TrMmzcP5ubmGDBgwFOXdD/Lyy+/jA0bNmDlypWYM2cO2rVrh++//x59+vTR6HWIiIhIN0kEQRDEDlEfioqKYGZmhsLCQt58j4iIqIHQ5PObs3QTERGRTmCpISIiIp3AUkNEREQ6gaXmOSmVAr6OuYHFP6aIHYWIiKhR0+jqJ3paSnYRlv1yEYIA9HK1xCB3W7EjERERNUr8puY5dWxphjd9XQAAIXvOI6+4VOREREREjRNLTS14d1BbtLczxb2H5Xhv9zk0kqvkiYiItApLTS0w0JNh7YTO0NeT4mjqHWw7fVPsSERERI0OS00taWvTFKF+bgCA5b9cwtW8YpETERERNS4sNbVoio8T+rZtjrJKJebuTEJ5ZfUTfRIREVHtYqmpRVKpBJ+M7YRmxnKkZBfhs0NpYkciIiJqNFhqapmNqSFWvtIRALDh2DWcuZ4vciIiIqLGgaWmDgzxsMOr3VpCEIB3dyWjqLRC7EhEREQ6j6Wmjiwa4Y5WlsbIKniEj37g3YaJiIjqGktNHWlioIfPxneGTCrB3sQs/JicLXYkIiIincZSU4e6ODbD7P6tAQD/2nseWQWPRE5ERESku1hq6tjsAa3R2cEcxaWVmLcrCUol7zZMRERUF1hq6phcJsVn4zvDWF+G09fvYVPMdbEjERER6SSWmnrgbGWCRcM7AAA++W8qLmYXiZyIiIhI97DU1JPx3R0wqIMNKhQC5u5MRGmFQuxIREREOoWlpp5IJBJ8PKYTmjc1wJW8B/j418tiRyIiItIpLDX1yMJEH5+M7QQA2HIyHcfS7oiciIiISHew1NSzfu2sMcWnFQBgfnQy7j0sFzkRERGRbmCpEUHo0PZobd0Ed4rL8MGe8xAEXuZNRET0vFhqRGAol+Hz8Z0hl0lwIOU2ouNviR2JiIiowWOpEYlHCzPMG9QOALD4xxRcv/NA5EREREQNG0uNiAJ9XeDjYomScgVmb+dl3kRERM+DpUZEMqkEn0/oDEsTfVzMKcK/918SOxIREVGDxVIjMhtTQ3z6qicAYOupm/j1fI7IiYiIiBomlhot0K+dNYJecAUAvPf9OWTeKxE5ERERUcPDUqMl5g1qiy6Oj2fznr0jEeWVSrEjERERNSgsNVpCLpPii4leMDOSIzmzAJ/8l9MoEBERaYKlRou0bGasmkZh4/EbOHwpV+REREREDQdLjZYZ5G6Lab2dAADzopORU/hI3EBEREQNBEuNFgrxc0PHFmYoKKnAnB2JqFRwfA0REdGzsNRoIQM9Gda95oUmBno4m34fnx+6InYkIiIircdSo6VaWZrg4zEdAQDrj15FzJW7IiciIiLSbiw1Wmx4J3u81sMRggAEf5eEvOJSsSMRERFpLZYaLbdoeAe42TbF3QdleOe7JCiUgtiRiIiItBJLjZYzlMuw7rUuMJLLcOJqPiKOXhU7EhERkVZiqWkAWls3wfLRHgCANQfTEHvjnsiJiIiItA9LTQMxpmtLjOnSEkoBmLMjEfcelosdiYiISKuw1DQgS0e5w6W5CW4XlWJ+dDKUHF9DRESkwlLTgJgY6GH9a12gryfF75fzsDnmhtiRiIiItAZLTQPT3s4UH43oAAAIO3AZiRn3RU5ERESkHVhqGqDXvB0xrJMdKpUCZm9PREEJx9cQERGx1DRAEokEK1/piFaWxsgqeIR3vkvi+BoiImr0WGoaKFNDOf4zqQsM9KQ4knoH4b/z/jVERNS4sdQ0YO72Zvj3y4/nh/r8cBqOpuaJnIiIiEg8LDUN3JiuLTHpz/mh5u5MQua9ErEjERERiYKlRgcsGtEBng7mKHxUgbei4lFaoRA7EhERUb1jqdEBBnoy/GdSF1iY6ONCVhE++iFF7EhERET1jqVGR7QwN8IXE7wglQDfxWViZ2yG2JGIiIjqFUuNDunTxgrzBrUDACz6MQXnbhWIG4iIiKgesdTomLdecMWL7W1QXqnEW9sScJ8TXxIRUSPBUqNjpFIJPn3VE05/3phv7ndJUPDGfERE1AhoVGoUCgUWLlwIZ2dnGBkZwdXVFcuWLYMg/P2HZlRUFDw9PWFsbAw7OzsEBAQgPz9f7bo7d+6ERCLB6NGjqyyfOnUqJBJJlceQIUM0id9omBnJEfF6VxjKpfgj7Q7WHr4idiQiIqI6p1GpCQsLQ0REBNatW4dLly4hLCwMq1atQnh4eLXbnDhxApMnT8b06dORkpKC6OhoxMbGIjAw8Kl109PTMX/+fPj6+qp9rSFDhiAnJ0f12LFjhybxG5X2dqZY+crjG/N9cfgKfr+cK3IiIiKiuqVRqTl58iRGjRqFYcOGwcnJCWPHjsWgQYMQGxtb7TanTp2Ck5MT5syZA2dnZ/Tp0wczZsx4ahuFQoFJkyZhyZIlcHFxUftaBgYGsLW1VT2aNWumSfxG52Wvlpjs0woAELwzCRn5vDEfERHpLo1KTa9evXD48GGkpaUBAJKTkxETEwM/P79qt/Hx8UFmZib2798PQRCQm5uL3bt3Y+jQoVXWW7p0KaytrTF9+vRqX+vo0aOwtrZGu3bt8NZbb1X7ExYAlJWVoaioqMqjMfpwWAd4OZqjqLQSQdt4Yz4iItJdGpWakJAQTJgwAW5ubpDL5fDy8kJwcDAmTZpU7Ta9e/dGVFQUxo8fD319fdja2sLMzAzr169XrRMTE4PNmzdj48aN1b7OkCFDsHXrVhw+fBhhYWE4duwY/Pz8oFCo/5BeuXIlzMzMVA8HBwdNdlVn6OtJ8Z9JXWBpoo+LOUX4194LzxwDRURE1BBpVGp27dqFqKgobN++HQkJCYiMjMTq1asRGRlZ7TYXL17E3LlzsWjRIsTHx+PAgQNIT09HUFAQAKC4uBj+/v7YuHEjrKysqn2dCRMmYOTIkejYsSNGjx6Nn3/+GWfPnsXRo0fVrh8aGorCwkLVIzMzU5Nd1Sl2ZkYIn/j4xnzfJ9zCdt6Yj4iIdJBE0OC/7Q4ODggJCcGsWbNUy5YvX45t27bh8uXLarfx9/dHaWkpoqOjVctiYmLg6+uL7Oxs5ObmwsvLCzKZTPW8UqkEAEilUqSmpsLV1VXtazdv3hzLly/HjBkznpm9qKgIZmZmKCwshKmpaY32V9dEHL2GsAOXoS+TYleQDzo7mIsdiYiI6G9p8vmt0Tc1JSUlkEqrbiKTyVQlRJNtAEAQBLi5ueH8+fNISkpSPUaOHIn+/fsjKSmp2p+Nbt26hfz8fNjZ2WmyC41a0AsuGOxug3KFEjO3xeMeb8xHREQ6RE+TlUeMGIEVK1bA0dER7u7uSExMxJo1axAQEKBaJzQ0FFlZWdi6datqm8DAQERERGDw4MHIyclBcHAwvL29YW9vDwDw8PCo8j7m5uZVlj948ABLlizBmDFjYGtri2vXruG9995D69atMXjw4H+8842NRCLBJ+M8kZZ7AjfuPsScHYnYMq079GS8ByMRETV8Gn2ahYeHY+zYsZg5cybat2+P+fPnY8aMGVi2bJlqnZycHGRk/DVmY+rUqVizZg3WrVsHDw8PjBs3Du3atcOePXtq/L4ymQznzp3DyJEj0bZtW0yfPh1du3bF8ePHYWBgoMkuNHqmhnJseL0rjOQyxFy9i49/Vf+zIRERUUOj0Ziahoxjaqr65VwOZm1PAAB8MrYTxnVrnFeHERGRdquzMTWkO4Z1ssOcgW0AAP/aewHxN++JnIiIiOj5sNQ0YsED22CIuy3KFUrM+DYB2QWPxI5ERET0j7HUNGJPZvR2s22Kuw/KELg1DiXllWLHIiIi+kdYaho5EwM9bJrSDZYm+kjJLsKC6HO84zARETVILDWEls2MEfF6V8hlEvxyPgfhv18VOxIREZHGWGoIAODtbIFlox7fF2jNwTQcuHBb5ERERESaYakhlQnejpjaywkA8O6uJFzKaZwzmxMRUcPEUkNVfDisPfq0tkJJuQJvRMbh7oMysSMRERHVCEsNVaEnk2Lda15wsjRGVsEjzNyWgPLK6uf2IiIi0hYsNfQUc2N9bJrSDU0N9BCbfg8f/XiBV0QREZHWY6khtVpbN8UXE70gkQA7YjMReTJd7EhERER/i6WGqtXfzRqhfm4AgGW/XELMlbsiJyIiIqoeSw39rUBfF7zi1QIKpYBZ2xNw4+5DsSMRERGpxVJDf0sikeDfr3SEl6M5Ch9VIHBrHIpKK8SORURE9BSWGnomQ7kMX77eFbamhria9wBzdyRCoeTAYSIi0i4sNVQj1qaG+GpyVxjoSXEk9Q5WHbgsdiQiIqIqWGqoxjq1NMcn4zwBAF/+cR3fnc0QOREREdFfWGpIIyM97TFnQGsAwAd7L+CPtDsiJyIiInqMpYY09s5LbfHyn1dEzYxK4BxRRESkFVhqSGMSiQQfj+mIni4WeFBWiWnfnMXtwlKxYxERUSPHUkP/iIGeDF++3g2uzU1wu6gU07acxYOySrFjERFRI8ZSQ/+YmbEcW6Z5w6qJPi7lFGFWVAIqFZz8koiIxMFSQ8/FwcIYm6d0h6FcimNpd7DwhxROfklERKJgqaHn5ulgji8mPJn8MgMbjl0XOxIRETVCLDVUKwa522LR8A4AgLADl/FjcrbIiYiIqLFhqaFaM623MwJ6OwMA5u9Kxtn0eyInIiKixoSlhmrVv4a1x2B3G5QrlAjcGodrdx6IHYmIiBoJlhqqVTKpBJ+P94KngzkKSiow7ZuzyH9QJnYsIiJqBFhqqNYZ6cuwaXI3OFgYIeNeCd7YGofSCoXYsYiISMex1FCdaN7UAN9M9YaZkRyJGQUI3pkEpZKXehMRUd1hqaE609q6Cb7y7wp9mRQHUm5j5a+XxI5EREQ6jKWG6lQPF0t8Mq4TAGDj8RvYeipd3EBERKSzWGqozo3q3ALzB7UFACz+MQWHLuaKnIiIiHQRSw3Vi1n9W2N8NwcoBeDtHYlIzLgvdiQiItIxLDVULyQSCZa/7AHfNlZ4VKFAwJazuJrHe9gQEVHtYamheiOXSRHxeld0ammG+yUVmPJ1LHIKH4kdi4iIdARLDdWrJgZ6+GZqd7hYmSCr4BGmfB2LgpJysWMREZEOYKmhemfZxACRAd6wMTVAWu4DvBEZh0flvDkfERE9H5YaEoWDhTEiA7xhaqiHuJv3MXt7AioVSrFjERFRA8ZSQ6JxszXFpindYaAnxeHLeQjdcx6CwLsOExHRP8NSQ6LydrbAute6QCoBouNvIexAqtiRiIiogWKpIdG91MEGK1/pCADYcOwaNh2/LnIiIiJqiFhqSCuM7+6IBYPbAQCW/3IJ+xKzRE5EREQNDUsNaY2Z/VwxrbcTAGB+dDKOpuaJG4iIiBoUlhrSGhKJBAuHdcBIT3tUKgW8tS2B0ykQEVGNsdSQVpFKJVg9zpPTKRARkcZYakjr6OtJseH1rvDkdApERKQBlhrSSiYGevia0ykQEZEGWGpIa1k2McDW6ZxOgYiIaoalhrRay2ZPT6dQwekUiIhIDZYa0nputqbYPPWv6RTm7UqGQsnpFIiIqCqWGmoQujtZIOL1LpDLJPgxORsh35+DksWGiIj+H5YaajAGuNngiwleqnmiPvoxhRNgEhGRCksNNSh+He3w6auekEiAb0/fxL/3X2KxISIiACw11AC97NUS/3758QSYG4/fwGeHroiciIiItAFLDTVIE70dsXhEBwDAF4ev4D9Hr4qciIiIxMZSQw3W1N7OCPFzAwCsOpCKr2NuiJyIiIjEpFGpUSgUWLhwIZydnWFkZARXV1csW7bsmWMaoqKi4OnpCWNjY9jZ2SEgIAD5+flq1925cyckEglGjx5d7esFBQVBIpHg888/1yQ+6aCgF1wxd2AbAMDSny9i+5kMkRMREZFYNCo1YWFhiIiIwLp163Dp0iWEhYVh1apVCA8Pr3abEydOYPLkyZg+fTpSUlIQHR2N2NhYBAYGPrVueno65s+fD19f32pfb+/evTh9+jTs7e01iU46LPjFNpjR1wUA8K9957En4ZbIiYiISAwalZqTJ09i1KhRGDZsGJycnDB27FgMGjQIsbGx1W5z6tQpODk5Yc6cOXB2dkafPn0wY8aMp7ZRKBSYNGkSlixZAhcXF7WvlZWVhbfffhtRUVGQy+WaRCcdJpFIEOLnhsk+rSAIwPzoZPxyLkfsWEREVM80KjW9evXC4cOHkZaWBgBITk5GTEwM/Pz8qt3Gx8cHmZmZ2L9/PwRBQG5uLnbv3o2hQ4dWWW/p0qWwtrbG9OnT1b6OUqmEv78/FixYAHd392dmLSsrQ1FRUZUH6S6JRILFI9wxvpsDlAIwd2ciDl/KFTsWERHVI41KTUhICCZMmAA3NzfI5XJ4eXkhODgYkyZNqnab3r17IyoqCuPHj4e+vj5sbW1hZmaG9evXq9aJiYnB5s2bsXHjxmpfJywsDHp6epgzZ06Nsq5cuRJmZmaqh4ODQ813lBokqVSCf7/SEaM626NSKeCtbQk4fuWO2LGIiKieaFRqdu3ahaioKGzfvh0JCQmIjIzE6tWrERkZWe02Fy9exNy5c7Fo0SLEx8fjwIEDSE9PR1BQEACguLgY/v7+2LhxI6ysrNS+Rnx8PNauXYstW7ZAIpHUKGtoaCgKCwtVj8zMTE12lRoomVSCT8d5Yoi7LcoVSgRujcOZ6+oHpRMRkW6RCBrcjtXBwQEhISGYNWuWatny5cuxbds2XL58We02/v7+KC0tRXR0tGpZTEwMfH19kZ2djdzcXHh5eUEmk6meVyofz8IslUqRmpqKn376Ce+++y6k0r86mEKhgFQqhYODA9LT05+ZvaioCGZmZigsLISpqWlNd5kaqPJKJWZ8G4cjqXdgoi/Dtjd6wMuxmdixiIhIQ5p8futp8sIlJSVVigUAyGQyVQmpbhs9vapv86TACIIANzc3nD9/vsrzH374IYqLi7F27Vo4ODjA398fL774YpV1Bg8eDH9/f0ybNk2TXaBGQl9PiojXuyJgy1mcvJaPKV/HYntgT3i0MBM7GhER1RGNSs2IESOwYsUKODo6wt3dHYmJiVizZg0CAgJU64SGhiIrKwtbt25VbRMYGIiIiAgMHjwYOTk5CA4Ohre3t+qybA8PjyrvY25uXmW5paUlLC0tq6wjl8tha2uLdu3aabbH1GgYymXYNKUbpnwdi7Pp9+G/+Qy2B/ZEezt+U0dEpIs0GlMTHh6OsWPHYubMmWjfvj3mz5+PGTNmYNmyZap1cnJykJHx1w3Qpk6dijVr1mDdunXw8PDAuHHj0K5dO+zZs6f29oKoGsb6evh6and4tjTD/ZIKvLbxNC7l8Eo4IiJdpNGYmoaMY2oat8JHFZi8+QySbxWimbEcUW/0RAd7ngdERNpOk89vzv1EjYKZkRxbp/eAp4P5429sNp1GSnah2LGIiKgWsdRQo2FmJMe3073R2cEcBSUVeG3jGVzIYrEhItIVLDXUqJgayrF1uje8HM1R+KgCkzadwflbLDZERLqApYYaHVNDObYGeKOLqticxrlbBWLHIiKi58RSQ41SU8PHY2y6tWqGotJKvL7pDJIzC8SORUREz4GlhhqtJgZ62BLgje5OfxabzWeQxGJDRNRgsdRQo9bEQA/fTPOGt5MFiksr4b/pDBIz7osdi4iI/gGWGmr0Hheb7vB2tkBxWSX8N8ci/iaLDRFRQ8NSQwTAxEAPW6Z1R08XCzwoq8SUr2MRf/Oe2LGIiEgDLDVEf3oypYKPiyUelFVi8uZYxKWz2BARNRQsNUT/z5Ni08vVEg/LFX9OhsliQ0TUELDUEP0PI30ZNk/pjt6t/yo2sTdYbIiItB1LDZEaT4qNbxsrlJQrMPWbWJy8elfsWERE9DdYaoiqYSiXYePkbujbtvnjYrPlLA5dzBU7FhERVYOlhuhvPC42XTGogw3KK5UI2haPH5OzxY5FRERqsNQQPYOBngzrJ3XB6M72qFQKmLszETtjM8SORURE/4OlhqgG5DIp1rzaGZN6OEIQgJA957Hp+HWxYxER0f/DUkNUQ1KpBMtHe2DGCy4AgOW/XMLnh9IgCILIyYiICGCpIdKIRCJByBA3zB/UFgDw+aErWPHLJRYbIiItwFJDpCGJRILZA9rgoxEdAACbYm7gg73noVCy2BARiYmlhugfmtbbGavGdoJUAuyIzUTwd0moUCjFjkVE1Gix1BA9h1e7OSB8YhfIZRL8lJyNt7bFo7RCIXYsIqJGiaWG6DkN62SHr/y7wUBPikOX8hCw5SwellWKHYuIqNFhqSGqBf3drBEZ4A0TfRlOXsvH65vPoLCkQuxYRESNCksNUS3p6WKJqMCeMDOSIzGjABM2nsbdB2VixyIiajRYaohqUWcHc3w3oyesmhjgUk4RXt1wCtkFj8SORUTUKLDUENUyN1tTRAf5oIW5Ea7ffYhxG07h+p0HYsciItJ5LDVEdcDZygTRQT5wsTJBVsEjjN1wCkmZBWLHIiLSaSw1RHXE3twIu4J80KmlGe49LMfEr07jSGqe2LGIiHQWSw1RHbJqYoAdgT3Rt21zPKpQ4I3IOOyOvyV2LCIincRSQ1THTAz0sHlKN7zi1QIKpYD50cn4z9GrnC+KiKiWsdQQ1QO5TIpPX/VUzfC96kAqlvx0kfNFERHVIpYaonoikUgQ6tceC4c/nghzy8l0zNmRiLJKTqtARFQbWGqI6tn0Ps74YqIX5DIJfjmfgylfx6KolHcfJiJ6Xiw1RCIY6WmPyGneaGKgh9PX7+HVDaeQW1QqdiwiogaNpYZIJL1aW+G7GT3RvKkBLt8uxiv/OYlrvEkfEdE/xlJDJCJ3ezPseasXnJ/cpC/iJBIy7osdi4ioQWKpIRKZg4Uxdgf5wNPBHPdLKvDaxtM4fClX7FhERA0OSw2RFrBsYoAdgT3Qr11zlFYo8ea38dh1NlPsWEREDQpLDZGWMNbXw8bJ3TC2a0solALe+/4c1v1+hTfpIyKqIZYaIi0il0nxydhOmNXfFQCw+rc0hHx/HuWVSpGTERFpP5YaIi0jkUiwYLAblo5yh1QCfBeXiSlfx6KwhPeyISL6Oyw1RFpqso8TNk/pDhN9GU5dz8fL/zmB9LsPxY5FRKS1WGqItFh/N2t8P7MXWpgb4frdhxj9nxM4cz1f7FhERFqJpYZIy7nZmmLvrF7wdDBHQUkFXt98BtFxvDKKiOh/sdQQNQDWTQ3x3Zs9MayTHSoUAhbsPoewA5eh5CzfREQqLDVEDYShXIbwCV54e0BrAEDE0WuYtT0Bj8o5yzcREcBSQ9SgSKUSzBvUDmte9YS+TIpfL9zG+K9OIY+TYRIRsdQQNUSvdGmJqMAeaGYsx7lbhRi1/gQuZheJHYuISFQsNUQNVHcnC+yb1RuuzU2QU1iKsRtO4tBFzhlFRI0XSw1RA9bK0gR7ZvZG79aWKClXIPDbOGw6fp1TKxBRo8RSQ9TAmRnJsWWaN17r4QhBAJb/cgn/2ncBFQpOrUBEjQtLDZEOkMukWDHaAx8Oaw+JBNh+JgPTvjnLqRWIqFFhqSHSERKJBG/4umCjfzcY68sQc/UuRq2PwdW8YrGjERHVC5YaIh3zYgcb7A56PLVCen4JRq/nAGIiahxYaoh0UAd7U/w4uzd6OFvgQVklAr+Nw/ojVzmAmIh0mkalRqFQYOHChXB2doaRkRFcXV2xbNmyZ/5DGRUVBU9PTxgbG8POzg4BAQHIz1c/Kd/OnTshkUgwevToKssXL14MNzc3mJiYoFmzZnjxxRdx5swZTeITNSqWTQyw7Y0emOzTCoIAfPLfVMzekYiS8kqxoxER1QmNSk1YWBgiIiKwbt06XLp0CWFhYVi1ahXCw8Or3ebEiROYPHkypk+fjpSUFERHRyM2NhaBgYFPrZueno758+fD19f3qefatm2LdevW4fz584iJiYGTkxMGDRqEO3fuaLILRI2KXCbF0lEeWPlKR8hlEvxyLgdjI07h1v0SsaMREdU6iaDB99HDhw+HjY0NNm/erFo2ZswYGBkZYdu2bWq3Wb16NSIiInDt2jXVsvDwcISFheHWrVuqZQqFAn379kVAQACOHz+OgoIC7Nu3r9osRUVFMDMzw6FDhzBw4MBnZn+yfmFhIUxNTWuwt0S65Wz6Pby1LR53H5TDwkQf/5nUBT1dLMWORUT0tzT5/Nbom5pevXrh8OHDSEtLAwAkJycjJiYGfn5+1W7j4+ODzMxM7N+/H4IgIDc3F7t378bQoUOrrLd06VJYW1tj+vTpz8xRXl6Or776CmZmZvD09FS7TllZGYqKiqo8iBqz7k4W+HF2H3i0MMW9h+V4fdMZfHv6JsfZEJHO0KjUhISEYMKECXBzc4NcLoeXlxeCg4MxadKkarfp3bs3oqKiMH78eOjr68PW1hZmZmZYv369ap2YmBhs3rwZGzdu/Nv3//nnn9GkSRMYGhris88+w8GDB2FlZaV23ZUrV8LMzEz1cHBw0GRXiXSSvbkRomf0wqjO9qhUCli47wI+2HsB5ZW8UR8RNXwalZpdu3YhKioK27dvR0JCAiIjI7F69WpERkZWu83Fixcxd+5cLFq0CPHx8Thw4ADS09MRFBQEACguLoa/vz82btxYbUF5on///khKSsLJkycxZMgQvPrqq8jLy1O7bmhoKAoLC1WPzMxMTXaVSGcZ6cvw+fjOCPFzg0QC7IjNwGsbT+NOcZnY0YiInotGY2ocHBwQEhKCWbNmqZYtX74c27Ztw+XLl9Vu4+/vj9LSUkRHR6uWxcTEwNfXF9nZ2cjNzYWXlxdkMpnqeaXy8f8apVIpUlNT4erqqva127Rpg4CAAISGhj4zO8fUED3tyOU8zNmZiOLSStiZGeIr/27o2NJM7FhERCp1NqampKQEUmnVTWQymaqEaLINAAiCADc3N5w/fx5JSUmqx8iRI1Xfyvzdz0ZKpRJlZfzfJdE/1d/NGvtm9YbL/5vp+4ekLLFjERH9I3qarDxixAisWLECjo6OcHd3R2JiItasWYOAgADVOqGhocjKysLWrVtV2wQGBiIiIgKDBw9GTk4OgoOD4e3tDXt7ewCAh4dHlfcxNzevsvzhw4dYsWIFRo4cCTs7O9y9exfr169HVlYWxo0b9493nogA1+ZNsG9Wb8zdkYgjqXcwd2cSLuYU4b3BbpBJJWLHIyKqMY1KTXh4OBYuXIiZM2ciLy8P9vb2mDFjBhYtWqRaJycnBxkZGaq/T506FcXFxVi3bh3mzZsHc3NzDBgwAGFhYTV+X5lMhsuXLyMyMhJ3796FpaUlunfvjuPHj8Pd3V2TXSAiNUwN5dg0pTtW/5aKiKPX8OWx67iQVYi1E7xg1cRA7HhERDWi0Ziahoxjaohq5sfkbLy/+xweVShgY2qA9a91QTcnC7FjEVEjVWdjaohI9430tMePs3vDtbkJcovKMP6r09h0/DrvZ0NEWo+lhoie0samKX6c3QcjPO2hUApY/sslBG2LR1FphdjRiIiqxVJDRGqZGOjhiwmdsWyUO+QyCf6bkosR4TFIyS4UOxoRkVosNURULYlEAn8fJ0QH9UILcyPczC/BK/85iV1neTNLItI+LDVE9EydHczx89t90K9dc5RVKvHe9+ewIDoZj8oVYkcjIlJhqSGiGmlmoo+vp3TH/EFtIZUA0fG38PJ/TuDG3YdiRyMiAsBSQ0QakEolmD2gDbZN7wGrJvq4fLsYI8NjcOBCjtjRiIhYaohIc71aW+Hnt33R3akZissqEbQtAct+vogKBWf7JiLxsNQQ0T9ia2aI7YE98WZfFwDA5pgbmPDVadwuLBU5GRE1Viw1RPSPyWVSfDC0PTa83hVNDfQQf/M+hn1xHMfS7ogdjYgaIZYaInpuQzxs8dPbfdDBzhT5D8sx5etY/Hv/JZRX8ucoIqo/LDVEVCucrEywZ2Yv+PdsBQD46o/rGBNxkldHEVG9YakholpjKJdh2WgPfOnfFWZGcpzPKsTwL45jT8ItsaMRUSPAUkNEtW6wuy1+nesLb2cLPCxX4N1dyXjnuyQ8KKsUOxoR6TCWGiKqE/bmRtgR2BPvvvT4Zn17E7Mw/IvjOHerQOxoRKSjWGqIqM7IpBLMGdgG383wgb2ZIdLzSzAm4iQ2/nEdSqUgdjwi0jEsNURU57o7WeDXuX3h52GLCoWAFfsvYeqWs7hTXCZ2NCLSISw1RFQvzIzl+M+kLvj3yx1hoCfFH2l34Lf2D97ThohqDUsNEdUbiUSC13o44qe3+6CdTVPcfcB72hBR7WGpIaJ619amKX6Y3bvKPW3GbjiJdN7ThoieA0sNEYnif+9pc+5WIYZ9cRzRcZkQBA4iJiLNsdQQkaj+9542C3afw1vbEnDvYbnY0YiogWGpISLRPbmnzXtD2kEuk+BAym0M/vwPHEnNEzsaETUgLDVEpBVkUglm9muNvTN7o7V1E9wpLsO0b85i4b4LeFSuEDseETUALDVEpFU8Wpjh57f7YGovJwDAt6dvYtgXx5GcWSBqLiLSfiw1RKR1DOUyLB7pjm+ne8PG1ADX7z7EKxEnsfbQFVQqeOk3EanHUkNEWsu3TXP8N7gvhnWyg0Ip4LNDaRi74RRu8NJvIlKDpYaItJq5sT7WTfTC5+M7o6mhHpIyCzB07XFsP5PBS7+JqAqWGiLSehKJBKO9WuBAcF/0dLHAowoFPth7HoFb4zh/FBGpsNQQUYPRwtwI29/oiX8NbQ99mRSHLuVhyOd/4ODFXLGjEZEWYKkhogZFKpUgsK8Lfny7N9xsmyL/YTkCt8Yh5PtzeFBWKXY8IhIRSw0RNUhutqb4YXZvvNnXBRIJsPNsJgZ/9gdOXL0rdjQiEglLDRE1WAZ6MnwwtD22v9ETLZsZIavgESZtOoMP9p5HcWmF2PGIqJ6x1BBRg+fjaon/BvfFZJ/Hs35vP5OBwZ/9gT/S7oicjIjqE0sNEekEEwM9LB3lgR2BPeFoYYzswlJM/joWId+fQxG/tSFqFFhqiEin+Lha4kCwr2qahSdjbY5yckwincdSQ0Q6x1hfD4tHumPXDB84WRojp7AUU785iwXRySh8xG9tiHQVSw0R6SxvZwv8OrcvpvdxhkQCRMffwqDPjuH3y7yvDZEuYqkhIp1mpC/DwuEdED3DB85WJsgtKkPAlji8uysJhSX81oZIl7DUEFGj0M3JAr/O9UWg7+NvbfYkZOGlz47xbsREOoSlhogaDUO5DP8a1gG7g3rBpbkJ8orLELg1DsE7E3H/YbnY8YjoObHUEFGj07VVM+yf44sZL7hAKgH2JWVj4Jpj+D7+Fmf+JmrAWGqIqFEylMsQ6tce37/VC+1smuLew3LMi07GaxvP4PqdB2LHI6J/gKWGiBo1L8dm+HlOH7w/xA2GcilOXc/HkM+PY+2hKyirVIgdj4g0wFJDRI2eXCbFW/1c8VvwC3ihbXOUK5T47FAa/NYex+nr+WLHI6IaYqkhIvqTo6UxtkzrjvCJXrBqYoDrdx5iwlenMT86Gfc4kJhI67HUEBH9PxKJBCM87XF43guY1MMRALA7/hYGfnoUuzmQmEirsdQQEalhZiTHipc74vu3esHNtinul1RgfnQyJm48jWscSEyklVhqiIj+RtdWzfDT230Q4vd4IPHp6/fg9/lxfH4ojQOJibQMSw0R0TPIZVIEveCKg+/8NZD480NX4Lf2OE5d40BiIm3BUkNEVEMOFo8HEq97zQvNmz4eSDxx42m8810S8opKxY5H1Oix1BARaUAikWB4J3scevfxQGKJBNibmIUBnx7DpuPXUaFQih2RqNGSCI1kKH9RURHMzMxQWFgIU1NTseMQkY5IzizAoh9TkJxZAABoY90ES0a6o1drK3GDEekITT6/WWqIiJ6TUikgOj4TYQdSVfezGdbJDv8a2h725kYipyNq2DT5/ObPT0REz0kqlWB8d0ccmdcPU3xaQSoBfjmXg4GfHsP6I1d5lRRRPeE3NUREtexidhE++vECzqbfBwA4W5ngoxEd0K+dtcjJiBoe/vykBksNEdUnQRCwLykL/95/GXeKywAAL3WwwaLhHeBgYSxyOqKGo85+flIoFFi4cCGcnZ1hZGQEV1dXLFu27Jm3DY+KioKnpyeMjY1hZ2eHgIAA5Oerv7fDzp07IZFIMHr0aNWyiooKvP/+++jYsSNMTExgb2+PyZMnIzs7W5P4RET1RiKR4GWvlvh93gt4o48zZFIJDl7MxYtrjuHzQ2koreBPUkS1TaNSExYWhoiICKxbtw6XLl1CWFgYVq1ahfDw8Gq3OXHiBCZPnozp06cjJSUF0dHRiI2NRWBg4FPrpqenY/78+fD19a2yvKSkBAkJCVi4cCESEhKwZ88epKamYuTIkZrEJyKqd00N5fhweAf8OtcXvVwtUVb5+MZ9L645ht9SbnMuKaJapNHPT8OHD4eNjQ02b96sWjZmzBgYGRlh27ZtardZvXo1IiIicO3aNdWy8PBwhIWF4datW6plCoUCffv2RUBAAI4fP46CggLs27ev2ixnz56Ft7c3bt68CUdHx2dm589PRCQ2QRCw//xtLP/lInIKH9+sz7eNFRYO74C2Nk1FTkekners56devXrh8OHDSEtLAwAkJycjJiYGfn5+1W7j4+ODzMxM7N+/H4IgIDc3F7t378bQoUOrrLd06VJYW1tj+vTpNcpSWFgIiUQCc3Nztc+XlZWhqKioyoOISEwSiQTDOtnh0LsvYGY/V+jLpDh+5S6GfP4HFu67oLocnIj+GY1KTUhICCZMmAA3NzfI5XJ4eXkhODgYkyZNqnab3r17IyoqCuPHj4e+vj5sbW1hZmaG9evXq9aJiYnB5s2bsXHjxhrlKC0txfvvv4+JEydW29pWrlwJMzMz1cPBwUGTXSUiqjMmBnp4b4gbDr7bF0PcbaEUgG9P38QLnxzBpuPXUV7JuxIT/RMalZpdu3YhKioK27dvR0JCAiIjI7F69WpERkZWu83Fixcxd+5cLFq0CPHx8Thw4ADS09MRFBQEACguLoa/vz82btwIK6tn34GzoqICr776KgRBQERERLXrhYaGorCwUPXIzMzUZFeJiOpcK0sTbPDvip1v9kQHO1MUl1Zi+S+XMOgzjrch+ic0GlPj4OCAkJAQzJo1S7Vs+fLl2LZtGy5fvqx2G39/f5SWliI6Olq1LCYmBr6+vsjOzkZubi68vLwgk8lUzyuVj/+XIpVKkZqaCldXVwB/FZrr16/j999/h6WlZY13lGNqiEibKZQCvo+/hVX/TcXdB48vAe/laomFwzugvR3/zaLGS5PPbz1NXrikpARSadUvd2QymaqEVLeNnl7Vt3lSYARBgJubG86fP1/l+Q8//BDFxcVYu3at6mejJ4XmypUrOHLkiEaFhohI28mkErza3QFDO9kh4uhVbDx+Ayev5WPYF8cxvrsj5g1qC6smBmLHJNJqGpWaESNGYMWKFXB0dIS7uzsSExOxZs0aBAQEqNYJDQ1FVlYWtm7dqtomMDAQERERGDx4MHJychAcHAxvb2/Y29sDADw8PKq8z5PBv0+WV1RUYOzYsUhISMDPP/8MhUKB27dvAwAsLCygr6//z/aeiEjLNDHQw4LBbpjQ3REfH7iMX87lYEdsBn5KzsbsAa0xrbcTDPRkz34hokZIo5+fiouLsXDhQuzduxd5eXmwt7fHxIkTsWjRIlWxmDp1KtLT03H06FHVduHh4diwYQNu3LgBc3NzDBgwAGFhYWjRooXa95k6dWqVS7rT09Ph7Oysdt0jR46gX79+z8zOn5+IqCE6m34Py36+iHO3CgEAjhbG+GCoGwa720IikYicjqjucZoENVhqiKihUioF7E3Mwqr/XkZu0ePxNj2cLfDhsA7o2NJM5HREdYulRg2WGiJq6ErKK7Hh2HV8eewayv687Ht4JzvMH9QOTlYmIqcjqhssNWqw1BCRrsgueITV/03F3qQsCAKgJ5XgtR6OeHtAGzRvysHEpFtYatRgqSEiXXMxuwir/nsZR1PvAACM9WUI9HVBYF8XNDHQ6DoQIq3FUqMGSw0R6aqT1+4i7NfLSP5zMLGliT7mDGyDid6O0NfT6B6rRFqHpUYNlhoi0mWCIODXC7fxyX9TcePuQwCPr5SaP7gdhne0g1TKK6WoYWKpUYOlhogagwqFEt+dzcTnh66o7kzs0cIUIUPao0+bZ09FQ6RtWGrUYKkhosbkYVklvo65gS//uI4HZZUAAN82Vnh/iBs8WvAycGo4WGrUYKkhosYo/0EZ1h25im2nb6JC8fif+5Ge9nj3pba8DJwaBJYaNVhqiKgxy7xXgk9/S8W+pGwAj+eaesWrBd4e0AaOlsYipyOqHkuNGiw1RETAhaxCrP4tVXUZuJ5UgjFdWmL2gNZwsGC5Ie3DUqMGSw0R0V8SMu7j80NX8EfaX+VmXDcHzB7QGi3MjUROR/QXlho1WGqIiJ4Wf/MePjt4BTFX7wIA5DIJxnd3wKz+rWFnxnJD4mOpUYOlhoioemfT7+Gzg2k4eS0fAKAvk2KCtwNm9msNWzNDkdNRY8ZSowZLDRHRs52+no/PDqbhzI17AAB9PSle83bEzH6usDZluaH6x1KjBksNEVHNnbx2F58fvILY9MflxkBPikk9WiGonwusm7LcUP1hqVGDpYaISDOCIODE1Xx8digN8TfvAwAM5VK83qMV3uzrwm9uqF6w1KjBUkNE9M8IgoDjV+7is0NpSMwoAPD4m5uJ3o4IesGVY26oTrHUqMFSQ0T0fARBwLG0O/ji8BUk/Flu9GVSjO/ugKB+rrwUnOoES40aLDVERLVDEAScvJaPtYf+GnMjl0kwtqsDZvZz5U38qFax1KjBUkNEVPtOX8/HF4evqC4FfzL9wqz+rTm3FNUKlho1WGqIiOrO2fR7+OLwFRy/8vgmflIJMLpzC8wa0BquzZuInI4aMpYaNVhqiIjqXkLGfYQfvoIjf84tJZEAIzrZ4+0BrdHGpqnI6aghYqlRg6WGiKj+nLtVgPDfr+LgxVwAj8vNUA87zOrfGh3s+W8w1RxLjRosNURE9S8luxDrfr+KXy/cVi17oW1zBL3gip4uFpBIJCKmo4aApUYNlhoiIvFcvl2E9Ueu4Zdz2VD++anT2cEcQS+4YlAHG0ilLDekHkuNGiw1RETiy8gvwVfHryE67hbKKpUAAJfmJgjq64rRXi2grycVOSFpG5YaNVhqiIi0x53iMmw5eQPfnrqJotJKAICtqSGm93HGxB6OaGKgJ3JC0hYsNWqw1BARaZ8HZZXYcSYDm2KuI7eoDABgaqiHyT5OmNrbCVZNDEROSGJjqVGDpYaISHuVVSrwQ2I2NvxxDdfvPATweH6pcd1a4k1fVzha8i7FjRVLjRosNURE2k+pFPDbxVxEHLuG5MwCAI9v5Deskz1m9HWBRwszcQNSvWOpUYOlhoio4RAEAaev30PEsWv4I+2Oarm3kwUC+jjhpQ62kPGKqUaBpUYNlhoioobpQlYhNh6/jl/O5aDyz+vBW5gbYWovJ7za3QFmRnKRE1JdYqlRg6WGiKhhu11Yim2nbyLqzE3cL6kAABjryzCua0tM7e0MZ06gqZNYatRgqSEi0g2lFQrsS8zCNyfSkZpbrFo+wM0aAb2d0bu1Je9UrENYatRgqSEi0i2CIODktXx8HXMDhy/nqZa3tWmCab2d8bJXCxjKZSImpNrAUqMGSw0Rke66cfchIk+mY1dcJkrKFQCAZsZyvNbDEf49nWBrZihyQvqnWGrUYKkhItJ9hY8qEB2XiS0n03Hr/iMAgJ5UgiEetpjSywndWjXjT1MNDEuNGiw1RESNh0Ip4ODFXHxz4gbO3LinWu5m2xSTfZww2ssexvqciqEhYKlRg6WGiKhxSskuxLenbmJfUhZKKx5PotnUUA/jujrA36cVr5rSciw1arDUEBE1boUlFYiOz8S3p2/iZn6Jannfts0xuWcr9Hez5g39tBBLjRosNUREBDyeiuHYlTv49tRNHEnNw5NPwZbNjPB6z1YY380BzUz0xQ1JKiw1arDUEBHR/8rIL8G2Mzfx3dlMFD56fEM/Az0pRnjaY7JPK3RqaS5uQGKpUYelhoiIqvOoXIGfkrOx9XQ6LmQVqZZ3djDH6z1bYVhHOxjp8543YmCpUYOlhoiInkUQBCRmFmDryXT8cj4HFYrHH5FNDfQwysseE7o7cqbwesZSowZLDRERaeJOcRl2xWVi59kMZN57pFresYUZJng7YKSnPZoacjLNusZSowZLDRER/RNKpYBT1/OxIzYDv6Xkolzx+LJwI7kMwzvZYYK3I7o4mvOmfnWEpUYNlhoiInpe9x6WY0/CLeyIzcC1Ow9Vy9vaNMH47o54xasFr5yqZSw1arDUEBFRbREEAfE372NHbCZ+OZ+tuqmfvp4UQ9xtMcHbAT2dLSHlfW+eG0uNGiw1RERUFwofVeDH5GzsjM1ASvZfV061sjTGq90cMKZLS06o+RxYatRgqSEiorp2/lYhdpzNwI9J2XhQVgkAkEoe37X41W4OGNjeGgZ6vDRcEyw1arDUEBFRfSkpr8TP53KwO+4WYtP/mlDT3FiO0Z1bYFy3lnC356XhNcFSowZLDRERieHG3YfYHZ+J7+OzcLuoVLXc3d4U47q2xKjOHFz8d1hq1GCpISIiMSmUAo5fuYPouFs4ePGvS8P1ZVK85G6DcV1bwrdNc06q+T9YatRgqSEiIm1x/2E5fkjKQnT8rSqDi21NDTGmawuM6+oAJysTERNqD5YaNVhqiIhIG6VkFyI67hb2JWWhoKRCtbxbq2YY5dUCwzrawaIR/zzFUqMGSw0REWmzskoFDl/Kw664TPyRdgfKPz+d9aQSvNC2OUZ5tcBL7W0a3cSamnx+SzV5YYVCgYULF8LZ2RlGRkZwdXXFsmXL8KxeFBUVBU9PTxgbG8POzg4BAQHIz89Xu+7OnTshkUgwevToKsv37NmDQYMGwdLSEhKJBElJSZpEJyIi0moGejIM7WiHLdO8cSp0ID4c1h4eLUxRqRRw+HIe5uxIRNflB/HOd0k4mpqHyj/H5NBfNPqm5t///jfWrFmDyMhIuLu7Iy4uDtOmTcOKFSswZ84ctducOHECffv2xWeffYYRI0YgKysLQUFBaNu2Lfbs2VNl3fT0dPTp0wcuLi6wsLDAvn37VM99++23uHHjBuzt7REYGIjExER07ty5xjvKb2qIiKghuppXjB+SsvFDUjYy7pWolls10cfwTvYY1dkenR10d+6pOvv5afjw4bCxscHmzZtVy8aMGQMjIyNs27ZN7TarV69GREQErl27ploWHh6OsLAw3Lp1S7VMoVCgb9++CAgIwPHjx1FQUFCl1DyRnp4OZ2dnlhoiImpUBEFAQkYBfkjKws/ncnDvYbnqOSdLY4zs3AKjO9vDpXkTEVPWvjr7+alXr144fPgw0tLSAADJycmIiYmBn59ftdv4+PggMzMT+/fvhyAIyM3Nxe7duzF06NAq6y1duhTW1taYPn26JpGqVVZWhqKioioPIiKihkoikaBrq2ZYOsoDZz4YiG+mdcfozvYwksuQnl+CLw5fwYBPj2HkuhhsOn4dOYWPxI5c7/Q0WTkkJARFRUVwc3ODTCaDQqHAihUrMGnSpGq36d27N6KiojB+/HiUlpaisrISI0aMwPr161XrxMTEYPPmzbU6TmblypVYsmRJrb0eERGRtpDLpOjfzhr921mjpLwSBy/mYl9iFv64chfnbhXi3K1CLP/lErydLDDC0w5+He1g1cRA7Nh1TqNvanbt2oWoqChs374dCQkJiIyMxOrVqxEZGVntNhcvXsTcuXOxaNEixMfH48CBA0hPT0dQUBAAoLi4GP7+/ti4cSOsrKyeb2/+n9DQUBQWFqoemZmZtfbaRERE2sJYXw+jOrfAN9O8EfvBQCwd5Q5vJwsAQGz6PSz8IQXeKw7h9U1n8N3ZDBSUlD/jFRsujcbUODg4ICQkBLNmzVItW758ObZt24bLly+r3cbf3x+lpaWIjo5WLYuJiYGvry+ys7ORm5sLLy8vyGR/XaKmVD4e0S2VSpGamgpXV1fVcxxTQ0RE9GzZBY+w/3wOfjqXg+TMAtVyuUwC3zbNMcLTDi+2t0FTQ7l4IWtAk89vjX5+KikpgVRa9csdmUymKiHVbaOnV/VtnhQYQRDg5uaG8+fPV3n+ww8/RHFxMdauXQsHBwdNIhIREREAe3MjvOHrgjd8XZCRX4KfzmXj53M5uJRThN8v5+H3y3nQ15NiQDtrDPe0w0C3hn8PHI1KzYgRI7BixQo4OjrC3d0diYmJWLNmDQICAlTrhIaGIisrC1u3blVtExgYiIiICAwePBg5OTkIDg6Gt7c37O3tAQAeHh5V3sfc3Pyp5ffu3UNGRgays7MBAKmpqQAAW1tb2NraarjbREREjYejpTFm9W+NWf1b42peMX5KzsFP57Jx/c5DHEi5jQMpt2GsL8OL7W0wrJMdXmjbHIbyhldwNPr5qbi4GAsXLsTevXuRl5cHe3t7TJw4EYsWLYK+/uNbOE+dOhXp6ek4evSoarvw8HBs2LABN27cgLm5OQYMGICwsDC0aNFC7ftMnTr1qUu6t2zZgmnTpj217kcffYTFixc/Mzt/fiIiIvqLIAi4lFOMn85l46fkbNy6/9fVUsb6MvR3s4afhy36t7OGiYFG34HUKk6ToAZLDRERkXqCICD5ViF+Ss7GgQu3kVXwV8Ex0JOib9vm8POwxcD2NjAzqt8xOCw1arDUEBERPZsgCDh3qxC/XriNAxdykJ7/112M5TIJere2gp+HLV7qYFsvE22y1KjBUkNERKSZJz9RHbiQg18v3MaVvAeq52RSCXq6WGCIhx0Gu9vAuqlhnWRgqVGDpYaIiOj5XM0rxq/nb+PXC7dxMeevO/VLJEC3Vs3g52GHV7s7oEktjsFhqVGDpYaIiKj23Mx/iAMXbmP/hduq++AY6EkRv/Al0UqNeMOZiYiIqMFqZWmCGS+4YsYLrsgueIQDF27jfkl5rRYaTbHUEBER0XOxNzdCQB9nsWNoNvcTERERkbZiqSEiIiKdwFJDREREOoGlhoiIiHQCSw0RERHpBJYaIiIi0gksNURERKQTWGqIiIhIJ7DUEBERkU5gqSEiIiKdwFJDREREOoGlhoiIiHQCSw0RERHphEYzS7cgCACAoqIikZMQERFRTT353H7yOf53Gk2pKS4uBgA4ODiInISIiIg0VVxcDDMzs79dRyLUpProAKVSiezsbDRt2hQSiaRWX7uoqAgODg7IzMyEqalprb62ruGxqjkeq5rjsdIMj1fN8VjVXF0dK0EQUFxcDHt7e0ilfz9qptF8UyOVStGyZcs6fQ9TU1Oe9DXEY1VzPFY1x2OlGR6vmuOxqrm6OFbP+obmCQ4UJiIiIp3AUkNEREQ6gaWmFhgYGOCjjz6CgYGB2FG0Ho9VzfFY1RyPlWZ4vGqOx6rmtOFYNZqBwkRERKTb+E0NERER6QSWGiIiItIJLDVERESkE1hqiIiISCew1BAREZFOYKmpBevXr4eTkxMMDQ3Ro0cPxMbGih1J6yxevBgSiaTKw83NTexYWuGPP/7AiBEjYG9vD4lEgn379lV5XhAELFq0CHZ2djAyMsKLL76IK1euiBNWZM86VlOnTn3qPBsyZIg4YUW2cuVKdO/eHU2bNoW1tTVGjx6N1NTUKuuUlpZi1qxZsLS0RJMmTTBmzBjk5uaKlFg8NTlW/fr1e+rcCgoKEimxeCIiItCpUyfVXYN9fHzw66+/qp4X+5xiqXlO3333Hd5991189NFHSEhIgKenJwYPHoy8vDyxo2kdd3d35OTkqB4xMTFiR9IKDx8+hKenJ9avX6/2+VWrVuGLL77Ahg0bcObMGZiYmGDw4MEoLS2t56Tie9axAoAhQ4ZUOc927NhRjwm1x7FjxzBr1iycPn0aBw8eREVFBQYNGoSHDx+q1nnnnXfw008/ITo6GseOHUN2djZeeeUVEVOLoybHCgACAwOrnFurVq0SKbF4WrZsiY8//hjx8fGIi4vDgAEDMGrUKKSkpADQgnNKoOfi7e0tzJo1S/V3hUIh2NvbCytXrhQxlfb56KOPBE9PT7FjaD0Awt69e1V/VyqVgq2trfDJJ5+olhUUFAgGBgbCjh07REioPf73WAmCIEyZMkUYNWqUKHm0XV5engBAOHbsmCAIj88juVwuREdHq9a5dOmSAEA4deqUWDG1wv8eK0EQhBdeeEGYO3eueKG0WLNmzYRNmzZpxTnFb2qeQ3l5OeLj4/Hiiy+qlkmlUrz44os4deqUiMm005UrV2Bvbw8XFxdMmjQJGRkZYkfSejdu3MDt27ernGNmZmbo0aMHz7FqHD16FNbW1mjXrh3eeust5Ofnix1JKxQWFgIALCwsAADx8fGoqKiocm65ubnB0dGx0Z9b/3usnoiKioKVlRU8PDwQGhqKkpISMeJpDYVCgZ07d+Lhw4fw8fHRinOq0czSXRfu3r0LhUIBGxubKsttbGxw+fJlkVJppx49emDLli1o164dcnJysGTJEvj6+uLChQto2rSp2PG01u3btwFA7Tn25Dn6y5AhQ/DKK6/A2dkZ165dwwcffAA/Pz+cOnUKMplM7HiiUSqVCA4ORu/eveHh4QHg8bmlr68Pc3PzKus29nNL3bECgNdeew2tWrWCvb09zp07h/fffx+pqanYs2ePiGnFcf78efj4+KC0tBRNmjTB3r170aFDByQlJYl+TrHUUL3w8/NT/blTp07o0aMHWrVqhV27dmH69OkiJiNdMmHCBNWfO3bsiE6dOsHV1RVHjx7FwIEDRUwmrlmzZuHChQscx1YD1R2rN998U/Xnjh07ws7ODgMHDsS1a9fg6upa3zFF1a5dOyQlJaGwsBC7d+/GlClTcOzYMbFjAeBA4ediZWUFmUz21Mju3Nxc2NraipSqYTA3N0fbtm1x9epVsaNotSfnEc+xf8bFxQVWVlaN+jybPXs2fv75Zxw5cgQtW7ZULbe1tUV5eTkKCgqqrN+Yz63qjpU6PXr0AIBGeW7p6+ujdevW6Nq1K1auXAlPT0+sXbtWK84plprnoK+vj65du+Lw4cOqZUqlEocPH4aPj4+IybTfgwcPcO3aNdjZ2YkdRas5OzvD1ta2yjlWVFSEM2fO8ByrgVu3biE/P79RnmeCIGD27NnYu3cvfv/9dzg7O1d5vmvXrpDL5VXOrdTUVGRkZDS6c+tZx0qdpKQkAGiU59b/UiqVKCsr045zql6GI+uwnTt3CgYGBsKWLVuEixcvCm+++aZgbm4u3L59W+xoWmXevHnC0aNHhRs3bggnTpwQXnzxRcHKykrIy8sTO5roiouLhcTERCExMVEAIKxZs0ZITEwUbt68KQiCIHz88ceCubm58MMPPwjnzp0TRo0aJTg7OwuPHj0SOXn9+7tjVVxcLMyfP184deqUcOPGDeHQoUNCly5dhDZt2gilpaViR693b731lmBmZiYcPXpUyMnJUT1KSkpU6wQFBQmOjo7C77//LsTFxQk+Pj6Cj4+PiKnF8axjdfXqVWHp0qVCXFyccOPGDeGHH34QXFxchL59+4qcvP6FhIQIx44dE27cuCGcO3dOCAkJESQSifDbb78JgiD+OcVSUwvCw8MFR0dHQV9fX/D29hZOnz4tdiStM378eMHOzk7Q19cXWrRoIYwfP164evWq2LG0wpEjRwQATz2mTJkiCMLjy7oXLlwo2NjYCAYGBsLAgQOF1NRUcUOL5O+OVUlJiTBo0CChefPmglwuF1q1aiUEBgY22v9gqDtOAIRvvvlGtc6jR4+EmTNnCs2aNROMjY2Fl19+WcjJyREvtEiedawyMjKEvn37ChYWFoKBgYHQunVrYcGCBUJhYaG4wUUQEBAgtGrVStDX1xeaN28uDBw4UFVoBEH8c0oiCIJQP98JEREREdUdjqkhIiIincBSQ0RERDqBpYaIiIh0AksNERER6QSWGiIiItIJLDVERESkE1hqiIiISCew1BAREZFOYKkhIiIincBSQ0RERDqBpYaIiIh0wv8B/7AalsHRnYwAAAAASUVORK5CYII=",
            "text/plain": [
              "<Figure size 640x480 with 1 Axes>"
            ]
          },
          "metadata": {},
          "output_type": "display_data"
        },
        {
          "data": {
            "image/png": "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",
            "text/plain": [
              "<Figure size 640x480 with 1 Axes>"
            ]
          },
          "metadata": {},
          "output_type": "display_data"
        },
        {
          "data": {
            "image/png": "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",
            "text/plain": [
              "<Figure size 640x480 with 1 Axes>"
            ]
          },
          "metadata": {},
          "output_type": "display_data"
        },
        {
          "name": "stdout",
          "output_type": "stream",
          "text": [
            "0.09019408299354836\n",
            "0.09241304197348654\n"
          ]
        },
        {
          "name": "stderr",
          "output_type": "stream",
          "text": [
            "100%|██████████| 31/31 [00:01<00:00, 22.22it/s]\n"
          ]
        },
        {
          "name": "stdout",
          "output_type": "stream",
          "text": [
            "get_train ndcg time 1.3970510410144925\n"
          ]
        },
        {
          "name": "stderr",
          "output_type": "stream",
          "text": [
            "100%|██████████| 31/31 [00:00<00:00, 347.79it/s]\n"
          ]
        },
        {
          "name": "stdout",
          "output_type": "stream",
          "text": [
            "get_test ndcg time 0.09057979204226285\n"
          ]
        },
        {
          "name": "stderr",
          "output_type": "stream",
          "text": [
            "100%|██████████| 40/40 [00:00<00:00, 167.03it/s]\n"
          ]
        },
        {
          "name": "stdout",
          "output_type": "stream",
          "text": [
            "compute_train_recall ndcg time 0.2634156249696389\n"
          ]
        },
        {
          "name": "stderr",
          "output_type": "stream",
          "text": [
            "100%|██████████| 31/31 [00:00<00:00, 170.90it/s]\n"
          ]
        },
        {
          "name": "stdout",
          "output_type": "stream",
          "text": [
            "compute test recall ndcg time 0.18594500003382564\n",
            "0.09281316702254117\n",
            "0.08833341597346589\n",
            "0.09354133403394371\n",
            "0.09121820901054889\n"
          ]
        },
        {
          "name": "stderr",
          "output_type": "stream",
          "text": [
            "100%|██████████| 31/31 [00:01<00:00, 22.28it/s]\n"
          ]
        },
        {
          "name": "stdout",
          "output_type": "stream",
          "text": [
            "get_train ndcg time 1.3935209579649381\n"
          ]
        },
        {
          "name": "stderr",
          "output_type": "stream",
          "text": [
            "100%|██████████| 31/31 [00:00<00:00, 350.87it/s]\n"
          ]
        },
        {
          "name": "stdout",
          "output_type": "stream",
          "text": [
            "get_test ndcg time 0.08974737499374896\n"
          ]
        },
        {
          "name": "stderr",
          "output_type": "stream",
          "text": [
            "100%|██████████| 40/40 [00:00<00:00, 176.87it/s]\n"
          ]
        },
        {
          "name": "stdout",
          "output_type": "stream",
          "text": [
            "compute_train_recall ndcg time 0.24885287502547726\n"
          ]
        },
        {
          "name": "stderr",
          "output_type": "stream",
          "text": [
            "100%|██████████| 31/31 [00:00<00:00, 170.82it/s]\n"
          ]
        },
        {
          "name": "stdout",
          "output_type": "stream",
          "text": [
            "compute test recall ndcg time 0.18550087499897927\n",
            "0.0959747500019148\n",
            "0.09326574997976422\n",
            "0.09160541597520933\n",
            "0.09365358302602544\n"
          ]
        },
        {
          "name": "stderr",
          "output_type": "stream",
          "text": [
            "100%|██████████| 31/31 [00:01<00:00, 22.38it/s]\n"
          ]
        },
        {
          "name": "stdout",
          "output_type": "stream",
          "text": [
            "get_train ndcg time 1.3867249170434661\n"
          ]
        },
        {
          "name": "stderr",
          "output_type": "stream",
          "text": [
            "100%|██████████| 31/31 [00:00<00:00, 351.99it/s]\n"
          ]
        },
        {
          "name": "stdout",
          "output_type": "stream",
          "text": [
            "get_test ndcg time 0.08936837501823902\n"
          ]
        },
        {
          "name": "stderr",
          "output_type": "stream",
          "text": [
            "100%|██████████| 40/40 [00:00<00:00, 186.86it/s]\n"
          ]
        },
        {
          "name": "stdout",
          "output_type": "stream",
          "text": [
            "compute_train_recall ndcg time 0.23766779201105237\n"
          ]
        },
        {
          "name": "stderr",
          "output_type": "stream",
          "text": [
            "100%|██████████| 31/31 [00:00<00:00, 237.08it/s]\n"
          ]
        },
        {
          "name": "stdout",
          "output_type": "stream",
          "text": [
            "compute test recall ndcg time 0.13473025005077943\n",
            "Epoch: 40, Loss: 8.840291023254395\n"
          ]
        },
        {
          "data": {
            "image/png": "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",
            "text/plain": [
              "<Figure size 640x480 with 1 Axes>"
            ]
          },
          "metadata": {},
          "output_type": "display_data"
        },
        {
          "data": {
            "image/png": "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",
            "text/plain": [
              "<Figure size 640x480 with 1 Axes>"
            ]
          },
          "metadata": {},
          "output_type": "display_data"
        },
        {
          "data": {
            "image/png": "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",
            "text/plain": [
              "<Figure size 640x480 with 1 Axes>"
            ]
          },
          "metadata": {},
          "output_type": "display_data"
        },
        {
          "name": "stdout",
          "output_type": "stream",
          "text": [
            "0.0947054999996908\n",
            "0.10580250003840774\n",
            "0.08625424996716902\n",
            "0.09073166694724932\n"
          ]
        },
        {
          "name": "stderr",
          "output_type": "stream",
          "text": [
            "100%|██████████| 31/31 [00:01<00:00, 22.29it/s]\n"
          ]
        },
        {
          "name": "stdout",
          "output_type": "stream",
          "text": [
            "get_train ndcg time 1.3926524170092307\n"
          ]
        },
        {
          "name": "stderr",
          "output_type": "stream",
          "text": [
            "100%|██████████| 31/31 [00:00<00:00, 344.80it/s]\n"
          ]
        },
        {
          "name": "stdout",
          "output_type": "stream",
          "text": [
            "get_test ndcg time 0.09124145901296288\n"
          ]
        },
        {
          "name": "stderr",
          "output_type": "stream",
          "text": [
            "100%|██████████| 40/40 [00:00<00:00, 180.53it/s]\n"
          ]
        },
        {
          "name": "stdout",
          "output_type": "stream",
          "text": [
            "compute_train_recall ndcg time 0.24579854198964313\n"
          ]
        },
        {
          "name": "stderr",
          "output_type": "stream",
          "text": [
            "100%|██████████| 31/31 [00:00<00:00, 172.42it/s]\n"
          ]
        },
        {
          "name": "stdout",
          "output_type": "stream",
          "text": [
            "compute test recall ndcg time 0.1833798749721609\n",
            "0.09051025001099333\n",
            "0.08976091700606048\n",
            "0.08841387502616271\n",
            "0.08308174996636808\n"
          ]
        },
        {
          "name": "stderr",
          "output_type": "stream",
          "text": [
            "100%|██████████| 31/31 [00:01<00:00, 22.24it/s]\n"
          ]
        },
        {
          "name": "stdout",
          "output_type": "stream",
          "text": [
            "get_train ndcg time 1.3962811669916846\n"
          ]
        },
        {
          "name": "stderr",
          "output_type": "stream",
          "text": [
            "100%|██████████| 31/31 [00:00<00:00, 291.71it/s]\n"
          ]
        },
        {
          "name": "stdout",
          "output_type": "stream",
          "text": [
            "get_test ndcg time 0.10802595899440348\n"
          ]
        },
        {
          "name": "stderr",
          "output_type": "stream",
          "text": [
            "100%|██████████| 40/40 [00:00<00:00, 171.70it/s]\n"
          ]
        },
        {
          "name": "stdout",
          "output_type": "stream",
          "text": [
            "compute_train_recall ndcg time 0.2562583329854533\n"
          ]
        },
        {
          "name": "stderr",
          "output_type": "stream",
          "text": [
            "100%|██████████| 31/31 [00:00<00:00, 159.41it/s]\n"
          ]
        },
        {
          "name": "stdout",
          "output_type": "stream",
          "text": [
            "compute test recall ndcg time 0.19856854196405038\n",
            "0.09042737499112263\n",
            "0.09560245799366385\n",
            "Epoch: 50, Loss: 8.839960098266602\n"
          ]
        },
        {
          "data": {
            "image/png": "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",
            "text/plain": [
              "<Figure size 640x480 with 1 Axes>"
            ]
          },
          "metadata": {},
          "output_type": "display_data"
        },
        {
          "data": {
            "image/png": "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",
            "text/plain": [
              "<Figure size 640x480 with 1 Axes>"
            ]
          },
          "metadata": {},
          "output_type": "display_data"
        },
        {
          "data": {
            "image/png": "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",
            "text/plain": [
              "<Figure size 640x480 with 1 Axes>"
            ]
          },
          "metadata": {},
          "output_type": "display_data"
        },
        {
          "name": "stdout",
          "output_type": "stream",
          "text": [
            "0.09674566600006074\n",
            "0.1014361249981448\n"
          ]
        },
        {
          "name": "stderr",
          "output_type": "stream",
          "text": [
            "100%|██████████| 31/31 [00:01<00:00, 22.27it/s]\n"
          ]
        },
        {
          "name": "stdout",
          "output_type": "stream",
          "text": [
            "get_train ndcg time 1.3937270829919726\n"
          ]
        },
        {
          "name": "stderr",
          "output_type": "stream",
          "text": [
            "100%|██████████| 31/31 [00:00<00:00, 349.80it/s]\n"
          ]
        },
        {
          "name": "stdout",
          "output_type": "stream",
          "text": [
            "get_test ndcg time 0.0900032909703441\n"
          ]
        },
        {
          "name": "stderr",
          "output_type": "stream",
          "text": [
            "100%|██████████| 40/40 [00:00<00:00, 185.49it/s]\n"
          ]
        },
        {
          "name": "stdout",
          "output_type": "stream",
          "text": [
            "compute_train_recall ndcg time 0.23964050004724413\n"
          ]
        },
        {
          "name": "stderr",
          "output_type": "stream",
          "text": [
            "100%|██████████| 31/31 [00:00<00:00, 163.08it/s]\n"
          ]
        },
        {
          "name": "stdout",
          "output_type": "stream",
          "text": [
            "compute test recall ndcg time 0.1936701670056209\n",
            "0.09072254097554833\n",
            "0.08994625002378598\n",
            "0.09047537500737235\n",
            "0.0893864159588702\n"
          ]
        },
        {
          "name": "stderr",
          "output_type": "stream",
          "text": [
            "100%|██████████| 31/31 [00:01<00:00, 22.91it/s]\n"
          ]
        },
        {
          "name": "stdout",
          "output_type": "stream",
          "text": [
            "get_train ndcg time 1.3554978329921141\n"
          ]
        },
        {
          "name": "stderr",
          "output_type": "stream",
          "text": [
            "100%|██████████| 31/31 [00:00<00:00, 349.14it/s]\n"
          ]
        },
        {
          "name": "stdout",
          "output_type": "stream",
          "text": [
            "get_test ndcg time 0.0900672500138171\n"
          ]
        },
        {
          "name": "stderr",
          "output_type": "stream",
          "text": [
            "100%|██████████| 40/40 [00:00<00:00, 242.51it/s]\n"
          ]
        },
        {
          "name": "stdout",
          "output_type": "stream",
          "text": [
            "compute_train_recall ndcg time 0.18788424995727837\n"
          ]
        },
        {
          "name": "stderr",
          "output_type": "stream",
          "text": [
            "100%|██████████| 31/31 [00:00<00:00, 174.81it/s]\n"
          ]
        },
        {
          "name": "stdout",
          "output_type": "stream",
          "text": [
            "compute test recall ndcg time 0.18103483295999467\n",
            "0.09274962497875094\n",
            "0.08860070799710229\n",
            "0.0901806250330992\n",
            "0.09129745804239064\n"
          ]
        },
        {
          "name": "stderr",
          "output_type": "stream",
          "text": [
            "100%|██████████| 31/31 [00:01<00:00, 22.54it/s]\n"
          ]
        },
        {
          "name": "stdout",
          "output_type": "stream",
          "text": [
            "get_train ndcg time 1.3766955829923972\n"
          ]
        },
        {
          "name": "stderr",
          "output_type": "stream",
          "text": [
            "100%|██████████| 31/31 [00:00<00:00, 347.93it/s]\n"
          ]
        },
        {
          "name": "stdout",
          "output_type": "stream",
          "text": [
            "get_test ndcg time 0.09061666601337492\n"
          ]
        },
        {
          "name": "stderr",
          "output_type": "stream",
          "text": [
            "100%|██████████| 40/40 [00:00<00:00, 181.62it/s]\n"
          ]
        },
        {
          "name": "stdout",
          "output_type": "stream",
          "text": [
            "compute_train_recall ndcg time 0.24336333404062316\n"
          ]
        },
        {
          "name": "stderr",
          "output_type": "stream",
          "text": [
            " 29%|██▉       | 9/31 [00:00<00:00, 198.81it/s]\n"
          ]
        },
        {
          "ename": "KeyboardInterrupt",
          "evalue": "",
          "output_type": "error",
          "traceback": [
            "\u001b[0;31m---------------------------------------------------------------------------\u001b[0m",
            "\u001b[0;31mKeyboardInterrupt\u001b[0m                         Traceback (most recent call last)",
            "Cell \u001b[0;32mIn[23], line 167\u001b[0m\n\u001b[1;32m    164\u001b[0m \u001b[39mprint\u001b[39m(\u001b[39mf\u001b[39m\u001b[39m\"\u001b[39m\u001b[39mcompute_train_recall ndcg time \u001b[39m\u001b[39m{\u001b[39;00melapsed_time\u001b[39m}\u001b[39;00m\u001b[39m\"\u001b[39m)\n\u001b[1;32m    166\u001b[0m start_time \u001b[39m=\u001b[39m timeit\u001b[39m.\u001b[39mdefault_timer()\n\u001b[0;32m--> 167\u001b[0m recall_at_k_test \u001b[39m=\u001b[39m compute_recall_at_k(validation_graph, model, K)\n\u001b[1;32m    168\u001b[0m elapsed_time \u001b[39m=\u001b[39m timeit\u001b[39m.\u001b[39mdefault_timer() \u001b[39m-\u001b[39m start_time\n\u001b[1;32m    169\u001b[0m \u001b[39mprint\u001b[39m(\u001b[39mf\u001b[39m\u001b[39m\"\u001b[39m\u001b[39mcompute test recall ndcg time \u001b[39m\u001b[39m{\u001b[39;00melapsed_time\u001b[39m}\u001b[39;00m\u001b[39m\"\u001b[39m)\n",
            "Cell \u001b[0;32mIn[19], line 62\u001b[0m, in \u001b[0;36mcompute_recall_at_k\u001b[0;34m(validation_graph, model, K)\u001b[0m\n\u001b[1;32m     60\u001b[0m \u001b[39mfor\u001b[39;00m user_index, user_id \u001b[39min\u001b[39;00m tqdm(\u001b[39menumerate\u001b[39m(users), total\u001b[39m=\u001b[39m\u001b[39mlen\u001b[39m(users)):\n\u001b[1;32m     61\u001b[0m     all_edges \u001b[39m=\u001b[39m torch\u001b[39m.\u001b[39mtensor([(user_id, item_id) \u001b[39mfor\u001b[39;00m item_id \u001b[39min\u001b[39;00m \u001b[39mrange\u001b[39m(num_train_users, num_train_items)], dtype\u001b[39m=\u001b[39mtorch\u001b[39m.\u001b[39mlong)\u001b[39m.\u001b[39mt()\u001b[39m.\u001b[39mcontiguous()\n\u001b[0;32m---> 62\u001b[0m     recommendations \u001b[39m=\u001b[39m model\u001b[39m.\u001b[39;49mrecommend(all_edges\u001b[39m.\u001b[39;49mto(device), src_index\u001b[39m=\u001b[39;49mtorch\u001b[39m.\u001b[39;49mtensor([user_id]), dst_index\u001b[39m=\u001b[39;49mtorch\u001b[39m.\u001b[39;49mtensor([x \u001b[39mfor\u001b[39;49;00m x \u001b[39min\u001b[39;49;00m \u001b[39mrange\u001b[39;49m(num_train_users \u001b[39m+\u001b[39;49m \u001b[39m1\u001b[39;49m, num_train_items)])\u001b[39m.\u001b[39;49mto(device), k\u001b[39m=\u001b[39;49m\u001b[39m3\u001b[39;49m \u001b[39m*\u001b[39;49m K)[\u001b[39m0\u001b[39m]\n\u001b[1;32m     64\u001b[0m     train_edges_for_user \u001b[39m=\u001b[39m training_edges[:, training_edges[\u001b[39m0\u001b[39m] \u001b[39m==\u001b[39m user_id]\n\u001b[1;32m     65\u001b[0m     \u001b[39m# remove all the recommendations that are in the training set\u001b[39;00m\n",
            "File \u001b[0;32m~/miniconda3/envs/chill/lib/python3.10/site-packages/torch_geometric/nn/models/lightgcn.py:151\u001b[0m, in \u001b[0;36mLightGCN.recommend\u001b[0;34m(self, edge_index, src_index, dst_index, k)\u001b[0m\n\u001b[1;32m    136\u001b[0m \u001b[39mdef\u001b[39;00m \u001b[39mrecommend\u001b[39m(\u001b[39mself\u001b[39m, edge_index: Adj, src_index: OptTensor \u001b[39m=\u001b[39m \u001b[39mNone\u001b[39;00m,\n\u001b[1;32m    137\u001b[0m               dst_index: OptTensor \u001b[39m=\u001b[39m \u001b[39mNone\u001b[39;00m, k: \u001b[39mint\u001b[39m \u001b[39m=\u001b[39m \u001b[39m1\u001b[39m) \u001b[39m-\u001b[39m\u001b[39m>\u001b[39m Tensor:\n\u001b[1;32m    138\u001b[0m \u001b[39m    \u001b[39m\u001b[39mr\u001b[39m\u001b[39m\"\"\"Get top-:math:`k` recommendations for nodes in :obj:`src_index`.\u001b[39;00m\n\u001b[1;32m    139\u001b[0m \n\u001b[1;32m    140\u001b[0m \u001b[39m    Args:\u001b[39;00m\n\u001b[0;32m   (...)\u001b[0m\n\u001b[1;32m    149\u001b[0m \u001b[39m        k (int, optional): Number of recommendations. (default: :obj:`1`)\u001b[39;00m\n\u001b[1;32m    150\u001b[0m \u001b[39m    \"\"\"\u001b[39;00m\n\u001b[0;32m--> 151\u001b[0m     out_src \u001b[39m=\u001b[39m out_dst \u001b[39m=\u001b[39m \u001b[39mself\u001b[39;49m\u001b[39m.\u001b[39;49mget_embedding(edge_index)\n\u001b[1;32m    153\u001b[0m     \u001b[39mif\u001b[39;00m src_index \u001b[39mis\u001b[39;00m \u001b[39mnot\u001b[39;00m \u001b[39mNone\u001b[39;00m:\n\u001b[1;32m    154\u001b[0m         out_src \u001b[39m=\u001b[39m out_src[src_index]\n",
            "File \u001b[0;32m~/miniconda3/envs/chill/lib/python3.10/site-packages/torch_geometric/nn/models/lightgcn.py:95\u001b[0m, in \u001b[0;36mLightGCN.get_embedding\u001b[0;34m(self, edge_index)\u001b[0m\n\u001b[1;32m     92\u001b[0m x \u001b[39m=\u001b[39m \u001b[39mself\u001b[39m\u001b[39m.\u001b[39membedding\u001b[39m.\u001b[39mweight\n\u001b[1;32m     93\u001b[0m out \u001b[39m=\u001b[39m x \u001b[39m*\u001b[39m \u001b[39mself\u001b[39m\u001b[39m.\u001b[39malpha[\u001b[39m0\u001b[39m]\n\u001b[0;32m---> 95\u001b[0m \u001b[39mfor\u001b[39;00m i \u001b[39min\u001b[39;00m \u001b[39mrange\u001b[39;49m(\u001b[39mself\u001b[39;49m\u001b[39m.\u001b[39;49mnum_layers):\n\u001b[1;32m     96\u001b[0m     x \u001b[39m=\u001b[39m \u001b[39mself\u001b[39m\u001b[39m.\u001b[39mconvs[i](x, edge_index)\n\u001b[1;32m     97\u001b[0m     out \u001b[39m=\u001b[39m out \u001b[39m+\u001b[39m x \u001b[39m*\u001b[39m \u001b[39mself\u001b[39m\u001b[39m.\u001b[39malpha[i \u001b[39m+\u001b[39m \u001b[39m1\u001b[39m]\n",
            "\u001b[0;31mKeyboardInterrupt\u001b[0m: "
          ]
        }
      ],
      "source": [
        "import json \n",
        "import numpy as np\n",
        "import math\n",
        "import matplotlib.pyplot as plt\n",
        "from torch.utils.tensorboard import SummaryWriter\n",
        "import timeit\n",
        "\n",
        "NUM_LAYERS = 1\n",
        "LR = 1e-4\n",
        "BATCH_SIZE = min(256, len(user_review_data))\n",
        "EMBEDDING_DIM = 64\n",
        "K = 20\n",
        "NUM_EPOCHS = 100\n",
        "MINIBATCH_SIZE = 128\n",
        "BPR_LAMBDA = 1e-6\n",
        "WARP_LOSS = True\n",
        "\n",
        "metadata = {\n",
        "    'num_layers': NUM_LAYERS,\n",
        "    'lr': LR,\n",
        "    'batch_size': BATCH_SIZE,\n",
        "    'minibatch_size': MINIBATCH_SIZE,\n",
        "    'embedding_dim': EMBEDDING_DIM,\n",
        "    'num_epochs': NUM_EPOCHS,\n",
        "    'k': K,\n",
        "    'num_train_users': num_train_users,\n",
        "    'num_train_items': num_train_items,\n",
        "    'loss_function': 'BPR',\n",
        "}\n",
        "\n",
        "# make the output directory\n",
        "output_path = f\"models/{int(time.time())}/\"\n",
        "os.makedirs(output_path)\n",
        "\n",
        "json.dump(metadata, open(f\"{output_path}metadata.json\", 'w'))\n",
        "\n",
        "torch.manual_seed(0)\n",
        "np.random.seed(0)\n",
        "\n",
        "\n",
        "writer = SummaryWriter(comment=f'LightGCN_{EMBEDDING_DIM}_layers_{NUM_LAYERS}_batch_size_{BATCH_SIZE}_lr_{LR}_num_train_users_{num_train_users}_num_train_items_{num_train_items}_recall_{K}_loss_BPR')\n",
        "model = LightGCN(num_nodes=num_nodes, embedding_dim=EMBEDDING_DIM, num_layers=NUM_LAYERS)\n",
        "model = model.to(device)\n",
        "\n",
        "print(\"Running on device: {}\".format(device))\n",
        "\n",
        "optim = torch.optim.Adam(model.parameters(), lr=LR)\n",
        "scheduler = torch.optim.lr_scheduler.ExponentialLR(optim, gamma=0.95)\n",
        "# scheduler = torch.optim.lr_scheduler.MultiStepLR(optim, milestones=[100, 200, 300, 400], gamma=0.5)\n",
        "# scheduler = torch.optim.lr_scheduler.CosineAnnealingWarmRestarts(optim, T_0=100)\n",
        "\n",
        "train_positive_edges = train_graph.edge_index[:, train_graph.edge_attr >= 3.5]\n",
        "train_negative_edges = train_graph.edge_index[:, train_graph.edge_attr <= 2.5]\n",
        "\n",
        "# get all of the users in the validation set\n",
        "validation_users_total = list(set([int(x) for x in validation_edges[0, :]]))\n",
        "train_users_total = list(set([int(x) for x in train_edges[0, :]]))\n",
        "\n",
        "validation_df = pd.DataFrame.from_dict(validation_reviews)\n",
        "train_df = pd.DataFrame.from_dict(train_reviews)\n",
        "\n",
        "loss_run = []\n",
        "train_ndcg = []\n",
        "test_ndcg = []\n",
        "train_recall = []\n",
        "test_recall = []\n",
        "\n",
        "for epoch in range(NUM_EPOCHS):\n",
        "    # We are using BPR so we go by user, proceeding in batches\n",
        "    loss_over_epoch = 0\n",
        "    start_time = timeit.default_timer()\n",
        "\n",
        "    for start_idx in range(0, num_train_users, BATCH_SIZE):\n",
        "        model.train()\n",
        "        loss = torch.tensor(0.0, requires_grad=True)\n",
        "        # randomly select a batch of users\n",
        "        users_in_batch = torch.randperm(num_train_users)[start_idx:start_idx + BATCH_SIZE]\n",
        "\n",
        "        user_positive_rankings_batch = torch.zeros(size=(BATCH_SIZE, MINIBATCH_SIZE), device=device)\n",
        "        user_negative_rankings_batch = torch.zeros(size=(BATCH_SIZE, MINIBATCH_SIZE), device=device)\n",
        "\n",
        "        for user_id in users_in_batch:\n",
        "            # get all the edges specific to this user\n",
        "            user_positive_edges = train_positive_edges[:, train_positive_edges[0] == user_id]\n",
        "            user_negative_edges = train_negative_edges[:, train_negative_edges[0] == user_id]\n",
        "            if (user_positive_edges.shape[1] == 0 or user_negative_edges.shape[1] == 0):\n",
        "                continue\n",
        "            \n",
        "            # sample 1 positive edge\n",
        "            user_positive_edges = user_positive_edges[:, :1]\n",
        "            # sample minibatch number of negative edges\n",
        "            if (user_negative_edges.shape[1] > MINIBATCH_SIZE):\n",
        "                user_negative_edges = user_negative_edges[:, :MINIBATCH_SIZE]\n",
        "            else:\n",
        "                # resample the negative edges if we don't have enough\n",
        "                user_negative_edges = generate_negative_edges(user_negative_edges, MINIBATCH_SIZE)\n",
        "\n",
        "            # concatenate the positive and negative edges\n",
        "            user_edges = torch.cat([user_positive_edges, user_negative_edges], dim=1)\n",
        "\n",
        "            # get the rankings for this user\n",
        "            user_edges = user_edges.to(device)\n",
        "            user_rankings = model(user_edges)\n",
        "\n",
        "            # divide the rankings into positive and negative rankings\n",
        "            user_positive_rankings = user_rankings[:1]\n",
        "            user_negative_rankings = user_rankings[1:]\n",
        "\n",
        "            # Get the loss, we have to duplicate the positive edge to make them the same size!\n",
        "            user_positive_rankings = user_positive_rankings.repeat(user_negative_rankings.shape[0])\n",
        "\n",
        "            user_positive_rankings_batch = torch.cat([user_positive_rankings_batch, user_positive_rankings.unsqueeze(0)], dim=0)\n",
        "            user_negative_rankings_batch = torch.cat([user_negative_rankings_batch, user_negative_rankings.unsqueeze(0)], dim=0)\n",
        "\n",
        "        if WARP_LOSS:\n",
        "            # We should only pass in the singular positive ranking for each user\n",
        "            user_positive_rankings_batch = user_positive_rankings_batch[:, : 1]\n",
        "            sample_scores = (1 + user_negative_rankings_batch - user_positive_rankings_batch)\n",
        "\n",
        "            user_loss = warp_loss(user_positive_rankings_batch, user_negative_rankings_batch, num_labels=100, device=device)\n",
        "        else:\n",
        "            user_loss = model.recommendation_loss(user_positive_rankings_batch, user_negative_rankings_batch, BPR_LAMBDA) / MINIBATCH_SIZE\n",
        "            \n",
        "        # add the user loss to the total loss\n",
        "        loss = loss + user_loss\n",
        "        # divide the loss by the number of users\n",
        "        loss = loss / BATCH_SIZE\n",
        "        loss_over_epoch += loss.item()\n",
        "        # backprop\n",
        "        optim.zero_grad()\n",
        "        loss.backward()\n",
        "        optim.step()\n",
        "        scheduler.step()\n",
        "        # record our losses\n",
        "    writer.add_scalar(\"Loss/train\", loss_over_epoch, epoch * (num_train_users // BATCH_SIZE) + start_idx // BATCH_SIZE)\n",
        "    loss_run.append(loss_over_epoch)\n",
        "\n",
        "    elapsed = timeit.default_timer() - start_time\n",
        "    print(elapsed)\n",
        "\n",
        "    if (epoch % 4 == 0):\n",
        "        # evaluate the model\n",
        "        model.eval()\n",
        "\n",
        "        # get the ndcg values\n",
        "        start_time = timeit.default_timer()\n",
        "        mean_ndcg_train = get_train_ndcg(validation_users_total, model, train_edges, train_df, id_to_user, id_to_movie)\n",
        "        elapsed_time = timeit.default_timer() - start_time\n",
        "        print(f\"get_train ndcg time {elapsed_time}\")\n",
        "        \n",
        "        start_time = timeit.default_timer()\n",
        "        mean_ndcg_test = get_test_ndcg(validation_users_total, model, validation_edges, validation_df, id_to_user, id_to_movie)\n",
        "        elapsed_time = timeit.default_timer() - start_time\n",
        "        print(f\"get_test ndcg time {elapsed_time}\")\n",
        "        \n",
        "        train_ndcg.append(mean_ndcg_train)\n",
        "        test_ndcg.append(mean_ndcg_test)\n",
        "        \n",
        "        # get the recall@k values\n",
        "        start_time = timeit.default_timer()\n",
        "        recall_at_k_train = compute_recall_at_k(train_graph, model, K)\n",
        "        elapsed_time = timeit.default_timer() - start_time\n",
        "        print(f\"compute_train_recall ndcg time {elapsed_time}\")\n",
        "\n",
        "        start_time = timeit.default_timer()\n",
        "        recall_at_k_test = compute_recall_at_k(validation_graph, model, K)\n",
        "        elapsed_time = timeit.default_timer() - start_time\n",
        "        print(f\"compute test recall ndcg time {elapsed_time}\")\n",
        "        \n",
        "        train_recall.append(recall_at_k_train)\n",
        "        test_recall.append(recall_at_k_test)\n",
        "\n",
        "        global_time = epoch * (num_train_users // BATCH_SIZE) + start_idx // BATCH_SIZE\n",
        "        writer.add_scalar(\"NDCG/val train\", mean_ndcg_train, global_time)\n",
        "        writer.add_scalar(\"NDCG/val test\", mean_ndcg_test, global_time)\n",
        "\n",
        "        writer.add_scalar(\"Recall@K/val train\", recall_at_k_train, global_time)\n",
        "        writer.add_scalar(\"Recall@K/val test\", recall_at_k_test, global_time)\n",
        "\n",
        "    if (epoch % 10 == 0):\n",
        "        print(f\"Epoch: {epoch}, Loss: {loss.item()}\")\n",
        "        # save the model and the graphs so far\n",
        "        np.save(f\"{output_path}train_ndcg.npy\", train_ndcg)\n",
        "        np.save(f\"{output_path}test_ndcg.npy\", test_ndcg)\n",
        "\n",
        "        np.save(f\"{output_path}train_recall.npy\", train_recall)\n",
        "        np.save(f\"{output_path}test_recall.npy\", test_recall)\n",
        "\n",
        "        torch.save(model.state_dict(), f\"{output_path}model.pt\")\n",
        "\n",
        "        plt.plot(np.arange(0, len(loss_run)), loss_run)\n",
        "        plt.title(\"Loss\")\n",
        "        plt.savefig(f\"{output_path}/loss.png\")\n",
        "        plt.show()\n",
        "\n",
        "        # print(train_ndcg)\n",
        "        # print(test_ndcg)\n",
        "        plt.plot(np.arange(0, len(train_ndcg)), train_ndcg)\n",
        "        plt.plot(np.arange(0, len(test_ndcg)), test_ndcg)\n",
        "        plt.title(\"NDCG\")\n",
        "        plt.savefig(f\"{output_path}/ndcg.png\")\n",
        "        plt.show()\n",
        "\n",
        "        # print(train_recall)\n",
        "        # print(test_recall)\n",
        "        plt.plot(np.arange(0, len(test_recall)), test_recall)\n",
        "        plt.plot(np.arange(0, len(train_recall)), train_recall)\n",
        "        plt.title(f\"Recall@{K}\")\n",
        "        plt.savefig(f\"{output_path}/recall.png\")\n",
        "        plt.show()\n",
        "\n",
        "# do a final evaluation and save\n",
        "model.eval()\n",
        "\n",
        "# get the ndcg values\n",
        "mean_ndcg_train = get_train_ndcg(validation_users_total, model, train_edges, train_df, id_to_user, id_to_movie)\n",
        "mean_ndcg_test = get_test_ndcg(validation_users_total, model, validation_edges, validation_df, id_to_user, id_to_movie)\n",
        "\n",
        "train_ndcg.append(mean_ndcg_train)\n",
        "test_ndcg.append(mean_ndcg_test)\n",
        "\n",
        "# get the recall@k values\n",
        "recall_at_k_train = compute_recall_at_k(train_graph, model, K)\n",
        "recall_at_k_test = compute_recall_at_k(validation_graph, model, K)\n",
        "train_recall.append(recall_at_k_train)\n",
        "test_recall.append(recall_at_k_test)\n",
        "\n",
        "global_time = epoch * (num_train_users // BATCH_SIZE) + start_idx // BATCH_SIZE\n",
        "writer.add_scalar(\"NDCG/val train\", mean_ndcg_train, global_time)\n",
        "writer.add_scalar(\"NDCG/val test\", mean_ndcg_test, global_time)\n",
        "\n",
        "writer.add_scalar(\"Recall@K/val train\", recall_at_k_train, global_time)\n",
        "writer.add_scalar(\"Recall@K/val test\", recall_at_k_test, global_time)\n",
        "\n",
        "# save the model and the graphs so far\n",
        "np.save(f\"{output_path}train_ndcg.npy\", train_ndcg)\n",
        "np.save(f\"{output_path}test_ndcg.npy\", test_ndcg)\n",
        "\n",
        "np.save(f\"{output_path}train_recall.npy\", train_recall)\n",
        "np.save(f\"{output_path}test_recall.npy\", test_recall)\n",
        "\n",
        "torch.save(model.state_dict(), f\"{output_path}model.pt\")\n",
        "\n",
        "# print(loss_run)\n",
        "print(f\"Best loss: {np.min(loss_run)}\")\n",
        "print(f\"Best NDCG train: {np.max(train_ndcg)}\")\n",
        "print(f\"Best NDCG test: {np.max(test_ndcg)}\")\n",
        "print(f\"Best Recall@{K} train: {np.max(train_recall)}\")\n",
        "print(f\"Best Recall@{K} test: {np.max(test_recall)}\")\n",
        "\n",
        "plt.plot(np.arange(0, len(loss_run)), loss_run)\n",
        "plt.title(\"Loss\")\n",
        "plt.savefig(f\"{output_path}/loss.png\")\n",
        "plt.show()\n",
        "\n",
        "# print(train_ndcg)\n",
        "# print(test_ndcg)\n",
        "plt.plot(np.arange(0, len(train_ndcg)), train_ndcg)\n",
        "plt.plot(np.arange(0, len(test_ndcg)), test_ndcg)\n",
        "plt.title(\"NDCG\")\n",
        "plt.savefig(f\"{output_path}/ndcg.png\")\n",
        "plt.show()\n",
        "\n",
        "# print(train_recall)\n",
        "# print(test_recall)\n",
        "plt.plot(np.arange(0, len(test_recall)), test_recall)\n",
        "plt.plot(np.arange(0, len(train_recall)), train_recall)\n",
        "plt.title(f\"Recall@{K}\")\n",
        "plt.savefig(f\"{output_path}/recall.png\")\n",
        "plt.show()"
      ]
    },
    {
      "cell_type": "code",
      "execution_count": 22,
      "metadata": {
        "id": "xHqSzAzEgoHs"
      },
      "outputs": [],
      "source": [
        "def get_test_ndcg(validation_users_total, model, validation_edges, validation_df, id_to_user, id_to_movie):\n",
        "    validation_users = random.sample(validation_users_total, min(1000, len(validation_users_total)))\n",
        "\n",
        "    mean_ndcg = 0\n",
        "    ndcg_scores = []\n",
        "    for user in tqdm(validation_users):\n",
        "        user_id = id_to_user[user]\n",
        "        relevant_reviews = validation_df[validation_df['user_id'] == user_id]\n",
        "        user_validation_edges = validation_edges[:, validation_edges[0] == user]\n",
        "        user_validation_edges = user_validation_edges.to(device)\n",
        "        user_rankings = model(user_validation_edges)\n",
        "        edges_sorted = list(user_validation_edges[1, user_rankings.argsort(descending=True)])\n",
        "        # use validation_df to get the relevances via the movie_id column and the movie_rating column\n",
        "        relevances = []\n",
        "        for edge in edges_sorted:\n",
        "            movie_id = id_to_movie[int(edge)]\n",
        "            if (movie_id in relevant_reviews['movie_id'].values):\n",
        "                relevances.append(relevant_reviews[relevant_reviews['movie_id'] == movie_id]['movie_rating'].values[0])\n",
        "            else:\n",
        "                relevances.append(0)\n",
        "        # calculate the ndcg\n",
        "        ndcg = compute_ndcg_at_k(relevances)\n",
        "        if (math.isnan(ndcg)):\n",
        "            print(relevant_reviews)\n",
        "            input()\n",
        "        mean_ndcg += ndcg\n",
        "        ndcg_scores.append(ndcg)\n",
        "    mean_ndcg = mean_ndcg / len(validation_users)\n",
        "    return mean_ndcg\n",
        "\n",
        "def get_train_ndcg(train_users_total, model, train_edges, train_df, id_to_user, id_to_movie):\n",
        "    train_users = random.sample(train_users_total, min(200, len(train_users_total)))\n",
        "\n",
        "    mean_ndcg = 0\n",
        "    ndcg_scores = []\n",
        "    for user in tqdm(train_users):\n",
        "        user_id = id_to_user[user]\n",
        "        relevant_reviews = train_df[train_df['user_id'] == user_id]\n",
        "        user_train_edges = train_edges[:, train_edges[0] == user]\n",
        "        user_train_edges = user_train_edges.to(device)\n",
        "        user_rankings = model(user_train_edges)\n",
        "        edges_sorted = list(user_train_edges[1, user_rankings.argsort(descending=True)])\n",
        "        # use validation_df to get the relevances via the movie_id column and the movie_rating column\n",
        "\n",
        "        relevances = []\n",
        "        for edge in edges_sorted:\n",
        "            movie_id = id_to_movie[int(edge)]\n",
        "            if (movie_id in relevant_reviews['movie_id'].values):\n",
        "                relevances.append(relevant_reviews[relevant_reviews['movie_id'] == movie_id]['movie_rating'].values[0])\n",
        "            else:\n",
        "                relevances.append(0)\n",
        "\n",
        "        # calculate the ndcg\n",
        "        ndcg = compute_ndcg_at_k(relevances)\n",
        "        if (math.isnan(ndcg)):\n",
        "            print(relevant_reviews)\n",
        "            input()\n",
        "        mean_ndcg += ndcg\n",
        "        ndcg_scores.append(ndcg)\n",
        "    mean_ndcg = mean_ndcg / len(train_users)\n",
        "    return mean_ndcg"
      ]
    },
    {
      "cell_type": "code",
      "execution_count": 23,
      "metadata": {
        "id": "BJw6t4KNgoHs"
      },
      "outputs": [],
      "source": []
    },
    {
      "cell_type": "code",
      "execution_count": null,
      "metadata": {
        "id": "xXjMltfSiUI5"
      },
      "outputs": [],
      "source": []
    }
  ],
  "metadata": {
    "accelerator": "GPU",
    "colab": {
      "provenance": []
    },
    "gpuClass": "standard",
    "kernelspec": {
      "display_name": "chill",
      "language": "python",
      "name": "python3"
    },
    "language_info": {
      "codemirror_mode": {
        "name": "ipython",
        "version": 3
      },
      "file_extension": ".py",
      "mimetype": "text/x-python",
      "name": "python",
      "nbconvert_exporter": "python",
      "pygments_lexer": "ipython3",
      "version": "3.10.9"
    }
  },
  "nbformat": 4,
  "nbformat_minor": 0
>>>>>>> f1d9c89 (pls)
}
