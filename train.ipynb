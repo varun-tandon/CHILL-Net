{
<<<<<<< HEAD
 "cells": [
  {
   "cell_type": "code",
   "execution_count": 2,
   "metadata": {},
   "outputs": [
    {
     "name": "stdout",
     "output_type": "stream",
     "text": [
      "Requirement already satisfied: torch_geometric in /usr/local/lib/python3.10/site-packages (2.2.0)\n",
      "Requirement already satisfied: requests in /usr/local/lib/python3.10/site-packages (from torch_geometric) (2.28.2)\n",
      "Requirement already satisfied: scipy in /usr/local/lib/python3.10/site-packages (from torch_geometric) (1.10.1)\n",
      "Requirement already satisfied: tqdm in /usr/local/lib/python3.10/site-packages (from torch_geometric) (4.64.1)\n",
      "Requirement already satisfied: jinja2 in /usr/local/lib/python3.10/site-packages (from torch_geometric) (3.1.2)\n",
      "Requirement already satisfied: scikit-learn in /usr/local/lib/python3.10/site-packages (from torch_geometric) (1.2.1)\n",
      "Requirement already satisfied: numpy in /usr/local/lib/python3.10/site-packages (from torch_geometric) (1.24.2)\n",
      "Requirement already satisfied: psutil>=5.8.0 in /usr/local/lib/python3.10/site-packages (from torch_geometric) (5.9.4)\n",
      "Requirement already satisfied: pyparsing in /usr/local/lib/python3.10/site-packages (from torch_geometric) (3.0.9)\n",
      "Requirement already satisfied: MarkupSafe>=2.0 in /usr/local/lib/python3.10/site-packages (from jinja2->torch_geometric) (2.1.2)\n",
      "Requirement already satisfied: certifi>=2017.4.17 in /usr/local/lib/python3.10/site-packages (from requests->torch_geometric) (2022.12.7)\n",
      "Requirement already satisfied: charset-normalizer<4,>=2 in /usr/local/lib/python3.10/site-packages (from requests->torch_geometric) (3.0.1)\n",
      "Requirement already satisfied: idna<4,>=2.5 in /usr/local/lib/python3.10/site-packages (from requests->torch_geometric) (3.4)\n",
      "Requirement already satisfied: urllib3<1.27,>=1.21.1 in /usr/local/lib/python3.10/site-packages (from requests->torch_geometric) (1.26.14)\n",
      "Requirement already satisfied: joblib>=1.1.1 in /usr/local/lib/python3.10/site-packages (from scikit-learn->torch_geometric) (1.2.0)\n",
      "Requirement already satisfied: threadpoolctl>=2.0.0 in /usr/local/lib/python3.10/site-packages (from scikit-learn->torch_geometric) (3.1.0)\n"
     ]
    }
   ],
   "source": [
    "!pip install torch_geometric"
   ]
  },
  {
   "cell_type": "code",
   "execution_count": 82,
   "metadata": {},
   "outputs": [],
   "source": [
    "from torch_geometric.nn.models.lightgcn import LightGCN\n",
    "import pandas as pd\n",
    "import os\n",
    "from tqdm import tqdm\n",
    "import torch\n",
    "import numpy as np"
   ]
  },
  {
   "cell_type": "markdown",
   "metadata": {},
   "source": [
    "## Load Data\n",
    "We can begin by loading in the user review data. For each user, we have a subset of the movies that they reviewed. We'll load each of the CSVs as dataframes, and store a dict of user IDs corresponding to their dataframes."
   ]
  },
  {
   "cell_type": "code",
   "execution_count": 83,
   "metadata": {},
   "outputs": [],
   "source": [
    "# for now we will use the first 10k rows of the data, set to None to use all data\n",
    "AMOUNT_TO_LOAD = 1000"
   ]
  },
  {
   "cell_type": "code",
   "execution_count": 84,
   "metadata": {},
   "outputs": [
    {
     "name": "stderr",
     "output_type": "stream",
     "text": [
      "  2%|▏         | 1000/63111 [00:02<02:59, 345.62it/s]\n"
     ]
    }
   ],
   "source": [
    "user_reviews_dir = 'user_reviews'\n",
    "user_review_data = dict()\n",
    "\n",
    "for filename in tqdm(os.listdir(user_reviews_dir)):\n",
    "    if AMOUNT_TO_LOAD is not None and len(user_review_data) >= AMOUNT_TO_LOAD:\n",
    "        break\n",
    "    try:\n",
    "        user_review_data[filename] = pd.read_csv(os.path.join(user_reviews_dir, filename), encoding='unicode_escape')\n",
    "    except pd.errors.EmptyDataError:\n",
    "        print(f'Empty file: {filename}')\n",
    "        pass"
   ]
  },
  {
   "cell_type": "markdown",
   "metadata": {},
   "source": [
    "Now let's split the data into training, validation, and test sets. Since this is a recommender, we're gonna split by removing some of the user's reviews.\n",
    "\n",
    "For every user, so long as the user has more than 5 reviews, remove one review for the validation set and one review for the test set."
   ]
  },
  {
   "cell_type": "code",
   "execution_count": 85,
   "metadata": {},
   "outputs": [
    {
     "name": "stdout",
     "output_type": "stream",
     "text": [
      "asel82_reviews.csv\n"
     ]
    }
   ],
   "source": [
    "print(list(user_review_data.keys())[0])"
   ]
  },
  {
   "cell_type": "code",
   "execution_count": 86,
   "metadata": {},
   "outputs": [
    {
     "name": "stderr",
     "output_type": "stream",
     "text": [
      "100%|██████████| 1000/1000 [00:01<00:00, 884.26it/s]\n"
     ]
    }
   ],
   "source": [
    "# remove all values with nan in the review column\n",
    "for key in tqdm(user_review_data.keys()):\n",
    "    user_review_data[key] = user_review_data[key].dropna(subset=['movie_rating'])"
   ]
  },
  {
   "cell_type": "code",
   "execution_count": 87,
   "metadata": {},
   "outputs": [
    {
     "name": "stderr",
     "output_type": "stream",
     "text": [
      "100%|██████████| 1000/1000 [00:02<00:00, 340.22it/s]"
     ]
    },
    {
     "name": "stdout",
     "output_type": "stream",
     "text": [
      "Train reviews: 396059\n",
      "Validation reviews: 12300\n",
      "Test reviews: 12300\n"
     ]
    },
    {
     "name": "stderr",
     "output_type": "stream",
     "text": [
      "\n"
     ]
    }
   ],
   "source": [
    "train_reviews = []\n",
    "validation_reviews = []\n",
    "test_reviews = []\n",
    "for user_id, reviews in tqdm(user_review_data.items()):\n",
    "    if len(reviews) > 50:\n",
    "        validation_review_data_df = reviews.sample(15, replace=False)\n",
    "        validation_review_data = validation_review_data_df.to_dict('records')\n",
    "        for review in validation_review_data:\n",
    "            review['user_id'] = user_id\n",
    "        validation_reviews.extend(validation_review_data)\n",
    "        # remove the validation reviews from the training data\n",
    "        reviews = reviews.drop(validation_review_data_df.index)\n",
    "        test_review_data_df = reviews.sample(15, replace=False)\n",
    "        test_review_data = test_review_data_df.to_dict('records')\n",
    "        for review in test_review_data:\n",
    "            review['user_id'] = user_id\n",
    "        test_reviews.extend(test_review_data)\n",
    "        # remove the test reviews from the training data\n",
    "        reviews = reviews.drop(test_review_data_df.index)\n",
    "        train_review_data = reviews.to_dict('records')\n",
    "        for review in train_review_data:\n",
    "            review['user_id'] = user_id\n",
    "        train_reviews.extend(train_review_data)\n",
    "    else:\n",
    "        # if the user has less than 5 reviews, we will use all of them for training\n",
    "        train_review_data = reviews.to_dict('records')\n",
    "        for review in train_review_data:\n",
    "            review['user_id'] = user_id\n",
    "        train_reviews.extend(train_review_data)\n",
    "\n",
    "print(f'Train reviews: {len(train_reviews)}')\n",
    "print(f'Validation reviews: {len(validation_reviews)}')\n",
    "print(f'Test reviews: {len(test_reviews)}')"
   ]
  },
  {
   "cell_type": "markdown",
   "metadata": {},
   "source": [
    "## Build the Model\n",
    "Now that we have the training data, let's construct the model to train."
   ]
  },
  {
   "cell_type": "code",
   "execution_count": 104,
   "metadata": {},
   "outputs": [
    {
     "name": "stdout",
     "output_type": "stream",
     "text": [
      "Number of train users: 1000\n",
      "Number of train items: 43225\n",
      "Number of nodes: 45001\n"
     ]
    }
   ],
   "source": [
    "num_train_users = len(set([review['user_id'] for review in train_reviews]))\n",
    "num_train_items = len(set([review['movie_id'] for review in train_reviews]))\n",
    "num_total_items = len(set([review['movie_id'] for review in train_reviews + validation_reviews + test_reviews]))\n",
    "num_nodes = num_train_users + num_total_items\n",
    "print(f'Number of train users: {num_train_users}')\n",
    "print(f'Number of train items: {num_train_items}')\n",
    "print(f'Number of nodes: {num_nodes}')"
   ]
  },
  {
   "cell_type": "code",
   "execution_count": 105,
   "metadata": {},
   "outputs": [],
   "source": [
    "num_val_users = len(set([review['user_id'] for review in validation_reviews]))\n",
    "num_val_items = len(set([review['movie_id'] for review in validation_reviews]))\n",
    "num_val_nodes = num_val_users + num_val_items"
   ]
  },
  {
   "cell_type": "code",
   "execution_count": 106,
   "metadata": {},
   "outputs": [],
   "source": [
    "# Let's map users to ids\n",
    "movie_id_to_movie_name = dict()\n",
    "for review in train_reviews + validation_reviews + test_reviews:\n",
    "    movie_id_to_movie_name[review['movie_id']] = review['movie_title']\n",
    "\n",
    "user_to_id = dict()\n",
    "for i, user_id in enumerate(set([review['user_id'] for review in train_reviews + validation_reviews + test_reviews])):\n",
    "    user_to_id[user_id] = i\n",
    "\n",
    "# Let's map movies to ids\n",
    "movie_to_id = dict()\n",
    "for i, movie_id in enumerate(set([review['movie_id'] for review in train_reviews + validation_reviews + test_reviews])):\n",
    "    movie_to_id[movie_id] = i + num_train_users\n",
    "\n",
    "# Let's map ids to users\n",
    "id_to_user = dict()\n",
    "for user_id, index in user_to_id.items():\n",
    "    id_to_user[index] = user_id\n",
    "\n",
    "# Let's map ids to movies\n",
    "id_to_movie = dict()\n",
    "for movie_id, index in movie_to_id.items():\n",
    "    id_to_movie[index] = movie_id\n",
    "\n",
    "# Let's map movie names to movie ids\n",
    "movie_name_to_movie_id = dict()\n",
    "for movie_id, movie_name in movie_id_to_movie_name.items():\n",
    "    movie_name_to_movie_id[movie_name] = movie_id"
   ]
  },
  {
   "cell_type": "code",
   "execution_count": 107,
   "metadata": {},
   "outputs": [],
   "source": [
    "import random\n",
    "\n",
    "def convert_review_to_edge(review):\n",
    "    user_id = user_to_id[review['user_id']]\n",
    "    movie_id = movie_to_id[review['movie_id']]\n",
    "    edge_weight = review['movie_rating']\n",
    "    if (edge_weight < 3.5 and edge_weight > 2.5):\n",
    "        return None, None\n",
    "    edge = (user_id, movie_id)\n",
    "    edge_weight = review['movie_rating']\n",
    "    return edge, edge_weight\n",
    "\n",
    "def shuffle_edges_and_edge_weights(edges, edge_weights):\n",
    "    c = list(zip(edges, edge_weights))\n",
    "    random.shuffle(c)\n",
    "    return zip(*c)\n",
    "\n",
    "def convert_reviews_to_edges(reviews):\n",
    "    edges = []\n",
    "    edge_weights = []\n",
    "    for review in tqdm(reviews):\n",
    "        edge, edge_weight = convert_review_to_edge(review)\n",
    "        if edge is not None:\n",
    "            edges.append(edge)\n",
    "            edge_weights.append(edge_weight)\n",
    "    \n",
    "    # Reformat the edges to be a tensor\n",
    "    edges = torch.tensor(edges, dtype=torch.long).t().contiguous()\n",
    "    return edges, edge_weights"
   ]
  },
  {
   "cell_type": "code",
   "execution_count": 108,
   "metadata": {},
   "outputs": [
    {
     "name": "stderr",
     "output_type": "stream",
     "text": [
      "100%|██████████| 396059/396059 [00:00<00:00, 704428.25it/s]\n",
      "100%|██████████| 12300/12300 [00:00<00:00, 605224.47it/s]"
     ]
    },
    {
     "name": "stdout",
     "output_type": "stream",
     "text": [
      "Train edges: 318166\n",
      "Validation edges: 10260\n"
     ]
    },
    {
     "name": "stderr",
     "output_type": "stream",
     "text": [
      "\n"
     ]
    }
   ],
   "source": [
    "# Now let's create the edges between users and movies.\n",
    "# The id of the user will be the index of the user in the user_to_id dict\n",
    "# The id of the movie will be the index of the movie in the movie_to_id dict + the number of users\n",
    "\n",
    "train_edges, train_edge_weights = convert_reviews_to_edges(train_reviews)\n",
    "validation_edges, validation_edge_weights = convert_reviews_to_edges(validation_reviews)\n",
    "\n",
    "print(f'Train edges: {train_edges.shape[1]}')\n",
    "print(f'Validation edges: {validation_edges.shape[1]}')"
   ]
  },
  {
   "cell_type": "code",
   "execution_count": 109,
   "metadata": {},
   "outputs": [],
   "source": [
    "import torch_geometric.data as data\n",
    "\n",
    "# create the graph\n",
    "train_graph = data.Data(\n",
    "    edge_index=train_edges,\n",
    "    edge_attr=torch.tensor(train_edge_weights),\n",
    "    num_nodes=num_nodes\n",
    ")\n",
    "\n",
    "validation_graph = data.Data(\n",
    "    edge_index=validation_edges,\n",
    "    edge_attr=torch.tensor(validation_edge_weights),\n",
    "    num_nodes=num_nodes\n",
    ")"
   ]
  },
  {
   "cell_type": "code",
   "execution_count": 110,
   "metadata": {},
   "outputs": [
    {
     "data": {
      "text/plain": [
       "True"
      ]
     },
     "execution_count": 110,
     "metadata": {},
     "output_type": "execute_result"
    }
   ],
   "source": [
    "train_graph.validate(raise_on_error=True)\n",
    "validation_graph.validate(raise_on_error=True)"
   ]
  },
  {
   "cell_type": "code",
   "execution_count": 81,
   "metadata": {},
   "outputs": [],
   "source": [
    "# Let's create some negative edges\n",
    "def resample_edges_for_user(user_positive_edges, user_negative_edges):\n",
    "    num_negative_edges_to_add = user_positive_edges.shape[1] * 3 - user_negative_edges.shape[1]\n",
    "    if (num_negative_edges_to_add <= 0):\n",
    "        num_negative_edges_to_remove = -num_negative_edges_to_add\n",
    "        # choose the negative edges to keep\n",
    "        negative_edges_to_keep = torch.randint(user_negative_edges.shape[1], (user_negative_edges.shape[1] - num_negative_edges_to_remove,))\n",
    "        # remove all the negative edges for this user\n",
    "        user_negative_edges = user_negative_edges[:, negative_edges_to_keep]\n",
    "    else:\n",
    "        # Create new negative edges\n",
    "        negative_edges_to_add = torch.tensor([[user_id] * num_negative_edges_to_add, torch.randint(num_train_users, num_train_items, (num_negative_edges_to_add,))], dtype=torch.long)\n",
    "        # Add the negative edges to the negative edges for this user\n",
    "        user_negative_edges = torch.cat([user_negative_edges, negative_edges_to_add], dim=1)\n",
    "    return user_positive_edges, user_negative_edges\n",
    "        "
   ]
  },
  {
   "cell_type": "code",
   "execution_count": 43,
   "metadata": {},
   "outputs": [],
   "source": [
    "# let's compute ndcg\n",
    "def compute_ndcg_at_k(relevances, k=5):\n",
    "    relevances = relevances[:k]\n",
    "    dcg = 0\n",
    "    for i, relevance in enumerate(relevances):\n",
    "        dcg += (2 ** relevance - 1) / np.log2(i + 2)\n",
    "    idcg = 0\n",
    "    for i, relevance in enumerate(sorted(relevances, reverse=True)):\n",
    "        idcg += (2 ** relevance - 1) / np.log2(i + 2)\n",
    "    return dcg / idcg"
   ]
  },
  {
   "cell_type": "code",
   "execution_count": 44,
   "metadata": {},
   "outputs": [],
   "source": [
    "def get_user_positive_items(edge_index):\n",
    "    \"\"\"Generates dictionary of positive items for each user\n",
    "\n",
    "    Args:\n",
    "        edge_index (torch.Tensor): 2 by N list of edges\n",
    "\n",
    "    Returns:\n",
    "        dict: dictionary of positive items for each user\n",
    "    \"\"\"\n",
    "    user_pos_items = {}\n",
    "    for i in range(edge_index.shape[1]):\n",
    "        user = edge_index[0][i].item()\n",
    "        item = edge_index[1][i].item()\n",
    "        if user not in user_pos_items:\n",
    "            user_pos_items[user] = []\n",
    "        user_pos_items[user].append(item)\n",
    "    return user_pos_items"
   ]
  },
  {
   "cell_type": "code",
   "execution_count": 45,
   "metadata": {
    "tags": []
   },
   "outputs": [],
   "source": [
    "import time\n",
    "def compute_recall_at_k(validation_graph, model, K):\n",
    "    # get positive edges in validation set\n",
    "    positive_edges = validation_graph.edge_index[:, validation_graph.edge_attr > 3.5]\n",
    "\n",
    "    # map users to positive edges\n",
    "    user_pos_items = get_user_positive_items(positive_edges)\n",
    "\n",
    "    # get users\n",
    "    users = positive_edges[0].unique()\n",
    "\n",
    "    users = users[torch.randint(users.shape[0], (min(200, len(users)),))]\n",
    "    # filter the validation edges to only the users we want to evaluate\n",
    "    user_validation_edges = []\n",
    "    for user in users:\n",
    "        user_validation_edges.append(validation_graph.edge_index[:, validation_graph.edge_index[0] == user])\n",
    "    user_validation_edges = torch.cat(user_validation_edges, dim=1)\n",
    "    print(user_validation_edges.shape)\n",
    "\n",
    "    first_user_id = users[0].item()\n",
    "    user_name = id_to_user[first_user_id]\n",
    "    print(f'User: {user_name}')\n",
    "\n",
    "    # get movies\n",
    "    movie_indices = torch.LongTensor([_ for _ in range(len(users) + 1, validation_graph.num_nodes)]).to(device)\n",
    "\n",
    "    # Get positive items for each user in validation set\n",
    "    truth_items = [set(user_pos_items[user.item()]) for user in users]\n",
    "\n",
    "    first_user_truth_items = truth_items[0]\n",
    "    first_user_truth_items = [id_to_movie[item] for item in first_user_truth_items]\n",
    "    first_user_truth_items = [movie_id_to_movie_name[item] for item in first_user_truth_items]\n",
    "    print(first_user_truth_items)\n",
    "\n",
    "    training_edges = train_graph.edge_index\n",
    "\n",
    "    # Get top-K recommended items for each user in validation set\n",
    "    total_recall = 0\n",
    "    print(\"Computing recommendations for {} users\".format(len(users)))\n",
    "    for user_index, user_id in tqdm(enumerate(users), total=len(users)):\n",
    "        tick = time.time()\n",
    "        all_edges = torch.tensor([(user_id, item_id) for item_id in range(num_train_users, num_train_items)], dtype=torch.long).t().contiguous()\n",
    "        recommendations = model.recommend(all_edges.to(device), src_index=torch.tensor([user_id]), dst_index=torch.tensor([x for x in range(num_train_users + 1, num_train_items)]), k=3 * K)[0]\n",
    "        tock = time.time()\n",
    "        train_edges_for_user = training_edges[:, training_edges[0] == user_id]\n",
    "        # remove all the recommendations that are in the training set\n",
    "        recommendations = recommendations[~torch.isin(recommendations, train_edges_for_user[1])][:K]\n",
    "        if (len(recommendations) < K):\n",
    "            print(\"Not enough recommendations for user {}\".format(user_id))\n",
    "        if (user_id == first_user_id):\n",
    "            first_user_recommended_items = recommendations\n",
    "            first_user_recommended_items = [id_to_movie[item.item()] for item in first_user_recommended_items if item.item() > num_train_users]\n",
    "            first_user_recommended_items = [movie_id_to_movie_name[item] for item in first_user_recommended_items if item in movie_id_to_movie_name]\n",
    "            print(first_user_recommended_items)\n",
    "        # num_intersect = 0\n",
    "        truth_items_for_user = truth_items[user_index]\n",
    "        # for item in recommendations:\n",
    "        #     item = item.item()\n",
    "        #     if item in truth_items_for_user:\n",
    "        #         num_intersect += 1\n",
    "        # print(num_intersect)\n",
    "        num_intersect = len(set([item.item() for item in recommendations]).intersection(truth_items[user_index]))\n",
    "        recall = num_intersect / len(truth_items_for_user)\n",
    "        total_recall += recall\n",
    "    return total_recall / len(users)\n",
    "\n"
   ]
  },
  {
   "cell_type": "code",
   "execution_count": 46,
   "metadata": {},
   "outputs": [],
   "source": [
    "from typing import Optional, Union\n",
    "\n",
    "import torch\n",
    "import torch.nn.functional as F\n",
    "from torch import Tensor\n",
    "from torch.nn import Embedding, ModuleList\n",
    "from torch.nn.modules.loss import _Loss\n",
    "\n",
    "from torch_geometric.nn.conv import LGConv\n",
    "from torch_geometric.typing import Adj, OptTensor, SparseTensor"
   ]
  },
  {
   "cell_type": "code",
   "execution_count": 47,
   "metadata": {},
   "outputs": [],
   "source": [
    "\"\"\"Adapted from https://pytorch-geometric.readthedocs.io/en/latest/_modules/torch_geometric/nn/models/lightgcn.html\"\"\"\n",
    "class CustomLightGCN(torch.nn.Module):\n",
    "    \"\"\"From the <https://arxiv.org/abs/2002.02126>` paper.\n",
    "\n",
    "    Args:\n",
    "        num_nodes (int): The number of nodes in the graph.\n",
    "        embedding_dim (int): The dimensionality of node embeddings.\n",
    "        num_layers (int): The number of layers.\n",
    "    \"\"\"\n",
    "    def __init__(\n",
    "        self,\n",
    "        num_nodes: int,\n",
    "        embedding_dim: int,\n",
    "        num_layers: int\n",
    "    ):\n",
    "        super().__init__()\n",
    "\n",
    "        self.num_nodes = num_nodes\n",
    "        self.embedding_dim = embedding_dim\n",
    "        self.num_layers = num_layers\n",
    "        self.embedding = Embedding(num_nodes, embedding_dim)\n",
    "        self.alpha = torch.tensor([1. / (num_layers + 1)] * (num_layers + 1))\n",
    "        self.convs = ModuleList([GATConv(embedding_dim, embedding_dim, heads=8, dropout=0.6) for _ in range(num_layers)])\n",
    "        self.linears = ModuleList([Linear(embedding_dim * 8, embedding_dim) for _ in range(num_layers)])\n",
    "        torch.nn.init.xavier_uniform_(self.embedding.weight)\n",
    "\n",
    "    def get_embedding(self, edge_index):\n",
    "        x = self.embedding.weight\n",
    "        out = x * self.alpha[0]\n",
    "\n",
    "        for i in range(self.num_layers):\n",
    "            x = self.convs[i](x, edge_index)\n",
    "            x = self.linears[i](x.view(-1, self.embedding_dim * 8))\n",
    "            out = out + x * self.alpha[i + 1]\n",
    "\n",
    "        return out\n",
    "\n",
    "\n",
    "    def forward(self, edge_index):\n",
    "        edge_label_index = edge_index\n",
    "        out = self.get_embedding(edge_index)\n",
    "        user = out[edge_label_index[0]]\n",
    "        movie = out[edge_label_index[1]]\n",
    "        return (user * movie).sum(dim=-1)\n",
    "\n",
    "\n",
    "    def predict_link(self, edge_index, edge_label_index):\n",
    "        \"Predict links between nodes specified in edge_label_index.\"\"\"\n",
    "        pred = self(edge_index, edge_label_index).sigmoid()\n",
    "        return pred.round()\n",
    "\n",
    "\n",
    "    def recommend(self, edge_index, k):\n",
    "        \"\"\"Get top-k recommendations for nodes in src_index.\"\"\"\n",
    "        out_user = self.get_embedding(edge_index)\n",
    "        out_movie = self.get_embedding(edge_index)\n",
    "        pred = out_user @ out_movie.t()\n",
    "        top_index = pred.topk(k, dim=-1).indices\n",
    "        return top_index\n",
    "\n",
    "\n",
    "    def link_pred_loss(self, pred, edge_label):\n",
    "        \"\"\"Computes the model loss for a link prediction using torch.nn.BCEWithLogitsLoss.\n",
    "        \n",
    "        Args:\n",
    "            pred (torch.Tensor): The predictions.\n",
    "            edge_label (torch.Tensor): The ground-truth edge labels.\n",
    "        \"\"\"\n",
    "        loss_fn = torch.nn.BCEWithLogitsLoss()\n",
    "        return loss_fn(pred, edge_label.to(pred.dtype))\n",
    "\n",
    "\n",
    "    def recommendation_loss(self, pos_edge_rank, neg_edge_rank,\n",
    "                            lambda_reg: float = 1e-4):\n",
    "        \"\"\"Computes the model loss for a ranking objective via the Bayesian\n",
    "        Personalized Ranking (BPR) loss.\n",
    "\n",
    "        Args:\n",
    "            pos_edge_rank (torch.Tensor): Positive edge rankings.\n",
    "            neg_edge_rank (torch.Tensor): Negative edge rankings.\n",
    "            lambda_reg (int, optional): The L2 regularization strength\n",
    "                of the Bayesian Personalized Ranking (BPR) loss.\n",
    "        \"\"\"\n",
    "        loss_fn = BPRLoss(lambda_reg)\n",
    "        return loss_fn(pos_edge_rank, neg_edge_rank, self.embedding.weight)"
   ]
  },
  {
   "cell_type": "code",
   "execution_count": 48,
   "metadata": {},
   "outputs": [],
   "source": [
    "\"\"\" This is verbatim from https://pytorch-geometric.readthedocs.io/en/latest/_modules/torch_geometric/nn/models/lightgcn.html. \"\"\"\n",
    "class BPRLoss(_Loss):\n",
    "    \"\"\"The Bayesian Personalized Ranking (BPR) loss.\"\"\"\n",
    "    __constants__ = ['lambda_reg']\n",
    "    lambda_reg: float\n",
    "\n",
    "    def __init__(self, lambda_reg: float = 0, **kwargs):\n",
    "        super().__init__(None, None, \"sum\", **kwargs)\n",
    "        self.lambda_reg = 0\n",
    "\n",
    "    def forward(self, positives: Tensor, negatives: Tensor,\n",
    "                parameters: Tensor = None) -> Tensor:\n",
    "        \"\"\"Compute the mean Bayesian Personalized Ranking (BPR) loss.\n",
    "\n",
    "        Args:\n",
    "            positives (Tensor): The vector of positive-pair rankings.\n",
    "            negatives (Tensor): The vector of negative-pair rankings.\n",
    "            parameters (Tensor, optional): The tensor of parameters which\n",
    "                should be used for :math:`L_2` regularization\n",
    "                (default: :obj:`None`).\n",
    "        \"\"\"\n",
    "        n_pairs = positives.size(0)\n",
    "        log_prob = F.logsigmoid(positives - negatives).mean()\n",
    "        regularization = 0\n",
    "\n",
    "        if self.lambda_reg != 0:\n",
    "            regularization = self.lambda_reg * parameters.norm(p=2).pow(2)\n",
    "\n",
    "        return (-log_prob + regularization) / n_pairs"
   ]
  },
  {
   "cell_type": "code",
   "execution_count": 165,
   "metadata": {},
   "outputs": [],
   "source": [
    "def resample_hard_negative_edges_for_user(user_positive_edges, user_negative_edges, model, num_train_items, epoch):\n",
    "    # Select hard negative edges based on current model parameters\n",
    "    user_positive_items = user_positive_edges[1, :]\n",
    "    \n",
    "    # get the rankings for this user\n",
    "    all_edges = torch.tensor([(user_id, item_id) for item_id in range(num_train_users, num_train_items)], dtype=torch.long).t().contiguous()\n",
    "    with torch.no_grad():\n",
    "        user_rankings = model.forward(all_edges) # this is of shape (42263) -- each index is the prediction for that index's movie\n",
    "    mask = torch.ones(num_train_items - num_train_users, dtype=torch.bool) # gets indices of all the movies\n",
    "    pos_items_mask = user_positive_items < num_train_items - num_train_users\n",
    "    filtered_pos_items = user_positive_items[pos_items_mask]\n",
    "    mask[filtered_pos_items] = True\n",
    "\n",
    "    # get the rankings for negative items\n",
    "    negative_rankings = user_rankings[mask]\n",
    "    \n",
    "    # select the top k negative items for this user\n",
    "    if epoch != 0:\n",
    "        k = min(epoch - 1, negative_rankings.shape[0])\n",
    "    else:\n",
    "        k = 0\n",
    "\n",
    "    _, topk_items = torch.topk(negative_rankings, k)\n",
    "    negative_items = torch.nonzero(mask).flatten()[topk_items]\n",
    "\n",
    "    # create the new negative edges\n",
    "    negative_edges_to_add = torch.tensor([[user_id] * k, negative_items], dtype=torch.long)\n",
    "    new_negative_edges = torch.cat([user_negative_edges, negative_edges_to_add], dim=1)\n",
    "\n",
    "    return user_positive_edges, new_negative_edges"
   ]
  },
  {
   "cell_type": "code",
   "execution_count": 168,
   "metadata": {},
   "outputs": [
    {
     "name": "stdout",
     "output_type": "stream",
     "text": [
      "Running on device: cpu\n",
      "64\n"
     ]
    },
    {
     "name": "stderr",
     "output_type": "stream",
     "text": [
      "  0%|          | 0/8 [00:05<?, ?it/s]\n"
     ]
    },
    {
     "ename": "KeyboardInterrupt",
     "evalue": "",
     "output_type": "error",
     "traceback": [
      "\u001b[0;31m---------------------------------------------------------------------------\u001b[0m",
      "\u001b[0;31mKeyboardInterrupt\u001b[0m                         Traceback (most recent call last)",
      "Cell \u001b[0;32mIn[168], line 51\u001b[0m\n\u001b[1;32m     49\u001b[0m     user_negative_edges \u001b[39m=\u001b[39m user_negative_edges[:, :\u001b[39m15000\u001b[39m]\n\u001b[1;32m     50\u001b[0m \u001b[39m# sample hard negative edges\u001b[39;00m\n\u001b[0;32m---> 51\u001b[0m user_positive_edges, user_negative_edges \u001b[39m=\u001b[39m resample_hard_negative_edges_for_user(user_positive_edges, user_negative_edges, model, num_train_items, epoch)\n\u001b[1;32m     52\u001b[0m \u001b[39m# resample negative edges to make sure we have enough\u001b[39;00m\n\u001b[1;32m     53\u001b[0m user_positive_edges, user_negative_edges \u001b[39m=\u001b[39m resample_edges_for_user(user_positive_edges, user_negative_edges)\n",
      "Cell \u001b[0;32mIn[165], line 7\u001b[0m, in \u001b[0;36mresample_hard_negative_edges_for_user\u001b[0;34m(user_positive_edges, user_negative_edges, model, num_train_items, epoch)\u001b[0m\n\u001b[1;32m      4\u001b[0m user_positive_items \u001b[39m=\u001b[39m user_positive_edges[\u001b[39m1\u001b[39m, :]\n\u001b[1;32m      6\u001b[0m \u001b[39m# get the rankings for this user\u001b[39;00m\n\u001b[0;32m----> 7\u001b[0m all_edges \u001b[39m=\u001b[39m torch\u001b[39m.\u001b[39;49mtensor([(user_id, item_id) \u001b[39mfor\u001b[39;49;00m item_id \u001b[39min\u001b[39;49;00m \u001b[39mrange\u001b[39;49m(num_train_users, num_train_items)], dtype\u001b[39m=\u001b[39;49mtorch\u001b[39m.\u001b[39;49mlong)\u001b[39m.\u001b[39mt()\u001b[39m.\u001b[39mcontiguous()\n\u001b[1;32m      8\u001b[0m \u001b[39mwith\u001b[39;00m torch\u001b[39m.\u001b[39mno_grad():\n\u001b[1;32m      9\u001b[0m     user_rankings \u001b[39m=\u001b[39m model\u001b[39m.\u001b[39mforward(all_edges) \u001b[39m# this is of shape (42263) -- each index is the prediction for that index's movie\u001b[39;00m\n",
      "\u001b[0;31mKeyboardInterrupt\u001b[0m: "
     ]
    }
   ],
   "source": [
    "import numpy as np\n",
    "import math\n",
    "import matplotlib.pyplot as plt\n",
    "\n",
    "NUM_LAYERS = 1\n",
    "LR = 5e-5\n",
    "BATCH_SIZE = min(128, len(user_review_data))\n",
    "EMBEDDING_DIM = 64\n",
    "K = 10\n",
    "model = LightGCN(num_nodes=num_nodes, embedding_dim=EMBEDDING_DIM, num_layers=NUM_LAYERS)\n",
    "device = torch.device('cuda' if torch.cuda.is_available() else 'cpu')\n",
    "model = model.to(device)\n",
    "\n",
    "print(\"Running on device: {}\".format(device))\n",
    "print(EMBEDDING_DIM)\n",
    "\n",
    "optim = torch.optim.Adam(model.parameters(), lr=LR)\n",
    "scheduler = torch.optim.lr_scheduler.ExponentialLR(optim, gamma=0.95)\n",
    "# scheduler = torch.optim.lr_scheduler.MultiStepLR(optim, milestones=[100, 200, 300, 400], gamma=0.5)\n",
    "# scheduler = torch.optim.lr_scheduler.CosineAnnealingWarmRestarts(optim, T_0=100)\n",
    "\n",
    "train_positive_edges = train_graph.edge_index[:, train_graph.edge_attr >= 3.5]\n",
    "train_negative_edges = train_graph.edge_index[:, train_graph.edge_attr <= 2.5]\n",
    "\n",
    "validation_df = pd.DataFrame.from_dict(validation_reviews)\n",
    "from torch.utils.tensorboard import SummaryWriter\n",
    "writer = SummaryWriter(comment=f'LightGCN_{EMBEDDING_DIM}_layers_{NUM_LAYERS}_batch_size_{BATCH_SIZE}_lr_{LR}_num_train_users_{num_train_users}_num_train_items_{num_train_items}_recall_{K}')\n",
    "\n",
    "for epoch in range(10):\n",
    "    # we are using BPR so we go by user\n",
    "    average_loss = 0\n",
    "    # We'll proceed in batches of users\n",
    "    for start_idx in tqdm(range(0, num_train_users, BATCH_SIZE)):\n",
    "        model.train()\n",
    "        loss = torch.tensor(0.0, requires_grad=True)\n",
    "        # randomly select a batch of users\n",
    "        users_in_batch = torch.randperm(num_train_users)[start_idx:start_idx + BATCH_SIZE]\n",
    "        for user_id in users_in_batch:\n",
    "            # get all the edges specific to this user\n",
    "            user_positive_edges = train_positive_edges[:, train_positive_edges[0] == user_id]\n",
    "            user_negative_edges = train_negative_edges[:, train_negative_edges[0] == user_id]\n",
    "            if (user_positive_edges.shape[1] == 0 or user_negative_edges.shape[1] == 0):\n",
    "                continue\n",
    "            # limit the number of positive edges to 5000\n",
    "            if (user_positive_edges.shape[1] > 5000):\n",
    "                user_positive_edges = user_positive_edges[:, :5000]\n",
    "            # Get at most 15000 negative edges\n",
    "            if (user_negative_edges.shape[1] > 15000):\n",
    "                user_negative_edges = user_negative_edges[:, :15000]\n",
    "            # sample hard negative edges\n",
    "            user_positive_edges, user_negative_edges = resample_hard_negative_edges_for_user(user_positive_edges, user_negative_edges, model, num_train_items, epoch)\n",
    "            # resample negative edges to make sure we have enough\n",
    "            user_positive_edges, user_negative_edges = resample_edges_for_user(user_positive_edges, user_negative_edges)\n",
    "            # concatenate the positive and negative edges\n",
    "            user_edges = torch.cat([user_positive_edges, user_negative_edges], dim=1)\n",
    "            # get the rankings for this user\n",
    "            user_edges = user_edges.to(device)\n",
    "            user_rankings = model(user_edges)\n",
    "            # divide the rankings into positive and negative rankings\n",
    "            user_positive_rankings = user_rankings[:user_positive_edges.shape[1]]\n",
    "            user_negative_rankings = user_rankings[user_positive_edges.shape[1]:]\n",
    "            # create all pairs of positive and negative rankings\n",
    "            user_positive_rankings = user_positive_rankings.unsqueeze(1).repeat(1, user_negative_rankings.shape[0])\n",
    "            user_negative_rankings = user_negative_rankings.unsqueeze(0).repeat(user_positive_rankings.shape[0], 1)\n",
    "            # get the user loss\n",
    "            user_loss = model.recommendation_loss(user_positive_rankings, user_negative_rankings, 1e-4)\n",
    "            # add the user loss to the total loss\n",
    "            loss = loss + user_loss\n",
    "        # divide the loss by the number of users\n",
    "        loss = loss / BATCH_SIZE\n",
    "        # log the loss\n",
    "        # backprop\n",
    "        optim.zero_grad()\n",
    "        loss.backward()\n",
    "        optim.step()\n",
    "        writer.add_scalar(\"Loss/train\", loss, epoch * (num_train_users // BATCH_SIZE) + start_idx // BATCH_SIZE)\n",
    "        print(epoch * BATCH_SIZE + start_idx // BATCH_SIZE)\n",
    "        average_loss = 0\n",
    "        if (epoch * BATCH_SIZE + start_idx // BATCH_SIZE) % 100 == 0:\n",
    "            # evaluate the model\n",
    "            model.eval()\n",
    "            # iterate over all users in the validation set\n",
    "            validation_users = list(set([int(x) for x in validation_edges[0, :]]))\n",
    "            # randomly select 1000 of the users\n",
    "            validation_users = random.sample(validation_users, min(len(validation_users), 500))\n",
    "            mean_ndcg = 0\n",
    "            ndcg_scores = []\n",
    "            for user in tqdm(validation_users):\n",
    "                user_id = id_to_user[user]\n",
    "                relevant_reviews = validation_df[validation_df['user_id'] == user_id]\n",
    "                user_validation_edges = validation_edges[:, validation_edges[0] == user]\n",
    "                user_validation_edges = user_validation_edges.to(device)\n",
    "                user_rankings = model(user_validation_edges)\n",
    "                edges_sorted = list(user_validation_edges[1, user_rankings.argsort(descending=True)])\n",
    "                # use validation_df to get the relevances via the movie_id column and the movie_rating column\n",
    "                relevances = []\n",
    "                for edge in edges_sorted:\n",
    "                    movie_id = id_to_movie[int(edge)]\n",
    "                    if (movie_id in relevant_reviews['movie_id'].values):\n",
    "                        relevances.append(relevant_reviews[relevant_reviews['movie_id'] == movie_id]['movie_rating'].values[0])\n",
    "                    else:\n",
    "                        relevances.append(0)\n",
    "                # calculate the ndcg\n",
    "                ndcg = compute_ndcg_at_k(relevances)\n",
    "                if (math.isnan(ndcg)):\n",
    "                    print(relevant_reviews)\n",
    "                    input()\n",
    "                mean_ndcg += ndcg\n",
    "                ndcg_scores.append(ndcg)\n",
    "            mean_ndcg = mean_ndcg / len(validation_users)\n",
    "            print(\"Standard Deviation: {}\".format(np.std(ndcg_scores)))\n",
    "            # create a histogram of the ndcg scores, make bins for each 0.1\n",
    "            ndcg_scores = np.array(ndcg_scores).squeeze()\n",
    "            writer.add_histogram(\"hist_NDCG/val\", ndcg_scores, epoch)\n",
    "            # also make a histogram in matplotlib and save as png\n",
    "            plt.hist(ndcg_scores, bins=np.arange(0, 1.1, 0.1))\n",
    "            plt.suptitle(\"Validation NDCG Histogram\")\n",
    "            # write information about the model to the histogram\n",
    "            plt.title(f\"Model: LightGCN, Embedding Dim: {EMBEDDING_DIM}, Num Layers: {NUM_LAYERS}, Batch Size: {BATCH_SIZE}, LR: {LR}, Num Train Users: {num_train_users}, Num Train Items: {num_train_items}\", fontsize=8, wrap=True)\n",
    "            plt.xlabel(\"NDCG\")\n",
    "            plt.ylabel(\"Frequency\")\n",
    "            # save the figure in the hist_NDCG folder, with the title having the model information and the epoch number\n",
    "            plt.savefig(f\"hist_NDCG/val_{EMBEDDING_DIM}_{NUM_LAYERS}_{BATCH_SIZE}_{LR}_{num_train_users}_{num_train_items}_{epoch}.png\")\n",
    "            plt.close()\n",
    "            # Also save the raw NDCG scores to a csv file, with the model information in the title, and the epoch number\n",
    "            np.savetxt(f\"hist_NDCG/val_{EMBEDDING_DIM}_{NUM_LAYERS}_{BATCH_SIZE}_{LR}_{num_train_users}_{num_train_items}_{epoch}.csv\", ndcg_scores, delimiter=\",\")\n",
    "            print(mean_ndcg)\n",
    "            writer.add_scalar(\"NDCG/val\", mean_ndcg, epoch * (num_train_users // BATCH_SIZE) + start_idx // BATCH_SIZE)\n",
    "            recall_at_k = compute_recall_at_k(validation_graph, model, K)\n",
    "            writer.add_scalar(\"Recall@K/val\", recall_at_k, epoch * (num_train_users // BATCH_SIZE) + start_idx // BATCH_SIZE)\n",
    "            print(\"Epoch: {}, NDCG: {}, Recall@{}: {}\".format(epoch, mean_ndcg, K, recall_at_k))\n",
    "            average_number_of_matches = 0\n",
    "            for user_id in validation_users:\n",
    "                all_edges = torch.tensor([(user_id, item_id) for item_id in range(num_train_users, num_train_items)], dtype=torch.long).t().contiguous()\n",
    "                recommendations = model.recommend(all_edges.to(device), src_index=torch.tensor([user_id]), dst_index=torch.tensor([x for x in range(num_train_users + 1, num_train_items)]), k=10)[0]\n",
    "                movie_names = [movie_id_to_movie_name[id_to_movie[int(recommendation)]] for recommendation in recommendations]\n",
    "                true_user_reviews = user_review_data[id_to_user[user_id]]\n",
    "                matches = 0\n",
    "                for movie_name in movie_names:\n",
    "                    if movie_name in true_user_reviews['movie_title'].values:\n",
    "                        matches += 1\n",
    "                average_number_of_matches += matches\n",
    "            average_number_of_matches = average_number_of_matches / len(validation_users)\n",
    "            print(\"Average number of matches: {}\".format(average_number_of_matches))\n",
    "            writer.add_scalar(\"Average number of matches\", average_number_of_matches, epoch * (num_train_users // BATCH_SIZE) + start_idx // BATCH_SIZE)\n",
    "            print(\"=====================================\")"
   ]
  },
  {
   "cell_type": "code",
   "execution_count": null,
   "metadata": {},
   "outputs": [],
   "source": [
    "validation_users = list(set([int(x) for x in validation_edges[0, :]]))\n",
    "validation_df[validation_df.user_id == id_to_user[0]]"
   ]
  },
  {
   "cell_type": "code",
   "execution_count": null,
   "metadata": {},
   "outputs": [],
   "source": [
    "validation_edges[:, validation_edges[0] == 0]"
   ]
  },
  {
   "cell_type": "code",
   "execution_count": null,
   "metadata": {},
   "outputs": [],
   "source": [
    "def get_user_positive_items(edge_index):\n",
    "    \"\"\"Generates dictionary of positive items for each user\n",
    "\n",
    "    Args:\n",
    "        edge_index (torch.Tensor): 2 by N list of edges\n",
    "\n",
    "    Returns:\n",
    "        dict: dictionary of positive items for each user\n",
    "    \"\"\"\n",
    "    user_pos_items = {}\n",
    "    for i in range(edge_index.shape[1]):\n",
    "        user = edge_index[0][i].item()\n",
    "        item = edge_index[1][i].item()\n",
    "        if user not in user_pos_items:\n",
    "            user_pos_items[user] = []\n",
    "        user_pos_items[user].append(item)\n",
    "    return user_pos_items"
   ]
  },
  {
   "cell_type": "code",
   "execution_count": null,
   "metadata": {},
   "outputs": [],
   "source": [
    "print()"
   ]
  },
  {
   "cell_type": "code",
   "execution_count": null,
   "metadata": {},
   "outputs": [],
   "source": []
  }
 ],
 "metadata": {
  "kernelspec": {
   "display_name": "Python 3",
   "language": "python",
   "name": "python3"
  },
  "language_info": {
   "codemirror_mode": {
    "name": "ipython",
    "version": 3
   },
   "file_extension": ".py",
   "mimetype": "text/x-python",
   "name": "python",
   "nbconvert_exporter": "python",
   "pygments_lexer": "ipython3",
   "version": "3.10.10"
  }
 },
 "nbformat": 4,
 "nbformat_minor": 2
=======
  "cells": [
    {
      "cell_type": "code",
      "execution_count": 1,
      "metadata": {
        "colab": {
          "base_uri": "https://localhost:8080/",
          "height": 1000
        },
        "id": "UQK_3l0ugoHn",
        "outputId": "06185120-bd6e-4284-bf8b-81260d240b6b"
      },
      "outputs": [
        {
          "name": "stdout",
          "output_type": "stream",
          "text": [
            "Looking in indexes: https://pypi.org/simple, https://us-python.pkg.dev/colab-wheels/public/simple/\n",
            "Collecting torch_geometric\n",
            "  Downloading torch_geometric-2.2.0.tar.gz (564 kB)\n",
            "\u001b[2K     \u001b[90m━━━━━━━━━━━━━━━━━━━━━━━━━━━━━━━━━━━━━━\u001b[0m \u001b[32m565.0/565.0 KB\u001b[0m \u001b[31m23.2 MB/s\u001b[0m eta \u001b[36m0:00:00\u001b[0m\n",
            "\u001b[?25h  Preparing metadata (setup.py) ... \u001b[?25l\u001b[?25hdone\n",
            "Requirement already satisfied: tqdm in /usr/local/lib/python3.9/dist-packages (from torch_geometric) (4.65.0)\n",
            "Requirement already satisfied: numpy in /usr/local/lib/python3.9/dist-packages (from torch_geometric) (1.22.4)\n",
            "Requirement already satisfied: scipy in /usr/local/lib/python3.9/dist-packages (from torch_geometric) (1.10.1)\n",
            "Requirement already satisfied: jinja2 in /usr/local/lib/python3.9/dist-packages (from torch_geometric) (3.1.2)\n",
            "Requirement already satisfied: requests in /usr/local/lib/python3.9/dist-packages (from torch_geometric) (2.25.1)\n",
            "Requirement already satisfied: pyparsing in /usr/local/lib/python3.9/dist-packages (from torch_geometric) (3.0.9)\n",
            "Requirement already satisfied: scikit-learn in /usr/local/lib/python3.9/dist-packages (from torch_geometric) (1.2.2)\n",
            "Collecting psutil>=5.8.0\n",
            "  Downloading psutil-5.9.4-cp36-abi3-manylinux_2_12_x86_64.manylinux2010_x86_64.manylinux_2_17_x86_64.manylinux2014_x86_64.whl (280 kB)\n",
            "\u001b[2K     \u001b[90m━━━━━━━━━━━━━━━━━━━━━━━━━━━━━━━━━━━━━━\u001b[0m \u001b[32m280.2/280.2 KB\u001b[0m \u001b[31m29.9 MB/s\u001b[0m eta \u001b[36m0:00:00\u001b[0m\n",
            "\u001b[?25hRequirement already satisfied: MarkupSafe>=2.0 in /usr/local/lib/python3.9/dist-packages (from jinja2->torch_geometric) (2.1.2)\n",
            "Requirement already satisfied: certifi>=2017.4.17 in /usr/local/lib/python3.9/dist-packages (from requests->torch_geometric) (2022.12.7)\n",
            "Requirement already satisfied: chardet<5,>=3.0.2 in /usr/local/lib/python3.9/dist-packages (from requests->torch_geometric) (4.0.0)\n",
            "Requirement already satisfied: idna<3,>=2.5 in /usr/local/lib/python3.9/dist-packages (from requests->torch_geometric) (2.10)\n",
            "Requirement already satisfied: urllib3<1.27,>=1.21.1 in /usr/local/lib/python3.9/dist-packages (from requests->torch_geometric) (1.26.14)\n",
            "Requirement already satisfied: threadpoolctl>=2.0.0 in /usr/local/lib/python3.9/dist-packages (from scikit-learn->torch_geometric) (3.1.0)\n",
            "Requirement already satisfied: joblib>=1.1.1 in /usr/local/lib/python3.9/dist-packages (from scikit-learn->torch_geometric) (1.1.1)\n",
            "Building wheels for collected packages: torch_geometric\n",
            "  Building wheel for torch_geometric (setup.py) ... \u001b[?25l\u001b[?25hdone\n",
            "  Created wheel for torch_geometric: filename=torch_geometric-2.2.0-py3-none-any.whl size=773302 sha256=7e1ec35eced56cd8f50def3342c013bdebc149a8fb31878693444c2b02543711\n",
            "  Stored in directory: /root/.cache/pip/wheels/31/b2/8c/9b4bb72a4384eabd1ffeab2b7ead692c9165e35711f8a9dc72\n",
            "Successfully built torch_geometric\n",
            "Installing collected packages: psutil, torch_geometric\n",
            "  Attempting uninstall: psutil\n",
            "    Found existing installation: psutil 5.4.8\n",
            "    Uninstalling psutil-5.4.8:\n",
            "      Successfully uninstalled psutil-5.4.8\n",
            "Successfully installed psutil-5.9.4 torch_geometric-2.2.0\n"
          ]
        },
        {
          "data": {
            "application/vnd.colab-display-data+json": {
              "pip_warning": {
                "packages": [
                  "psutil"
                ]
              }
            }
          },
          "metadata": {},
          "output_type": "display_data"
        },
        {
          "name": "stdout",
          "output_type": "stream",
          "text": [
            "Looking in indexes: https://pypi.org/simple, https://us-python.pkg.dev/colab-wheels/public/simple/\n",
            "Looking in links: https://data.pyg.org/whl/torch-1.13.1+cu116.html\n",
            "Collecting torch-scatter\n",
            "  Downloading https://data.pyg.org/whl/torch-1.13.0%2Bcu116/torch_scatter-2.1.0%2Bpt113cu116-cp39-cp39-linux_x86_64.whl (9.4 MB)\n",
            "\u001b[2K     \u001b[90m━━━━━━━━━━━━━━━━━━━━━━━━━━━━━━━━━━━━━━━━\u001b[0m \u001b[32m9.4/9.4 MB\u001b[0m \u001b[31m83.6 MB/s\u001b[0m eta \u001b[36m0:00:00\u001b[0m\n",
            "\u001b[?25hInstalling collected packages: torch-scatter\n",
            "Successfully installed torch-scatter-2.1.0+pt113cu116\n",
            "Looking in indexes: https://pypi.org/simple, https://us-python.pkg.dev/colab-wheels/public/simple/\n",
            "Looking in links: https://data.pyg.org/whl/torch-1.13.1+cu116.html\n",
            "Collecting torch-sparse\n",
            "  Downloading https://data.pyg.org/whl/torch-1.13.0%2Bcu116/torch_sparse-0.6.16%2Bpt113cu116-cp39-cp39-linux_x86_64.whl (4.5 MB)\n",
            "\u001b[2K     \u001b[90m━━━━━━━━━━━━━━━━━━━━━━━━━━━━━━━━━━━━━━━━\u001b[0m \u001b[32m4.5/4.5 MB\u001b[0m \u001b[31m73.9 MB/s\u001b[0m eta \u001b[36m0:00:00\u001b[0m\n",
            "\u001b[?25hRequirement already satisfied: scipy in /usr/local/lib/python3.9/dist-packages (from torch-sparse) (1.10.1)\n",
            "Requirement already satisfied: numpy<1.27.0,>=1.19.5 in /usr/local/lib/python3.9/dist-packages (from scipy->torch-sparse) (1.22.4)\n",
            "Installing collected packages: torch-sparse\n",
            "Successfully installed torch-sparse-0.6.16+pt113cu116\n",
            "Looking in indexes: https://pypi.org/simple, https://us-python.pkg.dev/colab-wheels/public/simple/\n",
            "Requirement already satisfied: torch in /usr/local/lib/python3.9/dist-packages (1.13.1+cu116)\n",
            "Requirement already satisfied: typing-extensions in /usr/local/lib/python3.9/dist-packages (from torch) (4.5.0)\n",
            "Looking in indexes: https://pypi.org/simple, https://us-python.pkg.dev/colab-wheels/public/simple/\n",
            "Requirement already satisfied: pandas in /usr/local/lib/python3.9/dist-packages (1.4.4)\n",
            "Requirement already satisfied: pytz>=2020.1 in /usr/local/lib/python3.9/dist-packages (from pandas) (2022.7.1)\n",
            "Requirement already satisfied: python-dateutil>=2.8.1 in /usr/local/lib/python3.9/dist-packages (from pandas) (2.8.2)\n",
            "Requirement already satisfied: numpy>=1.18.5 in /usr/local/lib/python3.9/dist-packages (from pandas) (1.22.4)\n",
            "Requirement already satisfied: six>=1.5 in /usr/local/lib/python3.9/dist-packages (from python-dateutil>=2.8.1->pandas) (1.15.0)\n"
          ]
        }
      ],
      "source": [
        "%pip install torch_geometric\n",
        "%pip install torch-scatter -f https://data.pyg.org/whl/torch-1.13.1+cu116.html\n",
        "%pip install torch-sparse -f https://data.pyg.org/whl/torch-1.13.1+cu116.html\n",
        "%pip install torch\n",
        "%pip install pandas"
      ]
    },
    {
      "cell_type": "code",
      "execution_count": 32,
      "metadata": {
        "id": "A5yY1RZQgoHn"
      },
      "outputs": [],
      "source": [
        "from torch_geometric.nn.models.lightgcn import LightGCN\n",
        "import pandas as pd\n",
        "import os\n",
        "from tqdm import tqdm\n",
        "import torch\n",
        "\n",
        "device = torch.device('cuda' if torch.cuda.is_available() else 'cpu')"
      ]
    },
    {
      "cell_type": "markdown",
      "metadata": {
        "id": "UJ3JhgijgoHo"
      },
      "source": [
        "## Load Data\n",
        "We can begin by loading in the user review data. For each user, we have a subset of the movies that they reviewed. We'll load each of the CSVs as dataframes, and store a dict of user IDs corresponding to their dataframes."
      ]
    },
    {
      "cell_type": "code",
      "execution_count": 2,
      "metadata": {
        "id": "CFhM-0EJgoHp"
      },
      "outputs": [],
      "source": [
        "# for now we will use the first 10k rows of the data, set to None to use all data\n",
        "AMOUNT_TO_LOAD = 200"
      ]
    },
    {
      "cell_type": "code",
      "execution_count": 3,
      "metadata": {
        "colab": {
          "base_uri": "https://localhost:8080/"
        },
        "id": "jy5HrpxfgoHp",
        "outputId": "c8810b49-1ccd-4cd5-f9dd-44bd867f97c0"
      },
      "outputs": [
        {
          "name": "stdout",
          "output_type": "stream",
          "text": [
            "Mounted at /content/gdrive\n"
          ]
        }
      ],
      "source": [
        "# We also need to mount in a google drive \n",
        "from google.colab import drive\n",
        "drive.mount(\"/content/gdrive\")"
      ]
    },
    {
      "cell_type": "code",
      "execution_count": 5,
      "metadata": {
        "colab": {
          "base_uri": "https://localhost:8080/"
        },
        "id": "hSZsmDIBgoHp",
        "outputId": "c182227e-9a73-4fe9-9c4a-71cf8dcac613"
      },
      "outputs": [
        {
          "name": "stderr",
          "output_type": "stream",
          "text": [
            " 63%|██████▎   | 200/316 [00:04<00:02, 41.47it/s] \n"
          ]
        }
      ],
      "source": [
        "user_reviews_dir = 'user_reviews'\n",
        "\n",
        "# We are in the google drive setting then\n",
        "if not os.path.exists(user_reviews_dir):\n",
        "  user_reviews_dir = 'gdrive/MyDrive/user_reviews'\n",
        "\n",
        "user_review_data = dict()\n",
        "\n",
        "for filename in tqdm(os.listdir(user_reviews_dir)):\n",
        "    if AMOUNT_TO_LOAD is not None and len(user_review_data) >= AMOUNT_TO_LOAD:\n",
        "        break\n",
        "    try:\n",
        "        user_review_data[filename] = pd.read_csv(os.path.join(user_reviews_dir, filename), encoding='unicode_escape')\n",
        "    except pd.errors.EmptyDataError:\n",
        "        print(f'Empty file: {filename}')\n",
        "        pass"
      ]
    },
    {
      "cell_type": "markdown",
      "metadata": {
        "id": "4-4dNzbKgoHp"
      },
      "source": [
        "Now let's split the data into training, validation, and test sets. Since this is a recommender, we're gonna split by removing some of the user's reviews.\n",
        "\n",
        "For every user, so long as the user has more than 5 reviews, remove one review for the validation set and one review for the test set."
      ]
    },
    {
      "cell_type": "code",
      "execution_count": 6,
      "metadata": {
        "colab": {
          "base_uri": "https://localhost:8080/"
        },
        "id": "AXjbPr6rgoHp",
        "outputId": "769b1df5-edd2-4996-a708-e1753ba323ec"
      },
      "outputs": [
        {
          "name": "stdout",
          "output_type": "stream",
          "text": [
            "_beri_reviews.csv\n"
          ]
        }
      ],
      "source": [
        "print(list(user_review_data.keys())[0])"
      ]
    },
    {
      "cell_type": "code",
      "execution_count": 7,
      "metadata": {
        "colab": {
          "base_uri": "https://localhost:8080/"
        },
        "id": "QfsfB1AcgoHp",
        "outputId": "5e70fe39-0a8a-4bef-d5aa-a2a2191ea00c"
      },
      "outputs": [
        {
          "name": "stderr",
          "output_type": "stream",
          "text": [
            "100%|██████████| 200/200 [00:00<00:00, 760.22it/s]\n"
          ]
        }
      ],
      "source": [
        "# remove all values with nan in the review column\n",
        "for key in tqdm(user_review_data.keys()):\n",
        "    user_review_data[key] = user_review_data[key].dropna(subset=['movie_rating'])"
      ]
    },
    {
      "cell_type": "code",
      "execution_count": 8,
      "metadata": {
        "colab": {
          "base_uri": "https://localhost:8080/"
        },
        "id": "IMoYYcHNgoHp",
        "outputId": "4386c5f6-8ca3-48b4-f1b6-b15c1b54910a"
      },
      "outputs": [
        {
          "name": "stderr",
          "output_type": "stream",
          "text": [
            "100%|██████████| 200/200 [00:00<00:00, 295.27it/s]"
          ]
        },
        {
          "name": "stdout",
          "output_type": "stream",
          "text": [
            "Train reviews: 66995\n",
            "Validation reviews: 2550\n",
            "Test reviews: 2550\n"
          ]
        },
        {
          "name": "stderr",
          "output_type": "stream",
          "text": [
            "\n"
          ]
        }
      ],
      "source": [
        "train_reviews = []\n",
        "validation_reviews = []\n",
        "test_reviews = []\n",
        "for user_id, reviews in tqdm(user_review_data.items()):\n",
        "    if len(reviews) > 50:\n",
        "        validation_review_data_df = reviews.sample(15, replace=False)\n",
        "        validation_review_data = validation_review_data_df.to_dict('records')\n",
        "        for review in validation_review_data:\n",
        "            review['user_id'] = user_id\n",
        "        validation_reviews.extend(validation_review_data)\n",
        "        # remove the validation reviews from the training data\n",
        "        reviews = reviews.drop(validation_review_data_df.index)\n",
        "        test_review_data_df = reviews.sample(15, replace=False)\n",
        "        test_review_data = test_review_data_df.to_dict('records')\n",
        "        for review in test_review_data:\n",
        "            review['user_id'] = user_id\n",
        "        test_reviews.extend(test_review_data)\n",
        "        # remove the test reviews from the training data\n",
        "        reviews = reviews.drop(test_review_data_df.index)\n",
        "        train_review_data = reviews.to_dict('records')\n",
        "        for review in train_review_data:\n",
        "            review['user_id'] = user_id\n",
        "        train_reviews.extend(train_review_data)\n",
        "    else:\n",
        "        # if the user has less than 5 reviews, we will use all of them for training\n",
        "        train_review_data = reviews.to_dict('records')\n",
        "        for review in train_review_data:\n",
        "            review['user_id'] = user_id\n",
        "        train_reviews.extend(train_review_data)\n",
        "\n",
        "print(f'Train reviews: {len(train_reviews)}')\n",
        "print(f'Validation reviews: {len(validation_reviews)}')\n",
        "print(f'Test reviews: {len(test_reviews)}')"
      ]
    },
    {
      "cell_type": "markdown",
      "metadata": {
        "id": "c9njzZIogoHq"
      },
      "source": [
        "## Build the Model\n",
        "Now that we have the training data, let's construct the model to train."
      ]
    },
    {
      "cell_type": "code",
      "execution_count": 9,
      "metadata": {
        "colab": {
          "base_uri": "https://localhost:8080/"
        },
        "id": "NvJEs2EigoHq",
        "outputId": "16471754-a6c5-44a7-dac7-7f1e546d5bc1"
      },
      "outputs": [
        {
          "name": "stdout",
          "output_type": "stream",
          "text": [
            "Number of train users: 200\n",
            "Number of train items: 14865\n",
            "Number of nodes: 15488\n"
          ]
        }
      ],
      "source": [
        "num_train_users = len(set([review['user_id'] for review in train_reviews]))\n",
        "num_train_items = len(set([review['movie_id'] for review in train_reviews]))\n",
        "num_total_items = len(set([review['movie_id'] for review in train_reviews + validation_reviews + test_reviews]))\n",
        "num_nodes = num_train_users + num_total_items\n",
        "print(f'Number of train users: {num_train_users}')\n",
        "print(f'Number of train items: {num_train_items}')\n",
        "print(f'Number of nodes: {num_nodes}')"
      ]
    },
    {
      "cell_type": "code",
      "execution_count": 10,
      "metadata": {
        "id": "VvhZUsTYgoHq"
      },
      "outputs": [],
      "source": [
        "num_val_users = len(set([review['user_id'] for review in validation_reviews]))\n",
        "num_val_items = len(set([review['movie_id'] for review in validation_reviews]))\n",
        "num_val_nodes = num_val_users + num_val_items"
      ]
    },
    {
      "cell_type": "code",
      "execution_count": 11,
      "metadata": {
        "id": "Om2OylcjgoHq"
      },
      "outputs": [],
      "source": [
        "# Let's map users to ids\n",
        "movie_id_to_movie_name = dict()\n",
        "for review in train_reviews + validation_reviews + test_reviews:\n",
        "    movie_id_to_movie_name[review['movie_id']] = review['movie_title']\n",
        "\n",
        "user_to_id = dict()\n",
        "for i, user_id in enumerate(set([review['user_id'] for review in train_reviews + validation_reviews + test_reviews])):\n",
        "    user_to_id[user_id] = i\n",
        "\n",
        "# Let's map movies to ids\n",
        "movie_to_id = dict()\n",
        "for i, movie_id in enumerate(set([review['movie_id'] for review in train_reviews + validation_reviews + test_reviews])):\n",
        "    movie_to_id[movie_id] = i + num_train_users\n",
        "\n",
        "# Let's map ids to users\n",
        "id_to_user = dict()\n",
        "for user_id, index in user_to_id.items():\n",
        "    id_to_user[index] = user_id\n",
        "\n",
        "# Let's map ids to movies\n",
        "id_to_movie = dict()\n",
        "for movie_id, index in movie_to_id.items():\n",
        "    id_to_movie[index] = movie_id\n",
        "\n",
        "# Let's map movie names to movie ids\n",
        "movie_name_to_movie_id = dict()\n",
        "for movie_id, movie_name in movie_id_to_movie_name.items():\n",
        "    movie_name_to_movie_id[movie_name] = movie_id"
      ]
    },
    {
      "cell_type": "code",
      "execution_count": 12,
      "metadata": {
        "id": "dlhAlhSGgoHq"
      },
      "outputs": [],
      "source": [
        "# Let's add nodes that are in our validation and test sets but not in our training set\n",
        "for review in validation_reviews:\n",
        "    if review['user_id'] not in user_to_id:\n",
        "        user_to_id[review['user_id']] = len(user_to_id)\n",
        "    if review['movie_id'] not in movie_to_id:\n",
        "        movie_to_id[review['movie_id']] = len(movie_to_id) + num_train_users\n"
      ]
    },
    {
      "cell_type": "code",
      "execution_count": 13,
      "metadata": {
        "id": "OOH3cvkqgoHq"
      },
      "outputs": [],
      "source": [
        "import random\n",
        "\n",
        "def convert_review_to_edge(review):\n",
        "    user_id = user_to_id[review['user_id']]\n",
        "    movie_id = movie_to_id[review['movie_id']]\n",
        "    edge_weight = review['movie_rating']\n",
        "    if (edge_weight < 3.5 and edge_weight > 2.5):\n",
        "        return None, None\n",
        "    edge = (user_id, movie_id)\n",
        "    edge_weight = review['movie_rating']\n",
        "    return edge, edge_weight\n",
        "\n",
        "def shuffle_edges_and_edge_weights(edges, edge_weights):\n",
        "    c = list(zip(edges, edge_weights))\n",
        "    random.shuffle(c)\n",
        "    return zip(*c)\n",
        "\n",
        "def convert_reviews_to_edges(reviews):\n",
        "    edges = []\n",
        "    edge_weights = []\n",
        "    for review in tqdm(reviews):\n",
        "        edge, edge_weight = convert_review_to_edge(review)\n",
        "        if edge is not None:\n",
        "            edges.append(edge)\n",
        "            edge_weights.append(edge_weight)\n",
        "    \n",
        "    # Reformat the edges to be a tensor\n",
        "    edges = torch.tensor(edges, dtype=torch.long).t().contiguous()\n",
        "    return edges, edge_weights"
      ]
    },
    {
      "cell_type": "code",
      "execution_count": 14,
      "metadata": {
        "colab": {
          "base_uri": "https://localhost:8080/"
        },
        "id": "vQvDO7zAgoHq",
        "outputId": "ad3410df-2200-4c3d-f70f-3ec8c616972b"
      },
      "outputs": [
        {
          "name": "stderr",
          "output_type": "stream",
          "text": [
            "100%|██████████| 66995/66995 [00:00<00:00, 877297.14it/s]\n",
            "100%|██████████| 2550/2550 [00:00<00:00, 626822.67it/s]"
          ]
        },
        {
          "name": "stdout",
          "output_type": "stream",
          "text": [
            "Train edges: 54602\n",
            "Validation edges: 2130\n"
          ]
        },
        {
          "name": "stderr",
          "output_type": "stream",
          "text": [
            "\n"
          ]
        }
      ],
      "source": [
        "# Now let's create the edges between users and movies.\n",
        "# The id of the user will be the index of the user in the user_to_id dict\n",
        "# The id of the movie will be the index of the movie in the movie_to_id dict + the number of users\n",
        "\n",
        "train_edges, train_edge_weights = convert_reviews_to_edges(train_reviews)\n",
        "validation_edges, validation_edge_weights = convert_reviews_to_edges(validation_reviews)\n",
        "\n",
        "print(f'Train edges: {train_edges.shape[1]}')\n",
        "print(f'Validation edges: {validation_edges.shape[1]}')"
      ]
    },
    {
      "cell_type": "code",
      "execution_count": 27,
      "metadata": {
        "id": "4LZaF28AgoHq"
      },
      "outputs": [],
      "source": [
        "import torch_geometric.data as data\n",
        "\n",
        "# create the graph\n",
        "train_graph = data.Data(\n",
        "    edge_index=train_edges,\n",
        "    edge_attr=torch.tensor(train_edge_weights),\n",
        "    num_nodes=num_nodes\n",
        ").to(torch.device(device))\n",
        "\n",
        "validation_graph = data.Data(\n",
        "    edge_index=validation_edges,\n",
        "    edge_attr=torch.tensor(validation_edge_weights),\n",
        "    num_nodes=num_nodes\n",
        ").to(torch.device(device))"
      ]
    },
    {
      "cell_type": "code",
      "execution_count": 28,
      "metadata": {
        "colab": {
          "base_uri": "https://localhost:8080/"
        },
        "id": "MDaHcSLVgoHq",
        "outputId": "b00c9953-3f83-474a-afa9-70ccf740af18"
      },
      "outputs": [
        {
          "data": {
            "text/plain": [
              "True"
            ]
          },
          "execution_count": 28,
          "metadata": {},
          "output_type": "execute_result"
        }
      ],
      "source": [
        "train_graph.validate(raise_on_error=True)\n",
        "validation_graph.validate(raise_on_error=True)"
      ]
    },
    {
      "cell_type": "code",
      "execution_count": 17,
      "metadata": {
        "id": "IyZJ4UTKgoHr"
      },
      "outputs": [],
      "source": [
        "# Let's create some negative edges\n",
        "def resample_edges_for_user(user_positive_edges, user_negative_edges):\n",
        "    num_negative_edges_to_add = user_positive_edges.shape[1] * 3 - user_negative_edges.shape[1]\n",
        "    if (num_negative_edges_to_add <= 0):\n",
        "        num_negative_edges_to_remove = -num_negative_edges_to_add\n",
        "        # choose the negative edges to keep\n",
        "        negative_edges_to_keep = torch.randint(user_negative_edges.shape[1], (user_negative_edges.shape[1] - num_negative_edges_to_remove,))\n",
        "        # remove all the negative edges for this user\n",
        "        user_negative_edges = user_negative_edges[:, negative_edges_to_keep]\n",
        "    else:\n",
        "        # Create new negative edges\n",
        "        negative_edges_to_add = torch.tensor([[user_id] * num_negative_edges_to_add, torch.randint(num_train_users, num_train_items, (num_negative_edges_to_add,))], dtype=torch.long)\n",
        "        # Add the negative edges to the negative edges for this user\n",
        "        user_negative_edges = torch.cat([user_negative_edges, negative_edges_to_add], dim=1)\n",
        "    return user_positive_edges, user_negative_edges\n",
        "        "
      ]
    },
    {
      "cell_type": "code",
      "execution_count": 18,
      "metadata": {
        "id": "__Dp5M-TgoHr"
      },
      "outputs": [],
      "source": [
        "# let's compute ndcg\n",
        "def compute_ndcg_at_k(relevances, k=5):\n",
        "    relevances = relevances[:k]\n",
        "    dcg = 0\n",
        "    for i, relevance in enumerate(relevances):\n",
        "        dcg += (2 ** relevance - 1) / np.log2(i + 2)\n",
        "    idcg = 0\n",
        "    for i, relevance in enumerate(sorted(relevances, reverse=True)):\n",
        "        idcg += (2 ** relevance - 1) / np.log2(i + 2)\n",
        "    return dcg / idcg\n"
      ]
    },
    {
      "cell_type": "code",
      "execution_count": 19,
      "metadata": {
        "id": "YuG0pr4qgoHr"
      },
      "outputs": [],
      "source": [
        "from typing import Optional, Union\n",
        "\n",
        "import torch\n",
        "import torch.nn.functional as F\n",
        "from torch import Tensor\n",
        "from torch.nn import Embedding, ModuleList\n",
        "from torch.nn.modules.loss import _Loss\n",
        "\n",
        "from torch_geometric.nn.conv import LGConv\n",
        "from torch_geometric.typing import Adj, OptTensor, SparseTensor"
      ]
    },
    {
      "cell_type": "code",
      "execution_count": 30,
      "metadata": {
        "id": "p0YFj4l3goHr"
      },
      "outputs": [],
      "source": [
        "def generate_negative_edges(user_negative_edges, minibatch_size):\n",
        "    num_negative_edges_to_add = minibatch_size - user_negative_edges.shape[1]\n",
        "    # Create new negative edges\n",
        "    negative_edges_to_add = torch.tensor([[user_id] * num_negative_edges_to_add, torch.randint(num_train_users, num_train_items, (num_negative_edges_to_add,))], dtype=torch.long).to(torch.device(device))\n",
        "    # Add the negative edges to the negative edges for this user\n",
        "    user_negative_edges = torch.cat([user_negative_edges, negative_edges_to_add], dim=1)\n",
        "    return user_negative_edges"
      ]
    },
    {
      "cell_type": "code",
      "execution_count": 33,
      "metadata": {
        "id": "ZkrQRQuSgoHr"
      },
      "outputs": [],
      "source": [
        "import time\n",
        "\n",
        "def get_user_positive_items(edge_index):\n",
        "    \"\"\"Generates dictionary of positive items for each user\n",
        "\n",
        "    Args:\n",
        "        edge_index (torch.Tensor): 2 by N list of edges\n",
        "\n",
        "    Returns:\n",
        "        dict: dictionary of positive items for each user\n",
        "    \"\"\"\n",
        "    user_pos_items = {}\n",
        "    for i in range(edge_index.shape[1]):\n",
        "        user = edge_index[0][i].item()\n",
        "        item = edge_index[1][i].item()\n",
        "        if user not in user_pos_items:\n",
        "            user_pos_items[user] = []\n",
        "        user_pos_items[user].append(item)\n",
        "    return user_pos_items\n",
        "\n",
        "\n",
        "def compute_recall_at_k(validation_graph, model, K):\n",
        "    # get positive edges in validation set\n",
        "    positive_edges = validation_graph.edge_index[:, validation_graph.edge_attr > 3.5]\n",
        "\n",
        "    # map users to positive edges\n",
        "    user_pos_items = get_user_positive_items(positive_edges)\n",
        "\n",
        "    # get users\n",
        "    users = positive_edges[0].unique()\n",
        "\n",
        "    users = users[torch.randint(users.shape[0], (min(200, len(users)),))]\n",
        "    # filter the validation edges to only the users we want to evaluate\n",
        "    user_validation_edges = []\n",
        "    for user in users:\n",
        "        user_validation_edges.append(validation_graph.edge_index[:, validation_graph.edge_index[0] == user])\n",
        "    user_validation_edges = torch.cat(user_validation_edges, dim=1)\n",
        "    # print(user_validation_edges.shape)\n",
        "\n",
        "    first_user_id = users[0].item()\n",
        "    user_name = id_to_user[first_user_id]\n",
        "    # print(f'User: {user_name}')\n",
        "\n",
        "    # get movies\n",
        "    movie_indices = torch.LongTensor([_ for _ in range(len(users) + 1, validation_graph.num_nodes)]).to(device)\n",
        "\n",
        "    # Get positive items for each user in validation set\n",
        "    truth_items = [set(user_pos_items[user.item()]) for user in users]\n",
        "\n",
        "    first_user_truth_items = truth_items[0]\n",
        "    first_user_truth_items = [id_to_movie[item] for item in first_user_truth_items]\n",
        "    first_user_truth_items = [movie_id_to_movie_name[item] for item in first_user_truth_items]\n",
        "    # print(first_user_truth_items)\n",
        "\n",
        "    training_edges = train_graph.edge_index\n",
        "\n",
        "    # Get top-K recommended items for each user in validation set\n",
        "    total_recall = 0\n",
        "    # print(\"Computing recommendations for {} users\".format(len(users)))\n",
        "    for user_index, user_id in tqdm(enumerate(users), total=len(users)):\n",
        "        tick = time.time()\n",
        "        all_edges = torch.tensor([(user_id, item_id) for item_id in range(num_train_users, num_train_items)], dtype=torch.long).t().contiguous()\n",
        "        recommendations = model.recommend(all_edges.to(device), src_index=torch.tensor([user_id]), dst_index=torch.tensor([x for x in range(num_train_users + 1, num_train_items)]).to(device), k=3 * K)[0]\n",
        "        tock = time.time()\n",
        "        train_edges_for_user = training_edges[:, training_edges[0] == user_id]\n",
        "        # remove all the recommendations that are in the training set\n",
        "        recommendations = recommendations[~torch.isin(recommendations, train_edges_for_user[1])][:K]\n",
        "        if (len(recommendations) < K):\n",
        "            pass\n",
        "            # print(\"Not enough recommendations for user {}\".format(user_id))\n",
        "        if (user_id == first_user_id):\n",
        "            first_user_recommended_items = recommendations\n",
        "            first_user_recommended_items = [id_to_movie[item.item()] for item in first_user_recommended_items if item.item() > num_train_users]\n",
        "            first_user_recommended_items = [movie_id_to_movie_name[item] for item in first_user_recommended_items if item in movie_id_to_movie_name]\n",
        "            # print(first_user_recommended_items)\n",
        "        # num_intersect = 0\n",
        "        truth_items_for_user = truth_items[user_index]\n",
        "        # for item in recommendations:\n",
        "        #     item = item.item()\n",
        "        #     if item in truth_items_for_user:\n",
        "        #         num_intersect += 1\n",
        "        # print(num_intersect)\n",
        "        num_intersect = len(set([item.item() for item in recommendations]).intersection(truth_items[user_index]))\n",
        "        recall = num_intersect / len(truth_items_for_user)\n",
        "        total_recall += recall\n",
        "    return total_recall / len(users)"
      ]
    },
    {
      "cell_type": "code",
      "execution_count": null,
      "metadata": {
        "id": "e1wf4zwJk5Dn"
      },
      "outputs": [],
      "source": [
        "# these functions taken from https://github.com/NegatioN/WARP-Pytorch\n",
        "def num_tries_gt_zero(scores, batch_size, max_trials, max_num, device):\n",
        "    '''\n",
        "    scores: [batch_size x N] float scores\n",
        "    returns: [batch_size x 1] the lowest indice per row where scores were first greater than 0. plus 1\n",
        "    '''\n",
        "    tmp = scores.gt(0).nonzero().t()\n",
        "    # We offset these values by 1 to look for unset values (zeros) later\n",
        "    values = tmp[1] + 1\n",
        "    # Sparse tensors can't be moved with .to() or .cuda() if you want to send in cuda variables first\n",
        "    if device.type == 'cuda':\n",
        "        t = torch.cuda.sparse.LongTensor(tmp, values, torch.Size((batch_size, max_trials+1))).to_dense()\n",
        "    else:\n",
        "        t = torch.sparse.LongTensor(tmp, values, torch.Size((batch_size, max_trials+1))).to_dense()\n",
        "    t[(t == 0)] += max_num # set all unused indices to be max possible number so its not picked by min() call\n",
        "\n",
        "    tries = torch.min(t, dim=1)[0]\n",
        "    return tries\n",
        "\n",
        "\n",
        "def warp_loss(positive_predictions, negative_predictions, num_labels, device):\n",
        "    '''\n",
        "    positive_predictions: [batch_size x 1] floats between -1 to 1\n",
        "    negative_predictions: [batch_size x N] floats between -1 to 1\n",
        "    num_labels: int total number of labels in dataset (not just the subset you're using for the batch)\n",
        "    device: pytorch.device\n",
        "    '''\n",
        "\n",
        "    batch_size, max_trials = negative_predictions.size(0), negative_predictions.size(1)\n",
        "\n",
        "    offsets, ones, max_num = (torch.arange(0, batch_size, 1).long().to(device) * (max_trials + 1),\n",
        "                              torch.ones(batch_size, 1).float().to(device),\n",
        "                              batch_size * (max_trials + 1) )\n",
        "\n",
        "    sample_scores = (1 + negative_predictions - positive_predictions)\n",
        "    # Add column of ones so we know when we used all our attempts, This is used for indexing and computing should_count_loss if no real value is above 0\n",
        "    sample_scores, negative_predictions = (torch.cat([sample_scores, ones], dim=1),\n",
        "                                           torch.cat([negative_predictions, ones], dim=1))\n",
        "\n",
        "    tries = num_tries_gt_zero(sample_scores, batch_size, max_trials, max_num, device)\n",
        "    attempts, trial_offset = tries.float(), (tries - 1) + offsets\n",
        "    loss_weights, should_count_loss = ( torch.log(torch.floor((num_labels - 1) / attempts)),\n",
        "                                        (attempts <= max_trials).float()) #Don't count loss if we used max number of attempts\n",
        "\n",
        "    losses = loss_weights * ((1 - positive_predictions.view(-1)) + negative_predictions.view(-1)[trial_offset]) * should_count_loss\n",
        "\n",
        "    return losses.sum()"
      ]
    },
    {
      "cell_type": "code",
      "execution_count": 36,
      "metadata": {
        "colab": {
          "base_uri": "https://localhost:8080/",
          "height": 1000
        },
        "id": "DxgB1IGVgoHr",
        "outputId": "58bd6e91-9fbf-4c99-f61a-1588135958a1"
      },
      "outputs": [
        {
          "name": "stdout",
          "output_type": "stream",
          "text": [
            "Running on device: cuda\n"
          ]
        },
        {
          "name": "stderr",
          "output_type": "stream",
          "text": [
            "100%|██████████| 170/170 [00:22<00:00,  7.50it/s]\n",
            "100%|██████████| 170/170 [00:02<00:00, 58.40it/s]\n",
            "100%|██████████| 200/200 [00:39<00:00,  5.06it/s]\n",
            "100%|██████████| 169/169 [00:33<00:00,  5.10it/s]\n"
          ]
        },
        {
          "name": "stdout",
          "output_type": "stream",
          "text": [
            "Epoch: 0, Loss: 2.2254199981689453\n"
          ]
        },
        {
          "data": {
            "image/png": "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",
            "text/plain": [
              "<Figure size 432x288 with 1 Axes>"
            ]
          },
          "metadata": {
            "needs_background": "light"
          },
          "output_type": "display_data"
        },
        {
          "data": {
            "image/png": "iVBORw0KGgoAAAANSUhEUgAAAYcAAAEICAYAAAC0+DhzAAAAOXRFWHRTb2Z0d2FyZQBNYXRwbG90bGliIHZlcnNpb24zLjUuMywgaHR0cHM6Ly9tYXRwbG90bGliLm9yZy/NK7nSAAAACXBIWXMAAAsTAAALEwEAmpwYAAAWVUlEQVR4nO3df5Bd5X3f8fcHbbGKDdigxXURRNhFLTj8MN2SdIYWNzKYqBMwMcXSADUJDtM0kAzGQ+iYOpT4j9qeUqYNgwOpBwcmgEzJVC3qKA7FgUwVR7sgCQuXWpFtEDjxSiZuHAaD7G//uEftYZ+Fvavd1SJ4v2bu3HPO85xzn68X7uc+57kXp6qQJKnvkMUegCTp9cdwkCQ1DAdJUsNwkCQ1DAdJUsNwkCQ1DAdJUsNwkF5Dkm8l+W6St/aOfSzJV7rtSvLXSX6QZE+Sh5J8ZJrrfDDJI0n+Kslkkj9Kcn6v/V1J7kjyXHetnUnuTPL3Dkih0hSGgzSzJcCvvUb7aVX1NuDvAncCv5XkN/Y1JrkI+BLwu8By4J3Ap4Cf69qPBv4ncBjwj4DDgTOAPwLOmedapKHEX0hLry7Jt4DPA9cB766qv0zyMeDSqnp/kgJOrKodvXMuAu4GjgW+B3wb+I9V9blXeY1PMwiK91XVjxe0IGlIzhykmY0DXwE+MWT//wKMAGcymE0cB9z/Gv0/APy+waDXE8NBGs6ngKuTjM7UsapeBnYDRwFHd4e/8xqnLAP+fN9OkvOT/GW3PvEHcxiztN8MB2kIVfU14L8B18/UN8nfAEYZ3FLa0x1+12ucsqffXlXrq+rtwDXAofs5ZGlODAdpeL8B/BKDtYTXcgGwF/hT4CngGeDDr9H/IeBDSfz3Ua8b/sMoDalbdL4P+NXp2pMcleQS4FbgM1W1pwbf+Pg48K+T/EKSI5IckuSsJLd3p94MvAO4K8l7MnA4cPqCFyW9CsNBmp2bgLdOObY1yQ+AHcDHgGuq6lP7GqvqfuAjwC8CzwF/AXyawcI1VbUb+GngReCPgb8CtjD4SusvL2At0qvyq6ySpIYzB0lSw3CQJDUMB0lSw3CQJDVGFnsA82HZsmW1YsWKxR6GJB1UJiYmdlfVtL/6f0OEw4oVKxgfH1/sYUjSQSXJt1+tzdtKkqSG4SBJahgOkqSG4SBJahgOkqSG4SBJahgOkqSG4SBJahgOkqSG4SBJahgOkqSG4SBJahgOkqSG4SBJahgOkqSG4SBJagwVDknOS/JUkh1Jrp+m/fgkDyd5PMm2JKt7bacm2ZRke5InkixNcniSLb3H7iS3dP0vTzLZa/vYvFUrSRrKjP9PcEmWALcC5wC7gM1J1lfVk71uNwDrquq2JCcDG4AVSUaAu4HLqmprkqOBl6vqReD03mtMAA/0rndfVV01x9okSftpmJnDmcCOqtpZVS8B9wIXTOlTwBHd9pHAc932ucC2qtoKUFV7qupH/ROTrASOAR7dvxIkSfNtmHA4Fnimt7+rO9Z3I3Bpkl0MZg1Xd8dXApVkY5LHklw3zfXXMJgpVO/Yh7vbU/cnOW6YQiRJ82e+FqTXAndW1XJgNXBXkkMY3LY6C7ike74wyaop564B7unt/1dgRVWdCnwZ+OJ0L5jkyiTjScYnJyfnqQxJEgwXDs8C/U/vy7tjfVcA6wCqahOwFFjGYJbxSFXtrqoXGMwqzth3UpLTgJGqmth3rLv19MNu93eAvz/doKrq9qoaq6qx0dHRIcqQJA1rmHDYDJyY5IQkhzL4pL9+Sp+ngVUASU5iEA6TwEbglCSHdYvTZwP9hey1vHLWQJJ39XbPB74+fDmSpPkw47eVqmpvkqsYvNEvAb5QVduT3ASMV9V64FrgjiTXMFicvrxbQ3g+yc0MAqaADVX1YO/yFzO4DdX3q0nOB/YC3wMun1OFkqRZyyvXgQ9OY2NjNT4+vtjDkKSDSpKJqhqbrs1fSEuSGoaDJKlhOEiSGoaDJKlhOEiSGoaDJKlhOEiSGoaDJKlhOEiSGoaDJKlhOEiSGoaDJKlhOEiSGoaDJKlhOEiSGoaDJKlhOEiSGoaDJKlhOEiSGoaDJKlhOEiSGoaDJKlhOEiSGoaDJKlhOEiSGoaDJKkxVDgkOS/JU0l2JLl+mvbjkzyc5PEk25Ks7rWdmmRTku1JnkiyNMnhSbb0HruT3DLlmh9OUknG5lylJGlWRmbqkGQJcCtwDrAL2JxkfVU92et2A7Cuqm5LcjKwAViRZAS4G7isqrYmORp4uapeBE7vvcYE8EBv/3Dg14CvzrVASdLsDTNzOBPYUVU7q+ol4F7ggil9Cjii2z4SeK7bPhfYVlVbAapqT1X9qH9ikpXAMcCjvcO/CXwGeHEWtUiS5skw4XAs8Exvf1d3rO9G4NIkuxjMGq7ujq8EKsnGJI8luW6a668B7quqAkhyBnBcVT34WoNKcmWS8STjk5OTQ5QhSRrWfC1IrwXurKrlwGrgriSHMLhtdRZwSfd8YZJVU85dA9wD0J1zM3DtTC9YVbdX1VhVjY2Ojs5TGZIkGC4cngWO6+0v7471XQGsA6iqTcBSYBmDWcYjVbW7ql5gMKs4Y99JSU4DRqpqojt0OPCTwFeSfAv4aWC9i9KSdGANEw6bgROTnJDkUAaf9NdP6fM0sAogyUkMwmES2AickuSwbnH6bKC/kL2WbtYAUFXfr6plVbWiqlYAfwKcX1Xj+1WdJGm/zPhtparam+QqBm/0S4AvVNX2JDcB41W1nsFtoDuSXMNgcfrybg3h+SQ3MwiYAjZMWUu4mMFtKEnS60i6deCD2tjYWI2PO7mQpNlIMlFV09629xfSkqSG4SBJahgOkqSG4SBJahgOkqSG4SBJahgOkqSG4SBJahgOkqSG4SBJahgOkqSG4SBJahgOkqSG4SBJahgOkqSG4SBJahgOkqSG4SBJahgOkqSG4SBJahgOkqSG4SBJahgOkqSG4SBJahgOkqTGUOGQ5LwkTyXZkeT6adqPT/JwkseTbEuyutd2apJNSbYneSLJ0iSHJ9nSe+xOckvX/190/bYk+eMkJ89btZKkoYzM1CHJEuBW4BxgF7A5yfqqerLX7QZgXVXd1r2ZbwBWJBkB7gYuq6qtSY4GXq6qF4HTe68xATzQ7f5eVX2+O34+cDNw3hzrlCTNwjAzhzOBHVW1s6peAu4FLpjSp4Ajuu0jgee67XOBbVW1FaCq9lTVj/onJlkJHAM82vX5P73mt3bXliQdQDPOHIBjgWd6+7uAn5rS50bgD5JczeAN/QPd8ZVAJdkIjAL3VtVnp5y7Brivqv5fCCT5FeDjwKHAz0w3qCRXAlcCHH/88UOUIUka1nwtSK8F7qyq5cBq4K4khzAIn7OAS7rnC5OsmnLuGuCe/oGqurWq3gP8OoNbVo2qur2qxqpqbHR0dJ7KkCTBcOHwLHBcb395d6zvCmAdQFVtApYCyxjMMh6pqt1V9QKDtYgz9p2U5DRgpKomXuW17wU+NMQYJUnzaJhw2AycmOSEJIcy+KS/fkqfp4FVAElOYhAOk8BG4JQkh3WL02cD/YXstUyZNSQ5sbf7T4FvDF+OJGk+zLjmUFV7k1zF4I1+CfCFqtqe5CZgvKrWA9cCdyS5hsEC8uXdGsLzSW5mEDAFbKiqB3uXv5jBbai+q5J8AHgZeB746NxKlCTNVnrrwAetsbGxGh8fX+xhSNJBJclEVY1N1+YvpCVJDcNBktQwHCRJDcNBktQwHCRJDcNBktQwHCRJDcNBktQwHCRJDcNBktQwHCRJDcNBktQwHCRJDcNBktQwHCRJDcNBktQwHCRJDcNBktQwHCRJDcNBktQwHCRJDcNBktQwHCRJDcNBktQwHCRJjaHCIcl5SZ5KsiPJ9dO0H5/k4SSPJ9mWZHWv7dQkm5JsT/JEkqVJDk+ypffYneSWrv/HkzzZXeehJD8xb9VKkoYyMlOHJEuAW4FzgF3A5iTrq+rJXrcbgHVVdVuSk4ENwIokI8DdwGVVtTXJ0cDLVfUicHrvNSaAB7rdx4GxqnohyS8DnwU+MtdCJUnDG2bmcCawo6p2VtVLwL3ABVP6FHBEt30k8Fy3fS6wraq2AlTVnqr6Uf/EJCuBY4BHuz4PV9ULXfOfAMtnV5Ikaa6GCYdjgWd6+7u6Y303Apcm2cVg1nB1d3wlUEk2JnksyXXTXH8NcF9V1TRtVwD/fbpBJbkyyXiS8cnJySHKkCQNa74WpNcCd1bVcmA1cFeSQxjctjoLuKR7vjDJqinnrgHumXrBJJcCY8DnpnvBqrq9qsaqamx0dHSeypAkwXDh8CxwXG9/eXes7wpgHUBVbQKWAssYzDIeqard3a2iDcAZ+05KchowUlUT/Ysl+QDwSeD8qvrhrCqSJM3ZMOGwGTgxyQlJDmXwSX/9lD5PA6sAkpzEIBwmgY3AKUkO6xanzwb6C9lrmTJrSPI+4LcZBMN3Z1+SJGmuZvy2UlXtTXIVgzf6JcAXqmp7kpuA8apaD1wL3JHkGgaL05d3awjPJ7mZQcAUsKGqHuxd/mIGt6H6Pge8DfhSEoCnq+r8OVUpSZqVTL8OfHAZGxur8fHxxR6GJB1UkkxU1dh0bf5CWpLUMBwkSQ3DQZLUMBwkSQ3DQZLUMBwkSQ3DQZLUMBwkSQ3DQZLUMBwkSQ3DQZLUMBwkSQ3DQZLUMBwkSQ3DQZLUMBwkSQ3DQZLUMBwkSQ3DQZLUMBwkSQ3DQZLUMBwkSQ3DQZLUMBwkSQ3DQZLUGCockpyX5KkkO5JcP0378UkeTvJ4km1JVvfaTk2yKcn2JE8kWZrk8CRbeo/dSW7p+v/jJI8l2ZvkonmrVJI0tJGZOiRZAtwKnAPsAjYnWV9VT/a63QCsq6rbkpwMbABWJBkB7gYuq6qtSY4GXq6qF4HTe68xATzQ7T4NXA58Yq7FSZL2z4zhAJwJ7KiqnQBJ7gUuAPrhUMAR3faRwHPd9rnAtqraClBVe6ZePMlK4Bjg0a7Pt7rjP55lLZKkeTLMbaVjgWd6+7u6Y303Apcm2cVg1nB1d3wlUEk2dreKrpvm+muA+6qqZjPwJFcmGU8yPjk5OZtTJUkzmK8F6bXAnVW1HFgN3JXkEAYzk7OAS7rnC5OsmnLuGuCe2b5gVd1eVWNVNTY6Ojq30UuSXmGYcHgWOK63v7w71ncFsA6gqjYBS4FlDGYZj1TV7qp6gcGs4ox9JyU5DRipqon9rkCSNO+GCYfNwIlJTkhyKINP+uun9HkaWAWQ5CQG4TAJbAROSXJYtzh9Nq9cq1jLfswaJEkLa8ZwqKq9wFUM3ui/zuBbSduT3JTk/K7btcAvJdnK4M3+8hp4HriZQcBsAR6rqgd7l7+YKeGQ5B90axf/DPjtJNvnVKEkadYyy3Xg16WxsbEaHx9f7GFI0kElyURVjU3X5i+kJUkNw0GS1DAcJEkNw0GS1DAcJEkNw0GS1DAcJEkNw0GS1DAcJEkNw0GS1DAcJEkNw0GS1DAcJEkNw0GS1DAcJEkNw0GS1DAcJEkNw0GS1DAcJEkNw0GS1DAcJEkNw0GS1DAcJEkNw0GS1DAcJEmNocIhyXlJnkqyI8n107Qfn+ThJI8n2ZZkda/t1CSbkmxP8kSSpUkOT7Kl99id5Jau/1uS3Ne91leTrJivYiVJwxmZqUOSJcCtwDnALmBzkvVV9WSv2w3Auqq6LcnJwAZgRZIR4G7gsqramuRo4OWqehE4vfcaE8AD3e4VwPNV9XeSrAE+A3xkroVKkoY3zMzhTGBHVe2sqpeAe4ELpvQp4Ihu+0jguW77XGBbVW0FqKo9VfWj/olJVgLHAI92hy4Avtht3w+sSpLhS5IkzdUw4XAs8Exvf1d3rO9G4NIkuxjMGq7ujq8EKsnGJI8luW6a668B7quqmvp6VbUX+D5w9NSTklyZZDzJ+OTk5BBlSJKGNV8L0muBO6tqObAauCvJIQxuW50FXNI9X5hk1ZRz1wD3zPYFq+r2qhqrqrHR0dG5jV6S9ArDhMOzwHG9/eXdsb4rgHUAVbUJWAosYzDLeKSqdlfVCwxmFWfsOynJacBIVU1M93rdmsWRwJ5Z1CRJmqNhwmEzcGKSE5IcyuCT/vopfZ4GVgEkOYlBOEwCG4FTkhzWvdGfDfQXstfSzhrWAx/tti8C/kfvlpMk6QCY8dtKVbU3yVUM3uiXAF+oqu1JbgLGq2o9cC1wR5JrGCxOX969oT+f5GYGAVPAhqp6sHf5ixnchur7TwxuS+0AvscgjCRJB1DeCB/Kx8bGanx8fLGHIUkHlSQTVTU2XZu/kJYkNQwHSVLDcJAkNQwHSVLDcJAkNQwHSVLDcJAkNQwHSVLDcJAkNQwHSVLDcJAkNQwHSVLDcJAkNQwHSVLDcJAkNQwHSVLDcJAkNQwHSVLDcJAkNQwHSVIjVbXYY5izJJPAtxd7HPthGbB7sQdxgL3Zan6z1QvWfDD5iaoana7hDREOB6sk41U1ttjjOJDebDW/2eoFa36j8LaSJKlhOEiSGobD4rp9sQewCN5sNb/Z6gVrfkNwzUGS1HDmIElqGA6SpIbhsMCSHJXky0m+0T2/41X6fbTr840kH52mfX2Sry38iOdmLvUmOSzJg0n+V5LtSf7tgR397CQ5L8lTSXYkuX6a9rckua9r/2qSFb22f9UdfyrJBw/owOdgf2tOck6SiSRPdM8/c8AHv5/m8nfu2o9P8oMknzhgg54PVeVjAR/AZ4Hru+3rgc9M0+coYGf3/I5u+x299p8Hfg/42mLXs5D1AocB/6TrcyjwKPCzi13Tq9S5BPgz4N3dWLcCJ0/p8y+Bz3fba4D7uu2Tu/5vAU7orrNksWta4JrfB/ztbvsngWcXu56FrrnXfj/wJeATi13PbB7OHBbeBcAXu+0vAh+aps8HgS9X1feq6nngy8B5AEneBnwc+PTCD3Ve7He9VfVCVT0MUFUvAY8Byxd+yPvlTGBHVe3sxnovg9r7+v9b3A+sSpLu+L1V9cOq+iawo7ve691+11xVj1fVc93x7cDfTPKWAzLquZnL35kkHwK+yaDmg4rhsPDeWVXf6bb/HHjnNH2OBZ7p7e/qjgH8JvDvgBcWbITza671ApDk7cDPAQ8twBjnw4w19PtU1V7g+8DRQ577ejSXmvs+DDxWVT9coHHOp/2uuftg9+vAvzkA45x3I4s9gDeCJH8I/K1pmj7Z36mqSjL0d4eTnA68p6qumXofczEtVL29648A9wD/oap27t8o9XqU5L3AZ4BzF3ssB8CNwL+vqh90E4mDiuEwD6rqA6/WluQvkryrqr6T5F3Ad6fp9izw/t7+cuArwD8ExpJ8i8Hf6pgkX6mq97OIFrDefW4HvlFVt8x9tAvmWeC43v7y7th0fXZ1gXcksGfIc1+P5lIzSZYDvw/886r6s4Uf7ryYS80/BVyU5LPA24EfJ3mxqn5rwUc9HxZ70eON/gA+xysXaD87TZ+jGNyXfEf3+CZw1JQ+Kzg4FqTnVC+DtZX/DByy2LXMUOcIg4X0E/j/C5XvndLnV3jlQuW6bvu9vHJBeicHx4L0XGp+e9f/5xe7jgNV85Q+N3KQLUgv+gDe6A8G91sfAr4B/GHvTXAM+J1ev19ksDC5A/iFaa5zsITDftfL4FNZAV8HtnSPjy12Ta9R62rgfzP4Nssnu2M3Aed320sZfEtlB/CnwLt7536yO+8pXqffyJrPmoEbgL/u/V23AMcsdj0L/XfuXeOgCwf/8xmSpIbfVpIkNQwHSVLDcJAkNQwHSVLDcJAkNQwHSVLDcJAkNf4v+wTz7lhqnPIAAAAASUVORK5CYII=",
            "text/plain": [
              "<Figure size 432x288 with 1 Axes>"
            ]
          },
          "metadata": {
            "needs_background": "light"
          },
          "output_type": "display_data"
        },
        {
          "data": {
            "image/png": "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",
            "text/plain": [
              "<Figure size 432x288 with 1 Axes>"
            ]
          },
          "metadata": {
            "needs_background": "light"
          },
          "output_type": "display_data"
        },
        {
          "name": "stderr",
          "output_type": "stream",
          "text": [
            "100%|██████████| 170/170 [00:23<00:00,  7.36it/s]\n",
            "100%|██████████| 170/170 [00:01<00:00, 121.44it/s]\n",
            "100%|██████████| 200/200 [00:38<00:00,  5.26it/s]\n",
            "100%|██████████| 169/169 [00:33<00:00,  5.12it/s]\n",
            "100%|██████████| 170/170 [00:21<00:00,  7.97it/s]\n",
            "100%|██████████| 170/170 [00:01<00:00, 157.46it/s]\n",
            "100%|██████████| 200/200 [00:38<00:00,  5.13it/s]\n",
            "100%|██████████| 169/169 [00:31<00:00,  5.34it/s]\n"
          ]
        },
        {
          "name": "stdout",
          "output_type": "stream",
          "text": [
            "Epoch: 10, Loss: 2.36460018157959\n"
          ]
        },
        {
          "data": {
            "image/png": "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",
            "text/plain": [
              "<Figure size 432x288 with 1 Axes>"
            ]
          },
          "metadata": {
            "needs_background": "light"
          },
          "output_type": "display_data"
        },
        {
          "data": {
            "image/png": "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",
            "text/plain": [
              "<Figure size 432x288 with 1 Axes>"
            ]
          },
          "metadata": {
            "needs_background": "light"
          },
          "output_type": "display_data"
        },
        {
          "data": {
            "image/png": "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",
            "text/plain": [
              "<Figure size 432x288 with 1 Axes>"
            ]
          },
          "metadata": {
            "needs_background": "light"
          },
          "output_type": "display_data"
        },
        {
          "name": "stderr",
          "output_type": "stream",
          "text": [
            "100%|██████████| 170/170 [00:23<00:00,  7.10it/s]\n",
            "100%|██████████| 170/170 [00:01<00:00, 155.22it/s]\n",
            "100%|██████████| 200/200 [00:38<00:00,  5.25it/s]\n",
            "100%|██████████| 169/169 [00:32<00:00,  5.16it/s]\n",
            "100%|██████████| 170/170 [00:23<00:00,  7.31it/s]\n",
            "100%|██████████| 170/170 [00:01<00:00, 150.23it/s]\n",
            "100%|██████████| 200/200 [00:38<00:00,  5.15it/s]\n",
            "100%|██████████| 169/169 [00:32<00:00,  5.18it/s]\n",
            "100%|██████████| 170/170 [00:23<00:00,  7.39it/s]\n",
            "100%|██████████| 170/170 [00:01<00:00, 152.73it/s]\n",
            "100%|██████████| 200/200 [00:39<00:00,  5.12it/s]\n",
            "100%|██████████| 169/169 [00:32<00:00,  5.27it/s]\n"
          ]
        },
        {
          "name": "stdout",
          "output_type": "stream",
          "text": [
            "Epoch: 20, Loss: 2.3984620571136475\n"
          ]
        },
        {
          "data": {
            "image/png": "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",
            "text/plain": [
              "<Figure size 432x288 with 1 Axes>"
            ]
          },
          "metadata": {
            "needs_background": "light"
          },
          "output_type": "display_data"
        },
        {
          "data": {
            "image/png": "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",
            "text/plain": [
              "<Figure size 432x288 with 1 Axes>"
            ]
          },
          "metadata": {
            "needs_background": "light"
          },
          "output_type": "display_data"
        },
        {
          "data": {
            "image/png": "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",
            "text/plain": [
              "<Figure size 432x288 with 1 Axes>"
            ]
          },
          "metadata": {
            "needs_background": "light"
          },
          "output_type": "display_data"
        },
        {
          "name": "stderr",
          "output_type": "stream",
          "text": [
            "100%|██████████| 170/170 [00:24<00:00,  6.81it/s]\n",
            "100%|██████████| 170/170 [00:01<00:00, 127.06it/s]\n",
            "100%|██████████| 200/200 [00:37<00:00,  5.28it/s]\n",
            "100%|██████████| 169/169 [00:32<00:00,  5.18it/s]\n",
            "100%|██████████| 170/170 [00:21<00:00,  7.81it/s]\n",
            "100%|██████████| 170/170 [00:01<00:00, 95.72it/s]\n",
            "100%|██████████| 200/200 [00:38<00:00,  5.25it/s]\n",
            "100%|██████████| 169/169 [00:33<00:00,  5.10it/s]\n"
          ]
        },
        {
          "name": "stdout",
          "output_type": "stream",
          "text": [
            "Epoch: 30, Loss: 2.254701614379883\n"
          ]
        },
        {
          "data": {
            "image/png": "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",
            "text/plain": [
              "<Figure size 432x288 with 1 Axes>"
            ]
          },
          "metadata": {
            "needs_background": "light"
          },
          "output_type": "display_data"
        },
        {
          "data": {
            "image/png": "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",
            "text/plain": [
              "<Figure size 432x288 with 1 Axes>"
            ]
          },
          "metadata": {
            "needs_background": "light"
          },
          "output_type": "display_data"
        },
        {
          "data": {
            "image/png": "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",
            "text/plain": [
              "<Figure size 432x288 with 1 Axes>"
            ]
          },
          "metadata": {
            "needs_background": "light"
          },
          "output_type": "display_data"
        },
        {
          "name": "stderr",
          "output_type": "stream",
          "text": [
            "100%|██████████| 170/170 [00:22<00:00,  7.71it/s]\n",
            "100%|██████████| 170/170 [00:01<00:00, 154.28it/s]\n",
            "100%|██████████| 200/200 [00:39<00:00,  5.10it/s]\n",
            "100%|██████████| 169/169 [00:31<00:00,  5.37it/s]\n",
            "100%|██████████| 170/170 [00:24<00:00,  6.89it/s]\n",
            "100%|██████████| 170/170 [00:01<00:00, 155.28it/s]\n",
            "100%|██████████| 200/200 [00:38<00:00,  5.16it/s]\n",
            "100%|██████████| 169/169 [00:31<00:00,  5.34it/s]\n",
            "100%|██████████| 170/170 [00:23<00:00,  7.10it/s]\n",
            "100%|██████████| 170/170 [00:01<00:00, 112.59it/s]\n",
            "100%|██████████| 200/200 [00:38<00:00,  5.26it/s]\n",
            "100%|██████████| 169/169 [00:32<00:00,  5.17it/s]\n"
          ]
        },
        {
          "name": "stdout",
          "output_type": "stream",
          "text": [
            "Epoch: 40, Loss: 2.3617751598358154\n"
          ]
        },
        {
          "data": {
            "image/png": "iVBORw0KGgoAAAANSUhEUgAAAXoAAAEICAYAAABRSj9aAAAAOXRFWHRTb2Z0d2FyZQBNYXRwbG90bGliIHZlcnNpb24zLjUuMywgaHR0cHM6Ly9tYXRwbG90bGliLm9yZy/NK7nSAAAACXBIWXMAAAsTAAALEwEAmpwYAACSpklEQVR4nO29e9RtWVEf+qu1H+fVDd3QB4TuhkZBEJGHOQEMJCqCkISAGTG5+Bp4Lw4Sr1FQEyOay1USx9WYqzgSvcoQI/EBKGLsoIitQBS1gdPQvLp5NIjQLdCHbpp+nHO+/Zr3j7XmWjVrVtXcj2+f7zvbVWOccb69155rzbXWnDWrfvWrmhRCQC+99NJLL7sr1UF3oJdeeumll+1Kr+h76aWXXnZcekXfSy+99LLj0iv6XnrppZcdl17R99JLL73suPSKvpdeeullx6VX9L300ksvOy69ou/lb7UQ0SeJ6JkH3Y9eetmm9Iq+l1566WXHpVf0vfQihIiOENEriehvmn+vJKIjzbEriOhNRHQXEd1JRH9GRFVz7N8R0W1EdA8RfYSIvuFg76SXXmoZHnQHeunlEMqPAngqgCcCCAB+D8C/B/B/AfhBALcCONn89qkAAhE9GsC/BvB3Qwh/Q0TXABhc2G730osuvUXfSy+5fBuAV4QQbg8hnAHw4wC+ozk2BfAQAA8PIUxDCH8W6oJRcwBHADyWiEYhhE+GED5+IL3vpRchvaLvpZdcHgrgr9nnv26+A4CfBnALgD8iok8Q0Q8DQAjhFgAvBfBjAG4notcR0UPRSy+HQHpF30svufwNgIezzw9rvkMI4Z4Qwg+GEL4UwPMA/EDE4kMIvxlCeHrTNgD4qQvb7V560aVX9L30AoyI6Gj8B+C1AP49EZ0koisAvBzArwMAET2XiB5JRATgi6ghmwURPZqIntEEbc8DOAdgcTC300svqfSKvpdegD9ArZjjv6MATgN4P4APAHgPgP/Y/PZRAP4YwL0A/hLAL4QQ3oYan/9JAJ8H8FkADwLwsgt3C730Ygv1G4/00ksvvey29BZ9L7300suOS6/oe+mll152XHpF30svvfSy49Ir+l566aWXHZdDWQLhiiuuCNdcc81Bd6OXXnrp5aKRG2644fMhhJPasUOp6K+55hqcPn36oLvRSy+99HLRCBH9tXWsh2566aWXXnZcekXfSy+99LLj0iv6XnrppZcdl17R99JLL73suPSKvpdeeullx6VX9L300ksvOy5LK3oiGhDRe4noTcqxHyCim4jo/UT0J0T0cHZsTkQ3Nv+u3a+O99JLL730spysYtG/BMDNxrH3AjgVQng8gDcA+E/s2LkQwhObf89bs5+99IIP/c0X8Z5PfeGgu7GSfOG+CT51x9mD7sZFIZPZAp/54rmD7sZOylKKnoiuAvCPAfyydjyE8LYQQhzN1wO4an+610svnfznt3wE/+FNNx10N1aSn7nuo3jRa9590N24KOT1pz+NZ/3Mn2I67/dr2W9Z1qJ/JYAfwnI75rwIwJvZ56NEdJqIrieib7IaEdGLm9+dPnPmzJLd6uVvk5yfLnB+enEpgS+em+KL56YH3Y2LQu64dw/37s0wmV1c7/hikKKiJ6LnArg9hHDDEr/9dgCnUG+gHOXhIYRTAL4VwCuJ6Mu0tiGEV4UQToUQTp08qZZr2Ej+8uN34F/80l9itkPWwifO3IvP3X3+oLtxwWS2WFx07286X2C26Df3WUaiJT+b989rv2UZi/5pAJ5HRJ8E8DoAzyCiX5c/IqJnAvhRAM8LIezF70MItzX/fwLA2wE8afNury7vv/UuvOuv7sQ952cHcfmtyPe+9r34qT/88EF3YyX54d95P37oDe9Tj336zrP4qh97Cz5+5l71+HQeLjq3fjoPmO6QhRpCwMve+AHc8Nf7HyuJCn662J3ndVikqOhDCC8LIVwVQrgGwAsAvDWE8O38N0T0JAC/hFrJ386+v7zZLBnNJstPA3AgIGu0qnZpEN1zfnbRLVy33H4vPn7mPvXYrV84h3vOz/CpO/Xg5WyxwPQis/Zmi8VOjbm92QKvfden8Gcf2394Nb7bi20xvxhk7eqVRPQKAKdDCNeihmouAfDbRAQAn2oYNl8B4JeIaIF6UfnJEMKBKPo4eC60ogghYDoPGA/3P2VhNr8IoYxFAIx9imcL33WfzUP7m4tFZvNw0S1OnkSDaRvwSg/dbE9W0j4hhLeHEJ7b/P3yRskjhPDMEMKDJY0yhPAXIYSvCiE8ofn/1ft/C8tJHDwXWjH+6cc+jye+4o+2EpCbzMNFh/9OZ7ZVXnpH0/nhtOjf/pHbsTebq8em8wXmi4BgLG4Xm0QYyvJSzk3m+OTndY+tJHERv9AW/XS+wCcMuHCbslgE3HL7PRfkWn9rMmOnBzSIPn3nWZydzHHX2cm+n3u2WFx0DIXZYmFa5a3XZSxes8Xhw+hvu+scvvO/vRvX3fQ59XgLGR7CBWodKVndv3b9J/Hc//KOtRa2+IwutPHy++//DJ79yj/F3ecvLDvqrR++Hc/62T/FZ7+4fULFTin6M/fsmS+rDfRc4Ak32yJkNLsILfrZPNjQzMK36GeHMBh7dm/W/K9b9N37P1z9XlemhXf0hbNT3Ls3w3yNcTk9oGd1530TTOcB9+1d2HjXnWcnCAEXhH67U4r+6T/1Vvz8W29Rj5Um3Mve+AG8+QOfUY99+LN343tf+961YJ9WeW0BW54cEEb/hfsm+OLZ9Qbn1AlOlqzF6Xxx6PDbydyHMlor9ZD1e13poBvjHc3WN2xmB/SsSrGhrV33Agafd0rRjwaVOcCmBRf6Te/7G/z5xz+vHrv+43fgf77vb3DHfavDL9uc6LMDwqy//7duxI/87gfWajudORZ9gV43W9QezDqwwP/z5pvxPb/5HvXYnfdN8OSf+GN88LYvqsd/4e234CWve6/fZwNCi0pkokzm89M5nv/zf44bP32X2vb17/4Uvve1+nVL8vvv/wx+4PU3rtXWk04p2u8IWI/d1i70a7S98dN34Xt+4z1rehJ1G+0dbSo//7Zb8JYPfda4brzf7c/hnVL0wwGZg6Rk0U8cazG+iHXw8G257vNFwCJsx1MoyR33TnDHfXvlHyriUSRLltUmzKmPfe5efPSzeuDrM188h9vv2TP5+x+49Yt476fucvtkTdbWSlXe05l79vC+T99lLjA3/PUX8I41aYzXf+IOU8FsIpOZb7hswpyJbeM1VpF3fuIO/P4HPoN71sDZt8n2+Y3r/xp/YCAFFxKq2i1FX9kWfcktnM4X5oq+Cb+35EmsKwdFF43XXndSeElPk8Jz3sTVrRk768Erfp/999CSABTlVZroUyeeUZLpfGHCK5tIy4wpLWwXGObcZD5sE0KZLux3eCHzBnZK0Y8HZE+ahf1QW+t4C5bkrLUWVn+Z77/1Lvz9//RWNVgzc+5nGfm5P/4Yfu16c9N4VyaO0rz7/BT/9rffh3uNwJbH/S8FrjfBUj1qZgkycL2QgmLz4KjSRJ/M/WSr//XRM+Zz9t4RUFv8lvV75p49vPuTd6rHpoXxPC0sBJ6ULOsPf/ZuMzZUepYf+9w9+IIBvcY+bwNCmTkG5DaJGlJ2StEPB1VRiWgPvTjRN3CxOsxy9Zf50c/di0/feQ63K/VsZoVJUZI3f/AzeOvNOiWwJF4S0I2fugu/fcOt+MCtOhwxnYe1rMGYeAasi//aVnlpIffYPstY5dbx0nWnM9tz+uLZKV74K+/C7914m3ndEKBi1mcnM3zbL78Tb7jhVrXtf//LT+I7f+Vd5nm9Pm9i0ZeU9be86nq8+h2fMNr68+E7Xv0u/OL/+rh6bJs5NsuMnQtBqNgxRU82G8Bxz4sTbgPrOeL66w18e3GaFBanZc69riVRF+ryg48mV94pTOZZg1xhrbXgLgHdeBOy2Nbk/tsKaFJYJLzg87lpTee0aJ0d+yU/9960TuI6O9Hb3rc3x32TuXrdZbyf+ncbeL/Gs7z7/Ax3GyU/SkHgu89P7bZbtKy92N8memVV2SlFP6oci95JmCpN9E0GQinb73ffeytOG26yZ7XH76wA8WS2wB984DMmQ2U6D2uzDDyM3nuWdYYosAh1VqAUz7Lik38dL2bieCHTmf2cgdL9+gu5h/96yjg5t/KsPCOg2DYygYyxs8x1recRA6nrxVHstotFwNxJmJsUnmWdv+HHhrZBbJgt7Hm2CRV1VdkpRT8cUJm650E3WwialBK1/vNbPopfN7ByLzjZsTn08779I7fj//yN9+CW23UmySZ1crxFwvOO+H1olpdn0fG26yxQnlXeBRhty3oyX6iLZsmC9Z5HKWt24ixAJcio9fgcw6bolanXLRhFG8ZR+DWSY6U6SM7xEIIbs1gmx+Z3DJjLkxD8xaln3awpw0HlQDdlBVR6IespGH9STRwIxYsrdBNZbxtd+/h/1q/F+sW2PAt3mQWV/072yWrLf7+OEvGgm9aiKyz06gJUsGC9bN/4DkuWtfb+S5Rfd4EpeKjRKvfjWYX3v4Z17D2rIrzmvId5C+tYi4S/4F5302dx/Sfu8Lqu96k0rrZYIE7KTin6UUXFRA5N4ZZqbJSSYjwpWXw+duxAN8wK1bHUMhy1riXhYfRunwvK2oOquOJYFxZYGMHJaSGOsky/LEsyXk9VmkXoxlN8S7Zdg+3jwY0lKuJ+8Og1hewZPUlbxwvxiuXVx23Pal1KL/8/O14oELefslOK3oVuHAtoacrYFji6PhukbOFazIpigNm5rieR/eKdFzAUG1fW7oJrW2X17/R3+NNv+bBJGfQmXZEbvoyydu4HWA8G8aznEiTY3q/C318+Mc32QmwKrK9U//Ljd+Dz9+rJdt48LHmwXg2e0vz1ktrq7+3xvjebm9b+zJkL8bzAegbkqrJTin40qIqcVW3SROU/KQyETVZ1b1KV8V174APrBc3WZd2U+PueEila9M6E5L/Xjn/ob+7Gz7/t4/jLj+uTzn+Wy1l8XiDfux+7bQFCca/rW7gTbwEqwE3tAqQtEoVn1cJCypgMIeCF/+1dZkzKS2osGkxODZ6S57RMnMV6zn/4wc/iBa+6Hrffk1OgS3GFiaOT9luWVvRENCCi9xLRm5RjR4jo9UR0CxG9k4iuYcde1nz/ESJ69j71W5XRoHK48PbqWbToN8DoS4rRDxLaVluq+NZxz20WgiebBK5LffaUSIrvr640PQu4xH7wFJBX/pqfT1VAS8IRrjdQYs64fbbhRKtfJYzeg0nmi4DJbIFzBq2zg25WX9haZa08j9JmKV6fOw9Wv26kbGo019LiVIKj9lNWsehfAuBm49iLAHwhhPBIAD8L4KcAgIgei3r7wa8E8BwAv0BEg/W768uwsqEbj6Pd4ferK6+SeBMjZuSuQxmbJYrPg270wTtfBNOD8aSUtLSZFxLPbb8j63iJXuexUEoUWNeib61j+x3Uv3MWY0tZx7oyGkOp2OfygrtO22WJC97CVyo14i1stnXsxSSW7LMz7oqexFrPyr+n/ZSlFD0RXQXgHwP4ZeMnzwfwmubvNwD4Bqr3FHw+gNeFEPZCCH8F4BYAT96sy7bU1SsLFr2Hs64BR5Skw0pXt0KXVZrePbkKdYOFy4oNeIwOPgk9hVuy6LVn2TJYCt6RbqWWLD773F6CWAJVbaKAHI9uHR59B2Our6xLsTCtz+UEsfWVZmcdr2ZA1G3tBbc7VpqjnrG1+vzeb1nWon8lgB8CYPXoSgCfBoAQwgzAFwE8kH/fyK3Nd1uRunql7456gZ51FomSzJxBVsS7HbghgUHUpJiyVbYJdGOfe1noxsN/C/i+ijvb73C+6NgvqgIqsB88198LEqbPyj5ujVlvXHbUTF+J6MHJsFRbd+yUWFdOnoSmNJMSFyt6qMl1He+3RLbQ+lwyIPwgfxm2rf8/BBY9ET0XwO0hhBu22REiejERnSai02fOrFeadVhVxai8T7/yJ5z1sj/2uXtwh8Uk8NgAS2ZGekwR89xLWIObsIisfrkKJoFunD6ri2L3e9dqczwnq1/LbEouz7PUsSJTKCrc9Rf6EuznMYU8lkl9jtU8tlKfXSMgyXz2DIgSzr6GJ+E+Z7/tZpDR+gbkqrKMRf80AM8jok8CeB2AZxDRr4vf3AbgagAgoiGA+wO4g3/fyFXNd5mEEF4VQjgVQjh18uTJlW4iysipXukFPkov07NEAOBFrzmN/1LY2cpLRV+nxs4kUbjKuR1ueJsCP9c5+J4kOLsKz0RIwZ7oVp+XSZixjztQBfvOhW6c+jx2W2cxLjyrjazUJTF6n93kLxLeuCuVGvHuV5+D3GNb/1l55y6XsVgDo3c8K744qVnVG3jWq0pR0YcQXhZCuCqEcA3qwOpbQwjfLn52LYAXNn9/c/Ob0Hz/goaV8wgAjwKgl8XbBxm6it4eoCWaU+ll1wWTSnvVOgrGGkQOGyRRImqwbjkIZdUdeRI4wrFiPBfaOu5OuIIn4Xld3Mp3oRvlWKzPY/XLzZplv/cXibztYtHtB7xOnMWDUErWsZdc6NEn+TlXtXBLCXHLJ2p5nqLvwajQTYGR5Xnl6RzVPI3mni4AvXK4bkMiegWA0yGEawG8GsCvEdEtAO5EvSAghPAhIvotADcBmAH4nhCCzq3aBxkNPOjGfmHlSVN2k22r3BncJf7+EhmK9Xk8d7WMHQ9X4EGVuPD+ZPatNi99PlUEjrLWLKslg8AeFFU6Xg4+rwYplBRfZ8H6i4TXryKd2NkspVgO3KE5eh5ofQ5vXPmQkbsoGh65TyDYfEGNvxsNUru6Qwq2b9GvpOhDCG8H8Pbm75ez788D+OdGm58A8BNr93AFGQ0qe9V2LevuRYcQUBOG8uNecso6fOaiC+30OWHduAXCfOU1mS9wDIPs+B984DN43hMemj2LEtvHDT6X2i6ZbLUqK6NoWTvb48lnZR0vwU36Qh9hLr+tVy5CzfQuLDAeJZS38RbrWIG0quRcsRWuSxdO6LOrvV+g4NE5cyHp84rjqr5e8w6dDGR+Db1f27fodyoz1uLRhxDclZl/51MG87bReiomaqlWaAHvdKGMkgXkWXQ+3v0XH78DL3ndjfjgbXfn5y3AIMsHRVfzrDbBu9MFZtW2JYW7XJ/VxXgJb4//Lu1zGRI0226UN+Df09TxFrwyJJNlx1URmvUMKgtuKnt0pbYleq0bjDfuaT9ltxT9oIK2UUOplnk6MVZz/TpLYnXMctkB6FUvBPy4QxmOyK99btJk+03yjRqS63oYfQGz9p6HHrguWXyedcwXCdtK9QLm8jxRPIgssVK9PWOdY/U1VvMGS4vxsnh3mR2TnpvHM1ZeUAvjedn6POtUvvR2gVs2A7noda/oDe637JSiHzVupJywfHCUFIEHKbgupUWRWyYJZI0KlJNEEdjWZGlh08695wSgyqwbb3HyldfU8XAS61hbcN0MxRKE4lihhbbLQmR6oG+59+sqr4Ln5CqYQgKR9o6891+632XJBV4MpsRn19le6y8Sm1TNLNd28iG0/ZSdUvTDJtiRDcAiZrmsBbSagim1jd+VKlCuUyBsWRjEdynzuDl/Vh627KX8yz60x5csauYyOtawjpedrKvmYJTb2kqkhNF7im2TRYK3V9+hA90UPWeXLuwvEuWgqGckRIvd2DzGeYclDr63WKeGjbfw9Rb9SjIa1BZ9NgCXDOTVv3Xccyf1fhPaV/33aoqgRK/0lFeJz+6xLsowmG0tLot3e7gyoD8P36IvKD6HXrc8+8Wf6KsHkG2FCvjwSzFfofUkDYveo+Y6778YC3Gs8mXZXAvDKPJgv3g9s2yHVwer6Yt1Xc8YK3mSJd2xn7JTin7YQDdSIadBsRL+uxqmWWQwOPhvWsbAm8za4F1OWXtYOP9dcm4vq7KgNJdhNwHW/a7vBi9rHXvQTdmid2CQUuzH6VeJ7aNbx3ExLrwjdfGy31Hcm9U67sFCpefs0oWXHJPacV4+YdVkLN7Wiw1Y/Vp2sfagm0NT1OxikdGwgW4kRp8ExXx31HvZ+pZ+NbxRmjQq0yDBne3jRczac89XnKz8O7VPievuwSCrD/xl6vNUZFlHyylNH7pZ3etyk4ua7wYVFRbjkG2WXlSaXvymCEU6i1Ox1ARfRGSf/QWmpQurMZb6u4oMo8gpJ7Fs1rTWNj2v3a+6/yt6dMm4S48nC2pPr1xNRlV9O9nLXBLf1dqmxZa0SeUop4U9KWS/VmVHLAuhrAPdeC5luSaJYx0Xar+4dNKm7fHx0FWanlI0++xYVqVFkWdOSvw39vP4aLCyh+MpVH5cWyRKAXN/YSt5MPazLI/nskVfv9+SMSYNueXuV+tXMdjOLXrVGPPGjm1gTgvn3W/ZKUU/bDB6Lxi7KgxSXPGXhhs2sKwLATd3W76C4tsEuvEWgmIJBGfh81LvjxaUpreRutVnr8hXyRtM6aa6Ejk2XkLRyzE78xVBokTkIrEBB79UpsLD4UsZyL71W5+rfr8FeFVa9EWr256HqTG2ukfnlkBwDL0S1Xi/ZccUfYRudEvj2Gigp2Y7FtCySrFkSZZLEXiKXu/zeKizjNK2mnW83HU3SWzR2SAly7psHR8dVQVPYv33UHxHjmUtrwNwK3VQzCuQynxSuK6rcOe+4ov90gKMZW8vICbDWvPM6vMydOHj40HRKJL3VGLVeTG6ZVlVVr+X9Zxln0uB6/2WnVL0kUefD/z6oR4bD8qrtrSOOGbpbh5iKy7At6y0PvPvLOV1bDSwr+30a3llXbJg7eta1uDAeEf18e47qYBmiwUqAo4Mq8IOU6svqL4XUpjoDt2wW5x0A2PZwKaXZQrk47IYBHTuyVOosS/Hx8Osj/l1VzMguDHmbZYi+59d1wk+A/mCumyhPfm3/K7osXkLudJ2v2WnFL3Fo48D55jlFiaTyl7x/fodpQm1jgKyzz2ZL3B8PDCPe0WeSli5WyBsyUCfpVBHA8KgomxCxjIVYyugPg8YDqq6npGDla4TfO42Hil4P2pdGW/slCx6x0otwFyeoijx6L0tHdNiefqzPDbWDYxS3MijKsbnbMNc9phNEyILXldmyPnze/k8Ct9IsJ4zGeSC/ZYdU/QWj94fRN6kKbFblimmZLXdJAg8m4d2wq1aAmH5e1ISpor3FJL/ZdtRVak1ifhirJ17tggYVdRsAG8vQLrlvCx047e1lHWbv2EovmMmHGH3q2gE8EXCseg9ujCwuqU5ZZ6kx6NfNVYS76GGblZbFEsLmweTLFsHSeszv7a6wDgQaYsyjPT73W/ZKUXfsm6ygV8/yONLBcWcge9g1p57PR7q5ZO9iV5kqCwWONrUF16d5lhQfB4MsjTbR3/OwwE1e/vqFo6nRIaDytxzwMXoS7XOm3vSEmrKUIYNofHJrMYsZgscGepMMa68N4FfitzwLLu1rPhaT3Jhz5VVlTVf6IvlJDyve0WcvQw32Tg7b6+25UFiYzE+Ph70Rc1WlWhZ5Tz6+kEeNVbP2TyYgc0ZWySsyQpYgS22ajtMEvk3b6v1CagtiNEwWse22+jVo5HXkd+p1rGTuFKf2/dCRoMKo0EO3UyZ684/d8dr2GdU6RvAe0GxeB/WDmTePZWgjBpCG2a/jeeqKC70usI9cWSY9LFrW4iFOGywKeekr2hglBksCxw1F2Nm2JSqORpY+bGxFc9YP66QGnLyHXV9XhVn59+VDAyLdXPM8GD2W3ZK0UeM3pqsESuVjI7JfNFZkoaFs443kKzahWBchtEWJtxsvmihDM+lLMIRa8BRFo7Or2cpmNGgwtCx6G0lssCwqjAa6slHPkbfWYtWBVJqmST6Yk1WIg+zcDUWShtXMPp13MC74+ejo0rfAMRZnDoGy7DI2PHohtZifdyADFuc3YyF2Qp3wt7RqvGM+LlOtip5A7pusPpchnY8qLJjKJm6YTQ8HPRKIjpKRO8iovcR0YeI6MeV3/wsEd3Y/PsoEd3Fjs3ZsWv3uf+JjCwePbOs68/58Th4pdXOmRMlfD+nULFVu1R6QV53iQk3aqEMD0IpTRrNAm4GrxF8tCY6P7dF6xsOCCPFC2ktupHtWQ0H1GwAr7yHmZ2hPEsUn+6FHB9ZyqtTBPKe5ouARegWJ6mQp/M6rjCs8oUNqJ/viegNGAvM8bGuCPh3ewYscGw8KHPwM4veH3fcKJKLyDRR1qtZ5dyiX7UkRGfIDZeAufR5ZvbZgVBDCMVYWPT2LI+tjhvqe8rupyyzw9QegGeEEO4lohGAdxDRm0MI18cfhBC+P/5NRN8L4Ems/bkQwhP3q8OeDCuDR8+CYkBqlcbPVmCTW+Wfu1tTMM4A5IPIwcK961qbqUzmC1w6GjbByVwBtfucrrUhgmPRz+qJfhemep30CBkZVtmwIgQloDqV70iFbioV36/P7VlWTPGJ4zEV/dh4iPsmc8XTYB6dg7PW95xbuMNBhfFQh4wmbNxZcSVz7MxDA0UF15NcNRM8vpdBRar3M1vYJIDEsFkXox8P3LpPWp/5+y0Gga0cm/EAd5/L9332qrWWOPbxWd27N3MW8kH722iobkOW2Rw8hBDubT6Omn/e8vMtAF67D31bWTr2g2/RaxZBZ6VaWNpQXXk9JkECGSglUhMutAM3WdbxaKAzWDwXGagHe5v0olrHHuxTL5JabCBSJIkaa1ex+EZGQHVWfEf1ImHi7B5UtQgYN7EBKxXdUtYJlmrFYAyaa1TGw0pnCs0WASeORE/SVtYW/msHgQtwhBNQ7yCFfNy1i6L1jlgsbNWgeBxzx0YDNSg+mS9wdKRDs8nCVrDoLaaQ3eflYgMWBfa4sZDz+a2de79lKYyeiAZEdCOA2wFcF0J4p/G7hwN4BIC3sq+PEtFpIrqeiL7JucaLm9+dPnPmzNI3wKWUGdvBMznGd3zUJIEY1MwTbOVN2vIV33iZx8b24I2SY5YMbjChmxqj9+hmevCxm6we71jfjzRgWBGGAzIDTMdHulU+m9eL06jKWUgcItP6PWV4t4fhWsHWyPaxFHk3IXXldXyUvwfZVoOjhpXO/Z83StNLPqoIODKy6KS8ra40LYt+Nu9iEpaVqiUXykXRShA7NtK9Lg5tac95UFHraWtxNvtZce9HX2DayrZZTKLr86r5ComHYmTcHx0OVK58ZyTo97TfspSiDyHMG/jlKgBPJqLHGT99AYA3hBA4AfvhIYRTAL4VwCuJ6MuMa7wqhHAqhHDq5MmTy98Bk65MsQ2h8M9RUuhGt7pLQTP1WHbd3Jogw7JOAsgGdDOMDBYDs9Tup+7HAqNhVbSO9V2gOmWdu/3+4J0tGpxdYd3k7yh/h6OmrVeaQfO6ZosuCJzFYGadRQc4yksJqEsvxLrf0YDMomUnjHE1iYuiFchdLHA8egNZbCB6P4bCnXOrXL+nGqqyvdv6t05coWDRax7ssCKzMOF0bnswvM9W6Q0ryWs6433WvIGyMVbfm+5JDCNTzIJunOz2/ZSVWDchhLsAvA3Ac4yfvAACtgkh3Nb8/wkAb0eK3++rjCLrxpysjQKSA3hmsx8mcuUVbb1yAtyi187Nk0883FGrUDiLgT7VSq0/WyV9WwjFCGzG4F4McMpzj4cVRgodLT4by12dzpuEKY9H7+C/w4owVu433pP2NxCVJmG8DHTjwH6ZNyfHhvIerIB5O9GP6Fb5dBZM7yf284Rh0cd3ZNI653ZWtedJThm8ol03SUwsMGeshc0uTFieo2bgmt2vGUdrIFKtxpKV61DC6KeL0BpjZgzG6Nd+yzKsm5NEdFnz9zEAzwLwYeV3jwFwOYC/ZN9dTkRHmr+vAPA0ADftS88VsVg3ktGhJYlYbmFrWbdQx/IvuxQb4Bhezvbx3eQIgwyVWueTmT1Z27Yt3u3BIDq+O6xIjw0s4dq3rBtjcfKYUUNDaQL1sxyb9NrOOi5CN8oCEyEU7RhvqzKFGst6Lmi9EubSEmqiB2O9w6gkNEZHG78xYgNW0NuLDeXxjNUglAS6UZ5lfb+GsTazFydOzbWCwBbMxfsM6LkwpuHiwLbx+HhAulEk5/chsOgfAuBtRPR+AO9GjdG/iYheQUTPY797AYDXhXRJ/AoAp4nofag9gZ8MIWxN0Zs8eoV1w2Uy4yu+4RYe0dvuJRa9bZUDurK22T6+mzyZ2xztJPXeYr8MKidJpG5jQSQW+yX3YPIF17JwYz+PGvBaZCUMFcioxbuNdxQXmGWgm5wNtGifs5fdGO8v7XPXVj6PblzZGH2bc2BQcz0Lt4WqjPyNNiZl3dMROyZxdAke/aqJeu2zqgxjbeEp6wYGO6ITF6bzwKC5EqyrKfolirgZdZKGVe05m9DNBVL0RXplCOH9UOCWEMLLxecfU37zFwC+aoP+rSR2ZmwBupmHLqJv0P7MSbUEdGNZItOC+w3YGG7ErDWMng+iu85OIGW66Djp2gArsW5OHBmqOHvuwWiWJmERKty7N0uPRVjAtI4XGB4ZqotT96yGuOvsVA1OjwaVCt3Ee2j57Jql2Xg/XnZjvI52v7wWTgw2TgoTvcXojczn6Xxhj51oSSp9jr8/alnlcbwrjJ1STCLhhhu0zuPjAc5O5llcYTLroMj6Wvm5S3Eyr8SxtRjLdzidd5m/sR8eiSNe1zKYjo4MyFAacsp72k/ZrczYyKO3sEMz4NZRBu1Aj6+QtWOZtaC0bZNtLGzYGGRdwlSu+DhVTQ1ONjCHlWXaBWMVyIBBN6u6o52Fo8E+qQutWZO1RW8vbCeOOJ5EpUM3UeG4XshQ95xK0Fxke3TjModurIV8Oq/LcgyVhTyeqxsbijcwtGMws3kwg4BtcPKInTdwZFipFUg5hGLlOljziBMEgHyOTmYL8x1xxpZaGdNZJEoZ2Z7nxGE/k/Qw0ONZMwGDaZ7XfspOKXqbRy+UCHuokfvdYrjGZLayH71Ni3PKYD4hI7/bsjQs/Ldm3ehWm4SqtIHfFRdTLPqo6FeFbqTnpLyHCKGYgTyHdTOsOnqlinePLTgiYDQkNQgsF1StjK1FkZSTVcP/40QHdKpefFZ5CYyI0VeudczPJa/rZU2beDe7JyseZS24s0XNIhsP85hEqc88nhE/y3MvY9Fbx21mVMEInC1wZDho9v21rjs0kgu5UWTF0fTxvt+yU4qeSK91Ljm62vaANjvCh25Si95wdZ1aKKOhrnBLnkS0UjX4hUMZWr8m80ZpFguE6ceihSsXp3bwOkyidmErwCCqIkhgkDyw572jWEwto0guCn2edRCZhPU6b8AK5HfwC79W3TaF5jTFVsNNBuuGc/CVUsMtY8co+VCKDZ3QWDfNZ2uh5xCZ/jyWiCtYfPfGw9EULt9PmH9u2y5s+nSmcDWvbKATF6asrbVjmuUNlspy77fslKIHoK6e0VqI1C3NsorJR7ky9q22yXzh4OhikVD5zgZzJsNDu3PHGivWhJN4t8asGA3ILhDm1HaPdeG1hKk86K17EhqkIK3j7J4WnSfBf8/76QXNRlWlUjOL0M3C9n7aBcapoR/bAun758FnjQY74cwZcSxmqB4dVahIz6odN+/XYqGUaL0aDCKNItVw4Ti7ApFaLDPOjLL61VY+NZT1UQMinc1riqT2nOWY1UgPsV9yPqQYvQ6vjRoD04TIDENuv2XnFP1YnZChtY4AiZV2VspQqe8hrQUJ3ezNFjYXWkJGhmuvDYTYRw13jr9toRt5XWEt6NixbmnERUResz23lzC1DEZvsW7mss+6az9UlGaccCcM1k30nDw+uzXR4yLhQTd22xr20TbEkdaxBt2MrSSvRaFtax3n7yhuaONRFSOdlPeT/90F8nNlPUys8vxZxrLM+bPskuniZ+2etPuNsRAZ6OZthy2DyYcMtb1d6xwMXa8AwAmFoSSfR264xIU+Z2RtQ3ZO0WvBq+h+tROOvZSJmHDWZgoeLHDCskKZdQQYSsRgv0gMlx+PkyBiuNmkmPmKr8asdWUdPxMZGH1sq3gDnhcCNPh+k/1oMXaOtl6Ihu8zWEBRml7AfF2cvfVCXOjGy3Ug1UqN/WiViOLt1bCeHfSMCWRaAmC0fuU7mrcWrP2suFGkKXozrrQIyf1qsJDHXotQpHacl/zQxnPMz+DPhx8fGzCYjKNp49LKUObBeD3W5fV54T6r/ZYdVPR6Ukyc6PVnpjRZgMkrJ+Bx8E8YFj0vmMQ/t8djEFhRmpzmlveZLU5OkOjYyGE4VDp0s9dix0M1UzC2VeGXGM84onP/u1IE5a0EVU46t+gTpVm3vcQsENZ5dDmbI17XKttQLxLRouPPI1skVNiHwU3seOzj0GBlcKvcGpNW28m8Yd1oUKR8zkbhOZ37311Xhe4iFGnRnOc2F362CO3Cxq8FdISJeg7rrKvIQJNt4/EI3WpzYVDp142fh8aYbWNhR4bmPriWx956xgZUtd+yc4p+pGL0zepZ5YM3gW4MjJ4I3bZ9Kyh6aeFkPFxWbMvG8HJvgSsJbfB2JX+NgT/rsGOLZWRRFbsBqiU9pX1W65kY1lG5emXE9/MJyVPg1T5Hz8krReAEJ+M7lIXpWi+kKVylPctRpXuSsf9tVc1MWXeKTVPkdVu9mmeL0TdzgS9OXdmGZkwaGbmaAuq8X32nL17bRTv3ZB5MOjEvAAeklnV8Z+OhDVXF58j7yfsV6aZW/M5SuF35DKV4oIyFac/DiMF1TD8d5tpv2TlFP1SUVxsUG0YloWOlFpY2qiqG/ym4o8GF7Qavne03tvDuqDSVRaT1QuJm2SYbwFqAInao4L9R0Tsp47GtGdg0OckRqlqCdWO40BoOmy1OqvKqlYQsn5wFgQ2rTLNSY5+jcsuVVz3uOhhEMTCGegXS6XyB8dAKejNvwMPom+vyxSm+k0gZtGrot0pT2W/B8sqmzGOTz6q9JwPvjjDHUFF8kjCRGx9p0JvfU9wcZFTViUv6Qu55IaGL0ShtAS8XYgELupnMBXSjsKP2U3ZQ0edYagyoafhfVE4WDlcHVBitT1opSTBWw5VZwoxV+0VhR3i0Tj7hdOqW7Q3E9uOBviFGS/tT9jINIWC64PU7dAWkWThxM5RhU9TMKi5lbiXYJmopMEhpYZsL9gu3FiXOntUzSZW1tsCMW8WnK83OC9Gs4wgL2cFHyUlPMPqhwgaZ2YtT7EP0jkw8WynklRpFFhxh484ds0bJUJ7bUEYbBK6s2EBKzeT3FBc5K7nQ82Di5zhH7UC+Xc1z2M4V/X7bhU3Z5GU/ZecU/cjAjkuW1XioY/TTomsXGBdawcId94zjdKZbqCR6TORkzaoqShxW8zSWhW5yZW3FBvKSD4qSGFple6OlmSuJEGo64TB5lrZFX3LttWdplrAWtM6pYuFadfKn86Z8guqFdNDNUFF8OYarw43LsMySZxUVXxN30Bkq5F633QDGTGqzExetuEKMZ2jKuqV1mhnKXmJaGldQ+zywve5lgrGaRb/gFGgNKZA6qbfoVxO9YFa3sTQgrOPoBlfeim8HTSazOY6Ph+rmAlm2n6JEPOhmUJFaIjWex7RS2jR2Y2MKBr/kGXsxsJlnbMpJo2XrAron0SqnxrOSeHfqpaQTsmUZGQtuh7PbdfBtZV1oO09zMLQdh9qEKlVpVi1mrdF6rRgN59Hn9xtE2/w9jId6PCPee7svgHK/tmXdYeUaRBrjGZoHm3iDgxzmahlZzvuNHH2dg0/6c15072hs9Zl5imqQOPbZ4tHHebbQrmtn3HN4Tdvbdz9l5xS9veLrLzOFbjQmgbSOtElV6YO34J6VoJukbKsB3YwHecAtz/bUcGfCeEhOoaYcuuGTRg9cR08iZihq1i+ZCy5RvVepZPRIy7n+PbfK08VJW/hM6EbEBnT3u7tusqNYAcrg1MzsfuepIrCSnjQmyTRpqy8wiRJZwUiYtN5eHtjsjCK7BMKQj3cBoYSAhiKrGzY23JSOd01pJvkKxlzR8zfsPsdzmZ5T3H9BKa3C4bXRUI+FjRyG0n7LDip6ewB66fO1BaS8zMXCVE7xXKOW4ZBP9JGhYGJ2o+cWjgw3OIFuBnnAraS8uNVmQze5hRsH8nio48peoaZ474mFK/ocv5cTMl1g8lhJXvnS8JycZ3lkWNXMGYWOGK1B/nzq65SCk12yVf05X5yiEsnfkYD9+KLJ8ig0S5Mzo+R1u+xW0t8hU2zxXG2fI/c/QigqjVnH6GcMK9dKUWTxLG6MFbyfNi/Ew/cH1vz2A7kt3GQwtniilm7Y2DDnaKjHfrYhO6foNTZIHIBEedXF1DrSgmK2KxvroI8HA4yU3XzyYJzu2lnsl9FQx1k71o1uEZRoXxGH1aCbOLFbTrpShrmjjEkYS143VzBjpqxTq33Rfj8S3kJiHalKM2KlEW4yPCcHZ+8gNMXiM57zdN55ITVHX7Ng9UA+D+SOlKB4VF5a8LkNqDZsMCtvQFOaM/4OVW9AepLaOzRyIeZpUFRbUP0EIt1zjmPBzBSedxvpyGcl4xlqnyt9jsZ3PS70uWMo5fcb22Z1oeK4MpK89luW2WHqKBG9i4jeR0QfIqIfV37znUR0hohubP59Fzv2QiL6WPPvhft9A1Is9yxOchk048pLi+jHwGV8IRNtEA113LG1cDScnVtWQ+266YTTJjrHJaWLHbMm5XXj51ETs7CgmxMqRi+gGwULB3TLmisnTYlEVk39G9IVG7dSFaWpBYGl5xSfD287qAhVrN9jKE0NuonH6r6lbaUBkV2XYeVSibSUwIEOR3ALV0IKsS1fUDXvyN4sXXi/C+0d6tZxV8Yg92CLTLF5Sq9Mn1VnHWvQzTJxBWu3rswIsCBDZUGVFEk19jeodIbavGY3DSpS43v7LcWNRwDsAXhGCOFeIhoBeAcRvTmEcL343etDCP+af0FEDwDwfwM4BSAAuIGIrg0hfGE/Oq+JNnjjAATqAa6VFh4PjXICzSAiyidVzCKN6dUWhcpL1LJqzrQVJt2JrrMFPG5wZAMMBwQiuwLlCQ2jb59VDJjm9wvoJRCSAOJcmcxiMU6VE5usSqBPUkKnalxBt7ymzWQFoHopbTzDgAVG7eJUiYneeSEeNzx6KRPTkrQx63FUmkqxtNICEy1vbWPx4+Oh6v1wD8aqQMqtctOyNjBrCyvn0J01V+43HqlQFY+FDAcV7puk+yBLssVM8RQtjH4yW7SB6bqt4YVW1GaZE3Xz+cio1iuaJ7nfUrToQy33Nh9Hzb9le/Vs1FsP3tko9+tgbyy+L6IGieadtSgrGCaWlzPR69+QilkeGepucFaoSbM0nIy9McMdE4s9sVIUTHNmWxoSMrIqFGrZvqn3kzNnJmxwSyhDBgH5fcS/+WI8Uy3JmvvPr8X7dWw0yKwjbtFZFl+ywKg1dnTWTdyUJJ4/8VDYYmzRHMeGAaF6A661qLQd8rb6QjAe2kZRx6NPF9xRVfdZZ910GciyzxPmwdT1eVIvpGVGKYSJKTOorD0FOHNGxfcrzxuw4cT6Wdk7uXkGRN22ew8yqzr2V0MS9luWwuiJaEBENwK4HbXifqfys39GRO8nojcQ0dXNd1cC+DT7za3Nd9o1XkxEp4no9JkzZ5a/AyEagyHSK4EG2jFeiO7aLVrFZE6qQQxsagOQYZYaNa8iNXEpBnr0yZpbqVKpWp5EUttHCTB3wVgNo+fQjc4kGQ2aWIhYFKeC3ZRdl78jsVhzb0CbzKmnIaxj4Tnx5xfbWvBLPJ7USUpYNxy6kQaEthize5oJA2KeP6tIga2vpS24tQKaKG0t2CcNTlpsLwMGyfqsxzP0Mcm8EDHeOX22qggV5R5qfB4ay6iFbhyI1CJbtNTr9jnrsK5OvfYgQTbetUVTjJ1tQzdLKfoQwjyE8EQAVwF4MhE9TvzkfwK4JoTweNRW+2tW7UgI4VUhhFMhhFMnT55ctXkrFjeYB/o0el1X+0XH2QFkQdOoBK0aHPG6MQisBcVs1k09EAbNwE+hmxzKkEo1gW60iV7pluakDcZqFj2zFhXLKxaeiveVxEIWXMHkbnK0rGJbDe/kk0bCAhUPiioW3WjYPQ8LutHev2ROpZ5VB91kFr0GGUnYZ9g9q3QBiRasHmBM6Yb6/Y5Z/EZd6CuvfIJFrwyd0WORHgqLsRaT6I4xxcfnqODCW+SC+C4siFQvTOZ53el1NR697SmmC2r8PT+ejPfDRK8MIdwF4G0Q8EsI4Y4Qwl7z8ZcB/J3m79sAXM1+elXz3dZEpQwuHPy3nRh2CYTYdiwtrwTDs/nM3XUNBaSxX9hAGIoJmVipCrWrViI2VFH3pxuAGjtCD8Z2SmKoKKBYpC2eX4WbKq5w0z53E52yRaC+324y83PHlP94XdWiM3H2dHFaJXMyU9bKdYeVnsgz4dcVmHXqZervN97rSCgg6aHW17UVrlWmQDUCMu8nf1bW2JDer2Y5t4pPenSz9J6yubLoavfn99sZclr1Upe/LyihdmZ7Po84BbalX4pFMxmzB50wRUQnieiy5u9jAJ4F4MPiNw9hH58H4Obm77cA+EYiupyILgfwjc13WxM1NZtZ5RIPSyaGUk4g8qgBZBTKPWbR265dhzvrmaJk0Ov4AlPpFt2w0q2YRSzEpA3AznrSXN0WulGCsRyzVJkVzYSrfyOTnriC0aiKqee0CmZds0x0hSuD3vwZxONxIkqvK/Ko7YxNmynE+1wpXtlsvmhr68vYkIwbxWtpx8dDw3AZ6hDKtKS85qKkt3j/ltdVH08ZLKqRoFjlPGAK5PNMBpizudIWNbPHe1dqQtcNamxAjDttjvI4mnZPaXl03SiShs02ZBnWzUMAvIaIBqgXht8KIbyJiF4B4HQI4VoA30dEzwMwA3AngO8EgBDCnUT0HwC8uznXK0IId+73TXDR6qTHpId4XLdwbWU9TJRIbv22LJRsd6qFgDJ06EZn7ITEOla9gcrDf302wGhQYdFk02rQjVammHsh2r6gMqBq8ahVfveiU7gy8NUyWAY2g4Vb1ik00y2KJehGBvrmQsHw++ja6jgr73M8h9wsxfIGOESmBq7ZuSX8khouGo8+Xax1A4PKuLJagVQWF9OVeRaTmKfPalhVajxLo5PWz0OUKVG8n7jDlLYVKF+MvTIVs6byacUW3/GAGx/aeNfLWEijaNsJU0VFH0J4P4AnKd+/nP39MgAvM9r/CoBf2aCPK4npUjKrXK6sQLQ0unICnAbFrZg08JXCPvfOZul1ueITFl9amKxjvwwYNHFpU0ogUyLJ4M35zh1041mDpG4ZGI+3tW5mc3aMwS8GwyGBQTToZlBhOFhk1+Vel0x606xyWYGymzSGdWzkFaTQjR4kdKEb7nVpyok/j5muNGWQPy5ECRfeYiE1fY5jdqIGYxUYTFG4/J6suMKQLYpaHgVfJDSqorbTF1+c6v9FIL+F33Topq3W6RVEG1iZwCI2pMTvkmqeiwWOVF3xPH5dixmnVwJlhpxinO63rITRXwwiXxYQlYiOs8fkokgZA2SxrYXZllv0apDIiQ3EFxtZCEC+4nMlYuF/rcuZcMdDwiRQradKdznbypdKdmtrlQ11yzpSQgFkhdp48TgLQknZTVrwUd9oOy5s9W9sz8lk3XDoZpG/XzspRkJz+kSP/8tzy7ER6xXxQK7GSZ8wBTQapDTXDrrpFjb1nqrOSuXSwi8GlJEsqFaylRMEHg/z2i98PMdnqS6azXvI9xSo34OWfCShWS0Gxz12PVHPNppGQ72ks9wzQG3bjvd88dpv2TlFr1PGeFJMDt3wABOQY8dWQDXD8Az8r/6N5a4aPOtZSJSECt1wS5P3udlYehl3VF530rTVNviQ++vW180XTSAfvFoQWMIRSTBuoU+aOJk9pamloiewj1gkxoPOSlWtX6v0wowFkCuhJFiftXPzMTkW71ALqOoeXQ6xqIFcbbFuoJ1sf4V5N3YGWeyAQzfpAsPjGT6DJTeKMu9HGgnKuJMe7HCgJx+lnqTCqnMWa+mFAMg8kbExnjkFVq9A2i2aGu1zv2X3FH1jpaTVHJmbpEA3nYJRKHQLEYCapW0B7lJKCyckEz2xJHmhLjWg6uC/fBCpcERq4WpwhFXkKyqgttiS4kLzQl0p68aOhegWTjqZ7VyH7n7jPUnWTWtpDnUlEbOXgdzF7jw2K4Csl16YLTzIKD6rqMzzd8gXJ/48EvjFoLHG5zQS70nDhiVFMrYdD7X67GlsSBoJPAbD+zVnMJeeN8I9STv4HM+teTAaw6VdYJK2mrKuoVm5D3Iy7oxFYmwx2GY2fz8JihegG60Gz37Lzil6yVJoN61orYV8kLWsCxWHTRcJPmk460ajbiXWYiUsXEYZ67jhQlk7sA9PRc/6LPjsesamzf8dDxvraCApkjl0IxfF8UBXbF0ij1XbnVtWFaw6KYBCv5tzmMv2nCzGzoi9/5T7r0BG2TvikJGOhbfnltdlbfkz4vCLFRuon0PueSWJOspinJAPBDbM6wLF31jBZ+lJ8gVEyxtJ78mK3+gxmjRDNbWsebmI2Gft3LxUgdwHIV3YdE/D2mFsVICq0ppT9XfyOWtG4n7L7il6wSvPOLoZDpcqxfo74RYaGD0P1ujQjcT/csvKYnTwIFEeG2Cp6EbKeGLhKBithdFnC4wRNNO44TPmwcga+7L0grxuwlCSRc1YslV97kq8IzvZigefLcbOmCkYdVFM4grSCOBeSO6x8WC8jdFKZa3AL0Yhto791LQVXqbWNvZHGgH8HcVz5F5I96z4M+KLT/s8DKUpYxIdnMi9I2VhU6Abta0aFDcMjIWcK/qi2O03ncKCqZehzxUJ3cjnXMcVe4t+JZEwSI6V5gOwgzlyl1MObolnA9E9U6CbhaRIWli5roBSfFfAHHERGOZ9rq1y38IZGdfdY4vEWLJBGHSj1jOZdxh9Bt0keLeC0c85NTNX5LFtPPdETLiOmmknH1kLqlVzhFMzWxZKhtHyyao8Z4OFJL0Q3td0QTVorAzGUtsOrczY1Bv0A8iSKZRb9O08az2YDgZVsfIkeBmS/63FeqKMnbwtj5UoC4wB3fFcCBkb4EaC7f12QWDNkEvjKIv0WXDdcNAJUxebSKtcKgkJsSTZfga/m1teelIMNconfVmx1jWQK2vpDcjrRo5uPL9k3fh9llBVbh0n1pHA4Y8kSlOHbrTg5EwoXH1hM6zURapEtAqEQ6YYXZhLiyuYUAaHbozSC5W+lwFfcO3SyvaCm0E3zfGkxIUxNkx8P/EGlKAoK0xmeT9dxm7uwQ7ZeObPKLNSRcG0lO2TLmwz0VZi9LyGkhyzfA52fU7nCtB4OCJoGmFd/iytmlJWzaHRoAsCazWWYvA5/l57ztoeGvstO6fopXsms+60omZjdix+B6Q7zNTnSDFrbtGPxSLAywHHtvp+o3YyDrfaJBuAMwXq++RB0TSQa6WEa8wZDvvU9T2sPufBycQ68mCugpWaWWWs6FW8J4vBIAvEdZOVjLpBPBgv4ygpzi5xeKlwOQmA4/vxf8krt5R1Er9R4Ia6LEO6SExafJ8pNq3tPA2o8uqlmmUtx2T0FKXSlG2thS8xMIQXkox3yaqR8OpCWsfRsJGxoW7BlYtm1mcBc/K50nrOIs6WGCcF73cqrzvsFsWeXrmiSP6vlqEoXyaPfsfveFuLOZFlxibKSSwwpkvpc3TjOTJLUgx8a0L6eGcMqAoFNIywkGC3MO9IqwvP4aY8OGlPuHjvaeDStuiHwuJPa93o8Jp1fDZPtzDUmFFJ/R5RfIwr8ngfSZ+ZBWzDPhEWSi0+zwjo4LU0KK7FUXKrvAD7sIU+XTTzeFa8rrzf3KPLDQwtgFyfI69eKp+zfFatkTCQsaE8KNr2WaHAarAf97pzI0E3qDzSQxfP4AZGb9GvJNLClUGikTLh+MvibSVzQg7eVok0AaaYIp20TSiBRqBHKD7OSa5/IxVfSOiTvC2QT0gbK9egG2YdCxgkdaEVq5zRDYdCKfIJpxeQktX8lD6zBVl6EiMDMuJB77ZttqDagXrAxtln2tjJgoSMQpfkOtjwixbIyxRfa3wMjLZkcOEd5swS4517xrzNVLwja9HUoAxplase29B/VmPDKJqyMWv2mSlcrcJsQglWePTxuloSWCzb4N2v7PM2ZAcVfToQ5plFn0MocvBOM9yRB6dyi65KEmpSl5LDPlYJ1Mw6WuQDQSYucSuUtwGgsG58yEju1tThrGRakirsw2ABrXBVzEC26GhWPfrOs9LvKcmFGOR95s9JS4qxrX1p0csYTdpnfk+Zlaq8fwm/xGfJM18HraIXz1Io6zgu+Qbe6rOc5/Gdtu1cjndtkUhZNybOLhcYvh/BMO2zfEdyjqrMOMGq456TjO9YY1aDdUvJhfEZzRtodlSa3wp0w2tGadfdhuycopf4b/x/0Lp2eVC0daHFwM9WXqn4Zop11LThdcHjdTUoI8G75YrvlMDl7AbeNl67lDDFg3UWgyXPYAyJi1w/A0NZOwtq96wMJTJI8e5SYHM6XyQBZJU540E3HDIwePQAlODkwvSsOijD8uhyBRThCB70jt6TrEDJqaZADoOk1Tx520XWtjVOsqBo6v3K0rrxu/gc5f1KEkDVsn0Mq5wtQNnYGKbjLoe5dKtcxo2S51wsPNc9Syug6hWmixRYOTYy6Ka36FeXbNXWOKvzlMMr8T+Zim5ZqZLWx9tI/E/icCllLB0Ik0xJ5LzyzAsRyryFGwzKGHcpPQbLnnRV5f1mJX9174fHQuKiK3cgGrLJGr/jv/NocPL9yvtNqXtS4bIFxgggxutmHk4l379UIpbF19UF6gJ9OXRT37dQfLMUXuPXzdoqAcYRG5P1feqQQp70pljHVp/F/WrBZ+nBDq13xMazLBeyjMLtylALz4lBr/Vxw6Kv8t3YJsr9Slq2jIVMjOcs42jbkJ1T9DIpJrM0pBJJgoDGIGKTmbMUktR7OXgVC8eijGVucAF3nPA+C9d+rmTdqZmRVsIUqwQpefQJzKVixzy5TODsbHGKViqPSfDs5TxW0sE+APJkrLmTzZkFY7sFl+9VGo/xFHkJC/B3KF13i1lh1TNJDYz0PUzE2BkOcsqghH3atrPOcu6um447KxjL6wLF55EnFwmPThIX2HuwYhIlumEGGWkLjEyITBK19DEp6wK1fTZzTnjOgdANbWKaEzeS8Jr5nHt65cpSsjRk8oLGfsgsnKEc3N0LKw3eZMUXE71VimLDa03ByA1A4oIlXfsc77RxZy1TlJcEUKEbZv3y68XnlWLhuoUT740vtnVfBYOl9cq688a2ycKXUEK7sr31OZQFN8uaTi0+WQlSg246S1L3BnW4qT62WMgFRh+TcWHTNrTnSjE+g3gsni8etzj4llGU1Ek3lZdQuDNxv0qtI2thyxZFBfaTNXYymMtQminMmc5fjSmUUmC7nANZ+0mDBD1yAb8er79U31OKMmxDioqeiI4S0buI6H1E9CEi+nHlNz9ARDc1m4P/CRE9nB2bE9GNzb9r9/sGpAyFxa65hUCqkLO0bgH7DA23cTLrsOEOs/bcUTlp9IGQww15cIpPZu7a8wSR2NZioWj0uzSwaTOUuhK4qcXHlQQvJzuVfWYLX0ZzyzjaHUTSPcv6WAihqbjY9VmW7Y2eU3dPuiLPcjCyflUZ3NC5/eIdZgsMWyQUOBFgCz17B+2zmsn33ywCAqPnu23Fc1sKyIJBugqk3ZiN9Vl4gljsC7/fhJMuLWtp4c6EwmXzMJkrC80bkNYxG+889yNhgqWeosajl0ZRNkczI8Ax5MR4zgw5CaFtsQzCMhb9HoBnhBCeAOCJAJ5DRE8Vv3kvgFPN5uBvAPCf2LFzIYQnNv+etx+d9sSCX6QFxF0w6WLFFzKZpQNBLhKSvw0o9DqO/5lsHwMyYueWsYGhVARMSfA+W5t4RLZQxo6Yd4uXtk1dllxm4PASw+cLajxu0dwkz55bZbHv3SIhLCvpnisWrvWcc8WX9otXGZTPOYfuBNzEFK5MgW+vy63yYbqQSxjMMj6ytoN8714JVUoq8pA9j3ZcGYuTZR1L9ktCejBq+ySQER93M03hphBpYh2LBEB+Xn4v0pDLS02HfHFq+hpjV+nOZsKQk153ttCLoDh7T/stRUUfarm3+Thq/gXxm7eFEM42H69HvQn4gYjJYMms584SGYrB21nHuWtXn5u52CI42bmU0lrIOdo5hictDd2143h3/J0cRNYmHpENEBWQhFjy2u4GdCMCqlmVUAmDLToLJ7a3aG7dhDTaDqrMssreA1PWHDLSoBueiJX0WbrnCnQjFUF3vyFfjLO0/e68/Hu+cXg8d1pMK80bANgiwfYxAJDtXsTrEXWGjQ6hJAuqYv3G+0yfZQeTSM65TEzMYBC2SMj9CDK4SSZMsetaxIXsWck+DyRhQik8J97hmC9OWQay8KwEvi/jXdsMyC5j0YOIBkR0I4DbAVwXQnin8/MXAXgz+3yUiE4T0fVE9E3ONV7c/O70mTNnlumWKtKFtmCBFA8VgzdzscTEYLxjizkh2T6yFnZteRVc6HZiSPxXTGamCLLJmtVnyRWfFfiSmbHcC5GlaNvrCobD1FG4Mm2fu+51X7u2oyq93wlTbPI5y2c5HqYTLisHLOMO0uJTIIWpgMi0hCkON/HgtGRs6Bg9XyTysr0jBq/wZygxei3LWC6KGSVUgRszqKLEox+IzWOYYSOLms0WHRURiGO2M2wm8xy6mYj3YHu/IV/InfIoUll3tM38OXvXnS6kF1qx+xVj9jBY9AAQQpiHEJ6I2lJ/MhE9TvsdEX07gFMAfpp9/fAQwikA3wrglUT0ZcY1XhVCOBVCOHXy5MlV7iERaQ1m7rcMxirwy1RYmmPjhaS7QAnscCaUV3O8xY4ZZcyCbiSjh+OSqXXcKZHWWmABZMlQ4RiuFnDtePRkYvSxXxkVVSggDmWMBaQgYS6ZBMbhl8Q6YnCUTD7RlCa3jjmUkU1Ws34Ln8wpdJMH+rrFWFr0FjbcbXjDjYDU+8kC29L4YGODv98sgWjBawqlfdYWILmhienBKPCbVtKXn98zAmJf63Pbgc0MqhxU4lml8Rt53aTPGTMqf87ewpd4zjMZK8nHXW7YHLBFHyWEcBeAtwF4jjxGRM8E8KMAnhdC2GNtbmv+/wSAt0PZaHw/JbdSBAySrcydG9wO/CygKgdo/f3efIHxcKCeV7Nw+Dm12EDOwRaWJoOFpIU7E9c1SyAsFHx/1sEvCZMoo1emngQvc5AXl8qVZsq64X1u2srkozZDWVhHjF4pE9NG2rMadm05gyWHboSVOk+VCC+YluVnDNPJKuGmuCiGEHKoSuHRZwtqYi2ywGZcJCzWjZZAJPoss7l5oDdn5Ig4ilysmeUtNzTP6tUkHky6OPFrpvEsCXPmsJ/JUJJzP75DFpPKKps255X70U6kJ5kV08st+jZPhu0ZwJ/HgVr0RHSSiC5r/j4G4FkAPix+8yQAv4Rayd/Ovr+ciI40f18B4GkAbtq33iuS4axKYSqgfqitYhNWaFQ8Gt81tgUij75TAvxYzt9XLM3MLdQxvBaOYJ7GSEwMawDmbJ9cAU2F4kvqd2S1bqTyiso4VYqqZS2vKyEDUU6A8+g5DMLZLxneqVi4GWPHgG7yWInsl/acpXVswU2dktHcfv4cJrMgnnMeyI9Kos68pOS6meeUKa903Mm5wpWmSRAolXxQC5Ol8AufKzLYDqQLkDS2XOjGqIPU6QaxsCWECeHBNsdiiWRplXfVPPNs3qEcdwZ0I+fKNmS4xG8eAuA1RDRAvTD8VgjhTUT0CgCnQwjXooZqLgHw202Q71MNw+YrAPwSES2atj8ZQtiqos/ZHunL5A91Lh+4tMqztoolUii2ZAZcGWVMFp/SBi8/J8cd43GpnHg52ay0LlNAY7Uts3AaimRVUYKVtueWStGwvGaLgKMjCd0YUIayUQNXBNzyspgzCVY+SK9bwp293cksj02+Iwk38YVALsaSfse3ZIzPNF1w7TgLV+Tx2L2zGWub1jLifW4TtRikEL0Qy/vJY2E6hFIrPul1Ge9ILPTatosW+0lmqE65IdfqhhSjl30OIYCIVG9QGgkarBf7l3m/BnQjoaptSFHRhxDeDwVuCSG8nP39TKPtXwD4qk06uKpo1iCgP9R2IpsrfnTt0qBpOwCVzNjOtdfhF44tmgFVBXdM7mmhtDUoY9pm2UOp+Cw2CFs0j1QDVYnk7CbLaltgdLQbbtw6zvpcpQOfM6Pq3xFTTunipEE3ySKheDA2cyZlKI21hCkLmlNc93huuRjHhBwbuiGcn+rwSzy3Rvntjom2gvsvPas8JsX6XGDdcKNIWscnjtTvPw8gyxwLMVeYZS33FMgWXGFZa/GMdrzLWkaMzx4xdcl+yuJojIwhPWfuWfGN53NWXbPQb3GXqSJ0c7FJFtjMFG73srN6FYIy2CW9pFaMNiFLbr9GGZQTUtbJlufmcIVlWWfQjWAwTBeSscMCmxlkVCXfa5z0HKPVLS+PMpixbgRmyVkmXZ9TS9PiaE+yPmtWmQ43adm8WSDPbCsho+4dyrERj6cUyRSqSstQ5wuu5mXWbTW6YWq4ZGNWwY47KNLyfoV1XCm1jgxap4wbZXNFWNapB5O/B16mJN0TNvXYNO5/vF78XyafSe8nDcay+12UvW75Hg46YeqikpxH3zxUCd0scislS2zIkmIE/jtzipoJt19SBnX4RQ4iOSG7xSsNqDrYYdO2HfiKxdcmiDkWXfw/ZbAoE04wZzjrJnFlGXPG5NGzCacqAhXvzmMlaaBPscosq3wusfIcMsoqn5p97pSMtOiA1PPiZSjiPUlGB2/L2VFany0mifRgJQuFj2mttC5vm2eCKxBK9qws6EbOldSy1uDGnLFVNsZm2SIhYgPZApTHhqwqodI4STLBDW/wQIOxF5tkPHrrZc6YlWJYT1kFSoEtapmxJdeeL0Bjobwk3JRZIkZwkruFdpJXh5VnWaYigSRPAusm3HjIlTXlE05aKUwRZJCRCE5xmhtvOxXeD7fMJjP9ulrQO95TFjBnVhlvm030oYaz6oovg5sYpCQX49gvTq9MMHqZ3ZyxkGyMXq0b4yQA8u954LMzmLrYT+xL0pYpXKsqqszIzuiVSoxGBph5nxMOvlisOVYuFxjLo0+8UL6gOrEhmWylLfRZLESM917RryAZj94JmsmXBaQKqMMdI0abKs3JPK2DXn8nYB9PAYmovKVEuCchqybGa7RMoYx1k1op2nVN6CabcMKSHOY1duTilCTymBmqutLkltdAtAVqpVnk0S9C1uecNy6MAAM7HinQjcwU5YE+SYGtj+vjzsPotaSnLBnLgKqytH6mNDULl1e+5NCOjGfJhLn4jirmDSwCuh3XFMiQGz3pc85h0Lxtd115DEASd4rjqmrwfcug6iiy3XiXxli+KHb3m0I30uuS95vGfvj9bkN2TtHLATi33NFFyCZ6PG5DCp0SaYtpyUkjCjXJpCiO/6XuOVdABnQzY/iusPg81o28ruQsT0Rbqfj2mMWfQDcVZ86k/dISTKy4glmmwlycmNJUXGiAbUwhC4RVHnQjPAllcYr4b2bRKZ6kBt1YBoakSFoU2LjQZ5ACizvIRJ3E0lx07Bcv5gQg2Qmqiyvo3kL9jpT7ZYl88n5TuCmFIuMzjKWkLaqipM/K7GaZIMifZQY3VZ1u6O5Jh8EmYuEbDuRG6z7bK51H6djZhuycogfEAGz+HwjXjg/esVBAUyM1X1rWIeSLgCy2lAUYWUZnzropLBKLwCxn3dLQWDf1vehQxphBN5LBckS05TtXxX7J2h8WlOW5snlxKbE4KdZgPC7hJq0URYazt4lLErrJ4bWhpvjmC7Y4Gc9Zwk3snuRCLp/HZJaPDYvWF6/dxZWUuAKrR5QkTC0Rk4jXVK8rPBzrfuvnkcMg6ZhMlWJ8hvL9ts+DL078mFL5NKOiivmd4fssCVAaY9IoMll3Eo4acGPM8EJ6i3414QNQqyIINEGxWTrR4/F8z9hGibCXadL62oFtWXzMojeshXZSCW9hMl9AJgjF/s/YRE/aysCXwgaQ0E1uHXNXNp1wVkXG7HlocITFo88mjc1JLy0w0jrm8Jv06OIxMyO3yt+/VU4gUzBsIZCeYv08bKuc17rRFvpxpvhEEFBkere8ciUmoSmgmimUB5A5pJRnXKfjXcYd5HgfKc95Ng/MCFgRupnrypqX3tB49PFe4n1L+K1jRuUYfd2WERccaE4uXLzP25CdVPTpAMxrjgC16yWzOePfVv0Ojv9JPLtVxqIkgKSU2ROSWwv2dWV1ynhuC3fOMoXF4OWJLXKB4Rh9CxlIfF8sTpJ1wxVUtvEIUxL8nlT2C0/yYv2SwVgJR0jrWFskul2gtGeVT8jZvPMG8gJh3diR9XnivegYvVDWArPOaIwyvsO8sox1I0scNH3OEvXEgsox+pk6V1KLXoPX+I5rFt2Qb8ICpIFtWbROtpWMHB7fkZnvsm2+RWUes8iv2z0rHs+QsYE86c2GbiQasA3ZUUWfBvpk4AqIg0iBbgYpRk/8ZbISCdKil9TMOCH5puSxP4BGGaNMaeawUKdgksGrURUNZkU+eCmDXzSLvlsErNhAOiFzDr50g1NMuj4ftefl95JZi0xpSkpoFmBc5CUQYn8kdFOEm9gCIzHrWAuFjzvp/cR7khzs+DeH/UyPrQD7ZN4Az15WrOM0uznHs+M5pWHTXTcNMHbnVaxjOe4Ki8R0YRtj/B3JxKTY5/kifb9AXDR1b1/zQjzmjApzsZhEXqaYx+dy45NvmLLfspOKflRRUhdecymn3B0VCSatC73othIDUislDvwjyaRi1RwXIdkOLsu6FANUuqODxtribS2sVK2MaDArcoyeQzdCWbPkIy2eocUGMk9ioVtWHLrJ8G6FDSI9GOt5aJuHJMk2yj1pfQYUmKtS2mYYLvNglHGXwm86dpzHQvKtIiWTiHuD2SIRk8sUZT0epGwvzfudzhYZqyoeTzw2pW1amEzerwHdcA9WuV+5sA2r/DnXsI/W59QLVe/XKJ8hMXptIefegsXBlwHkdsz2Fv1qkmKacmXtXojGJKjru/BVWcFoZ5xulloak5neNq+jkg9QPog0BkNtWadB3nicDyJ+n9l1M056DvuMRckHTq+Tfc5ZN7l1rFlWagkEAyudLawCYWwBcmoOSRgkfp/zqKVFL3DlYae8ZEZuPHcC3aieJIdBWNuhyG4VC0yeF5KeOz7n+UJSQrvFS7JM4t9pn5XnnLCMLG8gpxPG7yVxAUiDsVmRPjZmrTjazFzYOmWts+r4ohnUPqfn5rrBCQJL6EaB/SyveijabkN2UtHL9HoJc9TfG9ZxJfB91pZjml3gctAeTwavaMs3AI+UMYnRcvdcc6HryapZOApV0WDdqGwAM8CkQTe6G2wHVHUFkyafCPZDgf3CLW8JGZWCwBp0Y3kSFpaqQTd1v1JrUSYudW1zSzNi9FaeREvrdKAMFV5j91uyjiW8ktJ6DeICv18FK5+xRSKHQXjgMr2f+L12v7JAWBqY7vos3297XYaj60why0j0EtO6xUl7h+nipHsSfQmEFSWFQdKXFZW1Rs0DYnBStwbrc6eK3sNKVSslmeh2W33g68EpGZOQu/XU3ztsAJG4NFaCsZaSyLnwUmnaNFaL/SADm1aBsDQoLuA1HhtQcPYIv/CAWs6jF3AEg25k/CZeu6tlZPR5EdyxYz3n+CxlzZm2rUEX5nCjZEZ11+U4O/cyCu9QwG96HMXuV6KsFS78bKG35QwWU1kbC0zWZwX2mbI6StYiIUtJj9txZy9svLSytqDy3dz2W3ZS0UsePX/gANqkGX1SpQMhV/T1C5PB2Pa6c2Pgc8aGYpVz9ks2eLllvVAGEStcZloa7Nw5G0AydlJlzSGjPL0+XSRUppAB+8Q+S4tfBjYt9ktMeuNZhjworibbCOhGvvv6GenvYcygm8k8jd/Ee04yMrU+NwqZ97ltO7eS+HLlJRcviwLZLZqLLF8hPvMknqEsTjyukCfqdcrLhkgt5gyD5kRpjdhWg6oS63jmxeBK+H5OTKjPyWIS0vtlUGVquHSLUynXRUviA7o5ug3ZTUUvePRcSQBdOrKVGWtZ1l3bRcY5j227Vdtw+03ckZXezawFBt0ImIOfJ0IZqlJkg0xOmvmirjlvlUCYOJMmS5iSu3UtArPYc4WbZJkmCrl+RwsjExTomFPaYswhEhn0rtuGnIGUYfQGZt1Y9CMxNqS1aLn2chHgz7Jlgg0VJWK8h3Fsq0GRbJGQm6XE3yZxIw26mYeMihjP49F24/fSY4vnTgOq+jvS5miyOCmlBto+ax6MiA1ZcTRJRa3P7VBglTwJeU8hdOOdt20Nm4O06InoKBG9i4jeR0QfIqIfV35zhIheT0S3ENE7iegaduxlzfcfIaJn73P/VZGYdWbRNy9Mw/ASyuBCt+jTwlSGSyknetVZC9EqHzsDX7PoUhaCpviaQaQFiRLLS4MUOsUYM2I5RdKMZzCoAuiUJbesZd1vgFtetcKtCC3cVB+vYxYy8ay+bmq16YpeD7ZL6Ib3SdZCseC32HYor5spEdvClYtEDPR13o/e1op3TOcGJMSelepJco7+wqZXal5IWoFUJpd1fZaeYvybZ/ta8QxtjkqmkIST6v5YiWlpAFkuXLLPZjxrnjKj+P1qbL7kWQq9QkQYVR0ZYxuyjEW/B+AZIYQnAHgigOcQ0VPFb14E4AshhEcC+FkAPwUARPRYAC8A8JWo95n9hWanqq2K51ICJTw0LUXAXzRQ45aJRW/Uq8kmOuPgW5aX1XbA4IYO/9OgjFx5yUCPCYPMbYs+DSCmSrNzoXXX3ppwss/yHcVFRCae1f3iEzKlqcbrTAwlMRLPUi4Sw0FaCyVVqJ2LrRkBUYm0+K5DAtD6nI5J2xuon0fuDVpwYttnjbGTlSLQY0MSv4/n5pngmoWbWMdi7KRGke5ZlWJDErqRsF7+rDj8Ymx4sujGbDK/k4J4Qb3fpM/KIhJhMLnQc72zDSkq+lDLvbE/zT+59DwfwGuav98A4BuoXvqfD+B1IYS9EMJfAbgFwJP3peeOcN6xdCmB3OKTk8qq/dG2XVhWig2/8MxIC3e02rY7EHHoxsD48uSTbgBabACg8xa0bD/Loh9VhOmixsIt1z6xrIUlyfs81p7z3C4lHe9JWnRAV79HhebYJt7q+xUUSSsoqk/WjuYo+5xeV1GaVQonys1DYtsuI1fCLwF7Uz32A6TKK4FYRMKUprxijCYzegZOklfyfvW5MpmzOEpy3TwmIeNdFnTDx7MefGYlIST8osQVtAqzIQRMZnNzbFjzOz4PGfuJv50epKIHACIaENGNAG4HcF0I4Z3iJ1cC+DQAhBBmAL4I4IH8+0Zubb7TrvFiIjpNRKfPnDmz0k1IqVd83aWsj6cWkFReLWNjkU/m8UAwHAzGjmzLXUpNAeVMAqXPJg5rW4ta6r0N3eS7ExHZltWQ4Y6y9Gr8beINWBjuIo+FROtYpRNmSlO2XY7B4rUF8sJzwwQG0Sz6ZjHW+OoVs+i0Baapdb9Mn3lf+PFz01neVoEUpAIqUhWb5yy9EMmjt+IZmtIce2NDYaiZsTAJr/GFzYD9rCQvCYHW3+XwTIyFSRZZ+6yMchH8eagow0HTK0MI8xDCEwFcBeDJRPS4/e5ICOFVIYRTIYRTJ0+e3OhcCY9eWT2jJWLV0bCCU/H4dL5oS/fmtC+DusWCkyXoxoQU5jreLamM1gJjsQHqtgF7IrBZ4+w1dmixboDO8tICjLaFw59HyNoOqxpCUemETGnKPVLjubn3o3kSHUavtGUBxkQ5JZBRvjjV3gB33XWLTkIkQLd5jMX9jtfVEubiGLx3b97eQ97WYGwlRpGfN2AFveNvrCBwZxRJI4Ax0NQiX7pxwnMwMvosjw3M8meVwI0CxuyomcaCO5TPI+1TPKbG/iJ0M9MNDO5pbEOWUvRRQgh3AXgbarydy20ArgYAIhoCuD+AO/j3jVzVfLdVSXBWxeWMlQJnixSqqI+lrmzeNrW8vPKpw0xp2kHg0aBjv2jBurjiWxH9eK8edOO1jd6ChEGODFI2iM5wWKh99qxybrVpDJY4mXXXnVt8hgIyoJuxgG60hXypmvKz/FnF+50pyphvaq0959GgrnV/fpor6yQ4aSTMAcDZvdqi14KTHDLMy1jo0M2AeXQWqYEH40s8ep37n0N+RE2ui6Fw5Z4CGkTCn5XMXp4Y75fTmDWvrJsrITMwNKgqiSu1nkbIFhj5LLchRUVPRCeJ6LLm72MAngXgw+Jn1wJ4YfP3NwN4a6h3o74WwAsaVs4jADwKwLv2qe+mJDirEowdD+pBJHnUQGqlaAGoeNykV7KSsJnia4KTE0V5SQhFXjfizu3AF5BRfc2mrWkd2WyAmXHdGDSzGBv1c9Jx58iO8CycyCTRch08TnJsO5mnxdKALsCoTnQJcznKy9rC0IJuIqSgVRiNxyO7SWsLAPdN5kqfO+tYD04Pkrbq++ULvVBuqVWux7O0uZJUIM0MDGXccSNhWGHPgKri/ZmlJgbp5vA668aIDSXevs79twgTbVLUXJtnVXJMtpUYPmfsxOPbTJgaLvGbhwB4TcOWqQD8VgjhTUT0CgCnQwjXAng1gF8jolsA3ImaaYMQwoeI6LcA3ARgBuB7QgjzbdwIF56KrvOdGxhklgcBJWVQw+jPTecdQ2WYD8B43eGR9PFGeMayrOp2Ob876bOCaaY4rEyIShV51rZ1KZtJk7FB6piFtlnGUAzePBZSmRZOtsBkFk7j2nteyKK2rI8McqU5nQc1X6EI3SQ5GJJHnz5n9X45y0QjAcz0uIK0ytNCe52ytkgAAHB2olj0DFfWWCjeFob8uPaOpAerJ+px75dbuLZ3Gz/zvWoldFNfM0KGlsFUyBuYLYqxAQ9nV8uUzO2aQgCauaTAnKye0TakqOhDCO8H8CTl+5ezv88D+OdG+58A8BMb9HFliRgtgCwzsj1uTVZG+5rMNIyecPf5cjVHC35JKXLWIFJonS3urFkpQuFaHGyHDRC9FA1CiVAF/31y7qYGS744pRnIFuvGCpiXJlxcRI6MlMWJWdY+dKPDTRobZCzekWWFas+5PfdioY6r2K/WKi/AL9I6BoD79rS26diQz8MrYxB/a1mhHnTDx4aWkTsa1IH8CFWZwXhnYev6pYznmdW2SsgWVo0dnRIs378dJ5NtJXSTGVTDDkLbhhShm4tREh69YXlF1z636LpyAppFHweKWa/EKJhU94vSAajAL5pbyM+tK740SJgWHmOD02EDeFDWnokNpxaQbZXp7nfs12yRWzgxkUdTEhw79oKE+uJUUtZVAhlp3pEVk2ivqzzn7njIEpN4v6JVbr0jWelTazse5mPDLL3B4JfpQo8dTOe6FSrnWfKcuReikR7ahS2/3/jbGbfKq7TP8Zqy/DUvn6HHwuwSJ+1+06zyZbI4CU9CMu5in6yaQvy4BuvGZ7kN2U1FP0i50Cr/t4nKaxAJ0FEGM2+gsXD35ouk3nw8xuuCexgtkA7eMZuQMtmmbZsoEUvhptANz/bUGCydS9lYxxLvHsTApuaOdgNfTS6LwUlFOckKlDZFMr9u9zxyplDb57ldQ73usxUUpYZllHsh0uLTPRj9OQPRiLBYF6lVrsIvHO9WoKx793J6ZVLyV3mW46HYAEQ1bOp7yvIVJINFec7pApMrvnOKB9M9K24UpfMMAM5NrbZpTkJeYdRm5MmAuoSb4r3KYKykotbX1ebZQkUZxqxf25CdVPRJQHWhZ122E11ygzMFpLyQRY3/yrZ8E4+psDTqfsVBpAzegqUZLREtGMdxWAnd8OfRuZQaG0CnKo5jwSwt+JzQ0YzksrmB74vUfA0imxkso3htj8EynQU16J1sj6dCN1UCGSXwWmJJ6s95ZjxnAA21z6aEAtyizxV5uuFJbrWfVaAbXh67i9FIi36BxSKvZV+378aOFTAHtHhG86wM5sy4vd9524/k3M2zbPFuxSg6qwSf4/Ow8P/Iuombw2fGSSXLZ1jeoMToKTlW34O9sGl6p7foVxTunqnWMRu8WrAV0GuhxHPXFu5ccb941p2hRBZ6QE3CApo3EDm4sjzuUrCPiXf6C0xnHTt9NgKMbQKROmlSKzWjsVZiojsKWVOoHLoxt8ezFlQDo+X7Eczmi8Tai215wpQK3c3zekS8j9GitxJ5tGc5zmAQxaJnik+eO03y0ZWmXvIhrUCqxWD4Jj0e3KRRc62SzvGezrWLhD42PE9iHvM3VK/MV9baXBm0XpfO9mrfb3O/Gspw4AlTF5sMq6rZ1aaBFBy3UMOGgS56rrqyc92i57UwLE8iusF1P3IrRWPOxOu22LAoj8t3xpkuck8iBgF9NoBdN8aerDHgplvlkRLa3q9BCdVprMJ1t96DFthqrDbtfpfC941nFfsxM8dOatFbsSHN+BgKxadSBg0mybhtq8A+fEE1OPjc+lUV0DyWfMifM4A2eVBi5V2f7QX3rAnddM+S7+sKdOPorGEdj8QioREX4iY+mnFS6vPeNKfXxjIlEyMYH9+DCVUNDlHC1MUiCQ3OUNbthMtcqM4C0iYzD05ZwUetqBWAdptC3f1mUIYL3ejlAto+K3EHCd2oW9w50M3enAWfnUQtNW9gweIKWqawsaC2QVEL7x50Wail+9WPRxqrAkcYMEdsa5UxGIrFyc4U9qCbXBEkdZIWi2axysfOfS01U4dQrES90rOazG2lCDDLWii+drFWFK5U1nqF2XwnNqAzijrrWDNOeEA99yQjHKlDgjyulMNgHWSkGFTzhRobyBc2fbxvS3ZS0WfWosHR1i3naKU2ASgD/5vMcksynqsN5CoW/WzOC4CtB91YSiKWV8iSMao0SChT0bvranBEnDS1ZVUpytpUuMPKnuhikcgxWjuQG9vPFnmGYn1dO9kmfjZZN60y9oLA+rMai7ZqpvDCSPKSikCtQGmzfQALuuEQmQb71dsU7ikQSfwc2V7WuDunZPPGflilNzqcPfdg6n51iYmaUgS4daw/Z62iajLutKTGCAkqtfvjde8z+jzK3n9uUJkBZIYGbEN2U9HHpJjZItu0AuiSNSx6HYBEuXHhFr02OIHOk7CUiI4ddxBKTXMzFIyRcRv7rEIKAwEpKGyAiLNnJRDY7kUaTg5029Tlga0GFnAgow660TBLDlXkC0Hc6csqU2xBKBGHtYKi1t687XELuhFtvcU6UxKthZtj1u07MtLnW0tzL8esM0qoYv0CHqTQKVwtGFv3WW8bkw+tevS8rZq93noS1rPyWDcLtaJqUvvJggwXFsxVuG4bo1HiCtELabwuHU7uLfqVpB281uo5iKUIFMuZ1dE2KZINrU9TMEC3p6hmHVmlV+PEPz+bIwRNSTDoRlEwvM+6F+IXxJoa0M2ooBQBuwQCh8gAAfskcIQSFKuERS9hsIEdjO0s6wJ0Yyya9f3qVnlcRNTs5SY21BbT0lhXUVmbVvncfFYxoJobLrEEwiyn/LZjI5hjEujmilVVcaZw7ONvraQnz8KVC4wajF9YUGTEu3MPhl83PufkeTTPcs8wAlsvRLPKh6myVq/rbKQO2NBN7PO2ZCcVvQx8aFH5yIXOLOfmt+enOa4MdIGfc82kSo4159qbzutBZGG0Kr97CcsqutAKZAB0gVxrEHlJT+1eppp13Hg3VpKPXSeH2udc/163rDQqaveObIt+b7ZQKYFRkU+UBSY+Lxu6kQuMdW5baZ4vGBgz1YCIVvksg8iSbeo0Kiqz6K0FJGLW+YK6hAKa6R5dBt0Y8Nt0nhcPlHCTTjesLWtNGddt/axa1WIf+u9IZuTqTKECZKSM97GY31ZBvG3JTir6OOAsK2U8INOCbRWuaeHEVX2uTuS0rWYtGlu+ZcE4RfGZle+4IjDw7oWuNHl6/USpyNiVQLAnuhdQ5YE+baLHWIjKbnHZL5XDuqgt672ZHTSzYiGyTrpVmsEqagb4738y1wuEcYxeg0CArkCYteDeN5nl5AJWHltdnIapAsqD8WWY85ylcKvKfs4isGltauLdr8YyqvsR54pO2/WuW7+j7v1rrBtrceq8PRsiPet5Tr1Fv5rkq3auNEOoYRJtRQd8Cwdo3GSDsWO3jUoip4x1E113C3kRKIt14ym+GFcAdDbA1IR9KuwZQWC5mXKuJNK4ggopGFZqTM23E6YqM5AX33/n0eX31FlWulXmwT7Rk7BiFucU+KV+HtSOSS0GAzTK2jjWxgaM44uQ97dN628UkMYyAexxl8Ig+lzxjKJonFjK2lpgurpB2v360A2v9GrBPlZsgMdgYj+W7XO3KZFdAuGcWfKhr3WzsnSWhu1+18fnCt4pX4hhPe3NVSwcKGT7tYkaupKw6GadC61XXATshS0GpzysNGaSyrZHmLLW3E2vbTJZDS/ELvmQJq5obrIVFJPJR5ritAOIKbymwX62UpSKL7cWTXw3BhiVcSXrt2jxCu3vrs+dR6eVx/X63MYzHLZPO+6sxCVncdKKuMXP9uYw/lzh1FyrrWkEtm1zLzQfV4bnrBhyHAmw7renV64opQnHFbJWpthr271sDaOXK36O/5cokqYCiu6ogrOWFxibqhg3xNibzV28e6qwLnggV7UW2cKmLQJAl82rV3r0GSxayj//fG46yyZcfZxaZV206BRr0aT1FaAM7klY71CDdYC4WFtB71yh5G0bz8oI5J81vJDowaiQYJwr5j11sRLzHbXvQcfZLUIEv66mcK3qtJlBpTyP2Oe8lpX0fvRYmGbIRc/qrBkb6LKMtyE7qejbCefwewEDD20HkZEwM+wWAot14zEYYuDSXiT0QdRSQmd54HJQiclqQDca+yUet2Cf8bDGu3WYq7PKdeupUwTWRLfKFEcGi1ZzJp7bq3wI6HGU7H4VRcATtTTIwV6M/eDkaNBN9JwE0P1WPov4nRUbGA4qxMej3S8PTlqLtQU31gubjUl7bWOcRQu2Z9d16gZZuS7W+2/jLFqVUGHIaW2jRV/yQvJz27X7Y3trYeP70W5DioqeiK4morcR0U1E9CEieonym39LRDc2/z5IRHMiekBz7JNE9IHm2Olt3ISU+BDPO6t2FNuyzrMM5bmswJbl2ncTrgzdaIoxhNry1nDYEZ+QBv6nZeTWv+8gBS/wZSm2LlPYWFCnOUTG4Qi9PK6Ms+T98gpEdX1WLFwH9pFVE7X3ZHO/fRhkOCDMjTo4Wk31pG3VMTq0hSC20RV9Z2BYENo508OpmBWqx4YsGjOH7jLjo5BlyvH9EnRjzTPNCy1VvuSsGysorm0OE+/BKpYX78kKIHNm1TZkmR2mZgB+MITwHiK6FMANRHRdCOGm+IMQwk8D+GkAIKJ/AuD7Qwh3snN8fQjh8/vZcU+kZW0pIEAbYML9NvB9QLFwsgQS3bWzimnx61rW89nJHCeO5K9tWFW2OypwR23hM/HudlOLGY6PB+J+4+A0WDdMichrxvaT2aLOGzAV0DzL5ozHtRR3/vncdFa06C1Y4PzMtnDPGguqNDAsBaUfy7Fg2XbiWIvjBmKRyiceizuIWZRQTwFFNEEbVwDj0asUWbuyaX1dvYxBVzco4Ni4BN0o113o+010cJMFGdmJibGejRVXqPs8U68bf2/HFaLRdEAWfQjhMyGE9zR/3wPgZgBXOk2+BcBr96d760mGsysudPu3ccx07ZL61ELxyfodCqY5NWGO6BbaUfnYL30QUddno9iaFdisB6DunvOSsJZyms51PjtvK88L1IPdDlyy+1XdYM8rs72QeNyCyCR0py30XiA3Xpffg9bP7B0pNYRkWythip9PLj71PUWqqm0dm/Eshc/ftS1h9B0103oWLid97pcp8YLxtUHl4fte+Wudgx+v7WH0k0guMBW9wRTaskVfVPRciOga1NsKvtM4fhzAcwD8Dvs6APgjIrqBiF68Zj9XkrzYkjPhjMlqLxJlb8DMFGRFzby4gdavMVtEdDjCpgx2pQjyglixrccGAGqLXk6aQYZ32gpXTnSgVoRm4JopIFWxccVosZ/2jLYJVu4v9JrFF+vCWAHV2FZ6IamBkR6rKmqfkfZ+W8WnLKi8jQn7zA22lwioul6IUXHTMopqT1KvMDoWY0Mbk11pjYI34EBGFo317NRe6KMnocdKPJiTLWzqYkwsEVPXO9tKmloGugEAENElqBX4S0MIdxs/+ycA/lzANk8PIdxGRA8CcB0RfTiE8KfK+V8M4MUA8LCHPWzpG9BkLBSupcyBXFm37rdDN4uSb0ot8H1V4ep1UiL7xYKMOKNDDuzYzxLrRnPdYz/NwBZbYOSk6WIDtuvu9Xk0qIoL6vmpvkhoG290x7rJrNMNGRxhuPZ2bIB7dPbiJPMG6nMvYbUvbC9k2hTqshZ677xRAV0iYL+8boz+LLVzL+M5t7CesejNFwFHR8o7YjEJjVzg9ZkXLbTic64XYsQG4rW9Egit16WNWUfvcO94G7KURU9EI9RK/jdCCG90fvoCCNgmhHBb8//tAH4XwJO1hiGEV4UQToUQTp08eXKZbpkig0TSskrhF38QWcfl31pbC3c+P9Wx1JT9Yrmrs8yyitfqAsh5v8psAP9+60QebUIuxyu3rFQ7qa2bkNZ1o1gYvWXRa8XkuusKb9DhrFtKpF6c8j5zq1Z//5T9rrsWT7azz22ybtrdx6Tx4XuS/HPG2BlKgypf+KwdtWIwnvch7XNTN0hh7EijSCtFYtEcR1X6fjMvperYPnosxIFIBzYFNh7X/uafD0zRU22WvBrAzSGEn3F+d38AXwvg99h3J5oALojoBIBvBPDBTTtdkjywaVvlJezQYlYANt3MTAkvKGuO4WV7SjbX0rIf43Ev+Gxl1cbjcb9RjV4JQC20Fq91bpqXdIjnre/XVtalUhMmdMMta+M9WIuTF/gsZU4mjC3H0lQXtiTLUlmAXGXdJS55i5c0EOrr2tmtHV1YD06OnWdVrF45qJpciBxuqr3B5n7VAHK3aFrP4z4LuomWtcbmimwfR1lbzDj5ez27VafA8msD+eIWf78teuUy0M3TAHwHgA8Q0Y3Ndz8C4GEAEEL4xea7fwrgj0II97G2Dwbwu40LOwTwmyGEP9yHfrvSBsUMl1Lb2b09VoJuhp6CSQe+aWlO5rj8+Djrt0f702rXp8e9tixjz1B8pSxTfn9pWy8JKC58M92V9WAfDlUZXoj2N+/n+al+v9qOQ9l1pz7dFNCsQd8L8frMv7PgNYuKmrbV32/cMa0UQLYUEOC9XzuQGxeY+x3NVU3NBsoDtfxaZ5Xsdd423l/atoFflPpMLVPIDJg3dbCWsMqtevQWRr8MZBzvab+lqOhDCO8AkPc6/92vAvhV8d0nADxhzb6tLRmPPnM5uWUlXlbm2jkT3VHk9XV1C+i8aaVWjhfiW4PDpK20YqoWo7eURIkNwO8vvS61SjG36Dh0oyvczhuwLXrrfnn/5f10fV4NupFFvqwEI/5beV37/drjjn9nBVSt4nL83Oo7qmwFlGVzG/ck+w/kRpH2/q2iZvx81v0CPsus/duqTqqyjFJYV+tzlwBox0K8th4Ftrs/vV8HljB1MQoPivHPUTx8N0sJN0oCAw50E91gIziplV6I7bVdgup+lKzBbkN0LQg8cSyN0aBCHF/WPdX9t2IDdpYhALXud92WTM+Js580JeFBCuMlnpV1XGZO5u+w+2zBfucMjH7oKE3+nTU24hZ3VmAb0GGQ0bDqqoQWSiBk9+QGY9N5pm/SrRc1AzhUZSvUEIyYRXN8IEo6x36FUO/tWoyjKeMubpaiQqTO2Kn3jF2oNYUA+ASC5lyHgl55sUjOBnAw+uxFy7b6xACWWCQsa8J07alVuFYQSTvG+61dN06KvanlJm+mNG2mUNmCNdu2z8p37QHFDWa/L0E31rM6N80LU8nf+x6Mbw168Iu1GLcbrSjPI74n9bxVt7+utlUk4HHSnUVRWMfWrkkanZifz2KRtX9r9xvbOoyss0ol0Ix1Y+XROEwx+Vt+7lmsR6Ut9FXXZ4uR1Sv6FaS8iYc9eCVl0AvkrhyMZbEDL40dsIOEQO6qyramFWO4wWNHaS6TsWkGgZ3AFRBhH/85ezCX9rf8rEE3S8ERBjbsvv+qs0I9qELrM/9Oh7n45vD2O/Q4+Fphsi6eMc82B5F9KSWXqZz0dr8Bu89FKqLzLPWFzfYG5V4V1j2dn+Z0Yt4XWfAsHpsvAvYKC71Opqh/f2CZsRejSB69x4W3ME2vMJnVNoOMsoJo9ee5UmxJXsuyNLVj8jszq3YyW3mBOaJsUi37ZS6o3AsxSiBYz5l7Vnowli1ABlPIuq5rpTJFUMrIzWEO3wotwWA+Zt1lN6++SDT772q1X1qL3i4Xof1d9ynF6NXqpcZGK/x8VtZ09zvbo7MKwNX9yiGjqiIMGHFh5XG3BNxk02vJ7nObMNVb9EuL5NGvUtQsHu+UtY3RSzx0kA2iHCvX+tCd2z4+LigJ755KgS2/yFvZsjJZF0P/focD6pgTRjxjrtQckX1xmTEOvit/y/t5dolF0Yv9eAFGrc+8jab4auZMDDBqcIWt6EcxM1ar/dKcy6LtLjM27JIA1Jaw1vvcKL7CorjqwpYsqEZGtsX95wmC3hz18iDOTub6uKs6b8Dqc2/RryB5WrejrI3J3FG3dFdXnodf2+bRFxSBB0c4gZz6ul7bbvCW2ABeMNZSXlaN7aLnlCxe9nPW8c4ydgzkC4j8ve39rE6RHDkLNSChLM3is63FWHpBKwDH21iBy5ixmQfq/bngGRgx6aneH1nHnUNoEgSdZ1mCubxgfCnYbuHs7eJkZaBPdcJEPO7dz7nJ3B13Xp97jH4FiUX+TVjAUTCAP2F5Rp+WnDIe2FvclTwJD8MtWYtjL6LPuMOrWqnjAs4ecUnvuoCh+BwPR9tvU+tzGVe2lQSQW2Ycfiu/I2chN6Aq67r82pZVbtXfAXyMfjSoWVcaRh+hDNl/2Sd+De2ePC/TTnqzLdyUGWdDNyWjR8fZbdID57P7xeNsw8WKwXnQTXwW29plaicVPYCGw2tvWhGlNMj0YG182Wn1SqAeCAujjsoyngSgK6/Uslqtzy0cYVAVE9bNihZ96ibbXohON+SWt2OVb+K6O0pCu25K6yzh7LJtGarqzrMaRj8a2GUqeBur7Xkje5n3u+T9ePdUimeo9MrWovef1aoc/NGwMFeW9Mq8hV73furv5soucIAP3cT7nc566GYl8aL2KYZrTzhAx/i6dPOCN2BkTgK+9aQeS9KnV8PoOyzVZxLI/gNpMHZVDNfbpKVuayuR5Jhzv9qkGTArdd3A9XmDirpsbKBIzXOYU3ZimmPRe+UTnKA3v55aisBJLqzPbVupiVfmLASrZj7z79TnXKL1Vt4cLXmD/nOWv9P7bI+raW/RrybxYWqbVhRx5+Y7rW3dxl7V3WBdcfDayqtY+bCyvYF43jrdXJvMtgLylGLeL9sLKU24DAYpTFZvseXn8yxna0MTt88FWC+eTreOqfudY0CUIDJvEdEVTLezlbdoFoOijkIu0klVgyq+Q9vLkOfJ2pY8tkKsxC0l7Vy36Ek4/H5v4ZpuqQTCDiv65oUogzOdkI4bXOVcWX5u3aK3F4llg4QeBmsdbxkMhUXCS7YaDXIFVLKOxwmzRi5sy3kwso/ZMQ8yUM7Lv3dhH+X9luCXIqNjCatNUyDJcaN6Zfs7dZFonoemNB1oLu1XwbJ2zl2CfdQFqOlLOYvY8QZKC4zjhYwGfinplTOQSx57G8+wPeO+BMKK4uF/9ffxhdmWl9W2tSY9DM/JjKuvu+KEK7rQTp+K2a32devvbaXq7qGbWIOrQjfcvfYmnP+O/PstKXK/rWYExPtcFVcGfItv2TyK0jvy76mg6J1zl2isHgS6KjEh7XPhHW5glXvzcFUIlB/36i9NetbNauK5o0AJa/PbelQ21yovKOuRYx2VN61woIqCG+zhu0A569LqV5nmxixN2baA75eU5tB7Hq31a1tWWp/S81rKOnoLqykYgClNp8+yj9l1V4Sb+PEivdKBo7xjvH/LXncTZb1M6Q2zz0XPybluaXFq8wbsPm9rh6ndVfQO3AD4E3ZYmJAdtri+ZeXif6Ugr4NLrlqWt+6XvXDx773YAD9PlEhzlf3vfm/3a1hUTrYHw4/7E923YH0ao6+svfdgQTelgKrWR/ldOeN6tbHTeRm6B+PNlaTPLr7vLxKu51y0yleD/crUa/t+i/Cq4/1E2nafGbuieIOIH/esmPXwX0exLe2O5sdiDR7AmDRRWZfcYMfStJSm62JzL8WxkFe1NEvQjZe4wvvsBy5LlrP3jnxvbx0vxFde/Hms5pWV4Rdv7NiLYnK8NN6dYGwZbvLa2grV6vfSfd4E9vGS2pTzEhFGVb25+DZkZxV9B90YA9Sx+Nu21mQeViDyB2DRWlzRDebn9AdgyQ22B6ipvIbOxNjAanN59EtCNzbrpqzMvTT1ug+rWYOl4/GeSl6Il5hk9Xu8xAID6ONy7L5f+7z8+1I9onW2P2zP40KkhbaOgWHVX1qmbYkp5MFr9qJJB2fRE9HVRPQ2IrqJiD5ERC9RfvN1RPRFIrqx+fdyduw5RPQRIrqFiH54v2/Aks6FLigvBw+3rcU6aUoNxrnuaHc+D/YpUQY9WKDIbnEw/LLSXM0q521KwWnZtmLMqLUsa4eF5GK0S95PyVP0EsTW8RS9RTFpW1q8HGWu9Tl6kjZUtRw05ytcf6741nHJg/Hm9+pe9yaekwfd1NeutlYCYZmtBGcAfjCE8J5m/9cbiOi6EMJN4nd/FkJ4Lv+CiAYAfh7AswDcCuDdRHSt0nbfpWwdk1pqdJm2o0GFIxtOVo9SZgaQ3cp5ZQ8FWD2rkrcpYpoeR7toaeqTfW+Wbw7Nz7cevGYfI6rppFZ2Y+lZjZbwukpsrlWTy/i5vQCyPE/W1mAwjQaV48Es58GuCoMkAVUH9ikGgb2Ffg3DZZlaN/I87Xcx3uGQPKYHRa8MIXwmhPCe5u97ANwM4Molz/9kALeEED4RQpgAeB2A56/b2VWkOCEHlWkNLhOMLVrdakTfHwheoab6nOWJsRZmWWDdeNANt6w9D8dbJLSCWLyNl81ZDsauDvt4JQG8lH9+fFWmCO9XiaOt3dNjH3o/fOVD74erLz9untdquwwOb3swTp+Xjkn5C5s3doq0zhWNosTrdhaCYsxpRRpr/P5QJEwR0TUAngTgncrhryGi9xHRm4noK5vvrgTwafabW2EsEkT0YiI6TUSnz5w5s0q3VPESV4A4eAsTzmlbsiTXww5LCtdR5p5LWSgX7AVyAbTei7V7kdtnbzI76fP8e49ltI4X4lmDaZ/tBcbi73sWbkzUMxenJQpmWf36spOX4Pe/7+/j/sdHedulqbmOYVMyPgp5Et6z9Bby+tzacXsxLjF23IJohUWi28nLh5s8b8Ab7weeMEVElwD4HQAvDSHcLQ6/B8DDQwhPAPBfAPyPVTsSQnhVCOFUCOHUyZMnV22eycjBHQG4uKOXwRbblvBsT7Hx3yXHnba8jRdEKmOljttv3dMSiTylnAPXwrGs48o+7lmSyfF1FlQnFlKyfr2gaDyntUj4cJNvLXpSgsiKtM8BFS16L5BrnXtZuHFVxk5aNdV+lkUe/Ypjp+QNjJ15FL8/0IQpIhqhVvK/EUJ4ozweQrg7hHBv8/cfABgR0RUAbgNwNfvpVc13WxcvYaY+XqmrMm9rKa+/98gr8IzHPEg95r1MTpHUA322ggHgBnOWpTHqFn9potuWSDFxaYkytusoEQ+T5se9PpvQjWvx+d6Px6OP7axndb+jdcjskqN56KyE/3pSChIW6cRDB6N37rcYnPTq7yeFxxwDo+g521BmubKls8AUku3WIhBU1dZYN8VgLNXg6asB3BxC+BnjN18C4HMhhEBET0a9gNwB4C4AjyKiR6BW8C8A8K371HdXPBcaaCZc0SrXj3/HUx9uXrcEC9RbwvmbWtiuvYcdL2dpeNX+SvCLtdGK29bdtNpXikNn4VsmgGj2ueSFON5gN9HXMxKGAzLH5DO/4sF4w7/6Glx52bG8XaGOiidlvLu04HrB2HI8wzq35x3FZLuZse3muF1wfQjFu98S68ajjJbnme1Ze9DstjJjl2HdPA3AdwD4ABHd2Hz3IwAeBgAhhF8E8M0AvpuIZgDOAXhBCCEAmBHRvwbwFgADAL8SQvjQ/t6CLqMl8N8S3LCq5QSUX+ZwQMB0deyQn9PfcccfvCqmGZXxOpmxTqCWX8+zvEwWQmUr5JhJWIRfVkxj531dN3DpnbsO5Nte5qlrHuCe1+qXJ6UtLJfxjtYZkxxC8erR2153rejdRaKkcFfNdVmyTHEp2U6NKxSgm2G1PeimqOhDCO8A4I6sEMJ/BfBfjWN/AOAP1urdBlIK1j3gxBhn9+Zu21UtJwCMv12aGPZAKUI3bqDHH7yrlrjl37tp3WtAKKXnXLKOR1U5KO7WWDGhG/sdxoCqPVkL77+yY0OelAL5flumvBwr1aZ9rsejT0kAHpRhj/fz0Lch9OZ3NAKCsQ/u8tnrtlFUsuhXTWoE6nl2kBb9RSklLvz//dyvNFfPkTN4S9IqRScIXP/vWTgF6MaxjjVlHbeLszbaLsEvy2QwelYZYCiYktdVWET+1dd+KZ7+KD1w3xUX0xUBv37er7LVXsoitgLM3/SkK/HoL7lUPeZJqSSA27YAoQwL9/v1j3kQjo3y3dTq8zljY8ns5hLryg/k2gbVZLb6IrFsQbRSW69cuOftT7ZEr9xhRe8/VI2GFqWE7y933ZLy8nD2gjewYu2P2KZW9JpL6UM37uAuPCuPjujtGVBfz1cEP/CNj1a/L12XiNygaLtoWlCW07a0eP3Qcx5j9tmTNJFntXFZ3Lt34L//lz7zy4v9KpVA8IOx9rizciyKRlFFmECfDx7sEwkT07kFGdneIG+r5sk42drx+/smOsqwqayuyS4SKXFWPSktEu51S/DLEuwYD8Ozd73yYZDlFgm7bWVct0Qn9PDQUhBwswXXVkDxeCkY7wZUS31eY+x4ws9nQWx2266vXhLQqp5C3aZsuNTH8+seGdhtY5tyHMU/7pIPCjWlvLhCKTPeC+RbbL/xgA5HwtTFJKWJvkzbTaCbUtbtOnVUxkNydr2yoRveH8/ltJgkVz/gGK68PGeC1G3L7ii/ftKnEutmAwitFHd44CVHcMWJsdHWX6wvPz7GZcf8tpYSWVdKqfl+W27RrwZHLNuvdXj0kUZ6yRHdu/YW1JK3txTrqgAZac/qxBGbAgv4Y/b4eJicI29bYbalPWN3FropYcdu24L77Uk7aQqsDG8AeuwHO8i3wQLjUCAB4IVfcw2+7Sk6pbRklXvZj0XWzQbWcYkG+Ybv/hpcaimYwrN8zf/xZNzvqN52kz57UmKS+G3ZIuHWDVpjrrjQjW/Rf9WV98dvftdT8HevuVw/d1OPSpNyCQx7XBZJD45H99DLjuH1L34qvvrhep+9eNbJS4/gN7/rKWbb0bDCtA/GriabQDf7gdGXLRHPhbahm5LlbDN2PMjInzRVRRivUS6A92ujYNwa1nFbetd4lg+69KjZ1lNeAHD1A/J6Mm3bDcadJ3zXM82jc9sWFO5GUKWzKJbYL0SEv/fIK8xze4bN0la5B1U6BQ8BO2bxlC99oNnn0vt377eirVWv7KEbp631opdpuxYdrWCFHhtXODpaHZqpz2lPyFIw1pNl8H1A93CKsE8B2vH7tTnss55HFxen7Vj0a/WpGXNWnKVk4fr9KlvHVlypJMOBU6akNN4HNTPKgznXsehL4jHjim0HPb1yZSkxWDzZ6EUXA3m24ivBPv/yH3wZnvv4h7rXNcs6ONmelxwZ4j9+0+PwDV+hl3XwpMh1dxRUue36ENo3fMWDcdfZKe5/zGZXWbJJbKAEZa0rXomLclt/wSwxtpY5t89CWm/R8zzYRz7oEnzdo0/i8Vfd37hutUFSW4xZraGsnSS/kpy89AgefH/b09xEdlfROxmZxbb7gA17rJtBRagcy8qacFc/4LgJGyw7mS0F9O1OWQdPyglTtoLy8Hv+/TrW8ZedvGQDKuMmwcn123pS8n7ctgUIrKSsPSnSegcVgPXgiPHAzle49OgIv/q/P9lsW3sDvgFRimetM+46r3z1tv/m2Y/Gv3m2TRneRHZW0XcY7fqu7jrY8DKJHCUq4nqWRNmVBVan5pVkmeJxVr+KwecNguKbyGaw3/rW8XJ9Wmc8F4yAaoNzL0FjJVrToh/YdYHK/VqiEJsZC9sA9mvrUR0uVHxnFX3pZbptN7HoC0kgw6oyB8HJS4/gKY94AJ5w1WUrX/f+x0d49IMvxWOMrMsSLrmulDyYhz/gOB56/6MqRrtsPfr9Vpol2QT28yCy/enT/seNNjEwijXWqwrAerjz5SfGa2H7QH3PpfstUTPXiitsKRi/qeyuot8AK90okFd40V6iztHRAK//l1+z8jUB4MhwgLd8/z8o92tL/G7rWf1vf/dq/ItTV6vHvOQSYDP20yaySXByk0VimT6tc95BwUL1ylSUZJkSGOsOuf/4/MdhHtZbJIbVErtiOX22thktSVcCpVf0F0T2g3WxkfXkKK+DGASbsAE8KVmaRDXFTm9bgLkOCLrxdk0qSWlPgXWlBL94ElPzS7kO682VEnRTYVGtb9GvK6OhsytWwYAYOYtESWJsYJ1FYpuys4p+I+hmk4SpQtney46N1mKCbCqlJKB1pbSTl9+24PZvKbBZkk1grlKt+3WlaqpmrnteDzLcBKosjavRgLAlargro6qcVetZ9Os+57o+z+HC54EdVvSbWPSbRN1LTJIfeNaX457zs5XPu6lsAkd4shGevYQ1WB+/0MHY9XHWr3/0g/DdX/dl6uYhm8rQCTCW29qY9ZMedhme+/iHrFVVc5n6TBVthxvuyXOf8BCcuWdPPbZM7sc6OSV1W3uBOUhZZoepqwH8dwAPRh1VeVUI4efEb74NwL9DXbf+HgDfHUJ4X3Psk813cwCzEMKp/bwBSzZJtiltAO1JKevu8hPjjVzSdWXbbJCNaH8Fy2u/F6eStJmRa1z3S+5/FP9uTVpnSepa9htYmkbbKy45gv/6rV+91nlL82w0ICzChVd8//RJV5nHStTr0ZbYPgcpy1j0MwA/GEJ4DxFdCuAGIrouhHAT+81fAfjaEMIXiOgfAngVgKew418fQvj8/nW7LKVknOXarq+8LrRyKsm2ApubZWz6SmJbcFNJNrmnbcpwUK09roYVbWVMLsPRD2sGVLclRe5/ZW/gXpKhQ58+SFlmh6nPAPhM8/c9RHQzgCsB3MR+8xesyfWoNwE/UCnVq/bkkQ+6BN/19EfgaU5dCkuuvvw4/tlXX4WnPOIBK7fdpmyymYon40GFx3zJpfjyB6/u9lcV4VEPugRfesUJ9fjDHngMJy89giNDfdOLbckmPPptyshJAiq3rfa9oiZQewNAXQ1Uk5OXHEFYk165Lbn8xBhEwANP6H2+4tIxrrhHP1aSB54Y4/LjF95jL8lKGD0RXQPgSQDe6fzsRQDezD4HAH9ERAHAL4UQXmWc+8UAXgwAD3vYw1bpliqlokeejAYV/v1zH7vWdcfDCv/vv3jCWm23KaOBvYnDJlJVhD98qU3rLMl1P/C15rFveuKVeP4TrlSziLcp26JIbiqbBPq2hR0/7sr7489/+BlmTOKn//nj9/2am8qVlx3Dn/7br8dVRuntl/3Dr1h7p6cf/MYvx9ktbR6yiSyt6InoEgC/A+ClIYS7jd98PWpF/3T29dNDCLcR0YMAXEdEHw4h/Kls2ywArwKAU6dObWwCbAK/7KJ4tb0Pq3jUzG3KJuUztileQLXcdnvYsRd4vtQo53zQ4lUgPXFkCMPYL8qlR0eH8p6XevNENEKt5H8jhPBG4zePB/DLAJ4fQrgjfh9CuK35/3YAvwvALlCxj3LlZcdwv6NDXHOF/UL/NsklR4a4xNjwoJdUjjiVPg9SvPIZy7U9XAtXLxdOlmHdEIBXA7g5hPAzxm8eBuCNAL4jhPBR9v0JAFWD7Z8A8I0AXrEvPS/Ig+93FO//sWdfiEtdFPJdf/9L8Y++6iEH3Y2LQp79uC/BbBFw0sCdD0q+7xmPwslL1+vT9z3jkbjfAeRv9HI4hEoRcSJ6OoA/A/ABdGXofgTAwwAghPCLRPTLAP4ZgL9ujs9CCKeI6EtRW/FAvaj8ZgjhJ0qdOnXqVDh9+vSq99JLL7308rdWiOgGi76+DOvmHaj58d5vvgvAdynffwLA4YtM9tJLL738LZIetOull1562XHpFX0vvfTSy45Lr+h76aWXXnZcekXfSy+99LLj0iv6XnrppZcdl17R99JLL73suPSKvpdeeullx6WYMHUQQkRn0CVfrSpXALigJZGXkMPYJ6Dv1ypyGPsEHM5+HcY+AYezX/vZp4eHEE5qBw6lot9EiOj0hdrcZFk5jH0C+n6tIoexT8Dh7Ndh7BNwOPt1ofrUQze99NJLLzsuvaLvpZdeetlx2UVFr25scsByGPsE9P1aRQ5jn4DD2a/D2CfgcPbrgvRp5zD6XnrppZdeUtlFi76XXnrppRcmvaLvpZdeetlx2RlFT0TPIaKPENEtRPTDB9iPXyGi24nog+y7BxDRdUT0seb/yy9wn64morcR0U1E9CEieskh6ddRInoXEb2v6dePN98/goje2bzL1xPR+EL2q+nDgIjeS0RvOkR9+iQRfYCIbiSi0813B/oOmz5cRkRvIKIPE9HNRPQ1B9kvInp084ziv7uJ6KWH5Fl9fzPWP0hEr23mwNbH1k4oeiIaAPh5AP8QwGMBfAsRPfaAuvOrAJ4jvvthAH8SQngUgD9pPl9ImQH4wRDCYwE8FcD3NM/noPu1B+AZIYQnAHgigOcQ0VMB/BSAnw0hPBLAF1BvOH+h5SUAbmafD0OfAODrQwhPZNzrg36HAPBzAP4whPAY1BsN3XyQ/QohfKR5Rk8E8HcAnEW9092BPisiuhLA9wE4FUJ4HIABgBfgQoytEMJF/w/A1wB4C/v8MgAvO8D+XAPgg+zzRwA8pPn7IQA+csDP6/cAPOsw9QvAcQDvAfAU1JmCQ+3dXqC+XIVaETwDwJtQ77B2oH1qrvtJAFeI7w70HQK4P4C/QkPsOCz9Yv34RgB/fhj6BOBKAJ8G8ADUu/u9CcCzL8TY2gmLHt0DjHJr891hkQeHED7T/P1ZAA8+qI4Q0TUAngTgnYehXw1EciOA2wFcB+DjAO4KIcyanxzEu3wlgB9Ct0fyAw9BnwAgAPgjIrqBiF7cfHfQ7/ARAM4A+G8N1PXLRHTiEPQrygsAvLb5+0D7FEK4DcB/BvApAJ8B8EUAN+ACjK1dUfQXjYR62T4QTisRXQLgdwC8NIRw92HoVwhhHmoX+yoATwbwmAvdBy5E9FwAt4cQbjjIfhjy9BDCV6OGKL+HiP4BP3hA73AI4KsB/H8hhCcBuA8CEjmosdVg3c8D8Nvy2EH0qYkJPB/14vhQACeQw7xbkV1R9LcBuJp9vqr57rDI54joIQDQ/H/7he4AEY1QK/nfCCG88bD0K0oI4S4Ab0Ptul5GRHHj+gv9Lp8G4HlE9EkAr0MN3/zcAfcJQGsRIoRwO2rM+ck4+Hd4K4BbQwjvbD6/AbXiP+h+AfWC+J4Qwueazwfdp2cC+KsQwpkQwhTAG1GPt62PrV1R9O8G8Kgmej1G7a5de8B94nItgBc2f78QNUZ+wYSICMCrAdwcQviZQ9Svk0R0WfP3MdRxg5tRK/xvPoh+hRBeFkK4KoRwDepx9NYQwrcdZJ8AgIhOENGl8W/U2PMHccDvMITwWQCfJqJHN199A4CbDrpfjXwLOtgGOPg+fQrAU4noeDMn47Pa/tg6iADJlgId/wjAR1FjvD96gP14LWr8bYra2nkRaoz3TwB8DMAfA3jABe7T01G7qe8HcGPz7x8dgn49HsB7m359EMDLm++/FMC7ANyC2u0+ckDv8usAvOkw9Km5/vuafx+KY/yg32HThycCON28x/8B4PKD7hdqWOQOAPdn3x2GZ/XjAD7cjPdfA3DkQoytvgRCL7300suOy65AN7300ksvvRjSK/peeumllx2XXtH30ksvvey49Iq+l1566WXHpVf0vfTSSy87Lr2i76WXXnrZcekVfS+99NLLjsv/DwW2+lpeJvQZAAAAAElFTkSuQmCC",
            "text/plain": [
              "<Figure size 432x288 with 1 Axes>"
            ]
          },
          "metadata": {
            "needs_background": "light"
          },
          "output_type": "display_data"
        },
        {
          "data": {
            "image/png": "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",
            "text/plain": [
              "<Figure size 432x288 with 1 Axes>"
            ]
          },
          "metadata": {
            "needs_background": "light"
          },
          "output_type": "display_data"
        },
        {
          "data": {
            "image/png": "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",
            "text/plain": [
              "<Figure size 432x288 with 1 Axes>"
            ]
          },
          "metadata": {
            "needs_background": "light"
          },
          "output_type": "display_data"
        },
        {
          "name": "stderr",
          "output_type": "stream",
          "text": [
            "100%|██████████| 170/170 [00:22<00:00,  7.66it/s]\n",
            "100%|██████████| 170/170 [00:01<00:00, 152.60it/s]\n",
            "100%|██████████| 200/200 [00:39<00:00,  5.07it/s]\n",
            "100%|██████████| 169/169 [00:31<00:00,  5.34it/s]\n",
            "  4%|▎         | 6/170 [00:00<00:21,  7.55it/s]\n"
          ]
        },
        {
          "ename": "KeyboardInterrupt",
          "evalue": "ignored",
          "output_type": "error",
          "traceback": [
            "\u001b[0;31m---------------------------------------------------------------------------\u001b[0m",
            "\u001b[0;31mKeyboardInterrupt\u001b[0m                         Traceback (most recent call last)",
            "\u001b[0;32m<ipython-input-36-2fd32418f010>\u001b[0m in \u001b[0;36m<module>\u001b[0;34m\u001b[0m\n\u001b[1;32m    128\u001b[0m \u001b[0;34m\u001b[0m\u001b[0m\n\u001b[1;32m    129\u001b[0m         \u001b[0;31m# get the ndcg values\u001b[0m\u001b[0;34m\u001b[0m\u001b[0;34m\u001b[0m\u001b[0m\n\u001b[0;32m--> 130\u001b[0;31m         \u001b[0mmean_ndcg_train\u001b[0m \u001b[0;34m=\u001b[0m \u001b[0mget_train_ndcg\u001b[0m\u001b[0;34m(\u001b[0m\u001b[0mvalidation_users_total\u001b[0m\u001b[0;34m,\u001b[0m \u001b[0mmodel\u001b[0m\u001b[0;34m,\u001b[0m \u001b[0mtrain_edges\u001b[0m\u001b[0;34m,\u001b[0m \u001b[0mtrain_df\u001b[0m\u001b[0;34m,\u001b[0m \u001b[0mid_to_user\u001b[0m\u001b[0;34m,\u001b[0m \u001b[0mid_to_movie\u001b[0m\u001b[0;34m)\u001b[0m\u001b[0;34m\u001b[0m\u001b[0;34m\u001b[0m\u001b[0m\n\u001b[0m\u001b[1;32m    131\u001b[0m         \u001b[0mmean_ndcg_test\u001b[0m \u001b[0;34m=\u001b[0m \u001b[0mget_test_ndcg\u001b[0m\u001b[0;34m(\u001b[0m\u001b[0mvalidation_users_total\u001b[0m\u001b[0;34m,\u001b[0m \u001b[0mmodel\u001b[0m\u001b[0;34m,\u001b[0m \u001b[0mvalidation_edges\u001b[0m\u001b[0;34m,\u001b[0m \u001b[0mvalidation_df\u001b[0m\u001b[0;34m,\u001b[0m \u001b[0mid_to_user\u001b[0m\u001b[0;34m,\u001b[0m \u001b[0mid_to_movie\u001b[0m\u001b[0;34m)\u001b[0m\u001b[0;34m\u001b[0m\u001b[0;34m\u001b[0m\u001b[0m\n\u001b[1;32m    132\u001b[0m \u001b[0;34m\u001b[0m\u001b[0m\n",
            "\u001b[0;32m<ipython-input-22-4225ee07d9d2>\u001b[0m in \u001b[0;36mget_train_ndcg\u001b[0;34m(train_users_total, model, train_edges, train_df, id_to_user, id_to_movie)\u001b[0m\n\u001b[1;32m     45\u001b[0m         \u001b[0;32mfor\u001b[0m \u001b[0medge\u001b[0m \u001b[0;32min\u001b[0m \u001b[0medges_sorted\u001b[0m\u001b[0;34m:\u001b[0m\u001b[0;34m\u001b[0m\u001b[0;34m\u001b[0m\u001b[0m\n\u001b[1;32m     46\u001b[0m             \u001b[0mmovie_id\u001b[0m \u001b[0;34m=\u001b[0m \u001b[0mid_to_movie\u001b[0m\u001b[0;34m[\u001b[0m\u001b[0mint\u001b[0m\u001b[0;34m(\u001b[0m\u001b[0medge\u001b[0m\u001b[0;34m)\u001b[0m\u001b[0;34m]\u001b[0m\u001b[0;34m\u001b[0m\u001b[0;34m\u001b[0m\u001b[0m\n\u001b[0;32m---> 47\u001b[0;31m             \u001b[0;32mif\u001b[0m \u001b[0;34m(\u001b[0m\u001b[0mmovie_id\u001b[0m \u001b[0;32min\u001b[0m \u001b[0mrelevant_reviews\u001b[0m\u001b[0;34m[\u001b[0m\u001b[0;34m'movie_id'\u001b[0m\u001b[0;34m]\u001b[0m\u001b[0;34m.\u001b[0m\u001b[0mvalues\u001b[0m\u001b[0;34m)\u001b[0m\u001b[0;34m:\u001b[0m\u001b[0;34m\u001b[0m\u001b[0;34m\u001b[0m\u001b[0m\n\u001b[0m\u001b[1;32m     48\u001b[0m                 \u001b[0mrelevances\u001b[0m\u001b[0;34m.\u001b[0m\u001b[0mappend\u001b[0m\u001b[0;34m(\u001b[0m\u001b[0mrelevant_reviews\u001b[0m\u001b[0;34m[\u001b[0m\u001b[0mrelevant_reviews\u001b[0m\u001b[0;34m[\u001b[0m\u001b[0;34m'movie_id'\u001b[0m\u001b[0;34m]\u001b[0m \u001b[0;34m==\u001b[0m \u001b[0mmovie_id\u001b[0m\u001b[0;34m]\u001b[0m\u001b[0;34m[\u001b[0m\u001b[0;34m'movie_rating'\u001b[0m\u001b[0;34m]\u001b[0m\u001b[0;34m.\u001b[0m\u001b[0mvalues\u001b[0m\u001b[0;34m[\u001b[0m\u001b[0;36m0\u001b[0m\u001b[0;34m]\u001b[0m\u001b[0;34m)\u001b[0m\u001b[0;34m\u001b[0m\u001b[0;34m\u001b[0m\u001b[0m\n\u001b[1;32m     49\u001b[0m             \u001b[0;32melse\u001b[0m\u001b[0;34m:\u001b[0m\u001b[0;34m\u001b[0m\u001b[0;34m\u001b[0m\u001b[0m\n",
            "\u001b[0;32m/usr/local/lib/python3.9/dist-packages/pandas/core/frame.py\u001b[0m in \u001b[0;36m__getitem__\u001b[0;34m(self, key)\u001b[0m\n\u001b[1;32m   3464\u001b[0m         \u001b[0mcheck_deprecated_indexers\u001b[0m\u001b[0;34m(\u001b[0m\u001b[0mkey\u001b[0m\u001b[0;34m)\u001b[0m\u001b[0;34m\u001b[0m\u001b[0;34m\u001b[0m\u001b[0m\n\u001b[1;32m   3465\u001b[0m         \u001b[0mkey\u001b[0m \u001b[0;34m=\u001b[0m \u001b[0mlib\u001b[0m\u001b[0;34m.\u001b[0m\u001b[0mitem_from_zerodim\u001b[0m\u001b[0;34m(\u001b[0m\u001b[0mkey\u001b[0m\u001b[0;34m)\u001b[0m\u001b[0;34m\u001b[0m\u001b[0;34m\u001b[0m\u001b[0m\n\u001b[0;32m-> 3466\u001b[0;31m         \u001b[0mkey\u001b[0m \u001b[0;34m=\u001b[0m \u001b[0mcom\u001b[0m\u001b[0;34m.\u001b[0m\u001b[0mapply_if_callable\u001b[0m\u001b[0;34m(\u001b[0m\u001b[0mkey\u001b[0m\u001b[0;34m,\u001b[0m \u001b[0mself\u001b[0m\u001b[0;34m)\u001b[0m\u001b[0;34m\u001b[0m\u001b[0;34m\u001b[0m\u001b[0m\n\u001b[0m\u001b[1;32m   3467\u001b[0m \u001b[0;34m\u001b[0m\u001b[0m\n\u001b[1;32m   3468\u001b[0m         \u001b[0;32mif\u001b[0m \u001b[0mis_hashable\u001b[0m\u001b[0;34m(\u001b[0m\u001b[0mkey\u001b[0m\u001b[0;34m)\u001b[0m \u001b[0;32mand\u001b[0m \u001b[0;32mnot\u001b[0m \u001b[0mis_iterator\u001b[0m\u001b[0;34m(\u001b[0m\u001b[0mkey\u001b[0m\u001b[0;34m)\u001b[0m\u001b[0;34m:\u001b[0m\u001b[0;34m\u001b[0m\u001b[0;34m\u001b[0m\u001b[0m\n",
            "\u001b[0;31mKeyboardInterrupt\u001b[0m: "
          ]
        }
      ],
      "source": [
        "import json \n",
        "import numpy as np\n",
        "import math\n",
        "import matplotlib.pyplot as plt\n",
        "from torch.utils.tensorboard import SummaryWriter\n",
        "\n",
        "NUM_LAYERS = 1\n",
        "LR = 5e-4\n",
        "BATCH_SIZE = min(128, len(user_review_data))\n",
        "EMBEDDING_DIM = 64\n",
        "K = 20\n",
        "NUM_EPOCHS = 100\n",
        "MINIBATCH_SIZE = 128\n",
        "BPR_LAMBDA = 1e-6\n",
        "WARP_LOSS = True\n",
        "\n",
        "metadata = {\n",
        "    'num_layers': NUM_LAYERS,\n",
        "    'lr': LR,\n",
        "    'batch_size': BATCH_SIZE,\n",
        "    'minibatch_size': MINIBATCH_SIZE,\n",
        "    'embedding_dim': EMBEDDING_DIM,\n",
        "    'num_epochs': NUM_EPOCHS,\n",
        "    'k': K,\n",
        "    'num_train_users': num_train_users,\n",
        "    'num_train_items': num_train_items,\n",
        "    'loss_function': 'WARP',\n",
        "}\n",
        "\n",
        "# make the output directory\n",
        "output_path = f\"models/{int(time.time())}/\"\n",
        "os.makedirs(output_path)\n",
        "\n",
        "json.dump(metadata, open(f\"{output_path}metadata.json\", 'w'))\n",
        "\n",
        "torch.manual_seed(0)\n",
        "np.random.seed(0)\n",
        "\n",
        "\n",
        "writer = SummaryWriter(comment=f'LightGCN_{EMBEDDING_DIM}_layers_{NUM_LAYERS}_batch_size_{BATCH_SIZE}_lr_{LR}_num_train_users_{num_train_users}_num_train_items_{num_train_items}_recall_{K}_loss_BPR')\n",
        "model = LightGCN(num_nodes=num_nodes, embedding_dim=EMBEDDING_DIM, num_layers=NUM_LAYERS)\n",
        "model = model.to(device)\n",
        "\n",
        "print(\"Running on device: {}\".format(device))\n",
        "\n",
        "optim = torch.optim.Adam(model.parameters(), lr=LR)\n",
        "scheduler = torch.optim.lr_scheduler.ExponentialLR(optim, gamma=0.95)\n",
        "# scheduler = torch.optim.lr_scheduler.MultiStepLR(optim, milestones=[100, 200, 300, 400], gamma=0.5)\n",
        "# scheduler = torch.optim.lr_scheduler.CosineAnnealingWarmRestarts(optim, T_0=100)\n",
        "\n",
        "train_positive_edges = train_graph.edge_index[:, train_graph.edge_attr >= 3.5]\n",
        "train_negative_edges = train_graph.edge_index[:, train_graph.edge_attr <= 2.5]\n",
        "\n",
        "# get all of the users in the validation set\n",
        "validation_users_total = list(set([int(x) for x in validation_edges[0, :]]))\n",
        "train_users_total = list(set([int(x) for x in train_edges[0, :]]))\n",
        "\n",
        "validation_df = pd.DataFrame.from_dict(validation_reviews)\n",
        "train_df = pd.DataFrame.from_dict(train_reviews)\n",
        "\n",
        "loss_run = []\n",
        "train_ndcg = []\n",
        "test_ndcg = []\n",
        "train_recall = []\n",
        "test_recall = []\n",
        "\n",
        "for epoch in range(NUM_EPOCHS):\n",
        "# We are using BPR so we go by user, proceeding in batches\n",
        "    for start_idx in range(0, num_train_users, BATCH_SIZE):\n",
        "        model.train()\n",
        "        loss = torch.tensor(0.0, requires_grad=True)\n",
        "        # randomly select a batch of users\n",
        "        users_in_batch = torch.randperm(num_train_users)[start_idx:start_idx + BATCH_SIZE]\n",
        "        for user_id in users_in_batch:\n",
        "            # get all the edges specific to this user\n",
        "            user_positive_edges = train_positive_edges[:, train_positive_edges[0] == user_id]\n",
        "            user_negative_edges = train_negative_edges[:, train_negative_edges[0] == user_id]\n",
        "            if (user_positive_edges.shape[1] == 0 or user_negative_edges.shape[1] == 0):\n",
        "                continue\n",
        "            \n",
        "            # sample 1 positive edge\n",
        "            user_positive_edges = user_positive_edges[:, :1]\n",
        "            # sample minibatch number of negative edges\n",
        "            if (user_negative_edges.shape[1] > MINIBATCH_SIZE):\n",
        "                user_negative_edges = user_negative_edges[:, :MINIBATCH_SIZE]\n",
        "            else:\n",
        "                # resample the negative edges if we don't have enough\n",
        "                user_negative_edges = generate_negative_edges(user_negative_edges, MINIBATCH_SIZE)\n",
        "\n",
        "            # concatenate the positive and negative edges\n",
        "            user_edges = torch.cat([user_positive_edges, user_negative_edges], dim=1)\n",
        "\n",
        "            # get the rankings for this user\n",
        "            user_edges = user_edges.to(device)\n",
        "            user_rankings = model(user_edges)\n",
        "\n",
        "            # divide the rankings into positive and negative rankings\n",
        "            user_positive_rankings = user_rankings[:1]\n",
        "            user_negative_rankings = user_rankings[1:]\n",
        "\n",
        "            # Get the loss, we have to duplicate the positive edge to make them the same size!\n",
        "            user_positive_rankings = user_positive_rankings.repeat(user_negative_rankings.shape[0])\n",
        "\n",
        "            if WARP_LOSS:\n",
        "              # since we don't have batch size we have to expand, and we also only should pass 1 positive\n",
        "              user_positive_rankings = user_positive_rankings[0]\n",
        "              user_positive_rankings = user_positive_rankings.unsqueeze(0)\n",
        "              user_negative_rankings = user_negative_rankings.unsqueeze(0)\n",
        "              user_loss = warp_loss(user_positive_rankings, user_negative_rankings, num_labels=100, device=device)\n",
        "            else:\n",
        "              user_loss = model.recommendation_loss(user_positive_rankings, user_negative_rankings, BPR_LAMBDA)\n",
        "            \n",
        "            # add the user loss to the total loss\n",
        "            loss = loss + user_loss\n",
        "        # divide the loss by the number of users\n",
        "        loss = loss / BATCH_SIZE\n",
        "        # backprop\n",
        "        optim.zero_grad()\n",
        "        loss.backward()\n",
        "        optim.step()\n",
        "        scheduler.step()\n",
        "        # record our losses\n",
        "        writer.add_scalar(\"Loss/train\", loss, epoch * (num_train_users // BATCH_SIZE) + start_idx // BATCH_SIZE)\n",
        "        loss_run.append(loss.item())\n",
        "    if (epoch % 4 == 0):\n",
        "        # evaluate the model\n",
        "        model.eval()\n",
        "\n",
        "        # get the ndcg values\n",
        "        mean_ndcg_train = get_train_ndcg(validation_users_total, model, train_edges, train_df, id_to_user, id_to_movie)\n",
        "        mean_ndcg_test = get_test_ndcg(validation_users_total, model, validation_edges, validation_df, id_to_user, id_to_movie)\n",
        "        \n",
        "        train_ndcg.append(mean_ndcg_train)\n",
        "        test_ndcg.append(mean_ndcg_test)\n",
        "        \n",
        "        # get the recall@k values\n",
        "        recall_at_k_train = compute_recall_at_k(train_graph, model, K)\n",
        "        recall_at_k_test = compute_recall_at_k(validation_graph, model, K)\n",
        "        train_recall.append(recall_at_k_train)\n",
        "        test_recall.append(recall_at_k_test)\n",
        "\n",
        "        global_time = epoch * (num_train_users // BATCH_SIZE) + start_idx // BATCH_SIZE\n",
        "        writer.add_scalar(\"NDCG/val train\", mean_ndcg_train, global_time)\n",
        "        writer.add_scalar(\"NDCG/val test\", mean_ndcg_test, global_time)\n",
        "\n",
        "        writer.add_scalar(\"Recall@K/val train\", recall_at_k_train, global_time)\n",
        "        writer.add_scalar(\"Recall@K/val test\", recall_at_k_test, global_time)\n",
        "\n",
        "    if (epoch % 10 == 0):\n",
        "        print(f\"Epoch: {epoch}, Loss: {loss.item()}\")\n",
        "        # save the model and the graphs so far\n",
        "        np.save(f\"{output_path}train_ndcg.npy\", train_ndcg)\n",
        "        np.save(f\"{output_path}test_ndcg.npy\", test_ndcg)\n",
        "\n",
        "        np.save(f\"{output_path}train_recall.npy\", train_recall)\n",
        "        np.save(f\"{output_path}test_recall.npy\", test_recall)\n",
        "\n",
        "        torch.save(model.state_dict(), f\"{output_path}model.pt\")\n",
        "\n",
        "        plt.plot(np.arange(0, len(loss_run)), loss_run)\n",
        "        plt.title(\"Loss\")\n",
        "        plt.savefig(f\"{output_path}/loss.png\")\n",
        "        plt.show()\n",
        "\n",
        "        # print(train_ndcg)\n",
        "        # print(test_ndcg)\n",
        "        plt.plot(np.arange(0, len(train_ndcg)), train_ndcg)\n",
        "        plt.plot(np.arange(0, len(test_ndcg)), test_ndcg)\n",
        "        plt.title(\"NDCG\")\n",
        "        plt.savefig(f\"{output_path}/ndcg.png\")\n",
        "        plt.show()\n",
        "\n",
        "        # print(train_recall)\n",
        "        # print(test_recall)\n",
        "        plt.plot(np.arange(0, len(test_recall)), test_recall)\n",
        "        plt.plot(np.arange(0, len(train_recall)), train_recall)\n",
        "        plt.title(f\"Recall@{K}\")\n",
        "        plt.savefig(f\"{output_path}/recall.png\")\n",
        "        plt.show()\n",
        "\n",
        "# do a final evaluation and save\n",
        "model.eval()\n",
        "\n",
        "# get the ndcg values\n",
        "mean_ndcg_train = get_train_ndcg(validation_users_total, model, train_edges, train_df, id_to_user, id_to_movie)\n",
        "mean_ndcg_test = get_test_ndcg(validation_users_total, model, validation_edges, validation_df, id_to_user, id_to_movie)\n",
        "\n",
        "train_ndcg.append(mean_ndcg_train)\n",
        "test_ndcg.append(mean_ndcg_test)\n",
        "\n",
        "# get the recall@k values\n",
        "recall_at_k_train = compute_recall_at_k(train_graph, model, K)\n",
        "recall_at_k_test = compute_recall_at_k(validation_graph, model, K)\n",
        "train_recall.append(recall_at_k_train)\n",
        "test_recall.append(recall_at_k_test)\n",
        "\n",
        "global_time = epoch * (num_train_users // BATCH_SIZE) + start_idx // BATCH_SIZE\n",
        "writer.add_scalar(\"NDCG/val train\", mean_ndcg_train, global_time)\n",
        "writer.add_scalar(\"NDCG/val test\", mean_ndcg_test, global_time)\n",
        "\n",
        "writer.add_scalar(\"Recall@K/val train\", recall_at_k_train, global_time)\n",
        "writer.add_scalar(\"Recall@K/val test\", recall_at_k_test, global_time)\n",
        "\n",
        "# save the model and the graphs so far\n",
        "np.save(f\"{output_path}train_ndcg.npy\", train_ndcg)\n",
        "np.save(f\"{output_path}test_ndcg.npy\", test_ndcg)\n",
        "\n",
        "np.save(f\"{output_path}train_recall.npy\", train_recall)\n",
        "np.save(f\"{output_path}test_recall.npy\", test_recall)\n",
        "\n",
        "torch.save(model.state_dict(), f\"{output_path}model.pt\")\n",
        "\n",
        "# print(loss_run)\n",
        "print(f\"Best loss: {np.min(loss)}\")\n",
        "print(f\"Best NDCG train: {np.max(train_ndcg)}\")\n",
        "print(f\"Best NDCG test: {np.max(test_ndcg)}\")\n",
        "print(f\"Best Recall@{K} train: {np.max(train_recall)}\")\n",
        "print(f\"Best Recall@{K} test: {np.max(test_recall)}\")\n",
        "\n",
        "plt.plot(np.arange(0, len(loss_run)), loss_run)\n",
        "plt.title(\"Loss\")\n",
        "plt.savefig(f\"{output_path}/loss.png\")\n",
        "plt.show()\n",
        "\n",
        "# print(train_ndcg)\n",
        "# print(test_ndcg)\n",
        "plt.plot(np.arange(0, len(train_ndcg)), train_ndcg)\n",
        "plt.plot(np.arange(0, len(test_ndcg)), test_ndcg)\n",
        "plt.title(\"NDCG\")\n",
        "plt.savefig(f\"{output_path}/ndcg.png\")\n",
        "plt.show()\n",
        "\n",
        "# print(train_recall)\n",
        "# print(test_recall)\n",
        "plt.plot(np.arange(0, len(test_recall)), test_recall)\n",
        "plt.plot(np.arange(0, len(train_recall)), train_recall)\n",
        "plt.title(f\"Recall@{K}\")\n",
        "plt.savefig(f\"{output_path}/recall.png\")\n",
        "plt.show()"
      ]
    },
    {
      "cell_type": "code",
      "execution_count": 22,
      "metadata": {
        "id": "xHqSzAzEgoHs"
      },
      "outputs": [],
      "source": [
        "def get_test_ndcg(validation_users_total, model, validation_edges, validation_df, id_to_user, id_to_movie):\n",
        "    validation_users = random.sample(validation_users_total, min(1000, len(validation_users_total)))\n",
        "\n",
        "    mean_ndcg = 0\n",
        "    ndcg_scores = []\n",
        "    for user in tqdm(validation_users):\n",
        "        user_id = id_to_user[user]\n",
        "        relevant_reviews = validation_df[validation_df['user_id'] == user_id]\n",
        "        user_validation_edges = validation_edges[:, validation_edges[0] == user]\n",
        "        user_validation_edges = user_validation_edges.to(device)\n",
        "        user_rankings = model(user_validation_edges)\n",
        "        edges_sorted = list(user_validation_edges[1, user_rankings.argsort(descending=True)])\n",
        "        # use validation_df to get the relevances via the movie_id column and the movie_rating column\n",
        "        relevances = []\n",
        "        for edge in edges_sorted:\n",
        "            movie_id = id_to_movie[int(edge)]\n",
        "            if (movie_id in relevant_reviews['movie_id'].values):\n",
        "                relevances.append(relevant_reviews[relevant_reviews['movie_id'] == movie_id]['movie_rating'].values[0])\n",
        "            else:\n",
        "                relevances.append(0)\n",
        "        # calculate the ndcg\n",
        "        ndcg = compute_ndcg_at_k(relevances)\n",
        "        if (math.isnan(ndcg)):\n",
        "            print(relevant_reviews)\n",
        "            input()\n",
        "        mean_ndcg += ndcg\n",
        "        ndcg_scores.append(ndcg)\n",
        "    mean_ndcg = mean_ndcg / len(validation_users)\n",
        "    return mean_ndcg\n",
        "\n",
        "def get_train_ndcg(train_users_total, model, train_edges, train_df, id_to_user, id_to_movie):\n",
        "    train_users = random.sample(train_users_total, min(1000, len(train_users_total)))\n",
        "\n",
        "    mean_ndcg = 0\n",
        "    ndcg_scores = []\n",
        "    for user in tqdm(train_users):\n",
        "        user_id = id_to_user[user]\n",
        "        relevant_reviews = train_df[train_df['user_id'] == user_id]\n",
        "        user_train_edges = train_edges[:, train_edges[0] == user]\n",
        "        user_train_edges = user_train_edges.to(device)\n",
        "        user_rankings = model(user_train_edges)\n",
        "        edges_sorted = list(user_train_edges[1, user_rankings.argsort(descending=True)])\n",
        "        # use validation_df to get the relevances via the movie_id column and the movie_rating column\n",
        "        relevances = []\n",
        "        for edge in edges_sorted:\n",
        "            movie_id = id_to_movie[int(edge)]\n",
        "            if (movie_id in relevant_reviews['movie_id'].values):\n",
        "                relevances.append(relevant_reviews[relevant_reviews['movie_id'] == movie_id]['movie_rating'].values[0])\n",
        "            else:\n",
        "                relevances.append(0)\n",
        "        # calculate the ndcg\n",
        "        ndcg = compute_ndcg_at_k(relevances)\n",
        "        if (math.isnan(ndcg)):\n",
        "            print(relevant_reviews)\n",
        "            input()\n",
        "        mean_ndcg += ndcg\n",
        "        ndcg_scores.append(ndcg)\n",
        "    mean_ndcg = mean_ndcg / len(train_users)\n",
        "    return mean_ndcg"
      ]
    },
    {
      "cell_type": "code",
      "execution_count": 23,
      "metadata": {
        "id": "BJw6t4KNgoHs"
      },
      "outputs": [],
      "source": []
    },
    {
      "cell_type": "code",
      "execution_count": null,
      "metadata": {
        "id": "xXjMltfSiUI5"
      },
      "outputs": [],
      "source": []
    }
  ],
  "metadata": {
    "accelerator": "GPU",
    "colab": {
      "provenance": []
    },
    "gpuClass": "standard",
    "kernelspec": {
      "display_name": "chill",
      "language": "python",
      "name": "python3"
    },
    "language_info": {
      "codemirror_mode": {
        "name": "ipython",
        "version": 3
      },
      "file_extension": ".py",
      "mimetype": "text/x-python",
      "name": "python",
      "nbconvert_exporter": "python",
      "pygments_lexer": "ipython3",
      "version": "3.10.9"
    }
  },
  "nbformat": 4,
  "nbformat_minor": 0
>>>>>>> f1d9c89 (pls)
}
